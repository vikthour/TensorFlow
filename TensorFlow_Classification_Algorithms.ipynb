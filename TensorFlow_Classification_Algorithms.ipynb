{
  "nbformat": 4,
  "nbformat_minor": 0,
  "metadata": {
    "colab": {
      "name": "TensorFlow - Classification Algorithms.ipynb",
      "provenance": []
    },
    "kernelspec": {
      "name": "python3",
      "display_name": "Python 3"
    },
    "language_info": {
      "name": "python"
    }
  },
  "cells": [
    {
      "cell_type": "markdown",
      "source": [
        "Diverse Machine Learning Algorithms:\n",
        "*   Linear Regression\n",
        "*   Classfication\n",
        "*   Clustering\n",
        "*   Hidden Markov Models"
      ],
      "metadata": {
        "id": "wAahlGfNmaZ0"
      }
    },
    {
      "cell_type": "markdown",
      "source": [
        "Here we use a classification algorithm to predict classes"
      ],
      "metadata": {
        "id": "xWi244qNmccU"
      }
    },
    {
      "cell_type": "code",
      "execution_count": 1,
      "metadata": {
        "id": "0YEIQpe-l5Fk"
      },
      "outputs": [],
      "source": [
        "import matplotlib.pyplot as plt\n",
        "import numpy as np\n",
        "import pandas as pd\n",
        "import tensorflow as tf"
      ]
    },
    {
      "cell_type": "code",
      "source": [
        "train_df = pd.read_csv(r'/content/train_data.csv')\n",
        "test_df = pd.read_csv(r'/content/test_data.csv')\n",
        "submission = pd.read_csv(r'/content/sample_submission.csv')"
      ],
      "metadata": {
        "id": "f6bQeK6xmPWC"
      },
      "execution_count": 2,
      "outputs": []
    },
    {
      "cell_type": "code",
      "source": [
        "train_df.head()"
      ],
      "metadata": {
        "colab": {
          "base_uri": "https://localhost:8080/",
          "height": 287
        },
        "id": "DP2OySvyncqW",
        "outputId": "a047bc3e-8fe3-4734-c127-e2c4bddba113"
      },
      "execution_count": 3,
      "outputs": [
        {
          "output_type": "execute_result",
          "data": {
            "text/html": [
              "\n",
              "  <div id=\"df-9e1003d1-48d8-4fd1-980f-f4e0ccfd4934\">\n",
              "    <div class=\"colab-df-container\">\n",
              "      <div>\n",
              "<style scoped>\n",
              "    .dataframe tbody tr th:only-of-type {\n",
              "        vertical-align: middle;\n",
              "    }\n",
              "\n",
              "    .dataframe tbody tr th {\n",
              "        vertical-align: top;\n",
              "    }\n",
              "\n",
              "    .dataframe thead th {\n",
              "        text-align: right;\n",
              "    }\n",
              "</style>\n",
              "<table border=\"1\" class=\"dataframe\">\n",
              "  <thead>\n",
              "    <tr style=\"text-align: right;\">\n",
              "      <th></th>\n",
              "      <th>Customer Id</th>\n",
              "      <th>YearOfObservation</th>\n",
              "      <th>Insured_Period</th>\n",
              "      <th>Residential</th>\n",
              "      <th>Building_Painted</th>\n",
              "      <th>Building_Fenced</th>\n",
              "      <th>Garden</th>\n",
              "      <th>Settlement</th>\n",
              "      <th>Building Dimension</th>\n",
              "      <th>Building_Type</th>\n",
              "      <th>Date_of_Occupancy</th>\n",
              "      <th>NumberOfWindows</th>\n",
              "      <th>Geo_Code</th>\n",
              "      <th>Claim</th>\n",
              "    </tr>\n",
              "  </thead>\n",
              "  <tbody>\n",
              "    <tr>\n",
              "      <th>0</th>\n",
              "      <td>H14663</td>\n",
              "      <td>2013</td>\n",
              "      <td>1.0</td>\n",
              "      <td>0</td>\n",
              "      <td>N</td>\n",
              "      <td>V</td>\n",
              "      <td>V</td>\n",
              "      <td>U</td>\n",
              "      <td>290.0</td>\n",
              "      <td>1</td>\n",
              "      <td>1960.0</td>\n",
              "      <td>.</td>\n",
              "      <td>1053</td>\n",
              "      <td>0</td>\n",
              "    </tr>\n",
              "    <tr>\n",
              "      <th>1</th>\n",
              "      <td>H2037</td>\n",
              "      <td>2015</td>\n",
              "      <td>1.0</td>\n",
              "      <td>0</td>\n",
              "      <td>V</td>\n",
              "      <td>N</td>\n",
              "      <td>O</td>\n",
              "      <td>R</td>\n",
              "      <td>490.0</td>\n",
              "      <td>1</td>\n",
              "      <td>1850.0</td>\n",
              "      <td>4</td>\n",
              "      <td>1053</td>\n",
              "      <td>0</td>\n",
              "    </tr>\n",
              "    <tr>\n",
              "      <th>2</th>\n",
              "      <td>H3802</td>\n",
              "      <td>2014</td>\n",
              "      <td>1.0</td>\n",
              "      <td>0</td>\n",
              "      <td>N</td>\n",
              "      <td>V</td>\n",
              "      <td>V</td>\n",
              "      <td>U</td>\n",
              "      <td>595.0</td>\n",
              "      <td>1</td>\n",
              "      <td>1960.0</td>\n",
              "      <td>.</td>\n",
              "      <td>1053</td>\n",
              "      <td>0</td>\n",
              "    </tr>\n",
              "    <tr>\n",
              "      <th>3</th>\n",
              "      <td>H3834</td>\n",
              "      <td>2013</td>\n",
              "      <td>1.0</td>\n",
              "      <td>0</td>\n",
              "      <td>V</td>\n",
              "      <td>V</td>\n",
              "      <td>V</td>\n",
              "      <td>U</td>\n",
              "      <td>2840.0</td>\n",
              "      <td>1</td>\n",
              "      <td>1960.0</td>\n",
              "      <td>.</td>\n",
              "      <td>1053</td>\n",
              "      <td>0</td>\n",
              "    </tr>\n",
              "    <tr>\n",
              "      <th>4</th>\n",
              "      <td>H5053</td>\n",
              "      <td>2014</td>\n",
              "      <td>1.0</td>\n",
              "      <td>0</td>\n",
              "      <td>V</td>\n",
              "      <td>N</td>\n",
              "      <td>O</td>\n",
              "      <td>R</td>\n",
              "      <td>680.0</td>\n",
              "      <td>1</td>\n",
              "      <td>1800.0</td>\n",
              "      <td>3</td>\n",
              "      <td>1053</td>\n",
              "      <td>0</td>\n",
              "    </tr>\n",
              "  </tbody>\n",
              "</table>\n",
              "</div>\n",
              "      <button class=\"colab-df-convert\" onclick=\"convertToInteractive('df-9e1003d1-48d8-4fd1-980f-f4e0ccfd4934')\"\n",
              "              title=\"Convert this dataframe to an interactive table.\"\n",
              "              style=\"display:none;\">\n",
              "        \n",
              "  <svg xmlns=\"http://www.w3.org/2000/svg\" height=\"24px\"viewBox=\"0 0 24 24\"\n",
              "       width=\"24px\">\n",
              "    <path d=\"M0 0h24v24H0V0z\" fill=\"none\"/>\n",
              "    <path d=\"M18.56 5.44l.94 2.06.94-2.06 2.06-.94-2.06-.94-.94-2.06-.94 2.06-2.06.94zm-11 1L8.5 8.5l.94-2.06 2.06-.94-2.06-.94L8.5 2.5l-.94 2.06-2.06.94zm10 10l.94 2.06.94-2.06 2.06-.94-2.06-.94-.94-2.06-.94 2.06-2.06.94z\"/><path d=\"M17.41 7.96l-1.37-1.37c-.4-.4-.92-.59-1.43-.59-.52 0-1.04.2-1.43.59L10.3 9.45l-7.72 7.72c-.78.78-.78 2.05 0 2.83L4 21.41c.39.39.9.59 1.41.59.51 0 1.02-.2 1.41-.59l7.78-7.78 2.81-2.81c.8-.78.8-2.07 0-2.86zM5.41 20L4 18.59l7.72-7.72 1.47 1.35L5.41 20z\"/>\n",
              "  </svg>\n",
              "      </button>\n",
              "      \n",
              "  <style>\n",
              "    .colab-df-container {\n",
              "      display:flex;\n",
              "      flex-wrap:wrap;\n",
              "      gap: 12px;\n",
              "    }\n",
              "\n",
              "    .colab-df-convert {\n",
              "      background-color: #E8F0FE;\n",
              "      border: none;\n",
              "      border-radius: 50%;\n",
              "      cursor: pointer;\n",
              "      display: none;\n",
              "      fill: #1967D2;\n",
              "      height: 32px;\n",
              "      padding: 0 0 0 0;\n",
              "      width: 32px;\n",
              "    }\n",
              "\n",
              "    .colab-df-convert:hover {\n",
              "      background-color: #E2EBFA;\n",
              "      box-shadow: 0px 1px 2px rgba(60, 64, 67, 0.3), 0px 1px 3px 1px rgba(60, 64, 67, 0.15);\n",
              "      fill: #174EA6;\n",
              "    }\n",
              "\n",
              "    [theme=dark] .colab-df-convert {\n",
              "      background-color: #3B4455;\n",
              "      fill: #D2E3FC;\n",
              "    }\n",
              "\n",
              "    [theme=dark] .colab-df-convert:hover {\n",
              "      background-color: #434B5C;\n",
              "      box-shadow: 0px 1px 3px 1px rgba(0, 0, 0, 0.15);\n",
              "      filter: drop-shadow(0px 1px 2px rgba(0, 0, 0, 0.3));\n",
              "      fill: #FFFFFF;\n",
              "    }\n",
              "  </style>\n",
              "\n",
              "      <script>\n",
              "        const buttonEl =\n",
              "          document.querySelector('#df-9e1003d1-48d8-4fd1-980f-f4e0ccfd4934 button.colab-df-convert');\n",
              "        buttonEl.style.display =\n",
              "          google.colab.kernel.accessAllowed ? 'block' : 'none';\n",
              "\n",
              "        async function convertToInteractive(key) {\n",
              "          const element = document.querySelector('#df-9e1003d1-48d8-4fd1-980f-f4e0ccfd4934');\n",
              "          const dataTable =\n",
              "            await google.colab.kernel.invokeFunction('convertToInteractive',\n",
              "                                                     [key], {});\n",
              "          if (!dataTable) return;\n",
              "\n",
              "          const docLinkHtml = 'Like what you see? Visit the ' +\n",
              "            '<a target=\"_blank\" href=https://colab.research.google.com/notebooks/data_table.ipynb>data table notebook</a>'\n",
              "            + ' to learn more about interactive tables.';\n",
              "          element.innerHTML = '';\n",
              "          dataTable['output_type'] = 'display_data';\n",
              "          await google.colab.output.renderOutput(dataTable, element);\n",
              "          const docLink = document.createElement('div');\n",
              "          docLink.innerHTML = docLinkHtml;\n",
              "          element.appendChild(docLink);\n",
              "        }\n",
              "      </script>\n",
              "    </div>\n",
              "  </div>\n",
              "  "
            ],
            "text/plain": [
              "  Customer Id  YearOfObservation  ...  Geo_Code  Claim\n",
              "0      H14663               2013  ...      1053      0\n",
              "1       H2037               2015  ...      1053      0\n",
              "2       H3802               2014  ...      1053      0\n",
              "3       H3834               2013  ...      1053      0\n",
              "4       H5053               2014  ...      1053      0\n",
              "\n",
              "[5 rows x 14 columns]"
            ]
          },
          "metadata": {},
          "execution_count": 3
        }
      ]
    },
    {
      "cell_type": "code",
      "source": [
        "train_df.fillna(train_df.mean(), inplace= True)\n",
        "train_df.info()"
      ],
      "metadata": {
        "colab": {
          "base_uri": "https://localhost:8080/"
        },
        "id": "PueC90GzyonY",
        "outputId": "97649e26-3eae-47f7-8523-1367cadb0069"
      },
      "execution_count": 4,
      "outputs": [
        {
          "output_type": "stream",
          "name": "stdout",
          "text": [
            "<class 'pandas.core.frame.DataFrame'>\n",
            "RangeIndex: 7160 entries, 0 to 7159\n",
            "Data columns (total 14 columns):\n",
            " #   Column              Non-Null Count  Dtype  \n",
            "---  ------              --------------  -----  \n",
            " 0   Customer Id         7160 non-null   object \n",
            " 1   YearOfObservation   7160 non-null   int64  \n",
            " 2   Insured_Period      7160 non-null   float64\n",
            " 3   Residential         7160 non-null   int64  \n",
            " 4   Building_Painted    7160 non-null   object \n",
            " 5   Building_Fenced     7160 non-null   object \n",
            " 6   Garden              7153 non-null   object \n",
            " 7   Settlement          7160 non-null   object \n",
            " 8   Building Dimension  7160 non-null   float64\n",
            " 9   Building_Type       7160 non-null   int64  \n",
            " 10  Date_of_Occupancy   7160 non-null   float64\n",
            " 11  NumberOfWindows     7160 non-null   object \n",
            " 12  Geo_Code            7058 non-null   object \n",
            " 13  Claim               7160 non-null   int64  \n",
            "dtypes: float64(3), int64(4), object(7)\n",
            "memory usage: 783.2+ KB\n"
          ]
        }
      ]
    },
    {
      "cell_type": "code",
      "source": [
        "train_df.fillna(train_df.mode(), inplace= True)\n",
        "train_df.info()"
      ],
      "metadata": {
        "colab": {
          "base_uri": "https://localhost:8080/"
        },
        "id": "eWhxiNkCyvkw",
        "outputId": "c0947785-b611-4097-cea0-68d182986153"
      },
      "execution_count": 5,
      "outputs": [
        {
          "output_type": "stream",
          "name": "stdout",
          "text": [
            "<class 'pandas.core.frame.DataFrame'>\n",
            "RangeIndex: 7160 entries, 0 to 7159\n",
            "Data columns (total 14 columns):\n",
            " #   Column              Non-Null Count  Dtype  \n",
            "---  ------              --------------  -----  \n",
            " 0   Customer Id         7160 non-null   object \n",
            " 1   YearOfObservation   7160 non-null   int64  \n",
            " 2   Insured_Period      7160 non-null   float64\n",
            " 3   Residential         7160 non-null   int64  \n",
            " 4   Building_Painted    7160 non-null   object \n",
            " 5   Building_Fenced     7160 non-null   object \n",
            " 6   Garden              7153 non-null   object \n",
            " 7   Settlement          7160 non-null   object \n",
            " 8   Building Dimension  7160 non-null   float64\n",
            " 9   Building_Type       7160 non-null   int64  \n",
            " 10  Date_of_Occupancy   7160 non-null   float64\n",
            " 11  NumberOfWindows     7160 non-null   object \n",
            " 12  Geo_Code            7058 non-null   object \n",
            " 13  Claim               7160 non-null   int64  \n",
            "dtypes: float64(3), int64(4), object(7)\n",
            "memory usage: 783.2+ KB\n"
          ]
        }
      ]
    },
    {
      "cell_type": "code",
      "source": [
        "train_df.dropna(axis=0, inplace= True)\n",
        "train_df.info()"
      ],
      "metadata": {
        "colab": {
          "base_uri": "https://localhost:8080/"
        },
        "id": "aOQI4n15y0kD",
        "outputId": "1491e1e8-17a0-4e91-9d53-f0c8db8ef989"
      },
      "execution_count": 6,
      "outputs": [
        {
          "output_type": "stream",
          "name": "stdout",
          "text": [
            "<class 'pandas.core.frame.DataFrame'>\n",
            "Int64Index: 7051 entries, 0 to 7057\n",
            "Data columns (total 14 columns):\n",
            " #   Column              Non-Null Count  Dtype  \n",
            "---  ------              --------------  -----  \n",
            " 0   Customer Id         7051 non-null   object \n",
            " 1   YearOfObservation   7051 non-null   int64  \n",
            " 2   Insured_Period      7051 non-null   float64\n",
            " 3   Residential         7051 non-null   int64  \n",
            " 4   Building_Painted    7051 non-null   object \n",
            " 5   Building_Fenced     7051 non-null   object \n",
            " 6   Garden              7051 non-null   object \n",
            " 7   Settlement          7051 non-null   object \n",
            " 8   Building Dimension  7051 non-null   float64\n",
            " 9   Building_Type       7051 non-null   int64  \n",
            " 10  Date_of_Occupancy   7051 non-null   float64\n",
            " 11  NumberOfWindows     7051 non-null   object \n",
            " 12  Geo_Code            7051 non-null   object \n",
            " 13  Claim               7051 non-null   int64  \n",
            "dtypes: float64(3), int64(4), object(7)\n",
            "memory usage: 826.3+ KB\n"
          ]
        }
      ]
    },
    {
      "cell_type": "code",
      "source": [
        "train_df.rename(columns = {'Building Dimension': 'Building_Dimension'}, inplace=True)"
      ],
      "metadata": {
        "id": "YSbaP52BFxD0"
      },
      "execution_count": 7,
      "outputs": []
    },
    {
      "cell_type": "code",
      "source": [
        "# Define the feature columns\n",
        "\n",
        "categorical_columns = ['Building_Painted', 'Building_Fenced', 'Garden', 'Settlement', 'NumberOfWindows', 'Geo_Code']\n",
        "numerical_columns = ['YearOfObservation', 'Insured_Period', 'Residential', 'Building_Dimension', 'Building_Type', 'Date_of_Occupancy']\n",
        "\n",
        "my_feature_columns = []\n",
        "\n",
        "for feature_name in categorical_columns:\n",
        "  vocabulary = train_df[feature_name].unique()\n",
        "  my_feature_columns.append(tf.feature_column.indicator_column(\n",
        "      tf.feature_column.categorical_column_with_vocabulary_list(feature_name, vocabulary, default_value=-1)))\n",
        "  \n",
        "\n",
        "for key in train_df[numerical_columns].keys():\n",
        "  my_feature_columns.append(tf.feature_column.numeric_column(key= key))"
      ],
      "metadata": {
        "id": "Dp1p7tByn7m-"
      },
      "execution_count": 8,
      "outputs": []
    },
    {
      "cell_type": "code",
      "source": [
        "from sklearn.model_selection import train_test_split"
      ],
      "metadata": {
        "id": "B-zWR-Lzn7v3"
      },
      "execution_count": 9,
      "outputs": []
    },
    {
      "cell_type": "code",
      "source": [
        "X = train_df.drop(['Customer Id', 'Claim'], axis=1)\n",
        "test_set = test_df.drop(['Customer Id'], axis=1, inplace = True)\n",
        "y = train_df['Claim']"
      ],
      "metadata": {
        "id": "19zEs7DOn7y7"
      },
      "execution_count": 10,
      "outputs": []
    },
    {
      "cell_type": "code",
      "source": [
        "X_train, X_test, y_train, y_test = train_test_split(X, y, test_size=0.2, random_state=42)"
      ],
      "metadata": {
        "id": "wjm9nDr1n7tU"
      },
      "execution_count": 11,
      "outputs": []
    },
    {
      "cell_type": "code",
      "source": [
        "def make_input_fn(train_df, label_df, training = True, batch_size=256):\n",
        "  #Convert the inputs into a data\n",
        "  ds = tf.data.Dataset.from_tensor_slices((dict(train_df), label_df))\n",
        "  \n",
        "  #Shuffle the dataset when in training mode\n",
        "  if training:\n",
        "    ds = ds.shuffle(1000).repeat()\n",
        "  return ds.batch(batch_size)"
      ],
      "metadata": {
        "id": "XG_26Q5Vn7p6"
      },
      "execution_count": 12,
      "outputs": []
    },
    {
      "cell_type": "markdown",
      "source": [
        "Building a Model"
      ],
      "metadata": {
        "id": "TtCYLSL4v2DS"
      }
    },
    {
      "cell_type": "code",
      "source": [
        "classifier = tf.estimator.DNNClassifier(\n",
        "    feature_columns=my_feature_columns,\n",
        "    hidden_units=[30, 10],\n",
        "    n_classes=2\n",
        ")"
      ],
      "metadata": {
        "colab": {
          "base_uri": "https://localhost:8080/"
        },
        "id": "k2eeuKxNvzyO",
        "outputId": "1b9aa80f-4bb4-4a57-b11b-0f3d3f266bd7"
      },
      "execution_count": 13,
      "outputs": [
        {
          "output_type": "stream",
          "name": "stdout",
          "text": [
            "INFO:tensorflow:Using default config.\n",
            "WARNING:tensorflow:Using temporary folder as model directory: /tmp/tmpyizvcc3z\n",
            "INFO:tensorflow:Using config: {'_model_dir': '/tmp/tmpyizvcc3z', '_tf_random_seed': None, '_save_summary_steps': 100, '_save_checkpoints_steps': None, '_save_checkpoints_secs': 600, '_session_config': allow_soft_placement: true\n",
            "graph_options {\n",
            "  rewrite_options {\n",
            "    meta_optimizer_iterations: ONE\n",
            "  }\n",
            "}\n",
            ", '_keep_checkpoint_max': 5, '_keep_checkpoint_every_n_hours': 10000, '_log_step_count_steps': 100, '_train_distribute': None, '_device_fn': None, '_protocol': None, '_eval_distribute': None, '_experimental_distribute': None, '_experimental_max_worker_delay_secs': None, '_session_creation_timeout_secs': 7200, '_checkpoint_save_graph_def': True, '_service': None, '_cluster_spec': ClusterSpec({}), '_task_type': 'worker', '_task_id': 0, '_global_id_in_cluster': 0, '_master': '', '_evaluation_master': '', '_is_chief': True, '_num_ps_replicas': 0, '_num_worker_replicas': 1}\n"
          ]
        }
      ]
    },
    {
      "cell_type": "markdown",
      "source": [
        "Training the Model"
      ],
      "metadata": {
        "id": "7WPgLaI-waAl"
      }
    },
    {
      "cell_type": "code",
      "source": [
        "classifier.train(\n",
        "    input_fn= lambda: make_input_fn(X_train, y_train, training=True),\n",
        "    steps=1000\n",
        ")"
      ],
      "metadata": {
        "colab": {
          "base_uri": "https://localhost:8080/"
        },
        "id": "XJtuZImrwT48",
        "outputId": "c5119f1e-2ca2-4309-b4bf-e5ee62d49c90"
      },
      "execution_count": 14,
      "outputs": [
        {
          "output_type": "stream",
          "name": "stdout",
          "text": [
            "WARNING:tensorflow:From /usr/local/lib/python3.7/dist-packages/tensorflow/python/training/training_util.py:401: Variable.initialized_value (from tensorflow.python.ops.variables) is deprecated and will be removed in a future version.\n",
            "Instructions for updating:\n",
            "Use Variable.read_value. Variables in 2.X are initialized automatically both in eager and graph (inside tf.defun) contexts.\n",
            "INFO:tensorflow:Calling model_fn.\n",
            "WARNING:tensorflow:From /usr/local/lib/python3.7/dist-packages/keras/optimizer_v2/adagrad.py:84: calling Constant.__init__ (from tensorflow.python.ops.init_ops) with dtype is deprecated and will be removed in a future version.\n",
            "Instructions for updating:\n",
            "Call initializer instance with the dtype argument instead of passing it to the constructor\n",
            "INFO:tensorflow:Done calling model_fn.\n",
            "INFO:tensorflow:Create CheckpointSaverHook.\n",
            "INFO:tensorflow:Graph was finalized.\n",
            "INFO:tensorflow:Running local_init_op.\n",
            "INFO:tensorflow:Done running local_init_op.\n",
            "INFO:tensorflow:Calling checkpoint listeners before saving checkpoint 0...\n",
            "INFO:tensorflow:Saving checkpoints for 0 into /tmp/tmpyizvcc3z/model.ckpt.\n",
            "INFO:tensorflow:Calling checkpoint listeners after saving checkpoint 0...\n",
            "INFO:tensorflow:loss = 5.288925, step = 0\n",
            "INFO:tensorflow:global_step/sec: 74.071\n",
            "INFO:tensorflow:loss = 0.539824, step = 100 (1.353 sec)\n",
            "INFO:tensorflow:global_step/sec: 88.9644\n",
            "INFO:tensorflow:loss = 0.48629576, step = 200 (1.126 sec)\n",
            "INFO:tensorflow:global_step/sec: 147.226\n",
            "INFO:tensorflow:loss = 0.52018666, step = 300 (0.680 sec)\n",
            "INFO:tensorflow:global_step/sec: 139.62\n",
            "INFO:tensorflow:loss = 0.5421243, step = 400 (0.719 sec)\n",
            "INFO:tensorflow:global_step/sec: 148.244\n",
            "INFO:tensorflow:loss = 0.50400215, step = 500 (0.673 sec)\n",
            "INFO:tensorflow:global_step/sec: 146.26\n",
            "INFO:tensorflow:loss = 0.5072732, step = 600 (0.680 sec)\n",
            "INFO:tensorflow:global_step/sec: 157.591\n",
            "INFO:tensorflow:loss = 0.448169, step = 700 (0.635 sec)\n",
            "INFO:tensorflow:global_step/sec: 149.237\n",
            "INFO:tensorflow:loss = 0.5044411, step = 800 (0.671 sec)\n",
            "INFO:tensorflow:global_step/sec: 137.392\n",
            "INFO:tensorflow:loss = 0.4769127, step = 900 (0.728 sec)\n",
            "INFO:tensorflow:Calling checkpoint listeners before saving checkpoint 1000...\n",
            "INFO:tensorflow:Saving checkpoints for 1000 into /tmp/tmpyizvcc3z/model.ckpt.\n",
            "INFO:tensorflow:Calling checkpoint listeners after saving checkpoint 1000...\n",
            "INFO:tensorflow:Loss for final step: 0.48081273.\n"
          ]
        },
        {
          "output_type": "execute_result",
          "data": {
            "text/plain": [
              "<tensorflow_estimator.python.estimator.canned.dnn.DNNClassifierV2 at 0x7fe1a85b2c50>"
            ]
          },
          "metadata": {},
          "execution_count": 14
        }
      ]
    },
    {
      "cell_type": "code",
      "source": [
        "eval_result = classifier.evaluate(input_fn= lambda: make_input_fn(X_test, y_test, training = False))\n",
        "print('\\nTest set accuracy: {accuracy: 0.3f}\\n'.format(**eval_result))"
      ],
      "metadata": {
        "colab": {
          "base_uri": "https://localhost:8080/"
        },
        "id": "o89WcinKxqm9",
        "outputId": "69ea8c09-e660-46df-b9ba-0bf741c47f49"
      },
      "execution_count": 15,
      "outputs": [
        {
          "output_type": "stream",
          "name": "stdout",
          "text": [
            "INFO:tensorflow:Calling model_fn.\n",
            "INFO:tensorflow:Done calling model_fn.\n",
            "INFO:tensorflow:Starting evaluation at 2022-01-31T10:02:31\n",
            "INFO:tensorflow:Graph was finalized.\n",
            "INFO:tensorflow:Restoring parameters from /tmp/tmpyizvcc3z/model.ckpt-1000\n",
            "INFO:tensorflow:Running local_init_op.\n",
            "INFO:tensorflow:Done running local_init_op.\n",
            "INFO:tensorflow:Inference Time : 1.00861s\n",
            "INFO:tensorflow:Finished evaluation at 2022-01-31-10:02:32\n",
            "INFO:tensorflow:Saving dict for global step 1000: accuracy = 0.7760454, accuracy_baseline = 0.77179307, auc = 0.6882347, auc_precision_recall = 0.4018186, average_loss = 0.5026751, global_step = 1000, label/mean = 0.22820695, loss = 0.51422065, precision = 0.54545456, prediction/mean = 0.2187615, recall = 0.111801244\n",
            "INFO:tensorflow:Saving 'checkpoint_path' summary for global step 1000: /tmp/tmpyizvcc3z/model.ckpt-1000\n",
            "\n",
            "Test set accuracy:  0.776\n",
            "\n"
          ]
        }
      ]
    },
    {
      "cell_type": "markdown",
      "source": [
        "Making Predictions"
      ],
      "metadata": {
        "id": "IjJV3QW6IzyO"
      }
    },
    {
      "cell_type": "code",
      "source": [
        ""
      ],
      "metadata": {
        "id": "S4aopEd3_di1"
      },
      "execution_count": 17,
      "outputs": []
    },
    {
      "cell_type": "code",
      "source": [
        ""
      ],
      "metadata": {
        "id": "eQBE__hG1Aui"
      },
      "execution_count": null,
      "outputs": []
    }
  ]
}