{
  "nbformat": 4,
  "nbformat_minor": 0,
  "metadata": {
    "colab": {
      "name": "TensorFlow.ipynb",
      "provenance": [],
      "collapsed_sections": []
    },
    "kernelspec": {
      "name": "python3",
      "display_name": "Python 3"
    },
    "language_info": {
      "name": "python"
    }
  },
  "cells": [
    {
      "cell_type": "code",
      "metadata": {
        "id": "D2QKFqSqNdq9"
      },
      "source": [
        "#pip install tensorflow"
      ],
      "execution_count": 1,
      "outputs": []
    },
    {
      "cell_type": "markdown",
      "metadata": {
        "id": "RT5nKc68160u"
      },
      "source": [
        "A tensorflow workflow\n",
        "\n",
        "\n",
        "Get the data ready\n",
        "\n",
        "*   List item\n",
        "*   List item\n",
        "\n",
        "\n",
        "\n",
        "Build or pick a pretrained model\n",
        "\n",
        "Fit the model to the data to make a prediction\n",
        "\n",
        "Evaluate the model\n",
        "\n",
        "Improve through experimentation\n",
        "\n",
        "Save and reload your trained model."
      ]
    },
    {
      "cell_type": "code",
      "metadata": {
        "id": "twLzR6zEdA-m"
      },
      "source": [
        "import tensorflow as tf"
      ],
      "execution_count": 2,
      "outputs": []
    },
    {
      "cell_type": "code",
      "metadata": {
        "colab": {
          "base_uri": "https://localhost:8080/"
        },
        "id": "HLnkPDiiwklj",
        "outputId": "055f51ee-511c-4856-9e63-4273b93f0ed7"
      },
      "source": [
        "#Create tensors with tf.constant()\n",
        "scalar = tf.constant(7)\n",
        "scalar"
      ],
      "execution_count": 3,
      "outputs": [
        {
          "output_type": "execute_result",
          "data": {
            "text/plain": [
              "<tf.Tensor: shape=(), dtype=int32, numpy=7>"
            ]
          },
          "metadata": {},
          "execution_count": 3
        }
      ]
    },
    {
      "cell_type": "code",
      "metadata": {
        "colab": {
          "base_uri": "https://localhost:8080/"
        },
        "id": "owQlEMA4wkw8",
        "outputId": "ca4aae77-fb04-4b61-b5c4-1effa94c3068"
      },
      "source": [
        "#Check the number o dimensions of a tensor\n",
        "scalar.ndim"
      ],
      "execution_count": 4,
      "outputs": [
        {
          "output_type": "execute_result",
          "data": {
            "text/plain": [
              "0"
            ]
          },
          "metadata": {},
          "execution_count": 4
        }
      ]
    },
    {
      "cell_type": "code",
      "metadata": {
        "colab": {
          "base_uri": "https://localhost:8080/"
        },
        "id": "YRDENQ5P6H5X",
        "outputId": "04ceb8f9-ae9a-46fe-8e95-9abb2994820c"
      },
      "source": [
        "# Create a vector\n",
        "vector = tf.constant([10, 10])\n",
        "vector"
      ],
      "execution_count": 5,
      "outputs": [
        {
          "output_type": "execute_result",
          "data": {
            "text/plain": [
              "<tf.Tensor: shape=(2,), dtype=int32, numpy=array([10, 10], dtype=int32)>"
            ]
          },
          "metadata": {},
          "execution_count": 5
        }
      ]
    },
    {
      "cell_type": "code",
      "metadata": {
        "colab": {
          "base_uri": "https://localhost:8080/"
        },
        "id": "EQT1SyR96H-W",
        "outputId": "50fa9ca2-9c1d-41a6-e437-2413c02cc9b8"
      },
      "source": [
        "vector.ndim"
      ],
      "execution_count": 6,
      "outputs": [
        {
          "output_type": "execute_result",
          "data": {
            "text/plain": [
              "1"
            ]
          },
          "metadata": {},
          "execution_count": 6
        }
      ]
    },
    {
      "cell_type": "code",
      "metadata": {
        "colab": {
          "base_uri": "https://localhost:8080/"
        },
        "id": "VmTSaeuztq2-",
        "outputId": "0f8d6c59-b7aa-45f4-a291-733e41902979"
      },
      "source": [
        "# Create a matrix (more than one dimension)\n",
        "matrix = tf.constant([[10, 7],\n",
        "                      [7, 10]])\n",
        "matrix"
      ],
      "execution_count": 7,
      "outputs": [
        {
          "output_type": "execute_result",
          "data": {
            "text/plain": [
              "<tf.Tensor: shape=(2, 2), dtype=int32, numpy=\n",
              "array([[10,  7],\n",
              "       [ 7, 10]], dtype=int32)>"
            ]
          },
          "metadata": {},
          "execution_count": 7
        }
      ]
    },
    {
      "cell_type": "code",
      "metadata": {
        "colab": {
          "base_uri": "https://localhost:8080/"
        },
        "id": "yzZo-Lwf7GnG",
        "outputId": "41d55be8-a34f-43b6-eaf6-7f1d66178655"
      },
      "source": [
        "matrix.ndim"
      ],
      "execution_count": 8,
      "outputs": [
        {
          "output_type": "execute_result",
          "data": {
            "text/plain": [
              "2"
            ]
          },
          "metadata": {},
          "execution_count": 8
        }
      ]
    },
    {
      "cell_type": "code",
      "metadata": {
        "colab": {
          "base_uri": "https://localhost:8080/"
        },
        "id": "jmasA_Td8D1T",
        "outputId": "e9442639-248e-4963-f8d5-96d5e71b196e"
      },
      "source": [
        "# Create another matrix \n",
        "another_matrix = tf.constant([[10., 7.,],\n",
        "                              [14., 2.],\n",
        "                              [5., 5.],\n",
        "                              [1., 5.]], dtype= tf.float16)\n",
        "another_matrix"
      ],
      "execution_count": 9,
      "outputs": [
        {
          "output_type": "execute_result",
          "data": {
            "text/plain": [
              "<tf.Tensor: shape=(4, 2), dtype=float16, numpy=\n",
              "array([[10.,  7.],\n",
              "       [14.,  2.],\n",
              "       [ 5.,  5.],\n",
              "       [ 1.,  5.]], dtype=float16)>"
            ]
          },
          "metadata": {},
          "execution_count": 9
        }
      ]
    },
    {
      "cell_type": "code",
      "metadata": {
        "colab": {
          "base_uri": "https://localhost:8080/"
        },
        "id": "s1xN_j9e8nLH",
        "outputId": "7b846257-17f1-422e-82bc-ce42d48ab6f1"
      },
      "source": [
        "another_matrix.ndim"
      ],
      "execution_count": 10,
      "outputs": [
        {
          "output_type": "execute_result",
          "data": {
            "text/plain": [
              "2"
            ]
          },
          "metadata": {},
          "execution_count": 10
        }
      ]
    },
    {
      "cell_type": "code",
      "metadata": {
        "id": "luGeN_YS8vrR"
      },
      "source": [
        "# Let's create a tensor\n",
        "tensor = tf.constant([[[1, 2, 3],\n",
        "                       [5, 6, 7]],\n",
        "                      [[7, 5, 2],\n",
        "                       [9, 7, 1]],\n",
        "                      [[9, 1, 4],\n",
        "                       [4, 3, 8]]], dtype = tf.int32)"
      ],
      "execution_count": 11,
      "outputs": []
    },
    {
      "cell_type": "code",
      "metadata": {
        "colab": {
          "base_uri": "https://localhost:8080/"
        },
        "id": "m2Xz5FHW9hyR",
        "outputId": "1c7a193a-5a79-44e4-d947-95bce86eecc4"
      },
      "source": [
        "tensor.ndim"
      ],
      "execution_count": 12,
      "outputs": [
        {
          "output_type": "execute_result",
          "data": {
            "text/plain": [
              "3"
            ]
          },
          "metadata": {},
          "execution_count": 12
        }
      ]
    },
    {
      "cell_type": "markdown",
      "metadata": {
        "id": "WAmaKPPA-jsy"
      },
      "source": [
        "Creating a Variable"
      ]
    },
    {
      "cell_type": "markdown",
      "metadata": {
        "id": "usoFMa0H-gyT"
      },
      "source": [
        "[link text](https://)"
      ]
    },
    {
      "cell_type": "code",
      "metadata": {
        "colab": {
          "base_uri": "https://localhost:8080/"
        },
        "id": "rYtZVF7Y98v1",
        "outputId": "ebd4fb03-72fa-4e3e-f412-574572ddca9c"
      },
      "source": [
        "tf.Variable"
      ],
      "execution_count": 13,
      "outputs": [
        {
          "output_type": "execute_result",
          "data": {
            "text/plain": [
              "tensorflow.python.ops.variables.Variable"
            ]
          },
          "metadata": {},
          "execution_count": 13
        }
      ]
    },
    {
      "cell_type": "code",
      "metadata": {
        "colab": {
          "base_uri": "https://localhost:8080/"
        },
        "id": "aLeoBHV--eC6",
        "outputId": "bed0980f-69ac-46a7-c3c0-3764afad5b6b"
      },
      "source": [
        "# Create a variable\n",
        "changeable_tensor = tf.Variable([10, 7])\n",
        "unchanageable_tensor = tf.constant([10, 7])\n",
        "changeable_tensor, unchanageable_tensor\n"
      ],
      "execution_count": 14,
      "outputs": [
        {
          "output_type": "execute_result",
          "data": {
            "text/plain": [
              "(<tf.Variable 'Variable:0' shape=(2,) dtype=int32, numpy=array([10,  7], dtype=int32)>,\n",
              " <tf.Tensor: shape=(2,), dtype=int32, numpy=array([10,  7], dtype=int32)>)"
            ]
          },
          "metadata": {},
          "execution_count": 14
        }
      ]
    },
    {
      "cell_type": "code",
      "metadata": {
        "colab": {
          "base_uri": "https://localhost:8080/"
        },
        "id": "7XEtNKf4_QIG",
        "outputId": "bce323d0-75ed-4fc1-edda-46ed04e65228"
      },
      "source": [
        "# Let's try change one of the elements in our changeable tensor\n",
        "changeable_tensor[0].assign(7)\n",
        "changeable_tensor"
      ],
      "execution_count": 15,
      "outputs": [
        {
          "output_type": "execute_result",
          "data": {
            "text/plain": [
              "<tf.Variable 'Variable:0' shape=(2,) dtype=int32, numpy=array([7, 7], dtype=int32)>"
            ]
          },
          "metadata": {},
          "execution_count": 15
        }
      ]
    },
    {
      "cell_type": "code",
      "metadata": {
        "colab": {
          "base_uri": "https://localhost:8080/",
          "height": 299
        },
        "id": "TTHP7cBc_gz0",
        "outputId": "730126ac-7a25-46f6-84d3-37f9a672d41d"
      },
      "source": [
        "unchanageable_tensor[0].assign(7)\n",
        "unchanageable_tensor"
      ],
      "execution_count": 17,
      "outputs": [
        {
          "output_type": "error",
          "ename": "AttributeError",
          "evalue": "ignored",
          "traceback": [
            "\u001b[0;31m---------------------------------------------------------------------------\u001b[0m",
            "\u001b[0;31mAttributeError\u001b[0m                            Traceback (most recent call last)",
            "\u001b[0;32m<ipython-input-17-2c31c90f3be2>\u001b[0m in \u001b[0;36m<module>\u001b[0;34m()\u001b[0m\n\u001b[0;32m----> 1\u001b[0;31m \u001b[0munchanageable_tensor\u001b[0m\u001b[0;34m[\u001b[0m\u001b[0;36m0\u001b[0m\u001b[0;34m]\u001b[0m\u001b[0;34m.\u001b[0m\u001b[0massign\u001b[0m\u001b[0;34m(\u001b[0m\u001b[0;36m7\u001b[0m\u001b[0;34m)\u001b[0m\u001b[0;34m\u001b[0m\u001b[0;34m\u001b[0m\u001b[0m\n\u001b[0m\u001b[1;32m      2\u001b[0m \u001b[0munchanageable_tensor\u001b[0m\u001b[0;34m\u001b[0m\u001b[0;34m\u001b[0m\u001b[0m\n",
            "\u001b[0;32m/usr/local/lib/python3.7/dist-packages/tensorflow/python/framework/ops.py\u001b[0m in \u001b[0;36m__getattr__\u001b[0;34m(self, name)\u001b[0m\n\u001b[1;32m    399\u001b[0m         \u001b[0;32mfrom\u001b[0m \u001b[0mtensorflow\u001b[0m\u001b[0;34m.\u001b[0m\u001b[0mpython\u001b[0m\u001b[0;34m.\u001b[0m\u001b[0mops\u001b[0m\u001b[0;34m.\u001b[0m\u001b[0mnumpy_ops\u001b[0m \u001b[0;32mimport\u001b[0m \u001b[0mnp_config\u001b[0m\u001b[0;34m\u001b[0m\u001b[0;34m\u001b[0m\u001b[0m\n\u001b[1;32m    400\u001b[0m         np_config.enable_numpy_behavior()\"\"\".format(type(self).__name__, name))\n\u001b[0;32m--> 401\u001b[0;31m     \u001b[0mself\u001b[0m\u001b[0;34m.\u001b[0m\u001b[0m__getattribute__\u001b[0m\u001b[0;34m(\u001b[0m\u001b[0mname\u001b[0m\u001b[0;34m)\u001b[0m\u001b[0;34m\u001b[0m\u001b[0;34m\u001b[0m\u001b[0m\n\u001b[0m\u001b[1;32m    402\u001b[0m \u001b[0;34m\u001b[0m\u001b[0m\n\u001b[1;32m    403\u001b[0m   \u001b[0;34m@\u001b[0m\u001b[0mstaticmethod\u001b[0m\u001b[0;34m\u001b[0m\u001b[0;34m\u001b[0m\u001b[0m\n",
            "\u001b[0;31mAttributeError\u001b[0m: 'tensorflow.python.framework.ops.EagerTensor' object has no attribute 'assign'"
          ]
        }
      ]
    },
    {
      "cell_type": "markdown",
      "metadata": {
        "id": "P581YyXS_2Ly"
      },
      "source": [
        "### Creating random tensors\n"
      ]
    },
    {
      "cell_type": "code",
      "metadata": {
        "id": "o8rJbjetAlvB"
      },
      "source": [
        "# Create two random and the same tensors\n",
        "random_1 = tf.random.Generator.from_seed(42)\n",
        "random_1 = random_1.normal(shape = (3, 2))\n",
        "random_2 = tf.random.Generator.from_seed(42)\n",
        "random_2 = random_2.normal(shape= (3, 2))"
      ],
      "execution_count": 18,
      "outputs": []
    },
    {
      "cell_type": "code",
      "metadata": {
        "id": "-XAHZ51uD5Qn",
        "colab": {
          "base_uri": "https://localhost:8080/"
        },
        "outputId": "2ae4f635-9447-4e82-a6d5-0bca3c30c7c7"
      },
      "source": [
        "# Are they equal?\n",
        "random_1, random_2, random_1 == random_2"
      ],
      "execution_count": 19,
      "outputs": [
        {
          "output_type": "execute_result",
          "data": {
            "text/plain": [
              "(<tf.Tensor: shape=(3, 2), dtype=float32, numpy=\n",
              " array([[-0.7565803 , -0.06854702],\n",
              "        [ 0.07595026, -1.2573844 ],\n",
              "        [-0.23193763, -1.8107855 ]], dtype=float32)>,\n",
              " <tf.Tensor: shape=(3, 2), dtype=float32, numpy=\n",
              " array([[-0.7565803 , -0.06854702],\n",
              "        [ 0.07595026, -1.2573844 ],\n",
              "        [-0.23193763, -1.8107855 ]], dtype=float32)>,\n",
              " <tf.Tensor: shape=(3, 2), dtype=bool, numpy=\n",
              " array([[ True,  True],\n",
              "        [ True,  True],\n",
              "        [ True,  True]])>)"
            ]
          },
          "metadata": {},
          "execution_count": 19
        }
      ]
    },
    {
      "cell_type": "markdown",
      "metadata": {
        "id": "xyMMGFymEFAW"
      },
      "source": [
        "### Shuffle the order of a tensor"
      ]
    },
    {
      "cell_type": "code",
      "metadata": {
        "id": "gTVE47sNLR1U",
        "colab": {
          "base_uri": "https://localhost:8080/"
        },
        "outputId": "9a6a9d21-6437-4996-ade2-c33606b1560f"
      },
      "source": [
        "# Shuffle a tensor\n",
        "not_shuffled = tf.constant([[10, 7],\n",
        "                            [3, 4],\n",
        "                            [2, 5]])\n",
        "#shuffle our not_shuffled tensor\n",
        "tf.random.set_seed(42) #global level random seed\n",
        "tf.random.shuffle(not_shuffled, 42) #operation random seed"
      ],
      "execution_count": 20,
      "outputs": [
        {
          "output_type": "execute_result",
          "data": {
            "text/plain": [
              "<tf.Tensor: shape=(3, 2), dtype=int32, numpy=\n",
              "array([[10,  7],\n",
              "       [ 3,  4],\n",
              "       [ 2,  5]], dtype=int32)>"
            ]
          },
          "metadata": {},
          "execution_count": 20
        }
      ]
    },
    {
      "cell_type": "markdown",
      "metadata": {
        "id": "lu870WonLgVZ"
      },
      "source": [
        "**Exercise:** Read through tensorflow documentation on random seed and practice 5 random tensors\n",
        "\n",
        "Both operation and global level random seed must be set to make reproducible experiments."
      ]
    },
    {
      "cell_type": "code",
      "metadata": {
        "id": "HUrYWEGINT90",
        "colab": {
          "base_uri": "https://localhost:8080/"
        },
        "outputId": "13313b98-c926-4d6a-ac64-34fbeae029b7"
      },
      "source": [
        "tf.random.shuffle(not_shuffled, seed=42)"
      ],
      "execution_count": 21,
      "outputs": [
        {
          "output_type": "execute_result",
          "data": {
            "text/plain": [
              "<tf.Tensor: shape=(3, 2), dtype=int32, numpy=\n",
              "array([[ 2,  5],\n",
              "       [10,  7],\n",
              "       [ 3,  4]], dtype=int32)>"
            ]
          },
          "metadata": {},
          "execution_count": 21
        }
      ]
    },
    {
      "cell_type": "markdown",
      "metadata": {
        "id": "WVxY4M2rNt6n"
      },
      "source": [
        "## Other ways to make tensors"
      ]
    },
    {
      "cell_type": "code",
      "metadata": {
        "id": "Wm9JW62dOSfs",
        "colab": {
          "base_uri": "https://localhost:8080/"
        },
        "outputId": "74a0bb9a-1c76-40aa-85f3-c3d8a083deae"
      },
      "source": [
        "# Create a tensor of all ones\n",
        "tf.ones([10, 7])"
      ],
      "execution_count": 22,
      "outputs": [
        {
          "output_type": "execute_result",
          "data": {
            "text/plain": [
              "<tf.Tensor: shape=(10, 7), dtype=float32, numpy=\n",
              "array([[1., 1., 1., 1., 1., 1., 1.],\n",
              "       [1., 1., 1., 1., 1., 1., 1.],\n",
              "       [1., 1., 1., 1., 1., 1., 1.],\n",
              "       [1., 1., 1., 1., 1., 1., 1.],\n",
              "       [1., 1., 1., 1., 1., 1., 1.],\n",
              "       [1., 1., 1., 1., 1., 1., 1.],\n",
              "       [1., 1., 1., 1., 1., 1., 1.],\n",
              "       [1., 1., 1., 1., 1., 1., 1.],\n",
              "       [1., 1., 1., 1., 1., 1., 1.],\n",
              "       [1., 1., 1., 1., 1., 1., 1.]], dtype=float32)>"
            ]
          },
          "metadata": {},
          "execution_count": 22
        }
      ]
    },
    {
      "cell_type": "code",
      "metadata": {
        "id": "QD9Wr8KVOdj7",
        "colab": {
          "base_uri": "https://localhost:8080/"
        },
        "outputId": "f2cf1472-b0dd-45c4-d084-1b0c789a0cc2"
      },
      "source": [
        "# Create a tensor of all zeros\n",
        "tf.zeros([10, 7])"
      ],
      "execution_count": 23,
      "outputs": [
        {
          "output_type": "execute_result",
          "data": {
            "text/plain": [
              "<tf.Tensor: shape=(10, 7), dtype=float32, numpy=\n",
              "array([[0., 0., 0., 0., 0., 0., 0.],\n",
              "       [0., 0., 0., 0., 0., 0., 0.],\n",
              "       [0., 0., 0., 0., 0., 0., 0.],\n",
              "       [0., 0., 0., 0., 0., 0., 0.],\n",
              "       [0., 0., 0., 0., 0., 0., 0.],\n",
              "       [0., 0., 0., 0., 0., 0., 0.],\n",
              "       [0., 0., 0., 0., 0., 0., 0.],\n",
              "       [0., 0., 0., 0., 0., 0., 0.],\n",
              "       [0., 0., 0., 0., 0., 0., 0.],\n",
              "       [0., 0., 0., 0., 0., 0., 0.]], dtype=float32)>"
            ]
          },
          "metadata": {},
          "execution_count": 23
        }
      ]
    },
    {
      "cell_type": "markdown",
      "metadata": {
        "id": "qjV_P4fYPBNP"
      },
      "source": [
        "The main difference between Numpy Arrays and Tensors is that Tensors can be run on gpu for faster computation"
      ]
    },
    {
      "cell_type": "code",
      "metadata": {
        "id": "mkS0YkblOn7e",
        "colab": {
          "base_uri": "https://localhost:8080/"
        },
        "outputId": "760b7069-cc11-4bb5-d49d-000e89957c13"
      },
      "source": [
        "# Convert numpy arrays into tensors\n",
        "import numpy as np\n",
        "numpy_A = np.arange(1, 25, dtype = np.int32)\n",
        "numpy_A"
      ],
      "execution_count": 24,
      "outputs": [
        {
          "output_type": "execute_result",
          "data": {
            "text/plain": [
              "array([ 1,  2,  3,  4,  5,  6,  7,  8,  9, 10, 11, 12, 13, 14, 15, 16, 17,\n",
              "       18, 19, 20, 21, 22, 23, 24], dtype=int32)"
            ]
          },
          "metadata": {},
          "execution_count": 24
        }
      ]
    },
    {
      "cell_type": "code",
      "metadata": {
        "id": "m6ocljCQPQeW",
        "colab": {
          "base_uri": "https://localhost:8080/"
        },
        "outputId": "0dc35feb-cb98-406e-cec7-632e746843da"
      },
      "source": [
        "A = tf.constant(numpy_A, shape= (2, 3, 4))\n",
        "B = tf.constant(numpy_A)\n",
        "C = tf.constant(numpy_A, shape= (3, 8))\n",
        "A, B, C"
      ],
      "execution_count": 25,
      "outputs": [
        {
          "output_type": "execute_result",
          "data": {
            "text/plain": [
              "(<tf.Tensor: shape=(2, 3, 4), dtype=int32, numpy=\n",
              " array([[[ 1,  2,  3,  4],\n",
              "         [ 5,  6,  7,  8],\n",
              "         [ 9, 10, 11, 12]],\n",
              " \n",
              "        [[13, 14, 15, 16],\n",
              "         [17, 18, 19, 20],\n",
              "         [21, 22, 23, 24]]], dtype=int32)>,\n",
              " <tf.Tensor: shape=(24,), dtype=int32, numpy=\n",
              " array([ 1,  2,  3,  4,  5,  6,  7,  8,  9, 10, 11, 12, 13, 14, 15, 16, 17,\n",
              "        18, 19, 20, 21, 22, 23, 24], dtype=int32)>,\n",
              " <tf.Tensor: shape=(3, 8), dtype=int32, numpy=\n",
              " array([[ 1,  2,  3,  4,  5,  6,  7,  8],\n",
              "        [ 9, 10, 11, 12, 13, 14, 15, 16],\n",
              "        [17, 18, 19, 20, 21, 22, 23, 24]], dtype=int32)>)"
            ]
          },
          "metadata": {},
          "execution_count": 25
        }
      ]
    },
    {
      "cell_type": "code",
      "metadata": {
        "id": "YHuWSuJsPaWW",
        "colab": {
          "base_uri": "https://localhost:8080/"
        },
        "outputId": "c6a355f9-ac9b-4355-b687-e494f88e2068"
      },
      "source": [
        "print(A.ndim)\n",
        "print(B.ndim)\n",
        "print(C.ndim)"
      ],
      "execution_count": 26,
      "outputs": [
        {
          "output_type": "stream",
          "name": "stdout",
          "text": [
            "3\n",
            "1\n",
            "2\n"
          ]
        }
      ]
    },
    {
      "cell_type": "markdown",
      "metadata": {
        "id": "e-tmF3AmP-NY"
      },
      "source": [
        "###Getting Information from Tensors"
      ]
    },
    {
      "cell_type": "markdown",
      "metadata": {
        "id": "btLvNF01QtPm"
      },
      "source": [
        "* Shape\n",
        "* Rank\n",
        "* Size\n",
        "* Axis"
      ]
    },
    {
      "cell_type": "code",
      "metadata": {
        "id": "rQ-Xj1HaQuXf",
        "colab": {
          "base_uri": "https://localhost:8080/"
        },
        "outputId": "5ed3e905-a9ee-41e0-8fb2-529fce24b0c8"
      },
      "source": [
        "# Create a rank 4 tensor (4 dimension)\n",
        "rank_4_tensor = tf.zeros(shape = [2, 3, 4, 5])\n",
        "rank_4_tensor"
      ],
      "execution_count": 27,
      "outputs": [
        {
          "output_type": "execute_result",
          "data": {
            "text/plain": [
              "<tf.Tensor: shape=(2, 3, 4, 5), dtype=float32, numpy=\n",
              "array([[[[0., 0., 0., 0., 0.],\n",
              "         [0., 0., 0., 0., 0.],\n",
              "         [0., 0., 0., 0., 0.],\n",
              "         [0., 0., 0., 0., 0.]],\n",
              "\n",
              "        [[0., 0., 0., 0., 0.],\n",
              "         [0., 0., 0., 0., 0.],\n",
              "         [0., 0., 0., 0., 0.],\n",
              "         [0., 0., 0., 0., 0.]],\n",
              "\n",
              "        [[0., 0., 0., 0., 0.],\n",
              "         [0., 0., 0., 0., 0.],\n",
              "         [0., 0., 0., 0., 0.],\n",
              "         [0., 0., 0., 0., 0.]]],\n",
              "\n",
              "\n",
              "       [[[0., 0., 0., 0., 0.],\n",
              "         [0., 0., 0., 0., 0.],\n",
              "         [0., 0., 0., 0., 0.],\n",
              "         [0., 0., 0., 0., 0.]],\n",
              "\n",
              "        [[0., 0., 0., 0., 0.],\n",
              "         [0., 0., 0., 0., 0.],\n",
              "         [0., 0., 0., 0., 0.],\n",
              "         [0., 0., 0., 0., 0.]],\n",
              "\n",
              "        [[0., 0., 0., 0., 0.],\n",
              "         [0., 0., 0., 0., 0.],\n",
              "         [0., 0., 0., 0., 0.],\n",
              "         [0., 0., 0., 0., 0.]]]], dtype=float32)>"
            ]
          },
          "metadata": {},
          "execution_count": 27
        }
      ]
    },
    {
      "cell_type": "code",
      "metadata": {
        "id": "qEc3dfAGRi7P",
        "colab": {
          "base_uri": "https://localhost:8080/"
        },
        "outputId": "c2da9d4b-3b50-461d-c2d4-4a7ee0d07b26"
      },
      "source": [
        "# Get various attributes of our tensor\n",
        "print(\"Datatype of every element:\", rank_4_tensor.dtype)\n",
        "print(\"Number of dimensions (rank):\", rank_4_tensor.ndim)\n",
        "print(\"Shape of tensor:\", rank_4_tensor.shape)\n",
        "print(\"Elements along the 0 axis:\", rank_4_tensor.shape[0])\n",
        "print(\"Elements along the last axis:\", rank_4_tensor.shape[-1])\n",
        "print(\"Total number of elements in our tensor:\", tf.size(rank_4_tensor))\n",
        "print(\"Total number of elements in our tensor:\", tf.size(rank_4_tensor).numpy())"
      ],
      "execution_count": 28,
      "outputs": [
        {
          "output_type": "stream",
          "name": "stdout",
          "text": [
            "Datatype of every element: <dtype: 'float32'>\n",
            "Number of dimensions (rank): 4\n",
            "Shape of tensor: (2, 3, 4, 5)\n",
            "Elements along the 0 axis: 2\n",
            "Elements along the last axis: 5\n",
            "Total number of elements in our tensor: tf.Tensor(120, shape=(), dtype=int32)\n",
            "Total number of elements in our tensor: 120\n"
          ]
        }
      ]
    },
    {
      "cell_type": "code",
      "metadata": {
        "id": "wcYcC_-deaap",
        "colab": {
          "base_uri": "https://localhost:8080/"
        },
        "outputId": "a66532d3-2fb9-421c-b37a-24c7a2104df7"
      },
      "source": [
        "# Get the first 2 elements of each dimension\n",
        "rank_4_tensor[:2, :2, :2, :2]"
      ],
      "execution_count": 29,
      "outputs": [
        {
          "output_type": "execute_result",
          "data": {
            "text/plain": [
              "<tf.Tensor: shape=(2, 2, 2, 2), dtype=float32, numpy=\n",
              "array([[[[0., 0.],\n",
              "         [0., 0.]],\n",
              "\n",
              "        [[0., 0.],\n",
              "         [0., 0.]]],\n",
              "\n",
              "\n",
              "       [[[0., 0.],\n",
              "         [0., 0.]],\n",
              "\n",
              "        [[0., 0.],\n",
              "         [0., 0.]]]], dtype=float32)>"
            ]
          },
          "metadata": {},
          "execution_count": 29
        }
      ]
    },
    {
      "cell_type": "code",
      "metadata": {
        "id": "DNX0POAvlYZ7",
        "colab": {
          "base_uri": "https://localhost:8080/"
        },
        "outputId": "d2bdfe02-ab24-4211-eab0-e4f3f631939a"
      },
      "source": [
        "# Get the first element from each dimensio from each index except for the final one\n",
        "rank_4_tensor[:1, :1, :1, :1]"
      ],
      "execution_count": 30,
      "outputs": [
        {
          "output_type": "execute_result",
          "data": {
            "text/plain": [
              "<tf.Tensor: shape=(1, 1, 1, 1), dtype=float32, numpy=array([[[[0.]]]], dtype=float32)>"
            ]
          },
          "metadata": {},
          "execution_count": 30
        }
      ]
    },
    {
      "cell_type": "code",
      "metadata": {
        "id": "nCXTck4rlYXI",
        "colab": {
          "base_uri": "https://localhost:8080/"
        },
        "outputId": "ee407700-3196-4b1d-a864-46d091d5d17e"
      },
      "source": [
        "#Create a rank 2 tensor (2 dimensions)\n",
        "rank_2_tensor = tf.constant([[10, 7],\n",
        "                            [3, 4]])\n",
        "\n",
        "rank_2_tensor.shape, rank_2_tensor.ndim"
      ],
      "execution_count": 31,
      "outputs": [
        {
          "output_type": "execute_result",
          "data": {
            "text/plain": [
              "(TensorShape([2, 2]), 2)"
            ]
          },
          "metadata": {},
          "execution_count": 31
        }
      ]
    },
    {
      "cell_type": "code",
      "metadata": {
        "id": "gXFyDvlClYUd",
        "colab": {
          "base_uri": "https://localhost:8080/"
        },
        "outputId": "80332c48-3190-4dc3-bd20-0dad7efa4c89"
      },
      "source": [
        "rank_2_tensor"
      ],
      "execution_count": 32,
      "outputs": [
        {
          "output_type": "execute_result",
          "data": {
            "text/plain": [
              "<tf.Tensor: shape=(2, 2), dtype=int32, numpy=\n",
              "array([[10,  7],\n",
              "       [ 3,  4]], dtype=int32)>"
            ]
          },
          "metadata": {},
          "execution_count": 32
        }
      ]
    },
    {
      "cell_type": "code",
      "metadata": {
        "id": "-3Z8V4zplyge",
        "colab": {
          "base_uri": "https://localhost:8080/"
        },
        "outputId": "92915d5e-52c7-4afe-c7de-9bb0e5d5e5a1"
      },
      "source": [
        "# Get the last item of each row of our rank 2 tensor\n",
        "rank_2_tensor[:, -1]"
      ],
      "execution_count": 33,
      "outputs": [
        {
          "output_type": "execute_result",
          "data": {
            "text/plain": [
              "<tf.Tensor: shape=(2,), dtype=int32, numpy=array([7, 4], dtype=int32)>"
            ]
          },
          "metadata": {},
          "execution_count": 33
        }
      ]
    },
    {
      "cell_type": "code",
      "metadata": {
        "id": "p6rYCsMDlyte"
      },
      "source": [
        "# Add in extra dimension to our rank 2 tensor\n",
        "rank_3_tensor = rank_2_tensor[..., tf.newaxis]"
      ],
      "execution_count": 34,
      "outputs": []
    },
    {
      "cell_type": "code",
      "metadata": {
        "id": "04bIMizmlyz5",
        "colab": {
          "base_uri": "https://localhost:8080/"
        },
        "outputId": "454e7a0d-7d1f-473d-c0f7-328eb21dc442"
      },
      "source": [
        "rank_3_tensor"
      ],
      "execution_count": 35,
      "outputs": [
        {
          "output_type": "execute_result",
          "data": {
            "text/plain": [
              "<tf.Tensor: shape=(2, 2, 1), dtype=int32, numpy=\n",
              "array([[[10],\n",
              "        [ 7]],\n",
              "\n",
              "       [[ 3],\n",
              "        [ 4]]], dtype=int32)>"
            ]
          },
          "metadata": {},
          "execution_count": 35
        }
      ]
    },
    {
      "cell_type": "code",
      "metadata": {
        "id": "A655FhfflYOG",
        "colab": {
          "base_uri": "https://localhost:8080/"
        },
        "outputId": "f67e4324-2be6-4bfa-af9c-e8e1e6b25c83"
      },
      "source": [
        "rank_3_tensor.ndim"
      ],
      "execution_count": 36,
      "outputs": [
        {
          "output_type": "execute_result",
          "data": {
            "text/plain": [
              "3"
            ]
          },
          "metadata": {},
          "execution_count": 36
        }
      ]
    },
    {
      "cell_type": "code",
      "metadata": {
        "id": "0MUjsbuTml4P",
        "colab": {
          "base_uri": "https://localhost:8080/"
        },
        "outputId": "fdc6f88b-de12-47db-83e5-d999408746a1"
      },
      "source": [
        "tf.expand_dims(rank_2_tensor, axis=-1) # \"-1\" means expand the final axis"
      ],
      "execution_count": 37,
      "outputs": [
        {
          "output_type": "execute_result",
          "data": {
            "text/plain": [
              "<tf.Tensor: shape=(2, 2, 1), dtype=int32, numpy=\n",
              "array([[[10],\n",
              "        [ 7]],\n",
              "\n",
              "       [[ 3],\n",
              "        [ 4]]], dtype=int32)>"
            ]
          },
          "metadata": {},
          "execution_count": 37
        }
      ]
    },
    {
      "cell_type": "code",
      "metadata": {
        "id": "T60w5h43oJxs",
        "colab": {
          "base_uri": "https://localhost:8080/"
        },
        "outputId": "936843f7-4a74-455a-d4a2-1c5bb2e724e7"
      },
      "source": [
        "# Expand the 0-axis\n",
        "tf.expand_dims(rank_2_tensor, axis=0)"
      ],
      "execution_count": 38,
      "outputs": [
        {
          "output_type": "execute_result",
          "data": {
            "text/plain": [
              "<tf.Tensor: shape=(1, 2, 2), dtype=int32, numpy=\n",
              "array([[[10,  7],\n",
              "        [ 3,  4]]], dtype=int32)>"
            ]
          },
          "metadata": {},
          "execution_count": 38
        }
      ]
    },
    {
      "cell_type": "markdown",
      "metadata": {
        "id": "ho4HYU1loGIK"
      },
      "source": [
        "### Manipulating Tensors\n",
        "**Basic operations**\n",
        "+*/-"
      ]
    },
    {
      "cell_type": "code",
      "metadata": {
        "id": "ude7d2_93Z1u",
        "colab": {
          "base_uri": "https://localhost:8080/"
        },
        "outputId": "77fcc469-82a0-4d9d-93a4-0550832ea554"
      },
      "source": [
        "tensor = tf.constant([[10, 8], [15, 6]])\n",
        "tensor + 15"
      ],
      "execution_count": 39,
      "outputs": [
        {
          "output_type": "execute_result",
          "data": {
            "text/plain": [
              "<tf.Tensor: shape=(2, 2), dtype=int32, numpy=\n",
              "array([[25, 23],\n",
              "       [30, 21]], dtype=int32)>"
            ]
          },
          "metadata": {},
          "execution_count": 39
        }
      ]
    },
    {
      "cell_type": "code",
      "metadata": {
        "id": "71llne1OoF61",
        "colab": {
          "base_uri": "https://localhost:8080/"
        },
        "outputId": "1bc12493-3085-4754-e924-1e1065dcb1cd"
      },
      "source": [
        "#Original tensor is unchanged\n",
        "tensor"
      ],
      "execution_count": 40,
      "outputs": [
        {
          "output_type": "execute_result",
          "data": {
            "text/plain": [
              "<tf.Tensor: shape=(2, 2), dtype=int32, numpy=\n",
              "array([[10,  8],\n",
              "       [15,  6]], dtype=int32)>"
            ]
          },
          "metadata": {},
          "execution_count": 40
        }
      ]
    },
    {
      "cell_type": "code",
      "metadata": {
        "id": "fVErJcRf4Avo",
        "colab": {
          "base_uri": "https://localhost:8080/"
        },
        "outputId": "4d4c24dc-d14b-4c6f-e78f-4607bbdcb96e"
      },
      "source": [
        "# Multiplication\n",
        "tensor * 10"
      ],
      "execution_count": 41,
      "outputs": [
        {
          "output_type": "execute_result",
          "data": {
            "text/plain": [
              "<tf.Tensor: shape=(2, 2), dtype=int32, numpy=\n",
              "array([[100,  80],\n",
              "       [150,  60]], dtype=int32)>"
            ]
          },
          "metadata": {},
          "execution_count": 41
        }
      ]
    },
    {
      "cell_type": "code",
      "metadata": {
        "id": "qClZ2k6E4AmN",
        "colab": {
          "base_uri": "https://localhost:8080/"
        },
        "outputId": "a70c20db-d40a-4082-effb-3f8067d07fe7"
      },
      "source": [
        "# Subtraction\n",
        "tensor - 50"
      ],
      "execution_count": 42,
      "outputs": [
        {
          "output_type": "execute_result",
          "data": {
            "text/plain": [
              "<tf.Tensor: shape=(2, 2), dtype=int32, numpy=\n",
              "array([[-40, -42],\n",
              "       [-35, -44]], dtype=int32)>"
            ]
          },
          "metadata": {},
          "execution_count": 42
        }
      ]
    },
    {
      "cell_type": "code",
      "metadata": {
        "id": "58JXKJ494AiA",
        "colab": {
          "base_uri": "https://localhost:8080/"
        },
        "outputId": "c955e5df-c7c7-482a-e15e-83094cebff88"
      },
      "source": [
        "# TensorFlow built-in multiply\n",
        "tf.multiply(tensor, 4)"
      ],
      "execution_count": 43,
      "outputs": [
        {
          "output_type": "execute_result",
          "data": {
            "text/plain": [
              "<tf.Tensor: shape=(2, 2), dtype=int32, numpy=\n",
              "array([[40, 32],\n",
              "       [60, 24]], dtype=int32)>"
            ]
          },
          "metadata": {},
          "execution_count": 43
        }
      ]
    },
    {
      "cell_type": "markdown",
      "metadata": {
        "id": "XGW4BehF6IMo"
      },
      "source": [
        "### Matrix Multiplication\n",
        "\n",
        "This is one of the most common machine learning operation"
      ]
    },
    {
      "cell_type": "code",
      "metadata": {
        "id": "hNOJ4g2l4Ac-",
        "colab": {
          "base_uri": "https://localhost:8080/"
        },
        "outputId": "c6b5fa54-e91b-46c5-8b43-699525aedba0"
      },
      "source": [
        "# Matrix Multiplication\n",
        "\n",
        "tf.matmul(tensor, tensor)"
      ],
      "execution_count": 44,
      "outputs": [
        {
          "output_type": "execute_result",
          "data": {
            "text/plain": [
              "<tf.Tensor: shape=(2, 2), dtype=int32, numpy=\n",
              "array([[220, 128],\n",
              "       [240, 156]], dtype=int32)>"
            ]
          },
          "metadata": {},
          "execution_count": 44
        }
      ]
    },
    {
      "cell_type": "code",
      "metadata": {
        "id": "_axsPxZdmh-n",
        "colab": {
          "base_uri": "https://localhost:8080/"
        },
        "outputId": "4e99c333-a5cc-4c16-f396-d276bed84456"
      },
      "source": [
        "tensor * tensor"
      ],
      "execution_count": 45,
      "outputs": [
        {
          "output_type": "execute_result",
          "data": {
            "text/plain": [
              "<tf.Tensor: shape=(2, 2), dtype=int32, numpy=\n",
              "array([[100,  64],\n",
              "       [225,  36]], dtype=int32)>"
            ]
          },
          "metadata": {},
          "execution_count": 45
        }
      ]
    },
    {
      "cell_type": "code",
      "metadata": {
        "id": "xk4u9c5h6Gj7",
        "colab": {
          "base_uri": "https://localhost:8080/"
        },
        "outputId": "414f2ba6-0ce6-4d9a-af39-5d2f125b3760"
      },
      "source": [
        "tensor_a = tf.constant([[1, 2, 5],\n",
        "                        [7, 2, 1],\n",
        "                        [3, 3, 3]])\n",
        "tensor_b = tf.constant([[3, 5],\n",
        "                        [6, 7],\n",
        "                        [1, 8]])\n",
        "\n",
        "tf.matmul(tensor_a, tensor_b)"
      ],
      "execution_count": 46,
      "outputs": [
        {
          "output_type": "execute_result",
          "data": {
            "text/plain": [
              "<tf.Tensor: shape=(3, 2), dtype=int32, numpy=\n",
              "array([[20, 59],\n",
              "       [34, 57],\n",
              "       [30, 60]], dtype=int32)>"
            ]
          },
          "metadata": {},
          "execution_count": 46
        }
      ]
    },
    {
      "cell_type": "code",
      "metadata": {
        "id": "0Z-kyOu46D5X",
        "colab": {
          "base_uri": "https://localhost:8080/"
        },
        "outputId": "1793c669-73a4-4268-a26f-b0bff91f9ab4"
      },
      "source": [
        "tensor @ tensor"
      ],
      "execution_count": 47,
      "outputs": [
        {
          "output_type": "execute_result",
          "data": {
            "text/plain": [
              "<tf.Tensor: shape=(2, 2), dtype=int32, numpy=\n",
              "array([[220, 128],\n",
              "       [240, 156]], dtype=int32)>"
            ]
          },
          "metadata": {},
          "execution_count": 47
        }
      ]
    },
    {
      "cell_type": "code",
      "metadata": {
        "id": "J9HlTO7Oo5cX",
        "colab": {
          "base_uri": "https://localhost:8080/"
        },
        "outputId": "05f50dcd-13fb-4fa9-f5f0-1f9f5b5510ea"
      },
      "source": [
        "tensor.shape"
      ],
      "execution_count": 48,
      "outputs": [
        {
          "output_type": "execute_result",
          "data": {
            "text/plain": [
              "TensorShape([2, 2])"
            ]
          },
          "metadata": {},
          "execution_count": 48
        }
      ]
    },
    {
      "cell_type": "code",
      "metadata": {
        "id": "2Iz10xXCo8TN"
      },
      "source": [
        "X = tf.constant([[1, 2],\n",
        "                 [4, 5],\n",
        "                 [10, 6]])\n",
        "Y = tf.constant([[1, 2, 3, 0],\n",
        "                 [4, 5, 6, 4],\n",
        "                 [4, 0, 1, 6]])"
      ],
      "execution_count": 49,
      "outputs": []
    },
    {
      "cell_type": "code",
      "metadata": {
        "id": "oZK3YikYZcak",
        "colab": {
          "base_uri": "https://localhost:8080/",
          "height": 221
        },
        "outputId": "329ead99-acad-4b75-c335-0df344c7a4d6"
      },
      "source": [
        "tf.matmul(X, Y)"
      ],
      "execution_count": 52,
      "outputs": [
        {
          "output_type": "error",
          "ename": "InvalidArgumentError",
          "evalue": "ignored",
          "traceback": [
            "\u001b[0;31m---------------------------------------------------------------------------\u001b[0m",
            "\u001b[0;31mInvalidArgumentError\u001b[0m                      Traceback (most recent call last)",
            "\u001b[0;32m<ipython-input-52-b58f5d491930>\u001b[0m in \u001b[0;36m<module>\u001b[0;34m()\u001b[0m\n\u001b[0;32m----> 1\u001b[0;31m \u001b[0mtf\u001b[0m\u001b[0;34m.\u001b[0m\u001b[0mmatmul\u001b[0m\u001b[0;34m(\u001b[0m\u001b[0mX\u001b[0m\u001b[0;34m,\u001b[0m \u001b[0mY\u001b[0m\u001b[0;34m)\u001b[0m\u001b[0;34m\u001b[0m\u001b[0;34m\u001b[0m\u001b[0m\n\u001b[0m",
            "\u001b[0;32m/usr/local/lib/python3.7/dist-packages/tensorflow/python/util/dispatch.py\u001b[0m in \u001b[0;36mwrapper\u001b[0;34m(*args, **kwargs)\u001b[0m\n\u001b[1;32m    204\u001b[0m     \u001b[0;34m\"\"\"Call target, and fall back on dispatchers if there is a TypeError.\"\"\"\u001b[0m\u001b[0;34m\u001b[0m\u001b[0;34m\u001b[0m\u001b[0m\n\u001b[1;32m    205\u001b[0m     \u001b[0;32mtry\u001b[0m\u001b[0;34m:\u001b[0m\u001b[0;34m\u001b[0m\u001b[0;34m\u001b[0m\u001b[0m\n\u001b[0;32m--> 206\u001b[0;31m       \u001b[0;32mreturn\u001b[0m \u001b[0mtarget\u001b[0m\u001b[0;34m(\u001b[0m\u001b[0;34m*\u001b[0m\u001b[0margs\u001b[0m\u001b[0;34m,\u001b[0m \u001b[0;34m**\u001b[0m\u001b[0mkwargs\u001b[0m\u001b[0;34m)\u001b[0m\u001b[0;34m\u001b[0m\u001b[0;34m\u001b[0m\u001b[0m\n\u001b[0m\u001b[1;32m    207\u001b[0m     \u001b[0;32mexcept\u001b[0m \u001b[0;34m(\u001b[0m\u001b[0mTypeError\u001b[0m\u001b[0;34m,\u001b[0m \u001b[0mValueError\u001b[0m\u001b[0;34m)\u001b[0m\u001b[0;34m:\u001b[0m\u001b[0;34m\u001b[0m\u001b[0;34m\u001b[0m\u001b[0m\n\u001b[1;32m    208\u001b[0m       \u001b[0;31m# Note: convert_to_eager_tensor currently raises a ValueError, not a\u001b[0m\u001b[0;34m\u001b[0m\u001b[0;34m\u001b[0m\u001b[0;34m\u001b[0m\u001b[0m\n",
            "\u001b[0;32m/usr/local/lib/python3.7/dist-packages/tensorflow/python/ops/math_ops.py\u001b[0m in \u001b[0;36mmatmul\u001b[0;34m(a, b, transpose_a, transpose_b, adjoint_a, adjoint_b, a_is_sparse, b_is_sparse, output_type, name)\u001b[0m\n\u001b[1;32m   3653\u001b[0m       \u001b[0;32melse\u001b[0m\u001b[0;34m:\u001b[0m\u001b[0;34m\u001b[0m\u001b[0;34m\u001b[0m\u001b[0m\n\u001b[1;32m   3654\u001b[0m         return gen_math_ops.mat_mul(\n\u001b[0;32m-> 3655\u001b[0;31m             a, b, transpose_a=transpose_a, transpose_b=transpose_b, name=name)\n\u001b[0m\u001b[1;32m   3656\u001b[0m \u001b[0;34m\u001b[0m\u001b[0m\n\u001b[1;32m   3657\u001b[0m \u001b[0;34m\u001b[0m\u001b[0m\n",
            "\u001b[0;32m/usr/local/lib/python3.7/dist-packages/tensorflow/python/ops/gen_math_ops.py\u001b[0m in \u001b[0;36mmat_mul\u001b[0;34m(a, b, transpose_a, transpose_b, name)\u001b[0m\n\u001b[1;32m   5694\u001b[0m       \u001b[0;32mreturn\u001b[0m \u001b[0m_result\u001b[0m\u001b[0;34m\u001b[0m\u001b[0;34m\u001b[0m\u001b[0m\n\u001b[1;32m   5695\u001b[0m     \u001b[0;32mexcept\u001b[0m \u001b[0m_core\u001b[0m\u001b[0;34m.\u001b[0m\u001b[0m_NotOkStatusException\u001b[0m \u001b[0;32mas\u001b[0m \u001b[0me\u001b[0m\u001b[0;34m:\u001b[0m\u001b[0;34m\u001b[0m\u001b[0;34m\u001b[0m\u001b[0m\n\u001b[0;32m-> 5696\u001b[0;31m       \u001b[0m_ops\u001b[0m\u001b[0;34m.\u001b[0m\u001b[0mraise_from_not_ok_status\u001b[0m\u001b[0;34m(\u001b[0m\u001b[0me\u001b[0m\u001b[0;34m,\u001b[0m \u001b[0mname\u001b[0m\u001b[0;34m)\u001b[0m\u001b[0;34m\u001b[0m\u001b[0;34m\u001b[0m\u001b[0m\n\u001b[0m\u001b[1;32m   5697\u001b[0m     \u001b[0;32mexcept\u001b[0m \u001b[0m_core\u001b[0m\u001b[0;34m.\u001b[0m\u001b[0m_FallbackException\u001b[0m\u001b[0;34m:\u001b[0m\u001b[0;34m\u001b[0m\u001b[0;34m\u001b[0m\u001b[0m\n\u001b[1;32m   5698\u001b[0m       \u001b[0;32mpass\u001b[0m\u001b[0;34m\u001b[0m\u001b[0;34m\u001b[0m\u001b[0m\n",
            "\u001b[0;32m/usr/local/lib/python3.7/dist-packages/tensorflow/python/framework/ops.py\u001b[0m in \u001b[0;36mraise_from_not_ok_status\u001b[0;34m(e, name)\u001b[0m\n\u001b[1;32m   6939\u001b[0m   \u001b[0mmessage\u001b[0m \u001b[0;34m=\u001b[0m \u001b[0me\u001b[0m\u001b[0;34m.\u001b[0m\u001b[0mmessage\u001b[0m \u001b[0;34m+\u001b[0m \u001b[0;34m(\u001b[0m\u001b[0;34m\" name: \"\u001b[0m \u001b[0;34m+\u001b[0m \u001b[0mname\u001b[0m \u001b[0;32mif\u001b[0m \u001b[0mname\u001b[0m \u001b[0;32mis\u001b[0m \u001b[0;32mnot\u001b[0m \u001b[0;32mNone\u001b[0m \u001b[0;32melse\u001b[0m \u001b[0;34m\"\"\u001b[0m\u001b[0;34m)\u001b[0m\u001b[0;34m\u001b[0m\u001b[0;34m\u001b[0m\u001b[0m\n\u001b[1;32m   6940\u001b[0m   \u001b[0;31m# pylint: disable=protected-access\u001b[0m\u001b[0;34m\u001b[0m\u001b[0;34m\u001b[0m\u001b[0;34m\u001b[0m\u001b[0m\n\u001b[0;32m-> 6941\u001b[0;31m   \u001b[0msix\u001b[0m\u001b[0;34m.\u001b[0m\u001b[0mraise_from\u001b[0m\u001b[0;34m(\u001b[0m\u001b[0mcore\u001b[0m\u001b[0;34m.\u001b[0m\u001b[0m_status_to_exception\u001b[0m\u001b[0;34m(\u001b[0m\u001b[0me\u001b[0m\u001b[0;34m.\u001b[0m\u001b[0mcode\u001b[0m\u001b[0;34m,\u001b[0m \u001b[0mmessage\u001b[0m\u001b[0;34m)\u001b[0m\u001b[0;34m,\u001b[0m \u001b[0;32mNone\u001b[0m\u001b[0;34m)\u001b[0m\u001b[0;34m\u001b[0m\u001b[0;34m\u001b[0m\u001b[0m\n\u001b[0m\u001b[1;32m   6942\u001b[0m   \u001b[0;31m# pylint: enable=protected-access\u001b[0m\u001b[0;34m\u001b[0m\u001b[0;34m\u001b[0m\u001b[0;34m\u001b[0m\u001b[0m\n\u001b[1;32m   6943\u001b[0m \u001b[0;34m\u001b[0m\u001b[0m\n",
            "\u001b[0;32m/usr/local/lib/python3.7/dist-packages/six.py\u001b[0m in \u001b[0;36mraise_from\u001b[0;34m(value, from_value)\u001b[0m\n",
            "\u001b[0;31mInvalidArgumentError\u001b[0m: In[0] mismatch In[1] shape: 2 vs. 3: [3,2] [3,4] 0 0 [Op:MatMul]"
          ]
        }
      ]
    },
    {
      "cell_type": "code",
      "metadata": {
        "id": "e6EK9N7TZsfl",
        "colab": {
          "base_uri": "https://localhost:8080/"
        },
        "outputId": "7c477b27-b894-44c2-b65e-431acf8020a2"
      },
      "source": [
        "X.shape, tf.reshape(Y, shape= (3, 4))"
      ],
      "execution_count": 53,
      "outputs": [
        {
          "output_type": "execute_result",
          "data": {
            "text/plain": [
              "(TensorShape([3, 2]), <tf.Tensor: shape=(3, 4), dtype=int32, numpy=\n",
              " array([[1, 2, 3, 0],\n",
              "        [4, 5, 6, 4],\n",
              "        [4, 0, 1, 6]], dtype=int32)>)"
            ]
          },
          "metadata": {},
          "execution_count": 53
        }
      ]
    },
    {
      "cell_type": "code",
      "metadata": {
        "id": "TEFQCApeo5ZQ",
        "colab": {
          "base_uri": "https://localhost:8080/"
        },
        "outputId": "ddc36d3f-8050-4e11-fc62-aeb93d0733d0"
      },
      "source": [
        "# Let's change the shape of Y\n",
        "tf.reshape(Y, shape = (3, 4))"
      ],
      "execution_count": 54,
      "outputs": [
        {
          "output_type": "execute_result",
          "data": {
            "text/plain": [
              "<tf.Tensor: shape=(3, 4), dtype=int32, numpy=\n",
              "array([[1, 2, 3, 0],\n",
              "       [4, 5, 6, 4],\n",
              "       [4, 0, 1, 6]], dtype=int32)>"
            ]
          },
          "metadata": {},
          "execution_count": 54
        }
      ]
    },
    {
      "cell_type": "code",
      "metadata": {
        "id": "cP5zysqjo5Ux",
        "colab": {
          "base_uri": "https://localhost:8080/"
        },
        "outputId": "02f3e814-3fd7-44c2-f3e8-43e070673f49"
      },
      "source": [
        "tf.reshape(X, shape= (2, 3)) @ tf.reshape(Y, shape= (3, 4))"
      ],
      "execution_count": 55,
      "outputs": [
        {
          "output_type": "execute_result",
          "data": {
            "text/plain": [
              "<tf.Tensor: shape=(2, 4), dtype=int32, numpy=\n",
              "array([[25, 12, 19, 32],\n",
              "       [69, 60, 81, 76]], dtype=int32)>"
            ]
          },
          "metadata": {},
          "execution_count": 55
        }
      ]
    },
    {
      "cell_type": "code",
      "metadata": {
        "id": "LkBxQEs_o5Pn",
        "colab": {
          "base_uri": "https://localhost:8080/"
        },
        "outputId": "69accb9a-1aac-48bb-dd65-348fbd9b0ac6"
      },
      "source": [
        "tf.matmul(tf.reshape(Y, shape=(4, 3)), tf.reshape(X, shape=(3, 2)))"
      ],
      "execution_count": 56,
      "outputs": [
        {
          "output_type": "execute_result",
          "data": {
            "text/plain": [
              "<tf.Tensor: shape=(4, 2), dtype=int32, numpy=\n",
              "array([[39, 30],\n",
              "       [66, 50],\n",
              "       [62, 56],\n",
              "       [64, 41]], dtype=int32)>"
            ]
          },
          "metadata": {},
          "execution_count": 56
        }
      ]
    },
    {
      "cell_type": "code",
      "metadata": {
        "id": "0Gft-hDzo4_0",
        "colab": {
          "base_uri": "https://localhost:8080/"
        },
        "outputId": "4e0d3ae5-04c8-461d-fb80-723ccf4c6ca1"
      },
      "source": [
        "tf.transpose(X)"
      ],
      "execution_count": 57,
      "outputs": [
        {
          "output_type": "execute_result",
          "data": {
            "text/plain": [
              "<tf.Tensor: shape=(2, 3), dtype=int32, numpy=\n",
              "array([[ 1,  4, 10],\n",
              "       [ 2,  5,  6]], dtype=int32)>"
            ]
          },
          "metadata": {},
          "execution_count": 57
        }
      ]
    },
    {
      "cell_type": "code",
      "metadata": {
        "id": "ZjcQH1X26B7x",
        "colab": {
          "base_uri": "https://localhost:8080/"
        },
        "outputId": "156bae39-9a2b-4d45-aad8-3ae314726ab5"
      },
      "source": [
        "# Matrix multiplication with transpose\n",
        "tf.matmul(tf.transpose(X), Y)"
      ],
      "execution_count": 58,
      "outputs": [
        {
          "output_type": "execute_result",
          "data": {
            "text/plain": [
              "<tf.Tensor: shape=(2, 4), dtype=int32, numpy=\n",
              "array([[57, 22, 37, 76],\n",
              "       [46, 29, 42, 56]], dtype=int32)>"
            ]
          },
          "metadata": {},
          "execution_count": 58
        }
      ]
    },
    {
      "cell_type": "markdown",
      "metadata": {
        "id": "_nqRbd_9i873"
      },
      "source": [
        "** The dot product **\n",
        "You can perform matrix multiplication using:\n",
        "- tf.matmul()\n",
        "- tf.tensordot()"
      ]
    },
    {
      "cell_type": "code",
      "metadata": {
        "id": "jtjzi9wST_eM",
        "colab": {
          "base_uri": "https://localhost:8080/"
        },
        "outputId": "2b423272-1de3-42c8-9825-f46ae45658a0"
      },
      "source": [
        "# Compute the dot product of X and Y\n",
        "tf.tensordot(tf.transpose(X), Y, axes=1)"
      ],
      "execution_count": 59,
      "outputs": [
        {
          "output_type": "execute_result",
          "data": {
            "text/plain": [
              "<tf.Tensor: shape=(2, 4), dtype=int32, numpy=\n",
              "array([[57, 22, 37, 76],\n",
              "       [46, 29, 42, 56]], dtype=int32)>"
            ]
          },
          "metadata": {},
          "execution_count": 59
        }
      ]
    },
    {
      "cell_type": "code",
      "metadata": {
        "id": "ZXPwQ17q4AX7",
        "colab": {
          "base_uri": "https://localhost:8080/"
        },
        "outputId": "b145da3e-57a4-43a6-e94f-9f87f3eacb3f"
      },
      "source": [
        "# Perform matrix multiplication\n",
        "tf.matmul(X, tf.reshape(Y, shape= (2, 6)))"
      ],
      "execution_count": 60,
      "outputs": [
        {
          "output_type": "execute_result",
          "data": {
            "text/plain": [
              "<tf.Tensor: shape=(3, 6), dtype=int32, numpy=\n",
              "array([[13, 10, 11,  0,  6, 17],\n",
              "       [34, 28, 32,  0, 21, 50],\n",
              "       [46, 44, 54,  0, 46, 86]], dtype=int32)>"
            ]
          },
          "metadata": {},
          "execution_count": 60
        }
      ]
    },
    {
      "cell_type": "code",
      "metadata": {
        "id": "Efr7-kUZWWxa",
        "colab": {
          "base_uri": "https://localhost:8080/"
        },
        "outputId": "d3c1f8da-2931-4969-f046-daeb1bfc8104"
      },
      "source": [
        "# Check the values of Y, reshaped Y and transpose Y\n",
        "print(\"Normal Y:\", Y)\n",
        "print(\"Reshaped Y: \",tf.reshape(Y, shape=(4, 3)))\n",
        "print(\"Transposed Y:\", tf.transpose(Y))"
      ],
      "execution_count": 61,
      "outputs": [
        {
          "output_type": "stream",
          "name": "stdout",
          "text": [
            "Normal Y: tf.Tensor(\n",
            "[[1 2 3 0]\n",
            " [4 5 6 4]\n",
            " [4 0 1 6]], shape=(3, 4), dtype=int32)\n",
            "Reshaped Y:  tf.Tensor(\n",
            "[[1 2 3]\n",
            " [0 4 5]\n",
            " [6 4 4]\n",
            " [0 1 6]], shape=(4, 3), dtype=int32)\n",
            "Transposed Y: tf.Tensor(\n",
            "[[1 4 4]\n",
            " [2 5 0]\n",
            " [3 6 1]\n",
            " [0 4 6]], shape=(4, 3), dtype=int32)\n"
          ]
        }
      ]
    },
    {
      "cell_type": "markdown",
      "metadata": {
        "id": "VKC9n_NCWWhZ"
      },
      "source": [
        "Change the datatype of a tensor"
      ]
    },
    {
      "cell_type": "code",
      "metadata": {
        "id": "fXPRENQ4YK9o",
        "colab": {
          "base_uri": "https://localhost:8080/"
        },
        "outputId": "7c6d561f-0c59-48bc-d237-d4d6cab3b04f"
      },
      "source": [
        "B = tf.constant([1.7, 7.5])\n",
        "B.dtype"
      ],
      "execution_count": 62,
      "outputs": [
        {
          "output_type": "execute_result",
          "data": {
            "text/plain": [
              "tf.float32"
            ]
          },
          "metadata": {},
          "execution_count": 62
        }
      ]
    },
    {
      "cell_type": "code",
      "metadata": {
        "id": "ZmWhLyhDWWRY",
        "colab": {
          "base_uri": "https://localhost:8080/"
        },
        "outputId": "4bd72caa-0310-4269-e79b-4b0d1aae199b"
      },
      "source": [
        "C = tf.constant([1, 8])\n",
        "C.dtype"
      ],
      "execution_count": 63,
      "outputs": [
        {
          "output_type": "execute_result",
          "data": {
            "text/plain": [
              "tf.int32"
            ]
          },
          "metadata": {},
          "execution_count": 63
        }
      ]
    },
    {
      "cell_type": "code",
      "metadata": {
        "id": "GhKJQJ0uYopN",
        "colab": {
          "base_uri": "https://localhost:8080/"
        },
        "outputId": "f51c4508-7c2b-4133-aae7-3ff1da772acc"
      },
      "source": [
        "D = tf.cast(B, dtype=tf.float16)\n",
        "D, D.dtype"
      ],
      "execution_count": 64,
      "outputs": [
        {
          "output_type": "execute_result",
          "data": {
            "text/plain": [
              "(<tf.Tensor: shape=(2,), dtype=float16, numpy=array([1.7, 7.5], dtype=float16)>,\n",
              " tf.float16)"
            ]
          },
          "metadata": {},
          "execution_count": 64
        }
      ]
    },
    {
      "cell_type": "code",
      "metadata": {
        "id": "8JBJdVuzYol3",
        "colab": {
          "base_uri": "https://localhost:8080/"
        },
        "outputId": "962af39e-05ba-4757-d3fe-db8c21a15bee"
      },
      "source": [
        "E = tf.cast(C, dtype=tf.float32)\n",
        "E"
      ],
      "execution_count": 65,
      "outputs": [
        {
          "output_type": "execute_result",
          "data": {
            "text/plain": [
              "<tf.Tensor: shape=(2,), dtype=float32, numpy=array([1., 8.], dtype=float32)>"
            ]
          },
          "metadata": {},
          "execution_count": 65
        }
      ]
    },
    {
      "cell_type": "markdown",
      "metadata": {
        "id": "tVfel3kOYoYm"
      },
      "source": [
        "### Aggregating Tensors\n",
        "\n",
        "Condensing tensors from multiple values to smaller values"
      ]
    },
    {
      "cell_type": "code",
      "metadata": {
        "id": "RjpEzhf0ahEc",
        "colab": {
          "base_uri": "https://localhost:8080/"
        },
        "outputId": "233922ad-a9c6-4bd8-e99f-b05cf83bc8c3"
      },
      "source": [
        "# Get absolute values\n",
        "D = tf.constant([-9, 5])\n",
        "D"
      ],
      "execution_count": 66,
      "outputs": [
        {
          "output_type": "execute_result",
          "data": {
            "text/plain": [
              "<tf.Tensor: shape=(2,), dtype=int32, numpy=array([-9,  5], dtype=int32)>"
            ]
          },
          "metadata": {},
          "execution_count": 66
        }
      ]
    },
    {
      "cell_type": "code",
      "metadata": {
        "id": "eYOTlbYLZuP1",
        "colab": {
          "base_uri": "https://localhost:8080/"
        },
        "outputId": "6852840e-be3f-487d-cdb5-4973b3a65925"
      },
      "source": [
        "# Get the absolute values\n",
        "tf.abs(D)"
      ],
      "execution_count": 67,
      "outputs": [
        {
          "output_type": "execute_result",
          "data": {
            "text/plain": [
              "<tf.Tensor: shape=(2,), dtype=int32, numpy=array([9, 5], dtype=int32)>"
            ]
          },
          "metadata": {},
          "execution_count": 67
        }
      ]
    },
    {
      "cell_type": "markdown",
      "metadata": {
        "id": "E_YN5uWzZuGL"
      },
      "source": [
        "Other forms of aggreagation\n",
        "\n",
        "- Minimum\n",
        "- Maximum\n",
        "- Mean \n",
        "- Sum"
      ]
    },
    {
      "cell_type": "code",
      "metadata": {
        "id": "JlzNIl_-jRkV",
        "colab": {
          "base_uri": "https://localhost:8080/"
        },
        "outputId": "e10bcd55-44bf-4493-b149-165d7609a0fe"
      },
      "source": [
        "F = tf.constant(np.random.randint(0, 100, size= 50))\n",
        "F"
      ],
      "execution_count": 68,
      "outputs": [
        {
          "output_type": "execute_result",
          "data": {
            "text/plain": [
              "<tf.Tensor: shape=(50,), dtype=int64, numpy=\n",
              "array([17, 26, 50, 43, 75, 65, 39, 85, 27, 98, 97, 64, 94, 97, 43, 49, 16,\n",
              "       51, 39, 27, 35, 38, 11, 56, 16, 98, 17, 91, 51, 66, 70, 48, 69, 93,\n",
              "       93, 45, 66, 16, 67, 19, 22, 64, 23, 30, 74,  1,  4, 19, 93, 92])>"
            ]
          },
          "metadata": {},
          "execution_count": 68
        }
      ]
    },
    {
      "cell_type": "code",
      "metadata": {
        "id": "qnPJjgcKZuC4",
        "colab": {
          "base_uri": "https://localhost:8080/"
        },
        "outputId": "39e14046-996b-4d36-ac4d-17be90cf8c76"
      },
      "source": [
        "tf.size(F), F.shape, F.ndim"
      ],
      "execution_count": 69,
      "outputs": [
        {
          "output_type": "execute_result",
          "data": {
            "text/plain": [
              "(<tf.Tensor: shape=(), dtype=int32, numpy=50>, TensorShape([50]), 1)"
            ]
          },
          "metadata": {},
          "execution_count": 69
        }
      ]
    },
    {
      "cell_type": "code",
      "metadata": {
        "id": "U2H9_pAKZt4n",
        "colab": {
          "base_uri": "https://localhost:8080/"
        },
        "outputId": "2441fb07-ed3e-4c2e-d833-169a6a046bd8"
      },
      "source": [
        "# Minimum\n",
        "min = tf.reduce_min(F)\n",
        "min"
      ],
      "execution_count": 70,
      "outputs": [
        {
          "output_type": "execute_result",
          "data": {
            "text/plain": [
              "<tf.Tensor: shape=(), dtype=int64, numpy=1>"
            ]
          },
          "metadata": {},
          "execution_count": 70
        }
      ]
    },
    {
      "cell_type": "code",
      "metadata": {
        "id": "RnBa-2a84AKp",
        "colab": {
          "base_uri": "https://localhost:8080/"
        },
        "outputId": "1e487c4d-1f6d-413f-f817-0a12f0c1cf98"
      },
      "source": [
        "# Maximum\n",
        "max = tf.reduce_max(F)\n",
        "max"
      ],
      "execution_count": 71,
      "outputs": [
        {
          "output_type": "execute_result",
          "data": {
            "text/plain": [
              "<tf.Tensor: shape=(), dtype=int64, numpy=98>"
            ]
          },
          "metadata": {},
          "execution_count": 71
        }
      ]
    },
    {
      "cell_type": "code",
      "metadata": {
        "id": "OvWe5DiMoFtT",
        "colab": {
          "base_uri": "https://localhost:8080/"
        },
        "outputId": "2a17e2fe-c826-4c18-86df-c0ed445fe064"
      },
      "source": [
        "# Mean\n",
        "mean = tf.reduce_mean(F)\n",
        "mean"
      ],
      "execution_count": 72,
      "outputs": [
        {
          "output_type": "execute_result",
          "data": {
            "text/plain": [
              "<tf.Tensor: shape=(), dtype=int64, numpy=51>"
            ]
          },
          "metadata": {},
          "execution_count": 72
        }
      ]
    },
    {
      "cell_type": "code",
      "metadata": {
        "id": "LA5huzX_mlnn",
        "colab": {
          "base_uri": "https://localhost:8080/"
        },
        "outputId": "7c82220f-8f31-4995-9fb2-975bd1686df8"
      },
      "source": [
        "# Sum\n",
        "sum = tf.reduce_sum(F)\n",
        "sum"
      ],
      "execution_count": 73,
      "outputs": [
        {
          "output_type": "execute_result",
          "data": {
            "text/plain": [
              "<tf.Tensor: shape=(), dtype=int64, numpy=2589>"
            ]
          },
          "metadata": {},
          "execution_count": 73
        }
      ]
    },
    {
      "cell_type": "code",
      "metadata": {
        "id": "I-Tc1fb6mlX_",
        "colab": {
          "base_uri": "https://localhost:8080/"
        },
        "outputId": "77792f05-3c28-4644-af8a-68ee72b5ad87"
      },
      "source": [
        "# Find the variance and SD of Tensor F.\n",
        "variance = tf.reduce_sum(tf.math.square((F - mean))) / (len(F))\n",
        "variance"
      ],
      "execution_count": 74,
      "outputs": [
        {
          "output_type": "execute_result",
          "data": {
            "text/plain": [
              "<tf.Tensor: shape=(), dtype=float64, numpy=847.22>"
            ]
          },
          "metadata": {},
          "execution_count": 74
        }
      ]
    },
    {
      "cell_type": "code",
      "metadata": {
        "id": "5XQ7iO5gkoWF",
        "colab": {
          "base_uri": "https://localhost:8080/"
        },
        "outputId": "9af8ee0f-3f2d-403d-a825-c3b3e4aa95f3"
      },
      "source": [
        "SD = tf.math.sqrt(variance)\n",
        "SD"
      ],
      "execution_count": 75,
      "outputs": [
        {
          "output_type": "execute_result",
          "data": {
            "text/plain": [
              "<tf.Tensor: shape=(), dtype=float64, numpy=29.107043821040982>"
            ]
          },
          "metadata": {},
          "execution_count": 75
        }
      ]
    },
    {
      "cell_type": "code",
      "metadata": {
        "id": "GU8jzqO-koLI",
        "colab": {
          "base_uri": "https://localhost:8080/"
        },
        "outputId": "ebb9373a-57a7-4275-d8d1-7702af7270c2"
      },
      "source": [
        "import tensorflow_probability as tfp\n",
        "tfp.stats.variance(F)"
      ],
      "execution_count": 76,
      "outputs": [
        {
          "output_type": "execute_result",
          "data": {
            "text/plain": [
              "<tf.Tensor: shape=(), dtype=int64, numpy=847>"
            ]
          },
          "metadata": {},
          "execution_count": 76
        }
      ]
    },
    {
      "cell_type": "code",
      "metadata": {
        "id": "9o56OLlRkn7y",
        "colab": {
          "base_uri": "https://localhost:8080/"
        },
        "outputId": "c92cf993-fabd-4601-f679-1f2a372e81a3"
      },
      "source": [
        "tf.math.reduce_std(tf.cast(F,dtype=tf.float32))"
      ],
      "execution_count": 77,
      "outputs": [
        {
          "output_type": "execute_result",
          "data": {
            "text/plain": [
              "<tf.Tensor: shape=(), dtype=float32, numpy=29.096592>"
            ]
          },
          "metadata": {},
          "execution_count": 77
        }
      ]
    },
    {
      "cell_type": "code",
      "metadata": {
        "id": "rdq8pT4ckn1q",
        "colab": {
          "base_uri": "https://localhost:8080/"
        },
        "outputId": "9a0cd781-3ceb-457c-ac5a-d82a295ac545"
      },
      "source": [
        "# Find the variance of our F tensor\n",
        "tf.math.reduce_variance(tf.cast(F, dtype=tf.float32))"
      ],
      "execution_count": 78,
      "outputs": [
        {
          "output_type": "execute_result",
          "data": {
            "text/plain": [
              "<tf.Tensor: shape=(), dtype=float32, numpy=846.61163>"
            ]
          },
          "metadata": {},
          "execution_count": 78
        }
      ]
    },
    {
      "cell_type": "markdown",
      "metadata": {
        "id": "MNpxkTfTkn4h"
      },
      "source": [
        "# Find the positional maximum and Minimum of a tensor"
      ]
    },
    {
      "cell_type": "code",
      "metadata": {
        "id": "dyd5h1QaVtls",
        "colab": {
          "base_uri": "https://localhost:8080/"
        },
        "outputId": "65fcbba7-eed7-42b3-8e08-9ce0a523d7d1"
      },
      "source": [
        "# Create a new tensor for finding positional minimum and maximum\n",
        "tf.random.set_seed(42)\n",
        "G = tf.random.uniform(shape=[50])\n",
        "G"
      ],
      "execution_count": 79,
      "outputs": [
        {
          "output_type": "execute_result",
          "data": {
            "text/plain": [
              "<tf.Tensor: shape=(50,), dtype=float32, numpy=\n",
              "array([0.6645621 , 0.44100678, 0.3528825 , 0.46448255, 0.03366041,\n",
              "       0.68467236, 0.74011743, 0.8724445 , 0.22632635, 0.22319686,\n",
              "       0.3103881 , 0.7223358 , 0.13318717, 0.5480639 , 0.5746088 ,\n",
              "       0.8996835 , 0.00946367, 0.5212307 , 0.6345445 , 0.1993283 ,\n",
              "       0.72942245, 0.54583454, 0.10756552, 0.6767061 , 0.6602763 ,\n",
              "       0.33695042, 0.60141766, 0.21062577, 0.8527372 , 0.44062173,\n",
              "       0.9485276 , 0.23752594, 0.81179297, 0.5263394 , 0.494308  ,\n",
              "       0.21612847, 0.8457197 , 0.8718841 , 0.3083862 , 0.6868038 ,\n",
              "       0.23764038, 0.7817228 , 0.9671384 , 0.06870162, 0.79873943,\n",
              "       0.66028714, 0.5871513 , 0.16461694, 0.7381023 , 0.32054043],\n",
              "      dtype=float32)>"
            ]
          },
          "metadata": {},
          "execution_count": 79
        }
      ]
    },
    {
      "cell_type": "code",
      "metadata": {
        "id": "9cpeWhlkVtWl",
        "colab": {
          "base_uri": "https://localhost:8080/"
        },
        "outputId": "224b27bb-2a4e-48e5-d388-48c5ad1f945b"
      },
      "source": [
        "tf.argmax(G)"
      ],
      "execution_count": 80,
      "outputs": [
        {
          "output_type": "execute_result",
          "data": {
            "text/plain": [
              "<tf.Tensor: shape=(), dtype=int64, numpy=42>"
            ]
          },
          "metadata": {},
          "execution_count": 80
        }
      ]
    },
    {
      "cell_type": "code",
      "metadata": {
        "id": "R9gIcVEfVMxU",
        "colab": {
          "base_uri": "https://localhost:8080/"
        },
        "outputId": "649821d1-db70-4b57-f891-274e83c2d979"
      },
      "source": [
        "G[tf.argmax(G)]"
      ],
      "execution_count": 81,
      "outputs": [
        {
          "output_type": "execute_result",
          "data": {
            "text/plain": [
              "<tf.Tensor: shape=(), dtype=float32, numpy=0.9671384>"
            ]
          },
          "metadata": {},
          "execution_count": 81
        }
      ]
    },
    {
      "cell_type": "code",
      "metadata": {
        "id": "YKOYHiDTVMiI",
        "colab": {
          "base_uri": "https://localhost:8080/"
        },
        "outputId": "c357e445-2a1d-444e-c140-216e7fd832d7"
      },
      "source": [
        "F[tf.argmax(F)] == tf.reduce_mean(F)"
      ],
      "execution_count": 82,
      "outputs": [
        {
          "output_type": "execute_result",
          "data": {
            "text/plain": [
              "<tf.Tensor: shape=(), dtype=bool, numpy=False>"
            ]
          },
          "metadata": {},
          "execution_count": 82
        }
      ]
    },
    {
      "cell_type": "code",
      "metadata": {
        "id": "6emTRTxFVMdo",
        "colab": {
          "base_uri": "https://localhost:8080/"
        },
        "outputId": "1a3ebc4a-0648-4d6e-8fe6-3b776e8e8d4d"
      },
      "source": [
        "F[tf.argmax(F)] == tf.reduce_max(F)"
      ],
      "execution_count": 83,
      "outputs": [
        {
          "output_type": "execute_result",
          "data": {
            "text/plain": [
              "<tf.Tensor: shape=(), dtype=bool, numpy=True>"
            ]
          },
          "metadata": {},
          "execution_count": 83
        }
      ]
    },
    {
      "cell_type": "code",
      "metadata": {
        "id": "rcaxN567VMYV",
        "colab": {
          "base_uri": "https://localhost:8080/"
        },
        "outputId": "1380fbd2-954a-4694-a72a-1452e6f08907"
      },
      "source": [
        "# Find the positional minimum \n",
        "tf.argmin(G)"
      ],
      "execution_count": 84,
      "outputs": [
        {
          "output_type": "execute_result",
          "data": {
            "text/plain": [
              "<tf.Tensor: shape=(), dtype=int64, numpy=16>"
            ]
          },
          "metadata": {},
          "execution_count": 84
        }
      ]
    },
    {
      "cell_type": "code",
      "metadata": {
        "id": "lUhFnDw9VMS4",
        "colab": {
          "base_uri": "https://localhost:8080/"
        },
        "outputId": "a62b490b-66b4-47b5-de4b-c5653dca4454"
      },
      "source": [
        "F[tf.argmin(G)]"
      ],
      "execution_count": 85,
      "outputs": [
        {
          "output_type": "execute_result",
          "data": {
            "text/plain": [
              "<tf.Tensor: shape=(), dtype=int64, numpy=16>"
            ]
          },
          "metadata": {},
          "execution_count": 85
        }
      ]
    },
    {
      "cell_type": "markdown",
      "metadata": {
        "id": "foIZy36vmk3C"
      },
      "source": [
        "# Squeezing a tensor (removing all single dimensions)"
      ]
    },
    {
      "cell_type": "code",
      "metadata": {
        "id": "iLj_RT3xmkyT",
        "colab": {
          "base_uri": "https://localhost:8080/"
        },
        "outputId": "aa315151-7e96-4f30-84d0-6479a661d2ae"
      },
      "source": [
        "# Create a tensor \n",
        "tf.random.set_seed(42)\n",
        "H = tf.constant(tf.random.uniform(shape= [50]), shape= (1, 1, 1, 1, 50))\n",
        "H"
      ],
      "execution_count": 86,
      "outputs": [
        {
          "output_type": "execute_result",
          "data": {
            "text/plain": [
              "<tf.Tensor: shape=(1, 1, 1, 1, 50), dtype=float32, numpy=\n",
              "array([[[[[0.6645621 , 0.44100678, 0.3528825 , 0.46448255, 0.03366041,\n",
              "           0.68467236, 0.74011743, 0.8724445 , 0.22632635, 0.22319686,\n",
              "           0.3103881 , 0.7223358 , 0.13318717, 0.5480639 , 0.5746088 ,\n",
              "           0.8996835 , 0.00946367, 0.5212307 , 0.6345445 , 0.1993283 ,\n",
              "           0.72942245, 0.54583454, 0.10756552, 0.6767061 , 0.6602763 ,\n",
              "           0.33695042, 0.60141766, 0.21062577, 0.8527372 , 0.44062173,\n",
              "           0.9485276 , 0.23752594, 0.81179297, 0.5263394 , 0.494308  ,\n",
              "           0.21612847, 0.8457197 , 0.8718841 , 0.3083862 , 0.6868038 ,\n",
              "           0.23764038, 0.7817228 , 0.9671384 , 0.06870162, 0.79873943,\n",
              "           0.66028714, 0.5871513 , 0.16461694, 0.7381023 , 0.32054043]]]]],\n",
              "      dtype=float32)>"
            ]
          },
          "metadata": {},
          "execution_count": 86
        }
      ]
    },
    {
      "cell_type": "code",
      "metadata": {
        "id": "sFmDpriDnJ3t",
        "colab": {
          "base_uri": "https://localhost:8080/"
        },
        "outputId": "8987fcce-1b35-490a-8b65-d6d76fb3fd35"
      },
      "source": [
        "H.shape"
      ],
      "execution_count": 87,
      "outputs": [
        {
          "output_type": "execute_result",
          "data": {
            "text/plain": [
              "TensorShape([1, 1, 1, 1, 50])"
            ]
          },
          "metadata": {},
          "execution_count": 87
        }
      ]
    },
    {
      "cell_type": "code",
      "metadata": {
        "id": "gHbUApPqnJnC",
        "colab": {
          "base_uri": "https://localhost:8080/"
        },
        "outputId": "b1f848e5-6b1e-4ff5-bdb4-6bc9c228e92d"
      },
      "source": [
        "H_squeezed = tf.squeeze(H)\n",
        "H_squeezed, H_squeezed.shape"
      ],
      "execution_count": 88,
      "outputs": [
        {
          "output_type": "execute_result",
          "data": {
            "text/plain": [
              "(<tf.Tensor: shape=(50,), dtype=float32, numpy=\n",
              " array([0.6645621 , 0.44100678, 0.3528825 , 0.46448255, 0.03366041,\n",
              "        0.68467236, 0.74011743, 0.8724445 , 0.22632635, 0.22319686,\n",
              "        0.3103881 , 0.7223358 , 0.13318717, 0.5480639 , 0.5746088 ,\n",
              "        0.8996835 , 0.00946367, 0.5212307 , 0.6345445 , 0.1993283 ,\n",
              "        0.72942245, 0.54583454, 0.10756552, 0.6767061 , 0.6602763 ,\n",
              "        0.33695042, 0.60141766, 0.21062577, 0.8527372 , 0.44062173,\n",
              "        0.9485276 , 0.23752594, 0.81179297, 0.5263394 , 0.494308  ,\n",
              "        0.21612847, 0.8457197 , 0.8718841 , 0.3083862 , 0.6868038 ,\n",
              "        0.23764038, 0.7817228 , 0.9671384 , 0.06870162, 0.79873943,\n",
              "        0.66028714, 0.5871513 , 0.16461694, 0.7381023 , 0.32054043],\n",
              "       dtype=float32)>, TensorShape([50]))"
            ]
          },
          "metadata": {},
          "execution_count": 88
        }
      ]
    },
    {
      "cell_type": "markdown",
      "metadata": {
        "id": "MgYY6faongqI"
      },
      "source": [
        "##One-hot Encoding"
      ]
    },
    {
      "cell_type": "code",
      "metadata": {
        "id": "qvYowOe6ngmQ",
        "colab": {
          "base_uri": "https://localhost:8080/"
        },
        "outputId": "04b64e52-57ca-43e6-86d7-2acb83b4f142"
      },
      "source": [
        "# Create a list of indices\n",
        "some_list = [0, 1, 2, 3]\n",
        "depth = 4\n",
        "\n",
        "tf.one_hot(some_list, depth)"
      ],
      "execution_count": 89,
      "outputs": [
        {
          "output_type": "execute_result",
          "data": {
            "text/plain": [
              "<tf.Tensor: shape=(4, 4), dtype=float32, numpy=\n",
              "array([[1., 0., 0., 0.],\n",
              "       [0., 1., 0., 0.],\n",
              "       [0., 0., 1., 0.],\n",
              "       [0., 0., 0., 1.]], dtype=float32)>"
            ]
          },
          "metadata": {},
          "execution_count": 89
        }
      ]
    },
    {
      "cell_type": "code",
      "metadata": {
        "id": "h8z2YVadnggy",
        "colab": {
          "base_uri": "https://localhost:8080/"
        },
        "outputId": "7668ef70-d352-464a-d437-753d51f22b3e"
      },
      "source": [
        "# Specify custom values for one hot encoding\n",
        "tf.one_hot(some_list, depth, on_value = \"yo, I love deep learning\", off_value = \"I love to sing\")"
      ],
      "execution_count": 90,
      "outputs": [
        {
          "output_type": "execute_result",
          "data": {
            "text/plain": [
              "<tf.Tensor: shape=(4, 4), dtype=string, numpy=\n",
              "array([[b'yo, I love deep learning', b'I love to sing',\n",
              "        b'I love to sing', b'I love to sing'],\n",
              "       [b'I love to sing', b'yo, I love deep learning',\n",
              "        b'I love to sing', b'I love to sing'],\n",
              "       [b'I love to sing', b'I love to sing',\n",
              "        b'yo, I love deep learning', b'I love to sing'],\n",
              "       [b'I love to sing', b'I love to sing', b'I love to sing',\n",
              "        b'yo, I love deep learning']], dtype=object)>"
            ]
          },
          "metadata": {},
          "execution_count": 90
        }
      ]
    },
    {
      "cell_type": "code",
      "metadata": {
        "id": "pVNrZdTNngdN",
        "colab": {
          "base_uri": "https://localhost:8080/"
        },
        "outputId": "8f012d08-e060-4ab7-db0f-d097537f5e56"
      },
      "source": [
        "## Squaring, log, square root\n",
        "I = tf.range(1, 10)\n",
        "I"
      ],
      "execution_count": 91,
      "outputs": [
        {
          "output_type": "execute_result",
          "data": {
            "text/plain": [
              "<tf.Tensor: shape=(9,), dtype=int32, numpy=array([1, 2, 3, 4, 5, 6, 7, 8, 9], dtype=int32)>"
            ]
          },
          "metadata": {},
          "execution_count": 91
        }
      ]
    },
    {
      "cell_type": "code",
      "metadata": {
        "id": "LtBM3SRumkt3",
        "colab": {
          "base_uri": "https://localhost:8080/"
        },
        "outputId": "8f18d955-c7a4-490f-f0e4-e8ffb254936b"
      },
      "source": [
        "# Square it\n",
        "tf.square(I)"
      ],
      "execution_count": 92,
      "outputs": [
        {
          "output_type": "execute_result",
          "data": {
            "text/plain": [
              "<tf.Tensor: shape=(9,), dtype=int32, numpy=array([ 1,  4,  9, 16, 25, 36, 49, 64, 81], dtype=int32)>"
            ]
          },
          "metadata": {},
          "execution_count": 92
        }
      ]
    },
    {
      "cell_type": "code",
      "metadata": {
        "id": "B6PirTn6T4OL",
        "colab": {
          "base_uri": "https://localhost:8080/"
        },
        "outputId": "23157644-fbda-47f0-d627-0a0061a00b13"
      },
      "source": [
        "# Find the square root\n",
        "\n",
        "tf.sqrt(tf.cast(I, dtype=tf.float32))"
      ],
      "execution_count": 93,
      "outputs": [
        {
          "output_type": "execute_result",
          "data": {
            "text/plain": [
              "<tf.Tensor: shape=(9,), dtype=float32, numpy=\n",
              "array([0.99999994, 1.4142134 , 1.7320508 , 1.9999999 , 2.236068  ,\n",
              "       2.4494896 , 2.6457512 , 2.8284268 , 3.        ], dtype=float32)>"
            ]
          },
          "metadata": {},
          "execution_count": 93
        }
      ]
    },
    {
      "cell_type": "code",
      "metadata": {
        "id": "BJu0LdFpT3je",
        "colab": {
          "base_uri": "https://localhost:8080/"
        },
        "outputId": "3c3b873e-c374-4b84-dff8-777bd08f2a32"
      },
      "source": [
        "tf.math.log(tf.cast(I, dtype=tf.float32))"
      ],
      "execution_count": 94,
      "outputs": [
        {
          "output_type": "execute_result",
          "data": {
            "text/plain": [
              "<tf.Tensor: shape=(9,), dtype=float32, numpy=\n",
              "array([0.       , 0.6931472, 1.0986123, 1.3862944, 1.609438 , 1.7917595,\n",
              "       1.9459102, 2.0794415, 2.1972246], dtype=float32)>"
            ]
          },
          "metadata": {},
          "execution_count": 94
        }
      ]
    },
    {
      "cell_type": "code",
      "metadata": {
        "id": "DLE3JYqbT3gO",
        "colab": {
          "base_uri": "https://localhost:8080/"
        },
        "outputId": "391c632e-2932-4b18-b508-40ebbe2328ed"
      },
      "source": [
        "# Round up values \n",
        "J = tf.math.log(tf.cast(I, dtype=tf.float32))\n",
        "tf.round(J)"
      ],
      "execution_count": 95,
      "outputs": [
        {
          "output_type": "execute_result",
          "data": {
            "text/plain": [
              "<tf.Tensor: shape=(9,), dtype=float32, numpy=array([0., 1., 1., 1., 2., 2., 2., 2., 2.], dtype=float32)>"
            ]
          },
          "metadata": {},
          "execution_count": 95
        }
      ]
    },
    {
      "cell_type": "code",
      "metadata": {
        "id": "nsYJvy_RT3cK",
        "colab": {
          "base_uri": "https://localhost:8080/"
        },
        "outputId": "a0aea682-f92d-4505-9691-6d4defd0a23d"
      },
      "source": [
        "# Sigmoid function\n",
        "\n",
        "tf.sigmoid(J)"
      ],
      "execution_count": 96,
      "outputs": [
        {
          "output_type": "execute_result",
          "data": {
            "text/plain": [
              "<tf.Tensor: shape=(9,), dtype=float32, numpy=\n",
              "array([0.5       , 0.6666666 , 0.75      , 0.8       , 0.8333334 ,\n",
              "       0.85714287, 0.875     , 0.88888884, 0.90000004], dtype=float32)>"
            ]
          },
          "metadata": {},
          "execution_count": 96
        }
      ]
    },
    {
      "cell_type": "code",
      "metadata": {
        "id": "R9aOrqlXT3Zb",
        "colab": {
          "base_uri": "https://localhost:8080/"
        },
        "outputId": "d71d0c08-c03d-44fa-ba44-2eebc174d1ca"
      },
      "source": [
        "# Calculate the reciprocal values\n",
        "tf.math.reciprocal(J)"
      ],
      "execution_count": 97,
      "outputs": [
        {
          "output_type": "execute_result",
          "data": {
            "text/plain": [
              "<tf.Tensor: shape=(9,), dtype=float32, numpy=\n",
              "array([       inf, 1.442695  , 0.9102392 , 0.7213475 , 0.6213349 ,\n",
              "       0.5581106 , 0.5138983 , 0.48089835, 0.4551196 ], dtype=float32)>"
            ]
          },
          "metadata": {},
          "execution_count": 97
        }
      ]
    },
    {
      "cell_type": "markdown",
      "metadata": {
        "id": "E-8QoszfWW8W"
      },
      "source": [
        "### Tensor and Numpy"
      ]
    },
    {
      "cell_type": "code",
      "metadata": {
        "id": "Nwf4iY3YWWu5",
        "colab": {
          "base_uri": "https://localhost:8080/"
        },
        "outputId": "afe0931a-4c70-4f54-a984-d2748f68e854"
      },
      "source": [
        "K = tf.constant(np.array([12., 5., 1.]))\n",
        "K"
      ],
      "execution_count": 98,
      "outputs": [
        {
          "output_type": "execute_result",
          "data": {
            "text/plain": [
              "<tf.Tensor: shape=(3,), dtype=float64, numpy=array([12.,  5.,  1.])>"
            ]
          },
          "metadata": {},
          "execution_count": 98
        }
      ]
    },
    {
      "cell_type": "code",
      "metadata": {
        "id": "KPrLVf6gWWq_",
        "colab": {
          "base_uri": "https://localhost:8080/"
        },
        "outputId": "a96896bf-11e1-427b-a98a-6285808e52fd"
      },
      "source": [
        "np.array(K), type(np.array(K))"
      ],
      "execution_count": 99,
      "outputs": [
        {
          "output_type": "execute_result",
          "data": {
            "text/plain": [
              "(array([12.,  5.,  1.]), numpy.ndarray)"
            ]
          },
          "metadata": {},
          "execution_count": 99
        }
      ]
    },
    {
      "cell_type": "code",
      "metadata": {
        "id": "eg7uZQRqWWgl",
        "colab": {
          "base_uri": "https://localhost:8080/"
        },
        "outputId": "3538b943-3f89-4987-c308-878e0491a1cb"
      },
      "source": [
        "# Convert Tensor to NumPy array\n",
        "K.numpy(), type(K.numpy())"
      ],
      "execution_count": 100,
      "outputs": [
        {
          "output_type": "execute_result",
          "data": {
            "text/plain": [
              "(array([12.,  5.,  1.]), numpy.ndarray)"
            ]
          },
          "metadata": {},
          "execution_count": 100
        }
      ]
    },
    {
      "cell_type": "code",
      "metadata": {
        "id": "RR7QI4JXW8FS",
        "colab": {
          "base_uri": "https://localhost:8080/"
        },
        "outputId": "38719247-e8ba-4035-9035-4c6858466503"
      },
      "source": [
        "K = tf.constant([4.])\n",
        "K.numpy()[0]"
      ],
      "execution_count": 101,
      "outputs": [
        {
          "output_type": "execute_result",
          "data": {
            "text/plain": [
              "4.0"
            ]
          },
          "metadata": {},
          "execution_count": 101
        }
      ]
    },
    {
      "cell_type": "code",
      "metadata": {
        "id": "kAfokW81W8AD",
        "colab": {
          "base_uri": "https://localhost:8080/"
        },
        "outputId": "26b62d9c-10c2-41f8-e5a7-afcb4f5b231e"
      },
      "source": [
        "numpy_K = tf.constant(np.array([4., 5., 2.]))\n",
        "tensor_K = tf.constant([4., 5., 2.])\n",
        "\n",
        "# Check the datatypes of each\n",
        "numpy_K.dtype, tensor_K.dtype"
      ],
      "execution_count": 102,
      "outputs": [
        {
          "output_type": "execute_result",
          "data": {
            "text/plain": [
              "(tf.float64, tf.float32)"
            ]
          },
          "metadata": {},
          "execution_count": 102
        }
      ]
    },
    {
      "cell_type": "code",
      "metadata": {
        "id": "OODyDQIYW78Q"
      },
      "source": [
        ""
      ],
      "execution_count": 102,
      "outputs": []
    },
    {
      "cell_type": "code",
      "metadata": {
        "id": "mVjwFUMlW73u"
      },
      "source": [
        ""
      ],
      "execution_count": 102,
      "outputs": []
    },
    {
      "cell_type": "code",
      "metadata": {
        "id": "cQqw4VvsW7xu"
      },
      "source": [
        ""
      ],
      "execution_count": 102,
      "outputs": []
    },
    {
      "cell_type": "code",
      "metadata": {
        "id": "rDvcb4u_W7sv"
      },
      "source": [
        ""
      ],
      "execution_count": 102,
      "outputs": []
    },
    {
      "cell_type": "code",
      "metadata": {
        "id": "siqJ6VerW7pK"
      },
      "source": [
        ""
      ],
      "execution_count": 102,
      "outputs": []
    },
    {
      "cell_type": "code",
      "metadata": {
        "id": "yhb_7CszT3M9"
      },
      "source": [
        ""
      ],
      "execution_count": 102,
      "outputs": []
    },
    {
      "cell_type": "code",
      "metadata": {
        "id": "ISrTFbXamkpL"
      },
      "source": [
        ""
      ],
      "execution_count": 102,
      "outputs": []
    },
    {
      "cell_type": "code",
      "metadata": {
        "id": "zy2RumQmmkjc"
      },
      "source": [
        ""
      ],
      "execution_count": 102,
      "outputs": []
    },
    {
      "cell_type": "code",
      "metadata": {
        "id": "SUOqbwibVMPS"
      },
      "source": [
        ""
      ],
      "execution_count": 102,
      "outputs": []
    },
    {
      "cell_type": "code",
      "metadata": {
        "id": "Ox_hISTUlYLV"
      },
      "source": [
        ""
      ],
      "execution_count": 102,
      "outputs": []
    },
    {
      "cell_type": "code",
      "metadata": {
        "id": "6nAKRau0lYHI"
      },
      "source": [
        ""
      ],
      "execution_count": 102,
      "outputs": []
    },
    {
      "cell_type": "code",
      "metadata": {
        "id": "mVfRdGeQlX13"
      },
      "source": [
        ""
      ],
      "execution_count": 102,
      "outputs": []
    }
  ]
}