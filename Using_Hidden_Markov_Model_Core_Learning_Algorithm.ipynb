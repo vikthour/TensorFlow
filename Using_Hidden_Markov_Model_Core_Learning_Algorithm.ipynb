{
  "nbformat": 4,
  "nbformat_minor": 0,
  "metadata": {
    "colab": {
      "name": "Using Hidden-Markov Model Core Learning Algorithm.ipynb",
      "provenance": []
    },
    "kernelspec": {
      "name": "python3",
      "display_name": "Python 3"
    },
    "language_info": {
      "name": "python"
    }
  },
  "cells": [
    {
      "cell_type": "code",
      "execution_count": 1,
      "metadata": {
        "id": "gtpwX-0SXvcx"
      },
      "outputs": [],
      "source": [
        "%tensorflow_version 2.x"
      ]
    },
    {
      "cell_type": "code",
      "source": [
        "import tensorflow_probability as tfp\n",
        "import tensorflow as tf"
      ],
      "metadata": {
        "id": "lxlC_9bfauJc"
      },
      "execution_count": 3,
      "outputs": []
    },
    {
      "cell_type": "code",
      "source": [
        "tfd = tfp.distributions\n",
        "initial_distribution = tfd.Categorical(probs=[0.8, 0.2])\n",
        "transition_distribution = tfd.Categorical([[0.7, 0.3],\n",
        "                                           [0.2, 0.8]])\n",
        "observation_distribution = tfd.Normal(loc=[0., 15.], scale= [5., 10.])"
      ],
      "metadata": {
        "id": "uEuryPFYbO8j"
      },
      "execution_count": 7,
      "outputs": []
    },
    {
      "cell_type": "code",
      "source": [
        "#Create the Hidden Markov Model\n",
        "\n",
        "model = tfd.HiddenMarkovModel(\n",
        "    initial_distribution= initial_distribution,\n",
        "    transition_distribution= transition_distribution,\n",
        "    observation_distribution= observation_distribution,\n",
        "    num_steps = 7\n",
        ")"
      ],
      "metadata": {
        "id": "X185rMkeg7h6"
      },
      "execution_count": 8,
      "outputs": []
    },
    {
      "cell_type": "code",
      "source": [
        "mean = model.mean()"
      ],
      "metadata": {
        "id": "RIEXaXKbhdIe"
      },
      "execution_count": 9,
      "outputs": []
    },
    {
      "cell_type": "code",
      "source": [
        "mean"
      ],
      "metadata": {
        "colab": {
          "base_uri": "https://localhost:8080/"
        },
        "id": "rHJglsOqiHwW",
        "outputId": "f3220e07-807a-4853-c27a-6d9167d8d13c"
      },
      "execution_count": 10,
      "outputs": [
        {
          "output_type": "execute_result",
          "data": {
            "text/plain": [
              "<tf.Tensor: shape=(7,), dtype=float32, numpy=\n",
              "array([2.9999998, 6.7527165, 7.66967  , 7.8937225, 7.948468 , 7.9618444,\n",
              "       7.965112 ], dtype=float32)>"
            ]
          },
          "metadata": {},
          "execution_count": 10
        }
      ]
    },
    {
      "cell_type": "code",
      "source": [
        "with tf.compat.v1.Session() as sess:\n",
        "  print(mean.numpy())"
      ],
      "metadata": {
        "colab": {
          "base_uri": "https://localhost:8080/"
        },
        "id": "oth5wlQniHm_",
        "outputId": "6b776164-7535-4ec3-c45d-c5695ac3f252"
      },
      "execution_count": 11,
      "outputs": [
        {
          "output_type": "stream",
          "name": "stdout",
          "text": [
            "[2.9999998 6.7527165 7.66967   7.8937225 7.948468  7.9618444 7.965112 ]\n"
          ]
        }
      ]
    },
    {
      "cell_type": "code",
      "source": [
        ""
      ],
      "metadata": {
        "id": "UMbRoMxzjfRl"
      },
      "execution_count": null,
      "outputs": []
    }
  ]
}