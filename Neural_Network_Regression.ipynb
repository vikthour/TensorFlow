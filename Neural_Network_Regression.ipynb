{
  "nbformat": 4,
  "nbformat_minor": 0,
  "metadata": {
    "colab": {
      "name": "Neural Network Regression.ipynb",
      "provenance": [],
      "collapsed_sections": [
        "153AbHnoa6XP",
        "FOFS-6ZywFEO",
        "9k0IDaZ0wEy1",
        "gi_b9GUv8qpk",
        "KIxan-AVC8gG",
        "A0Ompt0gtHlq",
        "5HI_m69JLazo",
        "QTg8f7M0LMM0",
        "fYG47Ci2Ogu9"
      ]
    },
    "kernelspec": {
      "name": "python3",
      "display_name": "Python 3"
    },
    "language_info": {
      "name": "python"
    }
  },
  "cells": [
    {
      "cell_type": "code",
      "metadata": {
        "colab": {
          "base_uri": "https://localhost:8080/"
        },
        "id": "v1mAUIGCarov",
        "outputId": "9c78e818-7cbd-4d7e-8eaa-206e20c361ab"
      },
      "source": [
        "import tensorflow as tf\n",
        "import numpy as np\n",
        "import matplotlib.pyplot as plt\n",
        "\n",
        "print(tf.__version__)"
      ],
      "execution_count": 1,
      "outputs": [
        {
          "output_type": "stream",
          "name": "stdout",
          "text": [
            "2.6.0\n"
          ]
        }
      ]
    },
    {
      "cell_type": "code",
      "metadata": {
        "id": "AulucD4_a7Ap"
      },
      "source": [
        "## Creating data to view and fit\n",
        "#Create the features\n",
        "X = np.array([-10, -5, 0, 5, 10, 15, 20])\n",
        "\n",
        "# Create the labels\n",
        "y = np.array([1.0, 6.0, 11.0, 16.0, 21.0, 26.0, 31.0])"
      ],
      "execution_count": 2,
      "outputs": []
    },
    {
      "cell_type": "code",
      "metadata": {
        "colab": {
          "base_uri": "https://localhost:8080/",
          "height": 282
        },
        "id": "imgTi2aMa67v",
        "outputId": "d1b30f9e-f131-426a-9d00-48baf0816994"
      },
      "source": [
        "plt.scatter(X, y)"
      ],
      "execution_count": 3,
      "outputs": [
        {
          "output_type": "execute_result",
          "data": {
            "text/plain": [
              "<matplotlib.collections.PathCollection at 0x7eff1251be50>"
            ]
          },
          "metadata": {},
          "execution_count": 3
        },
        {
          "output_type": "display_data",
          "data": {
            "image/png": "[encoded data removed]",
            "text/plain": [
              "<Figure size 432x288 with 1 Axes>"
            ]
          },
          "metadata": {
            "needs_background": "light"
          }
        }
      ]
    },
    {
      "cell_type": "code",
      "metadata": {
        "colab": {
          "base_uri": "https://localhost:8080/"
        },
        "id": "2xou9Ja5a62n",
        "outputId": "df0cfef3-d9b4-433d-da86-2a39715db2c6"
      },
      "source": [
        "y == X + 10"
      ],
      "execution_count": 4,
      "outputs": [
        {
          "output_type": "execute_result",
          "data": {
            "text/plain": [
              "array([False, False, False, False, False, False, False])"
            ]
          },
          "metadata": {},
          "execution_count": 4
        }
      ]
    },
    {
      "cell_type": "markdown",
      "metadata": {
        "id": "QQwdzzuDa6mS"
      },
      "source": [
        "Input and Output shapes"
      ]
    },
    {
      "cell_type": "code",
      "metadata": {
        "colab": {
          "base_uri": "https://localhost:8080/"
        },
        "id": "3cvkUeWThRrx",
        "outputId": "227e8b5c-f3b1-46a0-9a14-aab630f70214"
      },
      "source": [
        "# Create a demo tensor \n",
        "house_info = tf.constant([\"bedroom\", \"bathroom\", \"garage\"])\n",
        "house_price = tf.constant([939700])\n",
        "house_info, house_price"
      ],
      "execution_count": 5,
      "outputs": [
        {
          "output_type": "execute_result",
          "data": {
            "text/plain": [
              "(<tf.Tensor: shape=(3,), dtype=string, numpy=array([b'bedroom', b'bathroom', b'garage'], dtype=object)>,\n",
              " <tf.Tensor: shape=(1,), dtype=int32, numpy=array([939700], dtype=int32)>)"
            ]
          },
          "metadata": {},
          "execution_count": 5
        }
      ]
    },
    {
      "cell_type": "code",
      "metadata": {
        "colab": {
          "base_uri": "https://localhost:8080/"
        },
        "id": "afD_vEoghRnc",
        "outputId": "d50a5552-2abb-4058-e4d2-4e735b44d3ae"
      },
      "source": [
        "input_shape = X[0].shape\n",
        "output_shape = y[0].shape\n",
        "input_shape, output_shape"
      ],
      "execution_count": 6,
      "outputs": [
        {
          "output_type": "execute_result",
          "data": {
            "text/plain": [
              "((), ())"
            ]
          },
          "metadata": {},
          "execution_count": 6
        }
      ]
    },
    {
      "cell_type": "code",
      "metadata": {
        "colab": {
          "base_uri": "https://localhost:8080/"
        },
        "id": "gJX0q8TThRiQ",
        "outputId": "949178bb-210c-4c66-ddd2-d711e367ac64"
      },
      "source": [
        "X[0].ndim"
      ],
      "execution_count": 7,
      "outputs": [
        {
          "output_type": "execute_result",
          "data": {
            "text/plain": [
              "0"
            ]
          },
          "metadata": {},
          "execution_count": 7
        }
      ]
    },
    {
      "cell_type": "code",
      "metadata": {
        "colab": {
          "base_uri": "https://localhost:8080/"
        },
        "id": "0PZGI2DohReQ",
        "outputId": "786bad4b-ca13-46f8-c51c-cac1d3bf63c5"
      },
      "source": [
        "X[0], y[0]"
      ],
      "execution_count": 8,
      "outputs": [
        {
          "output_type": "execute_result",
          "data": {
            "text/plain": [
              "(-10, 1.0)"
            ]
          },
          "metadata": {},
          "execution_count": 8
        }
      ]
    },
    {
      "cell_type": "code",
      "metadata": {
        "colab": {
          "base_uri": "https://localhost:8080/"
        },
        "id": "ezew4GQZhQmH",
        "outputId": "7c4ac48b-f0ac-48d7-881b-72822400e2b5"
      },
      "source": [
        "# Turn the NumPy arrays into tensors\n",
        "X = tf.constant(X)\n",
        "y = tf.constant(y)\n",
        "X, y"
      ],
      "execution_count": 9,
      "outputs": [
        {
          "output_type": "execute_result",
          "data": {
            "text/plain": [
              "(<tf.Tensor: shape=(7,), dtype=int64, numpy=array([-10,  -5,   0,   5,  10,  15,  20])>,\n",
              " <tf.Tensor: shape=(7,), dtype=float64, numpy=array([ 1.,  6., 11., 16., 21., 26., 31.])>)"
            ]
          },
          "metadata": {},
          "execution_count": 9
        }
      ]
    },
    {
      "cell_type": "code",
      "metadata": {
        "colab": {
          "base_uri": "https://localhost:8080/"
        },
        "id": "WGZlPS4Ha6iV",
        "outputId": "71ffdbae-0379-4abe-e7c3-98cf8972e29c"
      },
      "source": [
        "input_shape = X[0].shape\n",
        "output_shape = y[0].shape\n",
        "input_shape, output_shape"
      ],
      "execution_count": 10,
      "outputs": [
        {
          "output_type": "execute_result",
          "data": {
            "text/plain": [
              "(TensorShape([]), TensorShape([]))"
            ]
          },
          "metadata": {},
          "execution_count": 10
        }
      ]
    },
    {
      "cell_type": "markdown",
      "metadata": {
        "id": "6wta7fvLa6eq"
      },
      "source": [
        "## Steps in modelling with TensorFlow\n",
        "\n",
        "1. Creating a model - define the input and output layers\n",
        "2. Compiling a model - define the loss function\n",
        "3. Fitting a model\n"
      ]
    },
    {
      "cell_type": "code",
      "metadata": {
        "id": "R3GfY5kHkGv3"
      },
      "source": [
        "# Create a model\n",
        "model = tf.keras.Sequential()\n",
        "model.add(tf.keras.layers.Dense(1))"
      ],
      "execution_count": 11,
      "outputs": []
    },
    {
      "cell_type": "code",
      "metadata": {
        "colab": {
          "base_uri": "https://localhost:8080/"
        },
        "id": "vkv_LYFMkG-M",
        "outputId": "e1af751c-fb96-4c9d-edb2-895a4d2de63b"
      },
      "source": [
        "# Set random seed\n",
        "\n",
        "tf.random.set_seed(42)\n",
        "\n",
        "# 1. Create a model using the Sequential API\n",
        "model = tf.keras.Sequential([\n",
        "                             tf.keras.layers.Dense(1)\n",
        "])\n",
        "\n",
        "# 2. Compile the model\n",
        "model.compile(loss= tf.keras.losses.mae,\n",
        "              optimizer= tf.keras.optimizers.SGD(),\n",
        "              metrics= ['mae'])\n",
        "\n",
        "# 3. Fit the model\n",
        "model.fit(X, y, epochs= 5)"
      ],
      "execution_count": 12,
      "outputs": [
        {
          "output_type": "stream",
          "name": "stdout",
          "text": [
            "Epoch 1/5\n",
            "1/1 [==============================] - 1s 672ms/step - loss: 13.1497 - mae: 13.1497\n",
            "Epoch 2/5\n",
            "1/1 [==============================] - 0s 4ms/step - loss: 12.8897 - mae: 12.8897\n",
            "Epoch 3/5\n",
            "1/1 [==============================] - 0s 5ms/step - loss: 12.6297 - mae: 12.6297\n",
            "Epoch 4/5\n",
            "1/1 [==============================] - 0s 8ms/step - loss: 12.3697 - mae: 12.3697\n",
            "Epoch 5/5\n",
            "1/1 [==============================] - 0s 7ms/step - loss: 12.1097 - mae: 12.1097\n"
          ]
        },
        {
          "output_type": "execute_result",
          "data": {
            "text/plain": [
              "<keras.callbacks.History at 0x7eff0dc48210>"
            ]
          },
          "metadata": {},
          "execution_count": 12
        }
      ]
    },
    {
      "cell_type": "code",
      "metadata": {
        "colab": {
          "base_uri": "https://localhost:8080/"
        },
        "id": "65kEvoh8kGr7",
        "outputId": "6bcef096-dc5c-4824-8708-f7a04342ceaf"
      },
      "source": [
        "# Check out X and y\n",
        "X, y"
      ],
      "execution_count": 13,
      "outputs": [
        {
          "output_type": "execute_result",
          "data": {
            "text/plain": [
              "(<tf.Tensor: shape=(7,), dtype=int64, numpy=array([-10,  -5,   0,   5,  10,  15,  20])>,\n",
              " <tf.Tensor: shape=(7,), dtype=float64, numpy=array([ 1.,  6., 11., 16., 21., 26., 31.])>)"
            ]
          },
          "metadata": {},
          "execution_count": 13
        }
      ]
    },
    {
      "cell_type": "code",
      "metadata": {
        "colab": {
          "base_uri": "https://localhost:8080/"
        },
        "id": "5c7ThoQYkGng",
        "outputId": "2e6d3dd8-bafe-4ee9-f693-b6ded911fd1f"
      },
      "source": [
        "# Try and make a prediction using a model\n",
        "y_pred = model.predict([17.0])\n",
        "y_pred"
      ],
      "execution_count": 14,
      "outputs": [
        {
          "output_type": "execute_result",
          "data": {
            "text/plain": [
              "array([[13.991019]], dtype=float32)"
            ]
          },
          "metadata": {},
          "execution_count": 14
        }
      ]
    },
    {
      "cell_type": "code",
      "metadata": {
        "colab": {
          "base_uri": "https://localhost:8080/"
        },
        "id": "FMg1z_EakGjW",
        "outputId": "e3462ab0-5e9a-4241-be05-1f47d8960a12"
      },
      "source": [
        "y_pred + 11.5"
      ],
      "execution_count": 15,
      "outputs": [
        {
          "output_type": "execute_result",
          "data": {
            "text/plain": [
              "array([[25.49102]], dtype=float32)"
            ]
          },
          "metadata": {},
          "execution_count": 15
        }
      ]
    },
    {
      "cell_type": "markdown",
      "metadata": {
        "id": "FYMQ9rXOoduk"
      },
      "source": [
        "Improving Our Model\n",
        "\n",
        "1. Creating a model - add more layers, increase the hidden layers, change the activation of each layer.\n",
        "2. Compiling a model - change the optimization function or learning rate of the optimization function.\n",
        "3. Fitting a model - increase the number of epochs, increase the amount of data to learn from."
      ]
    },
    {
      "cell_type": "code",
      "metadata": {
        "colab": {
          "base_uri": "https://localhost:8080/"
        },
        "id": "hs2fJOD6rt9e",
        "outputId": "ac7c8eec-85f9-4473-e312-01f7a26ec003"
      },
      "source": [
        "tf.random.set_seed(42)\n",
        "\n",
        "# 1. Create a model using the Sequential API\n",
        "model = tf.keras.Sequential([\n",
        "                             tf.keras.layers.Dense(1)\n",
        "])\n",
        "\n",
        "# 2. Compile the model\n",
        "model.compile(loss= tf.keras.losses.mae,\n",
        "              optimizer= tf.keras.optimizers.SGD(),\n",
        "              metrics= ['mae'])\n",
        "\n",
        "# 3. Fit the model\n",
        "model.fit(X, y, epochs= 100)"
      ],
      "execution_count": 16,
      "outputs": [
        {
          "output_type": "stream",
          "name": "stdout",
          "text": [
            "Epoch 1/100\n",
            "1/1 [==============================] - 0s 286ms/step - loss: 13.1497 - mae: 13.1497\n",
            "Epoch 2/100\n",
            "1/1 [==============================] - 0s 6ms/step - loss: 12.8897 - mae: 12.8897\n",
            "Epoch 3/100\n",
            "1/1 [==============================] - 0s 6ms/step - loss: 12.6297 - mae: 12.6297\n",
            "Epoch 4/100\n",
            "1/1 [==============================] - 0s 6ms/step - loss: 12.3697 - mae: 12.3697\n",
            "Epoch 5/100\n",
            "1/1 [==============================] - 0s 6ms/step - loss: 12.1097 - mae: 12.1097\n",
            "Epoch 6/100\n",
            "1/1 [==============================] - 0s 6ms/step - loss: 11.8497 - mae: 11.8497\n",
            "Epoch 7/100\n",
            "1/1 [==============================] - 0s 8ms/step - loss: 11.5897 - mae: 11.5897\n",
            "Epoch 8/100\n",
            "1/1 [==============================] - 0s 5ms/step - loss: 11.3297 - mae: 11.3297\n",
            "Epoch 9/100\n",
            "1/1 [==============================] - 0s 7ms/step - loss: 11.0697 - mae: 11.0697\n",
            "Epoch 10/100\n",
            "1/1 [==============================] - 0s 7ms/step - loss: 10.8097 - mae: 10.8097\n",
            "Epoch 11/100\n",
            "1/1 [==============================] - 0s 7ms/step - loss: 10.5497 - mae: 10.5497\n",
            "Epoch 12/100\n",
            "1/1 [==============================] - 0s 7ms/step - loss: 10.2897 - mae: 10.2897\n",
            "Epoch 13/100\n",
            "1/1 [==============================] - 0s 9ms/step - loss: 10.0297 - mae: 10.0297\n",
            "Epoch 14/100\n",
            "1/1 [==============================] - 0s 7ms/step - loss: 9.7697 - mae: 9.7697\n",
            "Epoch 15/100\n",
            "1/1 [==============================] - 0s 6ms/step - loss: 9.5097 - mae: 9.5097\n",
            "Epoch 16/100\n",
            "1/1 [==============================] - 0s 6ms/step - loss: 9.2497 - mae: 9.2497\n",
            "Epoch 17/100\n",
            "1/1 [==============================] - 0s 5ms/step - loss: 8.9897 - mae: 8.9897\n",
            "Epoch 18/100\n",
            "1/1 [==============================] - 0s 6ms/step - loss: 8.7297 - mae: 8.7297\n",
            "Epoch 19/100\n",
            "1/1 [==============================] - 0s 7ms/step - loss: 8.4697 - mae: 8.4697\n",
            "Epoch 20/100\n",
            "1/1 [==============================] - 0s 7ms/step - loss: 8.2097 - mae: 8.2097\n",
            "Epoch 21/100\n",
            "1/1 [==============================] - 0s 6ms/step - loss: 8.1215 - mae: 8.1215\n",
            "Epoch 22/100\n",
            "1/1 [==============================] - 0s 6ms/step - loss: 8.1113 - mae: 8.1113\n",
            "Epoch 23/100\n",
            "1/1 [==============================] - 0s 6ms/step - loss: 8.1011 - mae: 8.1011\n",
            "Epoch 24/100\n",
            "1/1 [==============================] - 0s 6ms/step - loss: 8.0909 - mae: 8.0909\n",
            "Epoch 25/100\n",
            "1/1 [==============================] - 0s 5ms/step - loss: 8.0807 - mae: 8.0807\n",
            "Epoch 26/100\n",
            "1/1 [==============================] - 0s 6ms/step - loss: 8.0926 - mae: 8.0926\n",
            "Epoch 27/100\n",
            "1/1 [==============================] - 0s 7ms/step - loss: 8.0990 - mae: 8.0990\n",
            "Epoch 28/100\n",
            "1/1 [==============================] - 0s 6ms/step - loss: 8.0888 - mae: 8.0888\n",
            "Epoch 29/100\n",
            "1/1 [==============================] - 0s 15ms/step - loss: 8.0786 - mae: 8.0786\n",
            "Epoch 30/100\n",
            "1/1 [==============================] - 0s 9ms/step - loss: 8.0684 - mae: 8.0684\n",
            "Epoch 31/100\n",
            "1/1 [==============================] - 0s 8ms/step - loss: 8.0582 - mae: 8.0582\n",
            "Epoch 32/100\n",
            "1/1 [==============================] - 0s 7ms/step - loss: 8.0480 - mae: 8.0480\n",
            "Epoch 33/100\n",
            "1/1 [==============================] - 0s 5ms/step - loss: 8.0378 - mae: 8.0378\n",
            "Epoch 34/100\n",
            "1/1 [==============================] - 0s 7ms/step - loss: 8.0326 - mae: 8.0326\n",
            "Epoch 35/100\n",
            "1/1 [==============================] - 0s 14ms/step - loss: 8.0562 - mae: 8.0562\n",
            "Epoch 36/100\n",
            "1/1 [==============================] - 0s 6ms/step - loss: 8.0460 - mae: 8.0460\n",
            "Epoch 37/100\n",
            "1/1 [==============================] - 0s 5ms/step - loss: 8.0358 - mae: 8.0358\n",
            "Epoch 38/100\n",
            "1/1 [==============================] - 0s 7ms/step - loss: 8.0256 - mae: 8.0256\n",
            "Epoch 39/100\n",
            "1/1 [==============================] - 0s 7ms/step - loss: 8.0153 - mae: 8.0153\n",
            "Epoch 40/100\n",
            "1/1 [==============================] - 0s 5ms/step - loss: 8.0051 - mae: 8.0051\n",
            "Epoch 41/100\n",
            "1/1 [==============================] - 0s 8ms/step - loss: 7.9949 - mae: 7.9949\n",
            "Epoch 42/100\n",
            "1/1 [==============================] - 0s 8ms/step - loss: 7.9847 - mae: 7.9847\n",
            "Epoch 43/100\n",
            "1/1 [==============================] - 0s 7ms/step - loss: 8.0011 - mae: 8.0011\n",
            "Epoch 44/100\n",
            "1/1 [==============================] - 0s 5ms/step - loss: 8.0031 - mae: 8.0031\n",
            "Epoch 45/100\n",
            "1/1 [==============================] - 0s 8ms/step - loss: 7.9929 - mae: 7.9929\n",
            "Epoch 46/100\n",
            "1/1 [==============================] - 0s 16ms/step - loss: 7.9827 - mae: 7.9827\n",
            "Epoch 47/100\n",
            "1/1 [==============================] - 0s 7ms/step - loss: 7.9725 - mae: 7.9725\n",
            "Epoch 48/100\n",
            "1/1 [==============================] - 0s 16ms/step - loss: 7.9623 - mae: 7.9623\n",
            "Epoch 49/100\n",
            "1/1 [==============================] - 0s 9ms/step - loss: 7.9521 - mae: 7.9521\n",
            "Epoch 50/100\n",
            "1/1 [==============================] - 0s 8ms/step - loss: 7.9419 - mae: 7.9419\n",
            "Epoch 51/100\n",
            "1/1 [==============================] - 0s 8ms/step - loss: 7.9411 - mae: 7.9411\n",
            "Epoch 52/100\n",
            "1/1 [==============================] - 0s 10ms/step - loss: 7.9602 - mae: 7.9602\n",
            "Epoch 53/100\n",
            "1/1 [==============================] - 0s 10ms/step - loss: 7.9500 - mae: 7.9500\n",
            "Epoch 54/100\n",
            "1/1 [==============================] - 0s 26ms/step - loss: 7.9398 - mae: 7.9398\n",
            "Epoch 55/100\n",
            "1/1 [==============================] - 0s 5ms/step - loss: 7.9296 - mae: 7.9296\n",
            "Epoch 56/100\n",
            "1/1 [==============================] - 0s 4ms/step - loss: 7.9194 - mae: 7.9194\n",
            "Epoch 57/100\n",
            "1/1 [==============================] - 0s 5ms/step - loss: 7.9092 - mae: 7.9092\n",
            "Epoch 58/100\n",
            "1/1 [==============================] - 0s 6ms/step - loss: 7.8990 - mae: 7.8990\n",
            "Epoch 59/100\n",
            "1/1 [==============================] - 0s 5ms/step - loss: 7.8888 - mae: 7.8888\n",
            "Epoch 60/100\n",
            "1/1 [==============================] - 0s 6ms/step - loss: 7.9097 - mae: 7.9097\n",
            "Epoch 61/100\n",
            "1/1 [==============================] - 0s 7ms/step - loss: 7.9072 - mae: 7.9072\n",
            "Epoch 62/100\n",
            "1/1 [==============================] - 0s 9ms/step - loss: 7.8970 - mae: 7.8970\n",
            "Epoch 63/100\n",
            "1/1 [==============================] - 0s 7ms/step - loss: 7.8868 - mae: 7.8868\n",
            "Epoch 64/100\n",
            "1/1 [==============================] - 0s 5ms/step - loss: 7.8766 - mae: 7.8766\n",
            "Epoch 65/100\n",
            "1/1 [==============================] - 0s 6ms/step - loss: 7.8664 - mae: 7.8664\n",
            "Epoch 66/100\n",
            "1/1 [==============================] - 0s 5ms/step - loss: 7.8562 - mae: 7.8562\n",
            "Epoch 67/100\n",
            "1/1 [==============================] - 0s 5ms/step - loss: 7.8460 - mae: 7.8460\n",
            "Epoch 68/100\n",
            "1/1 [==============================] - 0s 5ms/step - loss: 7.8497 - mae: 7.8497\n",
            "Epoch 69/100\n",
            "1/1 [==============================] - 0s 5ms/step - loss: 7.8643 - mae: 7.8643\n",
            "Epoch 70/100\n",
            "1/1 [==============================] - 0s 5ms/step - loss: 7.8541 - mae: 7.8541\n",
            "Epoch 71/100\n",
            "1/1 [==============================] - 0s 5ms/step - loss: 7.8439 - mae: 7.8439\n",
            "Epoch 72/100\n",
            "1/1 [==============================] - 0s 6ms/step - loss: 7.8337 - mae: 7.8337\n",
            "Epoch 73/100\n",
            "1/1 [==============================] - 0s 4ms/step - loss: 7.8235 - mae: 7.8235\n",
            "Epoch 74/100\n",
            "1/1 [==============================] - 0s 5ms/step - loss: 7.8133 - mae: 7.8133\n",
            "Epoch 75/100\n",
            "1/1 [==============================] - 0s 5ms/step - loss: 7.8031 - mae: 7.8031\n",
            "Epoch 76/100\n",
            "1/1 [==============================] - 0s 5ms/step - loss: 7.7929 - mae: 7.7929\n",
            "Epoch 77/100\n",
            "1/1 [==============================] - 0s 6ms/step - loss: 7.8183 - mae: 7.8183\n",
            "Epoch 78/100\n",
            "1/1 [==============================] - 0s 5ms/step - loss: 7.8113 - mae: 7.8113\n",
            "Epoch 79/100\n",
            "1/1 [==============================] - 0s 4ms/step - loss: 7.8011 - mae: 7.8011\n",
            "Epoch 80/100\n",
            "1/1 [==============================] - 0s 5ms/step - loss: 7.7909 - mae: 7.7909\n",
            "Epoch 81/100\n",
            "1/1 [==============================] - 0s 5ms/step - loss: 7.7807 - mae: 7.7807\n",
            "Epoch 82/100\n",
            "1/1 [==============================] - 0s 5ms/step - loss: 7.7704 - mae: 7.7704\n",
            "Epoch 83/100\n",
            "1/1 [==============================] - 0s 6ms/step - loss: 7.7602 - mae: 7.7602\n",
            "Epoch 84/100\n",
            "1/1 [==============================] - 0s 6ms/step - loss: 7.7500 - mae: 7.7500\n",
            "Epoch 85/100\n",
            "1/1 [==============================] - 0s 6ms/step - loss: 7.7583 - mae: 7.7583\n",
            "Epoch 86/100\n",
            "1/1 [==============================] - 0s 5ms/step - loss: 7.7684 - mae: 7.7684\n",
            "Epoch 87/100\n",
            "1/1 [==============================] - 0s 5ms/step - loss: 7.7582 - mae: 7.7582\n",
            "Epoch 88/100\n",
            "1/1 [==============================] - 0s 5ms/step - loss: 7.7480 - mae: 7.7480\n",
            "Epoch 89/100\n",
            "1/1 [==============================] - 0s 7ms/step - loss: 7.7378 - mae: 7.7378\n",
            "Epoch 90/100\n",
            "1/1 [==============================] - 0s 4ms/step - loss: 7.7276 - mae: 7.7276\n",
            "Epoch 91/100\n",
            "1/1 [==============================] - 0s 5ms/step - loss: 7.7174 - mae: 7.7174\n",
            "Epoch 92/100\n",
            "1/1 [==============================] - 0s 5ms/step - loss: 7.7072 - mae: 7.7072\n",
            "Epoch 93/100\n",
            "1/1 [==============================] - 0s 5ms/step - loss: 7.6983 - mae: 7.6983\n",
            "Epoch 94/100\n",
            "1/1 [==============================] - 0s 5ms/step - loss: 7.7256 - mae: 7.7256\n",
            "Epoch 95/100\n",
            "1/1 [==============================] - 0s 5ms/step - loss: 7.7153 - mae: 7.7153\n",
            "Epoch 96/100\n",
            "1/1 [==============================] - 0s 7ms/step - loss: 7.7051 - mae: 7.7051\n",
            "Epoch 97/100\n",
            "1/1 [==============================] - 0s 12ms/step - loss: 7.6949 - mae: 7.6949\n",
            "Epoch 98/100\n",
            "1/1 [==============================] - 0s 8ms/step - loss: 7.6847 - mae: 7.6847\n",
            "Epoch 99/100\n",
            "1/1 [==============================] - 0s 10ms/step - loss: 7.6745 - mae: 7.6745\n",
            "Epoch 100/100\n",
            "1/1 [==============================] - 0s 11ms/step - loss: 7.6643 - mae: 7.6643\n"
          ]
        },
        {
          "output_type": "execute_result",
          "data": {
            "text/plain": [
              "<keras.callbacks.History at 0x7eff0c393bd0>"
            ]
          },
          "metadata": {},
          "execution_count": 16
        }
      ]
    },
    {
      "cell_type": "code",
      "metadata": {
        "colab": {
          "base_uri": "https://localhost:8080/"
        },
        "id": "MW1aTxXMsPK0",
        "outputId": "dfc77fcf-7966-47d2-b057-66655108cfee"
      },
      "source": [
        "model.predict([17])"
      ],
      "execution_count": 17,
      "outputs": [
        {
          "output_type": "execute_result",
          "data": {
            "text/plain": [
              "array([[26.516663]], dtype=float32)"
            ]
          },
          "metadata": {},
          "execution_count": 17
        }
      ]
    },
    {
      "cell_type": "code",
      "metadata": {
        "colab": {
          "base_uri": "https://localhost:8080/"
        },
        "id": "8e8LyubbodX-",
        "outputId": "662c1b30-8aa7-4901-d31f-a85f22bdb243"
      },
      "source": [
        "# Rebuilding the model\n",
        "\n",
        "model = tf.keras.Sequential([\n",
        "                             tf.keras.layers.Dense(1, activation=\"relu\"),\n",
        "                             tf.keras.layers.Dense(1, activation=\"relu\"),\n",
        "                             tf.keras.layers.Dense(1, activation=\"relu\"),\n",
        "                             tf.keras.layers.Dense(1)\n",
        "])\n",
        "\n",
        "model.compile(loss= tf.keras.losses.mae,\n",
        "              optimizer = tf.keras.optimizers.Adam(lr=0.01),\n",
        "              metrics = ['mae'])\n",
        "\n",
        "model.fit(X, y, epochs=100)"
      ],
      "execution_count": 18,
      "outputs": [
        {
          "output_type": "stream",
          "name": "stderr",
          "text": [
            "/usr/local/lib/python3.7/dist-packages/keras/optimizer_v2/optimizer_v2.py:356: UserWarning: The `lr` argument is deprecated, use `learning_rate` instead.\n",
            "  \"The `lr` argument is deprecated, use `learning_rate` instead.\")\n"
          ]
        },
        {
          "output_type": "stream",
          "name": "stdout",
          "text": [
            "Epoch 1/100\n",
            "1/1 [==============================] - 0s 467ms/step - loss: 12.6028 - mae: 12.6028\n",
            "Epoch 2/100\n",
            "1/1 [==============================] - 0s 5ms/step - loss: 12.3989 - mae: 12.3989\n",
            "Epoch 3/100\n",
            "1/1 [==============================] - 0s 6ms/step - loss: 12.1881 - mae: 12.1881\n",
            "Epoch 4/100\n",
            "1/1 [==============================] - 0s 4ms/step - loss: 11.9696 - mae: 11.9696\n",
            "Epoch 5/100\n",
            "1/1 [==============================] - 0s 4ms/step - loss: 11.7430 - mae: 11.7430\n",
            "Epoch 6/100\n",
            "1/1 [==============================] - 0s 4ms/step - loss: 11.5082 - mae: 11.5082\n",
            "Epoch 7/100\n",
            "1/1 [==============================] - 0s 5ms/step - loss: 11.2648 - mae: 11.2648\n",
            "Epoch 8/100\n",
            "1/1 [==============================] - 0s 7ms/step - loss: 11.0125 - mae: 11.0125\n",
            "Epoch 9/100\n",
            "1/1 [==============================] - 0s 6ms/step - loss: 10.7508 - mae: 10.7508\n",
            "Epoch 10/100\n",
            "1/1 [==============================] - 0s 5ms/step - loss: 10.4795 - mae: 10.4795\n",
            "Epoch 11/100\n",
            "1/1 [==============================] - 0s 7ms/step - loss: 10.1982 - mae: 10.1982\n",
            "Epoch 12/100\n",
            "1/1 [==============================] - 0s 6ms/step - loss: 9.9063 - mae: 9.9063\n",
            "Epoch 13/100\n",
            "1/1 [==============================] - 0s 6ms/step - loss: 9.6035 - mae: 9.6035\n",
            "Epoch 14/100\n",
            "1/1 [==============================] - 0s 6ms/step - loss: 9.2892 - mae: 9.2892\n",
            "Epoch 15/100\n",
            "1/1 [==============================] - 0s 7ms/step - loss: 8.9631 - mae: 8.9631\n",
            "Epoch 16/100\n",
            "1/1 [==============================] - 0s 7ms/step - loss: 8.6246 - mae: 8.6246\n",
            "Epoch 17/100\n",
            "1/1 [==============================] - 0s 7ms/step - loss: 8.2731 - mae: 8.2731\n",
            "Epoch 18/100\n",
            "1/1 [==============================] - 0s 6ms/step - loss: 7.9082 - mae: 7.9082\n",
            "Epoch 19/100\n",
            "1/1 [==============================] - 0s 5ms/step - loss: 7.5293 - mae: 7.5293\n",
            "Epoch 20/100\n",
            "1/1 [==============================] - 0s 6ms/step - loss: 7.1358 - mae: 7.1358\n",
            "Epoch 21/100\n",
            "1/1 [==============================] - 0s 6ms/step - loss: 6.7270 - mae: 6.7270\n",
            "Epoch 22/100\n",
            "1/1 [==============================] - 0s 5ms/step - loss: 6.3023 - mae: 6.3023\n",
            "Epoch 23/100\n",
            "1/1 [==============================] - 0s 7ms/step - loss: 5.8612 - mae: 5.8612\n",
            "Epoch 24/100\n",
            "1/1 [==============================] - 0s 5ms/step - loss: 5.4028 - mae: 5.4028\n",
            "Epoch 25/100\n",
            "1/1 [==============================] - 0s 6ms/step - loss: 4.9266 - mae: 4.9266\n",
            "Epoch 26/100\n",
            "1/1 [==============================] - 0s 5ms/step - loss: 4.4317 - mae: 4.4317\n",
            "Epoch 27/100\n",
            "1/1 [==============================] - 0s 11ms/step - loss: 4.0828 - mae: 4.0828\n",
            "Epoch 28/100\n",
            "1/1 [==============================] - 0s 14ms/step - loss: 3.9630 - mae: 3.9630\n",
            "Epoch 29/100\n",
            "1/1 [==============================] - 0s 8ms/step - loss: 3.8464 - mae: 3.8464\n",
            "Epoch 30/100\n",
            "1/1 [==============================] - 0s 6ms/step - loss: 3.9870 - mae: 3.9870\n",
            "Epoch 31/100\n",
            "1/1 [==============================] - 0s 6ms/step - loss: 4.1143 - mae: 4.1143\n",
            "Epoch 32/100\n",
            "1/1 [==============================] - 0s 6ms/step - loss: 4.2197 - mae: 4.2197\n",
            "Epoch 33/100\n",
            "1/1 [==============================] - 0s 6ms/step - loss: 4.3041 - mae: 4.3041\n",
            "Epoch 34/100\n",
            "1/1 [==============================] - 0s 5ms/step - loss: 4.3687 - mae: 4.3687\n",
            "Epoch 35/100\n",
            "1/1 [==============================] - 0s 5ms/step - loss: 4.4145 - mae: 4.4145\n",
            "Epoch 36/100\n",
            "1/1 [==============================] - 0s 8ms/step - loss: 4.4429 - mae: 4.4429\n",
            "Epoch 37/100\n",
            "1/1 [==============================] - 0s 4ms/step - loss: 4.4552 - mae: 4.4552\n",
            "Epoch 38/100\n",
            "1/1 [==============================] - 0s 6ms/step - loss: 4.4528 - mae: 4.4528\n",
            "Epoch 39/100\n",
            "1/1 [==============================] - 0s 6ms/step - loss: 4.4370 - mae: 4.4370\n",
            "Epoch 40/100\n",
            "1/1 [==============================] - 0s 5ms/step - loss: 4.4092 - mae: 4.4092\n",
            "Epoch 41/100\n",
            "1/1 [==============================] - 0s 6ms/step - loss: 4.3707 - mae: 4.3707\n",
            "Epoch 42/100\n",
            "1/1 [==============================] - 0s 6ms/step - loss: 4.3226 - mae: 4.3226\n",
            "Epoch 43/100\n",
            "1/1 [==============================] - 0s 5ms/step - loss: 4.2662 - mae: 4.2662\n",
            "Epoch 44/100\n",
            "1/1 [==============================] - 0s 11ms/step - loss: 4.2025 - mae: 4.2025\n",
            "Epoch 45/100\n",
            "1/1 [==============================] - 0s 6ms/step - loss: 4.1325 - mae: 4.1325\n",
            "Epoch 46/100\n",
            "1/1 [==============================] - 0s 6ms/step - loss: 4.0571 - mae: 4.0571\n",
            "Epoch 47/100\n",
            "1/1 [==============================] - 0s 6ms/step - loss: 3.9773 - mae: 3.9773\n",
            "Epoch 48/100\n",
            "1/1 [==============================] - 0s 5ms/step - loss: 3.8938 - mae: 3.8938\n",
            "Epoch 49/100\n",
            "1/1 [==============================] - 0s 6ms/step - loss: 3.8073 - mae: 3.8073\n",
            "Epoch 50/100\n",
            "1/1 [==============================] - 0s 11ms/step - loss: 3.7184 - mae: 3.7184\n",
            "Epoch 51/100\n",
            "1/1 [==============================] - 0s 5ms/step - loss: 3.6279 - mae: 3.6279\n",
            "Epoch 52/100\n",
            "1/1 [==============================] - 0s 5ms/step - loss: 3.6379 - mae: 3.6379\n",
            "Epoch 53/100\n",
            "1/1 [==============================] - 0s 4ms/step - loss: 3.6720 - mae: 3.6720\n",
            "Epoch 54/100\n",
            "1/1 [==============================] - 0s 5ms/step - loss: 3.6967 - mae: 3.6967\n",
            "Epoch 55/100\n",
            "1/1 [==============================] - 0s 6ms/step - loss: 3.7133 - mae: 3.7133\n",
            "Epoch 56/100\n",
            "1/1 [==============================] - 0s 5ms/step - loss: 3.7224 - mae: 3.7224\n",
            "Epoch 57/100\n",
            "1/1 [==============================] - 0s 4ms/step - loss: 3.7249 - mae: 3.7249\n",
            "Epoch 58/100\n",
            "1/1 [==============================] - 0s 5ms/step - loss: 3.7214 - mae: 3.7214\n",
            "Epoch 59/100\n",
            "1/1 [==============================] - 0s 5ms/step - loss: 3.7125 - mae: 3.7125\n",
            "Epoch 60/100\n",
            "1/1 [==============================] - 0s 5ms/step - loss: 3.6986 - mae: 3.6986\n",
            "Epoch 61/100\n",
            "1/1 [==============================] - 0s 5ms/step - loss: 3.6801 - mae: 3.6801\n",
            "Epoch 62/100\n",
            "1/1 [==============================] - 0s 7ms/step - loss: 3.6573 - mae: 3.6573\n",
            "Epoch 63/100\n",
            "1/1 [==============================] - 0s 6ms/step - loss: 3.6306 - mae: 3.6306\n",
            "Epoch 64/100\n",
            "1/1 [==============================] - 0s 10ms/step - loss: 3.6002 - mae: 3.6002\n",
            "Epoch 65/100\n",
            "1/1 [==============================] - 0s 5ms/step - loss: 3.5663 - mae: 3.5663\n",
            "Epoch 66/100\n",
            "1/1 [==============================] - 0s 7ms/step - loss: 3.5292 - mae: 3.5292\n",
            "Epoch 67/100\n",
            "1/1 [==============================] - 0s 7ms/step - loss: 3.4888 - mae: 3.4888\n",
            "Epoch 68/100\n",
            "1/1 [==============================] - 0s 9ms/step - loss: 3.4455 - mae: 3.4455\n",
            "Epoch 69/100\n",
            "1/1 [==============================] - 0s 7ms/step - loss: 3.4082 - mae: 3.4082\n",
            "Epoch 70/100\n",
            "1/1 [==============================] - 0s 8ms/step - loss: 3.4295 - mae: 3.4295\n",
            "Epoch 71/100\n",
            "1/1 [==============================] - 0s 9ms/step - loss: 3.4367 - mae: 3.4367\n",
            "Epoch 72/100\n",
            "1/1 [==============================] - 0s 10ms/step - loss: 3.4311 - mae: 3.4311\n",
            "Epoch 73/100\n",
            "1/1 [==============================] - 0s 8ms/step - loss: 3.4139 - mae: 3.4139\n",
            "Epoch 74/100\n",
            "1/1 [==============================] - 0s 7ms/step - loss: 3.3863 - mae: 3.3863\n",
            "Epoch 75/100\n",
            "1/1 [==============================] - 0s 6ms/step - loss: 3.3496 - mae: 3.3496\n",
            "Epoch 76/100\n",
            "1/1 [==============================] - 0s 7ms/step - loss: 3.3347 - mae: 3.3347\n",
            "Epoch 77/100\n",
            "1/1 [==============================] - 0s 8ms/step - loss: 3.3393 - mae: 3.3393\n",
            "Epoch 78/100\n",
            "1/1 [==============================] - 0s 7ms/step - loss: 3.3363 - mae: 3.3363\n",
            "Epoch 79/100\n",
            "1/1 [==============================] - 0s 11ms/step - loss: 3.3265 - mae: 3.3265\n",
            "Epoch 80/100\n",
            "1/1 [==============================] - 0s 7ms/step - loss: 3.3105 - mae: 3.3105\n",
            "Epoch 81/100\n",
            "1/1 [==============================] - 0s 8ms/step - loss: 3.2888 - mae: 3.2888\n",
            "Epoch 82/100\n",
            "1/1 [==============================] - 0s 5ms/step - loss: 3.2618 - mae: 3.2618\n",
            "Epoch 83/100\n",
            "1/1 [==============================] - 0s 8ms/step - loss: 3.2508 - mae: 3.2508\n",
            "Epoch 84/100\n",
            "1/1 [==============================] - 0s 13ms/step - loss: 3.2517 - mae: 3.2517\n",
            "Epoch 85/100\n",
            "1/1 [==============================] - 0s 10ms/step - loss: 3.2404 - mae: 3.2404\n",
            "Epoch 86/100\n",
            "1/1 [==============================] - 0s 9ms/step - loss: 3.2182 - mae: 3.2182\n",
            "Epoch 87/100\n",
            "1/1 [==============================] - 0s 8ms/step - loss: 3.1944 - mae: 3.1944\n",
            "Epoch 88/100\n",
            "1/1 [==============================] - 0s 9ms/step - loss: 3.1897 - mae: 3.1897\n",
            "Epoch 89/100\n",
            "1/1 [==============================] - 0s 9ms/step - loss: 3.1778 - mae: 3.1778\n",
            "Epoch 90/100\n",
            "1/1 [==============================] - 0s 8ms/step - loss: 3.1594 - mae: 3.1594\n",
            "Epoch 91/100\n",
            "1/1 [==============================] - 0s 10ms/step - loss: 3.1513 - mae: 3.1513\n",
            "Epoch 92/100\n",
            "1/1 [==============================] - 0s 8ms/step - loss: 3.1424 - mae: 3.1424\n",
            "Epoch 93/100\n",
            "1/1 [==============================] - 0s 10ms/step - loss: 3.1223 - mae: 3.1223\n",
            "Epoch 94/100\n",
            "1/1 [==============================] - 0s 8ms/step - loss: 3.1155 - mae: 3.1155\n",
            "Epoch 95/100\n",
            "1/1 [==============================] - 0s 9ms/step - loss: 3.1091 - mae: 3.1091\n",
            "Epoch 96/100\n",
            "1/1 [==============================] - 0s 9ms/step - loss: 3.0954 - mae: 3.0954\n",
            "Epoch 97/100\n",
            "1/1 [==============================] - 0s 6ms/step - loss: 3.0750 - mae: 3.0750\n",
            "Epoch 98/100\n",
            "1/1 [==============================] - 0s 9ms/step - loss: 3.0646 - mae: 3.0646\n",
            "Epoch 99/100\n",
            "1/1 [==============================] - 0s 7ms/step - loss: 3.0572 - mae: 3.0572\n",
            "Epoch 100/100\n",
            "1/1 [==============================] - 0s 7ms/step - loss: 3.0386 - mae: 3.0386\n"
          ]
        },
        {
          "output_type": "execute_result",
          "data": {
            "text/plain": [
              "<keras.callbacks.History at 0x7eff0ca45750>"
            ]
          },
          "metadata": {},
          "execution_count": 18
        }
      ]
    },
    {
      "cell_type": "code",
      "metadata": {
        "colab": {
          "base_uri": "https://localhost:8080/"
        },
        "id": "exoyPsjVkGZd",
        "outputId": "bbffed6f-3bc9-41a6-f18e-27303afd2a54"
      },
      "source": [
        "model.predict([17])"
      ],
      "execution_count": 19,
      "outputs": [
        {
          "output_type": "execute_result",
          "data": {
            "text/plain": [
              "array([[28.863121]], dtype=float32)"
            ]
          },
          "metadata": {},
          "execution_count": 19
        }
      ]
    },
    {
      "cell_type": "markdown",
      "metadata": {
        "id": "5YNBBqcca6bC"
      },
      "source": [
        "The learning rate is the most important hyperparameter in most Neural Network Models"
      ]
    },
    {
      "cell_type": "markdown",
      "metadata": {
        "id": "153AbHnoa6XP"
      },
      "source": [
        "### Evaluating a model\n",
        "\n",
        "A typical workflow:\n",
        "Build a model - Fit it - Evaluate it - Tweak it - Fit it - Evaluate it ..."
      ]
    },
    {
      "cell_type": "code",
      "metadata": {
        "colab": {
          "base_uri": "https://localhost:8080/"
        },
        "id": "XBy-T6lrwFWn",
        "outputId": "d99795ae-372a-4e95-8a02-9070412d1247"
      },
      "source": [
        "# Make a bigger dataset\n",
        "X = tf.range(-100, 100, 4)\n",
        "X"
      ],
      "execution_count": 20,
      "outputs": [
        {
          "output_type": "execute_result",
          "data": {
            "text/plain": [
              "<tf.Tensor: shape=(50,), dtype=int32, numpy=\n",
              "array([-100,  -96,  -92,  -88,  -84,  -80,  -76,  -72,  -68,  -64,  -60,\n",
              "        -56,  -52,  -48,  -44,  -40,  -36,  -32,  -28,  -24,  -20,  -16,\n",
              "        -12,   -8,   -4,    0,    4,    8,   12,   16,   20,   24,   28,\n",
              "         32,   36,   40,   44,   48,   52,   56,   60,   64,   68,   72,\n",
              "         76,   80,   84,   88,   92,   96], dtype=int32)>"
            ]
          },
          "metadata": {},
          "execution_count": 20
        }
      ]
    },
    {
      "cell_type": "code",
      "metadata": {
        "colab": {
          "base_uri": "https://localhost:8080/"
        },
        "id": "skGA7WlOwFLb",
        "outputId": "9d809ffa-1073-4bec-aab3-6e6403c7de5c"
      },
      "source": [
        "# Make labels for the dataset\n",
        "y = X + 11\n",
        "y"
      ],
      "execution_count": 21,
      "outputs": [
        {
          "output_type": "execute_result",
          "data": {
            "text/plain": [
              "<tf.Tensor: shape=(50,), dtype=int32, numpy=\n",
              "array([-89, -85, -81, -77, -73, -69, -65, -61, -57, -53, -49, -45, -41,\n",
              "       -37, -33, -29, -25, -21, -17, -13,  -9,  -5,  -1,   3,   7,  11,\n",
              "        15,  19,  23,  27,  31,  35,  39,  43,  47,  51,  55,  59,  63,\n",
              "        67,  71,  75,  79,  83,  87,  91,  95,  99, 103, 107], dtype=int32)>"
            ]
          },
          "metadata": {},
          "execution_count": 21
        }
      ]
    },
    {
      "cell_type": "code",
      "metadata": {
        "colab": {
          "base_uri": "https://localhost:8080/",
          "height": 0
        },
        "id": "ypS7UIKYwFH3",
        "outputId": "27482242-f9c1-4821-9e9a-db4b44fbc239"
      },
      "source": [
        "plt.scatter(X, y)"
      ],
      "execution_count": 22,
      "outputs": [
        {
          "output_type": "execute_result",
          "data": {
            "text/plain": [
              "<matplotlib.collections.PathCollection at 0x7eff0c920a50>"
            ]
          },
          "metadata": {},
          "execution_count": 22
        },
        {
          "output_type": "display_data",
          "data": {
            "image/png": "[encoded data removed]",
            "text/plain": [
              "<Figure size 432x288 with 1 Axes>"
            ]
          },
          "metadata": {
            "needs_background": "light"
          }
        }
      ]
    },
    {
      "cell_type": "markdown",
      "metadata": {
        "id": "FOFS-6ZywFEO"
      },
      "source": [
        "### The 3 set concept\n",
        "Training, Validation, Testing\n"
      ]
    },
    {
      "cell_type": "code",
      "metadata": {
        "colab": {
          "base_uri": "https://localhost:8080/"
        },
        "id": "RLst3YWewFAG",
        "outputId": "a3524a80-ce2f-4a37-fa97-95f54dc5128f"
      },
      "source": [
        "# Check the length of the samples\n",
        "len(X)"
      ],
      "execution_count": 23,
      "outputs": [
        {
          "output_type": "execute_result",
          "data": {
            "text/plain": [
              "50"
            ]
          },
          "metadata": {},
          "execution_count": 23
        }
      ]
    },
    {
      "cell_type": "code",
      "metadata": {
        "colab": {
          "base_uri": "https://localhost:8080/"
        },
        "id": "VpUaABh6wE9i",
        "outputId": "2158bfb8-d69f-45d3-9063-ffaee7e6c2b4"
      },
      "source": [
        "# Split the data into train and test set\n",
        "X_train = X[:40]\n",
        "y_train = X[:40]\n",
        "\n",
        "X_test = y[40:]\n",
        "y_test = y[40:]\n",
        "\n",
        "len(X_train), len(X_test), len(y_train), len(y_test)"
      ],
      "execution_count": 24,
      "outputs": [
        {
          "output_type": "execute_result",
          "data": {
            "text/plain": [
              "(40, 10, 40, 10)"
            ]
          },
          "metadata": {},
          "execution_count": 24
        }
      ]
    },
    {
      "cell_type": "markdown",
      "metadata": {
        "id": "2PjSv4_owE57"
      },
      "source": [
        "Visualizing the data"
      ]
    },
    {
      "cell_type": "code",
      "metadata": {
        "colab": {
          "base_uri": "https://localhost:8080/",
          "height": 0
        },
        "id": "F1BqIc90wE2T",
        "outputId": "6801ba22-e94b-4539-8337-8538606b52be"
      },
      "source": [
        "plt.figure(figsize=(10, 7))\n",
        "plt.scatter(X_train, y_train, c= 'b', label= \"Training data\")\n",
        "\n",
        "plt.scatter(X_test, y_test, c='g', label= \"Testing data\")"
      ],
      "execution_count": 25,
      "outputs": [
        {
          "output_type": "execute_result",
          "data": {
            "text/plain": [
              "<matplotlib.collections.PathCollection at 0x7eff0c87cc90>"
            ]
          },
          "metadata": {},
          "execution_count": 25
        },
        {
          "output_type": "display_data",
          "data": {
            "image/png": "[encoded data removed]",
            "text/plain": [
              "<Figure size 720x504 with 1 Axes>"
            ]
          },
          "metadata": {
            "needs_background": "light"
          }
        }
      ]
    },
    {
      "cell_type": "code",
      "metadata": {
        "colab": {
          "base_uri": "https://localhost:8080/"
        },
        "id": "fFgUM95yzGeA",
        "outputId": "861fc8ef-209b-4103-a0f5-d2d3f2826373"
      },
      "source": [
        "# 1. Create a model\n",
        "\n",
        "model = tf.keras.Sequential([\n",
        "                             tf.keras.layers.Dense(1)\n",
        "])\n",
        "\n",
        "#2. Compile the model\n",
        "model.compile(loss=tf.keras.losses.mae,\n",
        "              optimizer= tf.keras.optimizers.SGD(),\n",
        "              metrics=['mae'])\n",
        "\n",
        "#3. Fit the model\n",
        "model.fit(X_train, y_train, epochs=100)"
      ],
      "execution_count": 26,
      "outputs": [
        {
          "output_type": "stream",
          "name": "stdout",
          "text": [
            "Epoch 1/100\n",
            "2/2 [==============================] - 0s 7ms/step - loss: 21.9063 - mae: 21.9063\n",
            "Epoch 2/100\n",
            "2/2 [==============================] - 0s 5ms/step - loss: 9.6145 - mae: 9.6145\n",
            "Epoch 3/100\n",
            "2/2 [==============================] - 0s 5ms/step - loss: 11.2363 - mae: 11.2363\n",
            "Epoch 4/100\n",
            "2/2 [==============================] - 0s 6ms/step - loss: 11.0251 - mae: 11.0251\n",
            "Epoch 5/100\n",
            "2/2 [==============================] - 0s 4ms/step - loss: 11.5269 - mae: 11.5269\n",
            "Epoch 6/100\n",
            "2/2 [==============================] - 0s 4ms/step - loss: 9.2410 - mae: 9.2410\n",
            "Epoch 7/100\n",
            "2/2 [==============================] - 0s 3ms/step - loss: 6.2838 - mae: 6.2838\n",
            "Epoch 8/100\n",
            "2/2 [==============================] - 0s 7ms/step - loss: 5.8323 - mae: 5.8323\n",
            "Epoch 9/100\n",
            "2/2 [==============================] - 0s 15ms/step - loss: 11.0570 - mae: 11.0570\n",
            "Epoch 10/100\n",
            "2/2 [==============================] - 0s 4ms/step - loss: 13.7661 - mae: 13.7661\n",
            "Epoch 11/100\n",
            "2/2 [==============================] - 0s 4ms/step - loss: 10.1201 - mae: 10.1201\n",
            "Epoch 12/100\n",
            "2/2 [==============================] - 0s 5ms/step - loss: 13.1671 - mae: 13.1671\n",
            "Epoch 13/100\n",
            "2/2 [==============================] - 0s 5ms/step - loss: 14.6091 - mae: 14.6091\n",
            "Epoch 14/100\n",
            "2/2 [==============================] - 0s 5ms/step - loss: 18.8852 - mae: 18.8852\n",
            "Epoch 15/100\n",
            "2/2 [==============================] - 0s 5ms/step - loss: 13.9428 - mae: 13.9428\n",
            "Epoch 16/100\n",
            "2/2 [==============================] - 0s 5ms/step - loss: 12.0936 - mae: 12.0936\n",
            "Epoch 17/100\n",
            "2/2 [==============================] - 0s 5ms/step - loss: 12.8411 - mae: 12.8411\n",
            "Epoch 18/100\n",
            "2/2 [==============================] - 0s 5ms/step - loss: 14.7256 - mae: 14.7256\n",
            "Epoch 19/100\n",
            "2/2 [==============================] - 0s 4ms/step - loss: 16.1397 - mae: 16.1397\n",
            "Epoch 20/100\n",
            "2/2 [==============================] - 0s 4ms/step - loss: 12.9772 - mae: 12.9772\n",
            "Epoch 21/100\n",
            "2/2 [==============================] - 0s 6ms/step - loss: 13.3641 - mae: 13.3641\n",
            "Epoch 22/100\n",
            "2/2 [==============================] - 0s 8ms/step - loss: 16.3853 - mae: 16.3853\n",
            "Epoch 23/100\n",
            "2/2 [==============================] - 0s 4ms/step - loss: 12.3439 - mae: 12.3439\n",
            "Epoch 24/100\n",
            "2/2 [==============================] - 0s 11ms/step - loss: 9.0380 - mae: 9.0380\n",
            "Epoch 25/100\n",
            "2/2 [==============================] - 0s 5ms/step - loss: 9.8908 - mae: 9.8908\n",
            "Epoch 26/100\n",
            "2/2 [==============================] - 0s 4ms/step - loss: 12.8621 - mae: 12.8621\n",
            "Epoch 27/100\n",
            "2/2 [==============================] - 0s 4ms/step - loss: 12.4493 - mae: 12.4493\n",
            "Epoch 28/100\n",
            "2/2 [==============================] - 0s 4ms/step - loss: 18.6262 - mae: 18.6262\n",
            "Epoch 29/100\n",
            "2/2 [==============================] - 0s 3ms/step - loss: 10.5992 - mae: 10.5992\n",
            "Epoch 30/100\n",
            "2/2 [==============================] - 0s 4ms/step - loss: 19.9984 - mae: 19.9984\n",
            "Epoch 31/100\n",
            "2/2 [==============================] - 0s 4ms/step - loss: 17.7650 - mae: 17.7650\n",
            "Epoch 32/100\n",
            "2/2 [==============================] - 0s 4ms/step - loss: 12.7376 - mae: 12.7376\n",
            "Epoch 33/100\n",
            "2/2 [==============================] - 0s 4ms/step - loss: 12.5051 - mae: 12.5051\n",
            "Epoch 34/100\n",
            "2/2 [==============================] - 0s 4ms/step - loss: 13.3037 - mae: 13.3037\n",
            "Epoch 35/100\n",
            "2/2 [==============================] - 0s 4ms/step - loss: 9.8207 - mae: 9.8207\n",
            "Epoch 36/100\n",
            "2/2 [==============================] - 0s 4ms/step - loss: 11.8115 - mae: 11.8115\n",
            "Epoch 37/100\n",
            "2/2 [==============================] - 0s 4ms/step - loss: 7.3728 - mae: 7.3728\n",
            "Epoch 38/100\n",
            "2/2 [==============================] - 0s 4ms/step - loss: 7.0510 - mae: 7.0510\n",
            "Epoch 39/100\n",
            "2/2 [==============================] - 0s 4ms/step - loss: 6.8952 - mae: 6.8952\n",
            "Epoch 40/100\n",
            "2/2 [==============================] - 0s 3ms/step - loss: 6.8483 - mae: 6.8483\n",
            "Epoch 41/100\n",
            "2/2 [==============================] - 0s 5ms/step - loss: 5.8561 - mae: 5.8561\n",
            "Epoch 42/100\n",
            "2/2 [==============================] - 0s 4ms/step - loss: 4.5696 - mae: 4.5696\n",
            "Epoch 43/100\n",
            "2/2 [==============================] - 0s 5ms/step - loss: 6.2923 - mae: 6.2923\n",
            "Epoch 44/100\n",
            "2/2 [==============================] - 0s 5ms/step - loss: 10.5189 - mae: 10.5189\n",
            "Epoch 45/100\n",
            "2/2 [==============================] - 0s 9ms/step - loss: 10.3564 - mae: 10.3564\n",
            "Epoch 46/100\n",
            "2/2 [==============================] - 0s 5ms/step - loss: 10.7026 - mae: 10.7026\n",
            "Epoch 47/100\n",
            "2/2 [==============================] - 0s 5ms/step - loss: 3.4731 - mae: 3.4731\n",
            "Epoch 48/100\n",
            "2/2 [==============================] - 0s 9ms/step - loss: 4.9463 - mae: 4.9463\n",
            "Epoch 49/100\n",
            "2/2 [==============================] - 0s 16ms/step - loss: 4.6983 - mae: 4.6983\n",
            "Epoch 50/100\n",
            "2/2 [==============================] - 0s 5ms/step - loss: 3.7566 - mae: 3.7566\n",
            "Epoch 51/100\n",
            "2/2 [==============================] - 0s 4ms/step - loss: 6.0467 - mae: 6.0467\n",
            "Epoch 52/100\n",
            "2/2 [==============================] - 0s 5ms/step - loss: 10.6761 - mae: 10.6761\n",
            "Epoch 53/100\n",
            "2/2 [==============================] - 0s 4ms/step - loss: 11.0708 - mae: 11.0708\n",
            "Epoch 54/100\n",
            "2/2 [==============================] - 0s 12ms/step - loss: 19.8613 - mae: 19.8613\n",
            "Epoch 55/100\n",
            "2/2 [==============================] - 0s 5ms/step - loss: 14.4770 - mae: 14.4770\n",
            "Epoch 56/100\n",
            "2/2 [==============================] - 0s 6ms/step - loss: 13.0123 - mae: 13.0123\n",
            "Epoch 57/100\n",
            "2/2 [==============================] - 0s 4ms/step - loss: 13.6548 - mae: 13.6548\n",
            "Epoch 58/100\n",
            "2/2 [==============================] - 0s 5ms/step - loss: 10.4470 - mae: 10.4470\n",
            "Epoch 59/100\n",
            "2/2 [==============================] - 0s 4ms/step - loss: 8.7122 - mae: 8.7122\n",
            "Epoch 60/100\n",
            "2/2 [==============================] - 0s 5ms/step - loss: 6.8707 - mae: 6.8707\n",
            "Epoch 61/100\n",
            "2/2 [==============================] - 0s 5ms/step - loss: 6.5827 - mae: 6.5827\n",
            "Epoch 62/100\n",
            "2/2 [==============================] - 0s 4ms/step - loss: 6.8268 - mae: 6.8268\n",
            "Epoch 63/100\n",
            "2/2 [==============================] - 0s 15ms/step - loss: 5.7417 - mae: 5.7417\n",
            "Epoch 64/100\n",
            "2/2 [==============================] - 0s 10ms/step - loss: 5.6646 - mae: 5.6646\n",
            "Epoch 65/100\n",
            "2/2 [==============================] - 0s 13ms/step - loss: 6.3124 - mae: 6.3124\n",
            "Epoch 66/100\n",
            "2/2 [==============================] - 0s 23ms/step - loss: 7.2276 - mae: 7.2276\n",
            "Epoch 67/100\n",
            "2/2 [==============================] - 0s 4ms/step - loss: 7.8522 - mae: 7.8522\n",
            "Epoch 68/100\n",
            "2/2 [==============================] - 0s 8ms/step - loss: 7.2045 - mae: 7.2045\n",
            "Epoch 69/100\n",
            "2/2 [==============================] - 0s 6ms/step - loss: 6.8738 - mae: 6.8738\n",
            "Epoch 70/100\n",
            "2/2 [==============================] - 0s 11ms/step - loss: 3.8854 - mae: 3.8854\n",
            "Epoch 71/100\n",
            "2/2 [==============================] - 0s 9ms/step - loss: 4.1737 - mae: 4.1737\n",
            "Epoch 72/100\n",
            "2/2 [==============================] - 0s 8ms/step - loss: 4.1938 - mae: 4.1938\n",
            "Epoch 73/100\n",
            "2/2 [==============================] - 0s 6ms/step - loss: 4.6253 - mae: 4.6253\n",
            "Epoch 74/100\n",
            "2/2 [==============================] - 0s 5ms/step - loss: 9.2059 - mae: 9.2059\n",
            "Epoch 75/100\n",
            "2/2 [==============================] - 0s 3ms/step - loss: 7.5209 - mae: 7.5209\n",
            "Epoch 76/100\n",
            "2/2 [==============================] - 0s 6ms/step - loss: 8.5959 - mae: 8.5959\n",
            "Epoch 77/100\n",
            "2/2 [==============================] - 0s 4ms/step - loss: 9.5765 - mae: 9.5765\n",
            "Epoch 78/100\n",
            "2/2 [==============================] - 0s 3ms/step - loss: 9.4918 - mae: 9.4918\n",
            "Epoch 79/100\n",
            "2/2 [==============================] - 0s 6ms/step - loss: 11.9692 - mae: 11.9692\n",
            "Epoch 80/100\n",
            "2/2 [==============================] - 0s 8ms/step - loss: 21.9089 - mae: 21.9089\n",
            "Epoch 81/100\n",
            "2/2 [==============================] - 0s 7ms/step - loss: 11.5860 - mae: 11.5860\n",
            "Epoch 82/100\n",
            "2/2 [==============================] - 0s 4ms/step - loss: 4.6937 - mae: 4.6937\n",
            "Epoch 83/100\n",
            "2/2 [==============================] - 0s 9ms/step - loss: 3.6994 - mae: 3.6994\n",
            "Epoch 84/100\n",
            "2/2 [==============================] - 0s 5ms/step - loss: 7.8298 - mae: 7.8298\n",
            "Epoch 85/100\n",
            "2/2 [==============================] - 0s 11ms/step - loss: 11.7777 - mae: 11.7777\n",
            "Epoch 86/100\n",
            "2/2 [==============================] - 0s 7ms/step - loss: 13.4549 - mae: 13.4549\n",
            "Epoch 87/100\n",
            "2/2 [==============================] - 0s 8ms/step - loss: 14.0445 - mae: 14.0445\n",
            "Epoch 88/100\n",
            "2/2 [==============================] - 0s 4ms/step - loss: 18.4371 - mae: 18.4371\n",
            "Epoch 89/100\n",
            "2/2 [==============================] - 0s 6ms/step - loss: 11.5538 - mae: 11.5538\n",
            "Epoch 90/100\n",
            "2/2 [==============================] - 0s 7ms/step - loss: 14.1836 - mae: 14.1836\n",
            "Epoch 91/100\n",
            "2/2 [==============================] - 0s 8ms/step - loss: 12.9004 - mae: 12.9004\n",
            "Epoch 92/100\n",
            "2/2 [==============================] - 0s 9ms/step - loss: 18.1822 - mae: 18.1822\n",
            "Epoch 93/100\n",
            "2/2 [==============================] - 0s 12ms/step - loss: 12.2425 - mae: 12.2425\n",
            "Epoch 94/100\n",
            "2/2 [==============================] - 0s 4ms/step - loss: 11.3218 - mae: 11.3218\n",
            "Epoch 95/100\n",
            "2/2 [==============================] - 0s 8ms/step - loss: 13.7311 - mae: 13.7311\n",
            "Epoch 96/100\n",
            "2/2 [==============================] - 0s 8ms/step - loss: 11.7991 - mae: 11.7991\n",
            "Epoch 97/100\n",
            "2/2 [==============================] - 0s 5ms/step - loss: 15.1191 - mae: 15.1191\n",
            "Epoch 98/100\n",
            "2/2 [==============================] - 0s 4ms/step - loss: 12.8646 - mae: 12.8646\n",
            "Epoch 99/100\n",
            "2/2 [==============================] - 0s 3ms/step - loss: 11.7012 - mae: 11.7012\n",
            "Epoch 100/100\n",
            "2/2 [==============================] - 0s 6ms/step - loss: 16.0091 - mae: 16.0091\n"
          ]
        },
        {
          "output_type": "execute_result",
          "data": {
            "text/plain": [
              "<keras.callbacks.History at 0x7eff0c8526d0>"
            ]
          },
          "metadata": {},
          "execution_count": 26
        }
      ]
    },
    {
      "cell_type": "code",
      "metadata": {
        "colab": {
          "base_uri": "https://localhost:8080/"
        },
        "id": "L0B4e4RDzGai",
        "outputId": "203a1d7c-1bdc-45c8-c527-e59ad703eae9"
      },
      "source": [
        "model.summary()"
      ],
      "execution_count": 27,
      "outputs": [
        {
          "output_type": "stream",
          "name": "stdout",
          "text": [
            "Model: \"sequential_4\"\n",
            "_________________________________________________________________\n",
            "Layer (type)                 Output Shape              Param #   \n",
            "=================================================================\n",
            "dense_7 (Dense)              (None, 1)                 2         \n",
            "=================================================================\n",
            "Total params: 2\n",
            "Trainable params: 2\n",
            "Non-trainable params: 0\n",
            "_________________________________________________________________\n"
          ]
        }
      ]
    },
    {
      "cell_type": "code",
      "metadata": {
        "colab": {
          "base_uri": "https://localhost:8080/"
        },
        "id": "vCQfikQ_zGWI",
        "outputId": "35aafbae-c7ae-43a1-da63-e017e841e9f7"
      },
      "source": [
        "tf.random.set_seed(42)\n",
        "\n",
        "model = tf.keras.Sequential([\n",
        "                             tf.keras.layers.Dense(1, input_shape=[1])\n",
        "])\n",
        "\n",
        "# 2. Compile the model\n",
        "model.compile(loss= tf.keras.losses.mae,\n",
        "              optimizer = tf.keras.optimizers.SGD(),\n",
        "              metrics = ['mae'])\n",
        "\n",
        "# 3. Fit the model\n",
        "model.fit(X_train, y_train, epochs = 100)"
      ],
      "execution_count": 28,
      "outputs": [
        {
          "output_type": "stream",
          "name": "stdout",
          "text": [
            "Epoch 1/100\n",
            "2/2 [==============================] - 0s 6ms/step - loss: 15.3155 - mae: 15.3155\n",
            "Epoch 2/100\n",
            "2/2 [==============================] - 0s 7ms/step - loss: 12.7969 - mae: 12.7969\n",
            "Epoch 3/100\n",
            "2/2 [==============================] - 0s 6ms/step - loss: 14.6829 - mae: 14.6829\n",
            "Epoch 4/100\n",
            "2/2 [==============================] - 0s 10ms/step - loss: 14.4182 - mae: 14.4182\n",
            "Epoch 5/100\n",
            "2/2 [==============================] - 0s 5ms/step - loss: 15.2908 - mae: 15.2908\n",
            "Epoch 6/100\n",
            "2/2 [==============================] - 0s 6ms/step - loss: 13.1122 - mae: 13.1122\n",
            "Epoch 7/100\n",
            "2/2 [==============================] - 0s 7ms/step - loss: 9.8898 - mae: 9.8898\n",
            "Epoch 8/100\n",
            "2/2 [==============================] - 0s 9ms/step - loss: 8.2459 - mae: 8.2459\n",
            "Epoch 9/100\n",
            "2/2 [==============================] - 0s 6ms/step - loss: 14.4503 - mae: 14.4503\n",
            "Epoch 10/100\n",
            "2/2 [==============================] - 0s 6ms/step - loss: 17.1168 - mae: 17.1168\n",
            "Epoch 11/100\n",
            "2/2 [==============================] - 0s 7ms/step - loss: 11.4971 - mae: 11.4971\n",
            "Epoch 12/100\n",
            "2/2 [==============================] - 0s 7ms/step - loss: 15.2337 - mae: 15.2337\n",
            "Epoch 13/100\n",
            "2/2 [==============================] - 0s 11ms/step - loss: 14.7261 - mae: 14.7261\n",
            "Epoch 14/100\n",
            "2/2 [==============================] - 0s 7ms/step - loss: 18.7682 - mae: 18.7682\n",
            "Epoch 15/100\n",
            "2/2 [==============================] - 0s 8ms/step - loss: 14.0174 - mae: 14.0174\n",
            "Epoch 16/100\n",
            "2/2 [==============================] - 0s 4ms/step - loss: 12.1606 - mae: 12.1606\n",
            "Epoch 17/100\n",
            "2/2 [==============================] - 0s 4ms/step - loss: 12.9058 - mae: 12.9058\n",
            "Epoch 18/100\n",
            "2/2 [==============================] - 0s 6ms/step - loss: 14.8427 - mae: 14.8427\n",
            "Epoch 19/100\n",
            "2/2 [==============================] - 0s 4ms/step - loss: 16.0227 - mae: 16.0227\n",
            "Epoch 20/100\n",
            "2/2 [==============================] - 0s 4ms/step - loss: 13.0452 - mae: 13.0452\n",
            "Epoch 21/100\n",
            "2/2 [==============================] - 0s 12ms/step - loss: 13.4295 - mae: 13.4295\n",
            "Epoch 22/100\n",
            "2/2 [==============================] - 0s 7ms/step - loss: 16.4670 - mae: 16.4670\n",
            "Epoch 23/100\n",
            "2/2 [==============================] - 0s 5ms/step - loss: 12.4233 - mae: 12.4233\n",
            "Epoch 24/100\n",
            "2/2 [==============================] - 0s 5ms/step - loss: 9.1044 - mae: 9.1044\n",
            "Epoch 25/100\n",
            "2/2 [==============================] - 0s 4ms/step - loss: 9.9517 - mae: 9.9517\n",
            "Epoch 26/100\n",
            "2/2 [==============================] - 0s 9ms/step - loss: 12.9307 - mae: 12.9307\n",
            "Epoch 27/100\n",
            "2/2 [==============================] - 0s 6ms/step - loss: 12.5076 - mae: 12.5076\n",
            "Epoch 28/100\n",
            "2/2 [==============================] - 0s 7ms/step - loss: 18.7432 - mae: 18.7432\n",
            "Epoch 29/100\n",
            "2/2 [==============================] - 0s 7ms/step - loss: 10.5514 - mae: 10.5514\n",
            "Epoch 30/100\n",
            "2/2 [==============================] - 0s 6ms/step - loss: 19.8814 - mae: 19.8814\n",
            "Epoch 31/100\n",
            "2/2 [==============================] - 0s 4ms/step - loss: 17.8820 - mae: 17.8820\n",
            "Epoch 32/100\n",
            "2/2 [==============================] - 0s 4ms/step - loss: 12.6668 - mae: 12.6668\n",
            "Epoch 33/100\n",
            "2/2 [==============================] - 0s 5ms/step - loss: 12.4355 - mae: 12.4355\n",
            "Epoch 34/100\n",
            "2/2 [==============================] - 0s 4ms/step - loss: 13.2242 - mae: 13.2242\n",
            "Epoch 35/100\n",
            "2/2 [==============================] - 0s 6ms/step - loss: 9.7548 - mae: 9.7548\n",
            "Epoch 36/100\n",
            "2/2 [==============================] - 0s 4ms/step - loss: 11.7282 - mae: 11.7282\n",
            "Epoch 37/100\n",
            "2/2 [==============================] - 0s 10ms/step - loss: 7.3015 - mae: 7.3015\n",
            "Epoch 38/100\n",
            "2/2 [==============================] - 0s 8ms/step - loss: 6.9802 - mae: 6.9802\n",
            "Epoch 39/100\n",
            "2/2 [==============================] - 0s 7ms/step - loss: 6.8250 - mae: 6.8250\n",
            "Epoch 40/100\n",
            "2/2 [==============================] - 0s 6ms/step - loss: 6.7748 - mae: 6.7748\n",
            "Epoch 41/100\n",
            "2/2 [==============================] - 0s 9ms/step - loss: 5.7832 - mae: 5.7832\n",
            "Epoch 42/100\n",
            "2/2 [==============================] - 0s 8ms/step - loss: 4.4869 - mae: 4.4869\n",
            "Epoch 43/100\n",
            "2/2 [==============================] - 0s 7ms/step - loss: 6.3473 - mae: 6.3473\n",
            "Epoch 44/100\n",
            "2/2 [==============================] - 0s 6ms/step - loss: 10.5897 - mae: 10.5897\n",
            "Epoch 45/100\n",
            "2/2 [==============================] - 0s 5ms/step - loss: 10.4272 - mae: 10.4272\n",
            "Epoch 46/100\n",
            "2/2 [==============================] - 0s 4ms/step - loss: 10.7951 - mae: 10.7951\n",
            "Epoch 47/100\n",
            "2/2 [==============================] - 0s 7ms/step - loss: 3.3969 - mae: 3.3969\n",
            "Epoch 48/100\n",
            "2/2 [==============================] - 0s 7ms/step - loss: 5.0263 - mae: 5.0263\n",
            "Epoch 49/100\n",
            "2/2 [==============================] - 0s 8ms/step - loss: 4.6221 - mae: 4.6221\n",
            "Epoch 50/100\n",
            "2/2 [==============================] - 0s 4ms/step - loss: 3.8350 - mae: 3.8350\n",
            "Epoch 51/100\n",
            "2/2 [==============================] - 0s 5ms/step - loss: 5.9944 - mae: 5.9944\n",
            "Epoch 52/100\n",
            "2/2 [==============================] - 0s 14ms/step - loss: 10.6114 - mae: 10.6114\n",
            "Epoch 53/100\n",
            "2/2 [==============================] - 0s 7ms/step - loss: 11.0202 - mae: 11.0202\n",
            "Epoch 54/100\n",
            "2/2 [==============================] - 0s 8ms/step - loss: 19.7443 - mae: 19.7443\n",
            "Epoch 55/100\n",
            "2/2 [==============================] - 0s 6ms/step - loss: 14.5510 - mae: 14.5510\n",
            "Epoch 56/100\n",
            "2/2 [==============================] - 0s 5ms/step - loss: 13.0825 - mae: 13.0825\n",
            "Epoch 57/100\n",
            "2/2 [==============================] - 0s 4ms/step - loss: 13.7343 - mae: 13.7343\n",
            "Epoch 58/100\n",
            "2/2 [==============================] - 0s 5ms/step - loss: 10.5227 - mae: 10.5227\n",
            "Epoch 59/100\n",
            "2/2 [==============================] - 0s 9ms/step - loss: 8.7884 - mae: 8.7884\n",
            "Epoch 60/100\n",
            "2/2 [==============================] - 0s 8ms/step - loss: 6.9420 - mae: 6.9420\n",
            "Epoch 61/100\n",
            "2/2 [==============================] - 0s 8ms/step - loss: 6.6518 - mae: 6.6518\n",
            "Epoch 62/100\n",
            "2/2 [==============================] - 0s 6ms/step - loss: 6.9008 - mae: 6.9008\n",
            "Epoch 63/100\n",
            "2/2 [==============================] - 0s 4ms/step - loss: 5.8125 - mae: 5.8125\n",
            "Epoch 64/100\n",
            "2/2 [==============================] - 0s 4ms/step - loss: 5.7326 - mae: 5.7326\n",
            "Epoch 65/100\n",
            "2/2 [==============================] - 0s 5ms/step - loss: 6.3793 - mae: 6.3793\n",
            "Epoch 66/100\n",
            "2/2 [==============================] - 0s 8ms/step - loss: 7.2956 - mae: 7.2956\n",
            "Epoch 67/100\n",
            "2/2 [==============================] - 0s 13ms/step - loss: 7.9246 - mae: 7.9246\n",
            "Epoch 68/100\n",
            "2/2 [==============================] - 0s 5ms/step - loss: 7.2752 - mae: 7.2752\n",
            "Epoch 69/100\n",
            "2/2 [==============================] - 0s 9ms/step - loss: 6.9549 - mae: 6.9549\n",
            "Epoch 70/100\n",
            "2/2 [==============================] - 0s 4ms/step - loss: 3.9545 - mae: 3.9545\n",
            "Epoch 71/100\n",
            "2/2 [==============================] - 0s 3ms/step - loss: 4.2434 - mae: 4.2434\n",
            "Epoch 72/100\n",
            "2/2 [==============================] - 0s 7ms/step - loss: 4.2661 - mae: 4.2661\n",
            "Epoch 73/100\n",
            "2/2 [==============================] - 0s 6ms/step - loss: 4.6201 - mae: 4.6201\n",
            "Epoch 74/100\n",
            "2/2 [==============================] - 0s 11ms/step - loss: 9.2015 - mae: 9.2015\n",
            "Epoch 75/100\n",
            "2/2 [==============================] - 0s 10ms/step - loss: 7.5169 - mae: 7.5169\n",
            "Epoch 76/100\n",
            "2/2 [==============================] - 0s 6ms/step - loss: 8.5921 - mae: 8.5921\n",
            "Epoch 77/100\n",
            "2/2 [==============================] - 0s 8ms/step - loss: 9.5735 - mae: 9.5735\n",
            "Epoch 78/100\n",
            "2/2 [==============================] - 0s 5ms/step - loss: 9.4898 - mae: 9.4898\n",
            "Epoch 79/100\n",
            "2/2 [==============================] - 0s 10ms/step - loss: 11.9665 - mae: 11.9665\n",
            "Epoch 80/100\n",
            "2/2 [==============================] - 0s 7ms/step - loss: 21.9023 - mae: 21.9023\n",
            "Epoch 81/100\n",
            "2/2 [==============================] - 0s 5ms/step - loss: 11.5912 - mae: 11.5912\n",
            "Epoch 82/100\n",
            "2/2 [==============================] - 0s 10ms/step - loss: 4.6893 - mae: 4.6893\n",
            "Epoch 83/100\n",
            "2/2 [==============================] - 0s 4ms/step - loss: 3.7038 - mae: 3.7038\n",
            "Epoch 84/100\n",
            "2/2 [==============================] - 0s 7ms/step - loss: 7.8265 - mae: 7.8265\n",
            "Epoch 85/100\n",
            "2/2 [==============================] - 0s 5ms/step - loss: 11.7742 - mae: 11.7742\n",
            "Epoch 86/100\n",
            "2/2 [==============================] - 0s 4ms/step - loss: 13.4519 - mae: 13.4519\n",
            "Epoch 87/100\n",
            "2/2 [==============================] - 0s 5ms/step - loss: 14.0389 - mae: 14.0389\n",
            "Epoch 88/100\n",
            "2/2 [==============================] - 0s 5ms/step - loss: 18.4419 - mae: 18.4419\n",
            "Epoch 89/100\n",
            "2/2 [==============================] - 0s 7ms/step - loss: 11.5511 - mae: 11.5511\n",
            "Epoch 90/100\n",
            "2/2 [==============================] - 0s 7ms/step - loss: 14.1805 - mae: 14.1805\n",
            "Epoch 91/100\n",
            "2/2 [==============================] - 0s 8ms/step - loss: 12.8976 - mae: 12.8976\n",
            "Epoch 92/100\n",
            "2/2 [==============================] - 0s 5ms/step - loss: 18.1774 - mae: 18.1774\n",
            "Epoch 93/100\n",
            "2/2 [==============================] - 0s 4ms/step - loss: 12.2454 - mae: 12.2454\n",
            "Epoch 94/100\n",
            "2/2 [==============================] - 0s 4ms/step - loss: 11.3246 - mae: 11.3246\n",
            "Epoch 95/100\n",
            "2/2 [==============================] - 0s 14ms/step - loss: 13.7342 - mae: 13.7342\n",
            "Epoch 96/100\n",
            "2/2 [==============================] - 0s 5ms/step - loss: 11.8020 - mae: 11.8020\n",
            "Epoch 97/100\n",
            "2/2 [==============================] - 0s 6ms/step - loss: 15.1223 - mae: 15.1223\n",
            "Epoch 98/100\n",
            "2/2 [==============================] - 0s 7ms/step - loss: 12.8678 - mae: 12.8678\n",
            "Epoch 99/100\n",
            "2/2 [==============================] - 0s 10ms/step - loss: 11.7037 - mae: 11.7037\n",
            "Epoch 100/100\n",
            "2/2 [==============================] - 0s 5ms/step - loss: 16.0139 - mae: 16.0139\n"
          ]
        },
        {
          "output_type": "execute_result",
          "data": {
            "text/plain": [
              "<keras.callbacks.History at 0x7eff0d2857d0>"
            ]
          },
          "metadata": {},
          "execution_count": 28
        }
      ]
    },
    {
      "cell_type": "code",
      "metadata": {
        "colab": {
          "base_uri": "https://localhost:8080/"
        },
        "id": "tTboHHaq2Nxt",
        "outputId": "3cd48156-ec0d-4d1e-ba02-4dfb4bfe54f4"
      },
      "source": [
        "model.summary()"
      ],
      "execution_count": 29,
      "outputs": [
        {
          "output_type": "stream",
          "name": "stdout",
          "text": [
            "Model: \"sequential_5\"\n",
            "_________________________________________________________________\n",
            "Layer (type)                 Output Shape              Param #   \n",
            "=================================================================\n",
            "dense_8 (Dense)              (None, 1)                 2         \n",
            "=================================================================\n",
            "Total params: 2\n",
            "Trainable params: 2\n",
            "Non-trainable params: 0\n",
            "_________________________________________________________________\n"
          ]
        }
      ]
    },
    {
      "cell_type": "markdown",
      "metadata": {
        "id": "K2gUx0Tf2Nmx"
      },
      "source": [
        "* Total Params - Total number of parameters in the network\n",
        "* Trainable parameters - These are the parameters (patterns)\n",
        "* Non-trainbale parameters - These are the parameters that are updated during training"
      ]
    },
    {
      "cell_type": "code",
      "metadata": {
        "colab": {
          "base_uri": "https://localhost:8080/"
        },
        "id": "v-n6s7w92Nia",
        "outputId": "3f78793a-c671-41de-af1a-1d77af7f140e"
      },
      "source": [
        "# 1. Create a model\n",
        "\n",
        "model = tf.keras.Sequential([\n",
        "                             tf.keras.layers.Dense(10, input_shape= [1], name=\"input_layer\"),\n",
        "                             tf.keras.layers.Dense(1, name=\"output_layer\")\n",
        "], name = \"First_Of_Many_Models\")\n",
        "\n",
        "#2. Compile the model\n",
        "model.compile(loss=tf.keras.losses.mae,\n",
        "              optimizer= tf.keras.optimizers.SGD(),\n",
        "              metrics=['mae'])\n",
        "\n",
        "#3. Fit the model\n",
        "model.fit(X_train, y_train, epochs=100)"
      ],
      "execution_count": 30,
      "outputs": [
        {
          "output_type": "stream",
          "name": "stdout",
          "text": [
            "Epoch 1/100\n",
            "2/2 [==============================] - 0s 5ms/step - loss: 75.1313 - mae: 75.1313\n",
            "Epoch 2/100\n",
            "2/2 [==============================] - 0s 6ms/step - loss: 18.2270 - mae: 18.2270\n",
            "Epoch 3/100\n",
            "2/2 [==============================] - 0s 3ms/step - loss: 10.3736 - mae: 10.3736\n",
            "Epoch 4/100\n",
            "2/2 [==============================] - 0s 4ms/step - loss: 15.3398 - mae: 15.3398\n",
            "Epoch 5/100\n",
            "2/2 [==============================] - 0s 4ms/step - loss: 20.1786 - mae: 20.1786\n",
            "Epoch 6/100\n",
            "2/2 [==============================] - 0s 5ms/step - loss: 33.9672 - mae: 33.9672\n",
            "Epoch 7/100\n",
            "2/2 [==============================] - 0s 6ms/step - loss: 5.7561 - mae: 5.7561\n",
            "Epoch 8/100\n",
            "2/2 [==============================] - 0s 3ms/step - loss: 14.0040 - mae: 14.0040\n",
            "Epoch 9/100\n",
            "2/2 [==============================] - 0s 8ms/step - loss: 34.0812 - mae: 34.0812\n",
            "Epoch 10/100\n",
            "2/2 [==============================] - 0s 4ms/step - loss: 12.8768 - mae: 12.8768\n",
            "Epoch 11/100\n",
            "2/2 [==============================] - 0s 4ms/step - loss: 14.1050 - mae: 14.1050\n",
            "Epoch 12/100\n",
            "2/2 [==============================] - 0s 4ms/step - loss: 27.1763 - mae: 27.1763\n",
            "Epoch 13/100\n",
            "2/2 [==============================] - 0s 7ms/step - loss: 16.0395 - mae: 16.0395\n",
            "Epoch 14/100\n",
            "2/2 [==============================] - 0s 8ms/step - loss: 14.1556 - mae: 14.1556\n",
            "Epoch 15/100\n",
            "2/2 [==============================] - 0s 4ms/step - loss: 8.4229 - mae: 8.4229\n",
            "Epoch 16/100\n",
            "2/2 [==============================] - 0s 5ms/step - loss: 12.9153 - mae: 12.9153\n",
            "Epoch 17/100\n",
            "2/2 [==============================] - 0s 12ms/step - loss: 19.0742 - mae: 19.0742\n",
            "Epoch 18/100\n",
            "2/2 [==============================] - 0s 9ms/step - loss: 36.7199 - mae: 36.7199\n",
            "Epoch 19/100\n",
            "2/2 [==============================] - 0s 6ms/step - loss: 19.6626 - mae: 19.6626\n",
            "Epoch 20/100\n",
            "2/2 [==============================] - 0s 4ms/step - loss: 11.7813 - mae: 11.7813\n",
            "Epoch 21/100\n",
            "2/2 [==============================] - 0s 5ms/step - loss: 16.5746 - mae: 16.5746\n",
            "Epoch 22/100\n",
            "2/2 [==============================] - 0s 3ms/step - loss: 28.5937 - mae: 28.5937\n",
            "Epoch 23/100\n",
            "2/2 [==============================] - 0s 8ms/step - loss: 7.0739 - mae: 7.0739\n",
            "Epoch 24/100\n",
            "2/2 [==============================] - 0s 3ms/step - loss: 15.7330 - mae: 15.7330\n",
            "Epoch 25/100\n",
            "2/2 [==============================] - 0s 4ms/step - loss: 25.1473 - mae: 25.1473\n",
            "Epoch 26/100\n",
            "2/2 [==============================] - 0s 5ms/step - loss: 22.4829 - mae: 22.4829\n",
            "Epoch 27/100\n",
            "2/2 [==============================] - 0s 4ms/step - loss: 8.4037 - mae: 8.4037\n",
            "Epoch 28/100\n",
            "2/2 [==============================] - 0s 4ms/step - loss: 10.6527 - mae: 10.6527\n",
            "Epoch 29/100\n",
            "2/2 [==============================] - 0s 7ms/step - loss: 13.6736 - mae: 13.6736\n",
            "Epoch 30/100\n",
            "2/2 [==============================] - 0s 4ms/step - loss: 34.0778 - mae: 34.0778\n",
            "Epoch 31/100\n",
            "2/2 [==============================] - 0s 4ms/step - loss: 10.7563 - mae: 10.7563\n",
            "Epoch 32/100\n",
            "2/2 [==============================] - 0s 4ms/step - loss: 15.1697 - mae: 15.1697\n",
            "Epoch 33/100\n",
            "2/2 [==============================] - 0s 8ms/step - loss: 20.6428 - mae: 20.6428\n",
            "Epoch 34/100\n",
            "2/2 [==============================] - 0s 4ms/step - loss: 32.2033 - mae: 32.2033\n",
            "Epoch 35/100\n",
            "2/2 [==============================] - 0s 4ms/step - loss: 9.8018 - mae: 9.8018\n",
            "Epoch 36/100\n",
            "2/2 [==============================] - 0s 4ms/step - loss: 17.4624 - mae: 17.4624\n",
            "Epoch 37/100\n",
            "2/2 [==============================] - 0s 5ms/step - loss: 16.3845 - mae: 16.3845\n",
            "Epoch 38/100\n",
            "2/2 [==============================] - 0s 4ms/step - loss: 22.7432 - mae: 22.7432\n",
            "Epoch 39/100\n",
            "2/2 [==============================] - 0s 4ms/step - loss: 25.4835 - mae: 25.4835\n",
            "Epoch 40/100\n",
            "2/2 [==============================] - 0s 4ms/step - loss: 8.0040 - mae: 8.0040\n",
            "Epoch 41/100\n",
            "2/2 [==============================] - 0s 6ms/step - loss: 14.6270 - mae: 14.6270\n",
            "Epoch 42/100\n",
            "2/2 [==============================] - 0s 5ms/step - loss: 19.0199 - mae: 19.0199\n",
            "Epoch 43/100\n",
            "2/2 [==============================] - 0s 6ms/step - loss: 16.7733 - mae: 16.7733\n",
            "Epoch 44/100\n",
            "2/2 [==============================] - 0s 7ms/step - loss: 48.2352 - mae: 48.2352\n",
            "Epoch 45/100\n",
            "2/2 [==============================] - 0s 13ms/step - loss: 22.7692 - mae: 22.7692\n",
            "Epoch 46/100\n",
            "2/2 [==============================] - 0s 13ms/step - loss: 3.6166 - mae: 3.6166\n",
            "Epoch 47/100\n",
            "2/2 [==============================] - 0s 11ms/step - loss: 21.9570 - mae: 21.9570\n",
            "Epoch 48/100\n",
            "2/2 [==============================] - 0s 5ms/step - loss: 25.9841 - mae: 25.9841\n",
            "Epoch 49/100\n",
            "2/2 [==============================] - 0s 13ms/step - loss: 10.6659 - mae: 10.6659\n",
            "Epoch 50/100\n",
            "2/2 [==============================] - 0s 11ms/step - loss: 13.8776 - mae: 13.8776\n",
            "Epoch 51/100\n",
            "2/2 [==============================] - 0s 9ms/step - loss: 14.1383 - mae: 14.1383\n",
            "Epoch 52/100\n",
            "2/2 [==============================] - 0s 9ms/step - loss: 32.6495 - mae: 32.6495\n",
            "Epoch 53/100\n",
            "2/2 [==============================] - 0s 11ms/step - loss: 12.2146 - mae: 12.2146\n",
            "Epoch 54/100\n",
            "2/2 [==============================] - 0s 9ms/step - loss: 29.4093 - mae: 29.4093\n",
            "Epoch 55/100\n",
            "2/2 [==============================] - 0s 6ms/step - loss: 12.5767 - mae: 12.5767\n",
            "Epoch 56/100\n",
            "2/2 [==============================] - 0s 6ms/step - loss: 13.2174 - mae: 13.2174\n",
            "Epoch 57/100\n",
            "2/2 [==============================] - 0s 8ms/step - loss: 18.4735 - mae: 18.4735\n",
            "Epoch 58/100\n",
            "2/2 [==============================] - 0s 6ms/step - loss: 20.0022 - mae: 20.0022\n",
            "Epoch 59/100\n",
            "2/2 [==============================] - 0s 7ms/step - loss: 31.0116 - mae: 31.0116\n",
            "Epoch 60/100\n",
            "2/2 [==============================] - 0s 6ms/step - loss: 6.9833 - mae: 6.9833\n",
            "Epoch 61/100\n",
            "2/2 [==============================] - 0s 9ms/step - loss: 14.4005 - mae: 14.4005\n",
            "Epoch 62/100\n",
            "2/2 [==============================] - 0s 8ms/step - loss: 20.7716 - mae: 20.7716\n",
            "Epoch 63/100\n",
            "2/2 [==============================] - 0s 4ms/step - loss: 29.2105 - mae: 29.2105\n",
            "Epoch 64/100\n",
            "2/2 [==============================] - 0s 10ms/step - loss: 10.4500 - mae: 10.4500\n",
            "Epoch 65/100\n",
            "2/2 [==============================] - 0s 11ms/step - loss: 12.5373 - mae: 12.5373\n",
            "Epoch 66/100\n",
            "2/2 [==============================] - 0s 7ms/step - loss: 18.4916 - mae: 18.4916\n",
            "Epoch 67/100\n",
            "2/2 [==============================] - 0s 7ms/step - loss: 37.7718 - mae: 37.7718\n",
            "Epoch 68/100\n",
            "2/2 [==============================] - 0s 5ms/step - loss: 14.3081 - mae: 14.3081\n",
            "Epoch 69/100\n",
            "2/2 [==============================] - 0s 5ms/step - loss: 11.0792 - mae: 11.0792\n",
            "Epoch 70/100\n",
            "2/2 [==============================] - 0s 5ms/step - loss: 12.4871 - mae: 12.4871\n",
            "Epoch 71/100\n",
            "2/2 [==============================] - 0s 7ms/step - loss: 17.2055 - mae: 17.2055\n",
            "Epoch 72/100\n",
            "2/2 [==============================] - 0s 4ms/step - loss: 25.9221 - mae: 25.9221\n",
            "Epoch 73/100\n",
            "2/2 [==============================] - 0s 4ms/step - loss: 16.8338 - mae: 16.8338\n",
            "Epoch 74/100\n",
            "2/2 [==============================] - 0s 4ms/step - loss: 14.6352 - mae: 14.6352\n",
            "Epoch 75/100\n",
            "2/2 [==============================] - 0s 4ms/step - loss: 13.0521 - mae: 13.0521\n",
            "Epoch 76/100\n",
            "2/2 [==============================] - 0s 6ms/step - loss: 19.9470 - mae: 19.9470\n",
            "Epoch 77/100\n",
            "2/2 [==============================] - 0s 9ms/step - loss: 33.9536 - mae: 33.9536\n",
            "Epoch 78/100\n",
            "2/2 [==============================] - 0s 4ms/step - loss: 15.1087 - mae: 15.1087\n",
            "Epoch 79/100\n",
            "2/2 [==============================] - 0s 4ms/step - loss: 10.2155 - mae: 10.2155\n",
            "Epoch 80/100\n",
            "2/2 [==============================] - 0s 4ms/step - loss: 7.8160 - mae: 7.8160\n",
            "Epoch 81/100\n",
            "2/2 [==============================] - 0s 4ms/step - loss: 12.8961 - mae: 12.8961\n",
            "Epoch 82/100\n",
            "2/2 [==============================] - 0s 4ms/step - loss: 9.0630 - mae: 9.0630\n",
            "Epoch 83/100\n",
            "2/2 [==============================] - 0s 6ms/step - loss: 15.7835 - mae: 15.7835\n",
            "Epoch 84/100\n",
            "2/2 [==============================] - 0s 8ms/step - loss: 13.3541 - mae: 13.3541\n",
            "Epoch 85/100\n",
            "2/2 [==============================] - 0s 7ms/step - loss: 28.4630 - mae: 28.4630\n",
            "Epoch 86/100\n",
            "2/2 [==============================] - 0s 5ms/step - loss: 12.6558 - mae: 12.6558\n",
            "Epoch 87/100\n",
            "2/2 [==============================] - 0s 4ms/step - loss: 11.8894 - mae: 11.8894\n",
            "Epoch 88/100\n",
            "2/2 [==============================] - 0s 4ms/step - loss: 23.6693 - mae: 23.6693\n",
            "Epoch 89/100\n",
            "2/2 [==============================] - 0s 5ms/step - loss: 21.5238 - mae: 21.5238\n",
            "Epoch 90/100\n",
            "2/2 [==============================] - 0s 6ms/step - loss: 10.6999 - mae: 10.6999\n",
            "Epoch 91/100\n",
            "2/2 [==============================] - 0s 4ms/step - loss: 13.1618 - mae: 13.1618\n",
            "Epoch 92/100\n",
            "2/2 [==============================] - 0s 4ms/step - loss: 25.3629 - mae: 25.3629\n",
            "Epoch 93/100\n",
            "2/2 [==============================] - 0s 3ms/step - loss: 17.6006 - mae: 17.6006\n",
            "Epoch 94/100\n",
            "2/2 [==============================] - 0s 19ms/step - loss: 11.3778 - mae: 11.3778\n",
            "Epoch 95/100\n",
            "2/2 [==============================] - 0s 5ms/step - loss: 18.8407 - mae: 18.8407\n",
            "Epoch 96/100\n",
            "2/2 [==============================] - 0s 4ms/step - loss: 32.8556 - mae: 32.8556\n",
            "Epoch 97/100\n",
            "2/2 [==============================] - 0s 5ms/step - loss: 20.6948 - mae: 20.6948\n",
            "Epoch 98/100\n",
            "2/2 [==============================] - 0s 4ms/step - loss: 11.2685 - mae: 11.2685\n",
            "Epoch 99/100\n",
            "2/2 [==============================] - 0s 4ms/step - loss: 14.9824 - mae: 14.9824\n",
            "Epoch 100/100\n",
            "2/2 [==============================] - 0s 4ms/step - loss: 29.3738 - mae: 29.3738\n"
          ]
        },
        {
          "output_type": "execute_result",
          "data": {
            "text/plain": [
              "<keras.callbacks.History at 0x7eff0d1fd550>"
            ]
          },
          "metadata": {},
          "execution_count": 30
        }
      ]
    },
    {
      "cell_type": "code",
      "metadata": {
        "colab": {
          "base_uri": "https://localhost:8080/"
        },
        "id": "ScUQyFJD2NbD",
        "outputId": "343da066-8db8-4666-f5b5-e909f065a9e0"
      },
      "source": [
        "model.summary()"
      ],
      "execution_count": 31,
      "outputs": [
        {
          "output_type": "stream",
          "name": "stdout",
          "text": [
            "Model: \"First_Of_Many_Models\"\n",
            "_________________________________________________________________\n",
            "Layer (type)                 Output Shape              Param #   \n",
            "=================================================================\n",
            "input_layer (Dense)          (None, 10)                20        \n",
            "_________________________________________________________________\n",
            "output_layer (Dense)         (None, 1)                 11        \n",
            "=================================================================\n",
            "Total params: 31\n",
            "Trainable params: 31\n",
            "Non-trainable params: 0\n",
            "_________________________________________________________________\n"
          ]
        }
      ]
    },
    {
      "cell_type": "code",
      "metadata": {
        "colab": {
          "base_uri": "https://localhost:8080/",
          "height": 0
        },
        "id": "z44eVFREzGRd",
        "outputId": "7ce8c76b-d3f2-4be8-f361-c18802623949"
      },
      "source": [
        "from tensorflow.keras.utils import plot_model\n",
        "\n",
        "plot_model(model= model, show_shapes = True)"
      ],
      "execution_count": 32,
      "outputs": [
        {
          "output_type": "execute_result",
          "data": {
            "image/png": "[encoded data removed]",
            "text/plain": [
              "<IPython.core.display.Image object>"
            ]
          },
          "metadata": {},
          "execution_count": 32
        }
      ]
    },
    {
      "cell_type": "markdown",
      "metadata": {
        "id": "9k0IDaZ0wEy1"
      },
      "source": [
        "### Visualizing our model's predictions"
      ]
    },
    {
      "cell_type": "code",
      "metadata": {
        "colab": {
          "base_uri": "https://localhost:8080/"
        },
        "id": "QyZloPh7a6S6",
        "outputId": "bc65fad3-9480-4d87-edaf-13d8b4bfe32c"
      },
      "source": [
        " y_preds = model.predict(X_test)\n",
        " y_preds"
      ],
      "execution_count": 33,
      "outputs": [
        {
          "output_type": "execute_result",
          "data": {
            "text/plain": [
              "array([[ 80.15794 ],\n",
              "       [ 84.68225 ],\n",
              "       [ 89.206566],\n",
              "       [ 93.73089 ],\n",
              "       [ 98.255196],\n",
              "       [102.77952 ],\n",
              "       [107.30382 ],\n",
              "       [111.82815 ],\n",
              "       [116.352455],\n",
              "       [120.87678 ]], dtype=float32)"
            ]
          },
          "metadata": {},
          "execution_count": 33
        }
      ]
    },
    {
      "cell_type": "code",
      "metadata": {
        "colab": {
          "base_uri": "https://localhost:8080/"
        },
        "id": "nllgKTU7a6P_",
        "outputId": "0a13e4b4-9eb6-4e86-dd13-80dde6b5b770"
      },
      "source": [
        "y_test"
      ],
      "execution_count": 34,
      "outputs": [
        {
          "output_type": "execute_result",
          "data": {
            "text/plain": [
              "<tf.Tensor: shape=(10,), dtype=int32, numpy=array([ 71,  75,  79,  83,  87,  91,  95,  99, 103, 107], dtype=int32)>"
            ]
          },
          "metadata": {},
          "execution_count": 34
        }
      ]
    },
    {
      "cell_type": "code",
      "metadata": {
        "id": "GcUU4iHIa6MD"
      },
      "source": [
        "def plot_predictions(train_data = X_train,\n",
        "                     train_labels = y_train,\n",
        "                     test_data = X_test,\n",
        "                     test_labels = y_test,\n",
        "                     predictions = y_preds):\n",
        "  \n",
        "  plt.figure(figsize=(10, 7))\n",
        "  plt.scatter(train_data, train_labels, c='b', label=\"Training data\")\n",
        "  plt.scatter(test_data, test_labels, c = 'g', label = \"Testing data\")\n",
        "  plt.scatter(test_data, predictions, c='r', label = 'Predictions')\n",
        "  plt.legend();\n"
      ],
      "execution_count": 35,
      "outputs": []
    },
    {
      "cell_type": "code",
      "metadata": {
        "colab": {
          "base_uri": "https://localhost:8080/",
          "height": 0
        },
        "id": "j4MJCHMGa6G1",
        "outputId": "8fa3ab69-6b4e-4426-e304-e58843a57f0f"
      },
      "source": [
        "plot_predictions()"
      ],
      "execution_count": 36,
      "outputs": [
        {
          "output_type": "display_data",
          "data": {
            "image/png": "[encoded data removed]",
            "text/plain": [
              "<Figure size 720x504 with 1 Axes>"
            ]
          },
          "metadata": {
            "needs_background": "light"
          }
        }
      ]
    },
    {
      "cell_type": "markdown",
      "metadata": {
        "id": "gi_b9GUv8qpk"
      },
      "source": [
        "### Evaluating our model's prediction with evaluation metrics\n",
        "* MAE\n",
        "* MSE"
      ]
    },
    {
      "cell_type": "code",
      "metadata": {
        "colab": {
          "base_uri": "https://localhost:8080/"
        },
        "id": "Orbe1rLo8qmi",
        "outputId": "ac9e7150-7437-47a7-c774-6eb82562e3f6"
      },
      "source": [
        "model.evaluate(X_test, y_test)"
      ],
      "execution_count": 37,
      "outputs": [
        {
          "output_type": "stream",
          "name": "stdout",
          "text": [
            "1/1 [==============================] - 0s 131ms/step - loss: 11.5174 - mae: 11.5174\n"
          ]
        },
        {
          "output_type": "execute_result",
          "data": {
            "text/plain": [
              "[11.517356872558594, 11.517356872558594]"
            ]
          },
          "metadata": {},
          "execution_count": 37
        }
      ]
    },
    {
      "cell_type": "code",
      "metadata": {
        "colab": {
          "base_uri": "https://localhost:8080/"
        },
        "id": "jMfSUQyrAszO",
        "outputId": "bf33a93c-2414-4481-a783-edbf5f41b28e"
      },
      "source": [
        "# Calculate the mean absolute error\n",
        "\n",
        "mean_absolute_error = tf.metrics.mean_absolute_error(y_test, y_preds)\n",
        "mean_absolute_error"
      ],
      "execution_count": 38,
      "outputs": [
        {
          "output_type": "execute_result",
          "data": {
            "text/plain": [
              "<tf.Tensor: shape=(10,), dtype=float32, numpy=\n",
              "array([11.936823, 10.46355 , 10.      , 10.546178, 12.102078, 14.667711,\n",
              "       18.303818, 22.828148, 27.352453, 31.876776], dtype=float32)>"
            ]
          },
          "metadata": {},
          "execution_count": 38
        }
      ]
    },
    {
      "cell_type": "code",
      "metadata": {
        "colab": {
          "base_uri": "https://localhost:8080/"
        },
        "id": "ItRIOVUE8qjH",
        "outputId": "f9047759-aec5-4cec-cecd-b130e6f26cca"
      },
      "source": [
        "y_preds = tf.constant(y_preds)\n",
        "y_preds"
      ],
      "execution_count": 39,
      "outputs": [
        {
          "output_type": "execute_result",
          "data": {
            "text/plain": [
              "<tf.Tensor: shape=(10, 1), dtype=float32, numpy=\n",
              "array([[ 80.15794 ],\n",
              "       [ 84.68225 ],\n",
              "       [ 89.206566],\n",
              "       [ 93.73089 ],\n",
              "       [ 98.255196],\n",
              "       [102.77952 ],\n",
              "       [107.30382 ],\n",
              "       [111.82815 ],\n",
              "       [116.352455],\n",
              "       [120.87678 ]], dtype=float32)>"
            ]
          },
          "metadata": {},
          "execution_count": 39
        }
      ]
    },
    {
      "cell_type": "code",
      "metadata": {
        "colab": {
          "base_uri": "https://localhost:8080/"
        },
        "id": "qI4w4a1QDid4",
        "outputId": "c69beacd-a05d-409e-b4b4-e6464b4c9b96"
      },
      "source": [
        "tf.squeeze(y_preds)"
      ],
      "execution_count": 40,
      "outputs": [
        {
          "output_type": "execute_result",
          "data": {
            "text/plain": [
              "<tf.Tensor: shape=(10,), dtype=float32, numpy=\n",
              "array([ 80.15794 ,  84.68225 ,  89.206566,  93.73089 ,  98.255196,\n",
              "       102.77952 , 107.30382 , 111.82815 , 116.352455, 120.87678 ],\n",
              "      dtype=float32)>"
            ]
          },
          "metadata": {},
          "execution_count": 40
        }
      ]
    },
    {
      "cell_type": "code",
      "metadata": {
        "colab": {
          "base_uri": "https://localhost:8080/"
        },
        "id": "ePUjHaklC9ch",
        "outputId": "b9342631-469c-4add-d9b3-498d45786df2"
      },
      "source": [
        "y_test"
      ],
      "execution_count": 41,
      "outputs": [
        {
          "output_type": "execute_result",
          "data": {
            "text/plain": [
              "<tf.Tensor: shape=(10,), dtype=int32, numpy=array([ 71,  75,  79,  83,  87,  91,  95,  99, 103, 107], dtype=int32)>"
            ]
          },
          "metadata": {},
          "execution_count": 41
        }
      ]
    },
    {
      "cell_type": "code",
      "metadata": {
        "colab": {
          "base_uri": "https://localhost:8080/"
        },
        "id": "kNlaI7M9C84C",
        "outputId": "dbdf18bb-99ba-484f-da5c-d332b6209bf5"
      },
      "source": [
        "mean_absolute_error = tf.metrics.mean_absolute_error(y_test, tf.squeeze(y_preds))\n",
        "mean_absolute_error"
      ],
      "execution_count": 42,
      "outputs": [
        {
          "output_type": "execute_result",
          "data": {
            "text/plain": [
              "<tf.Tensor: shape=(), dtype=float32, numpy=11.517356>"
            ]
          },
          "metadata": {},
          "execution_count": 42
        }
      ]
    },
    {
      "cell_type": "code",
      "metadata": {
        "colab": {
          "base_uri": "https://localhost:8080/"
        },
        "id": "doUF-STUC8rF",
        "outputId": "c2bc0eec-c05e-4ec5-fb09-091324747eaf"
      },
      "source": [
        "mse = tf.metrics.mean_squared_error(y_test, tf.squeeze(y_preds))\n",
        "mse"
      ],
      "execution_count": 43,
      "outputs": [
        {
          "output_type": "execute_result",
          "data": {
            "text/plain": [
              "<tf.Tensor: shape=(), dtype=float32, numpy=134.91747>"
            ]
          },
          "metadata": {},
          "execution_count": 43
        }
      ]
    },
    {
      "cell_type": "code",
      "metadata": {
        "id": "SYTlGGpbC8mk"
      },
      "source": [
        "# Make some functions to use MAE and MSE\n",
        "def mae(y_true, y_pred):\n",
        "  return tf.metrics.mean_absolute_error(y_true= y_test, y_pred=tf.squeeze(y_pred))"
      ],
      "execution_count": 44,
      "outputs": []
    },
    {
      "cell_type": "code",
      "metadata": {
        "id": "ej8tez-6C8ij"
      },
      "source": [
        "# Make some functions to use MAE and MSE\n",
        "def mse(y_true, y_pred):\n",
        "  return tf.metrics.mean_squared_error(y_true= y_test, y_pred=tf.squeeze(y_pred))"
      ],
      "execution_count": 45,
      "outputs": []
    },
    {
      "cell_type": "markdown",
      "metadata": {
        "id": "KIxan-AVC8gG"
      },
      "source": [
        "## Running experiments to improve our model\n",
        "\n",
        "1. Get more data for your model to train on\n",
        "2. Make your model larger (using a complex model)\n",
        "3. Train the model for longer\n",
        "\n",
        "Modelling experiments:\n",
        "1. model_1 - same as original model\n",
        "2. model_2 - trained for 100 epochs\n",
        "3. model_3 - 2 layers, trained for 500 epochs"
      ]
    },
    {
      "cell_type": "code",
      "metadata": {
        "colab": {
          "base_uri": "https://localhost:8080/"
        },
        "id": "4Lg17G_w8qfq",
        "outputId": "79b509c8-0307-4b74-bb82-86a67011bc7a"
      },
      "source": [
        "# Set random seed\n",
        "tf.random.set_seed(42)\n",
        "\n",
        "model_1 = tf.keras.Sequential([\n",
        "                               tf.keras.layers.Dense(1)\n",
        "])\n",
        "\n",
        "model_1.compile(loss=tf.keras.losses.mae,\n",
        "                optimizer = tf.keras.optimizers.SGD(),\n",
        "                metrics = ['mae'])\n",
        "\n",
        "model.fit(X_train, y_train, epochs = 100)"
      ],
      "execution_count": 46,
      "outputs": [
        {
          "output_type": "stream",
          "name": "stdout",
          "text": [
            "Epoch 1/100\n",
            "2/2 [==============================] - 0s 7ms/step - loss: 9.5986 - mae: 9.5986\n",
            "Epoch 2/100\n",
            "2/2 [==============================] - 0s 4ms/step - loss: 14.3823 - mae: 14.3823\n",
            "Epoch 3/100\n",
            "2/2 [==============================] - 0s 8ms/step - loss: 23.6866 - mae: 23.6866\n",
            "Epoch 4/100\n",
            "2/2 [==============================] - 0s 9ms/step - loss: 23.0452 - mae: 23.0452\n",
            "Epoch 5/100\n",
            "2/2 [==============================] - 0s 5ms/step - loss: 6.3897 - mae: 6.3897\n",
            "Epoch 6/100\n",
            "2/2 [==============================] - 0s 7ms/step - loss: 16.3884 - mae: 16.3884\n",
            "Epoch 7/100\n",
            "2/2 [==============================] - 0s 3ms/step - loss: 17.1337 - mae: 17.1337\n",
            "Epoch 8/100\n",
            "2/2 [==============================] - 0s 7ms/step - loss: 20.9187 - mae: 20.9187\n",
            "Epoch 9/100\n",
            "2/2 [==============================] - 0s 5ms/step - loss: 37.5459 - mae: 37.5459\n",
            "Epoch 10/100\n",
            "2/2 [==============================] - 0s 9ms/step - loss: 22.9089 - mae: 22.9089\n",
            "Epoch 11/100\n",
            "2/2 [==============================] - 0s 10ms/step - loss: 12.0994 - mae: 12.0994\n",
            "Epoch 12/100\n",
            "2/2 [==============================] - 0s 6ms/step - loss: 23.1299 - mae: 23.1299\n",
            "Epoch 13/100\n",
            "2/2 [==============================] - 0s 14ms/step - loss: 24.9957 - mae: 24.9957\n",
            "Epoch 14/100\n",
            "2/2 [==============================] - 0s 9ms/step - loss: 23.4910 - mae: 23.4910\n",
            "Epoch 15/100\n",
            "2/2 [==============================] - 0s 4ms/step - loss: 13.5756 - mae: 13.5756\n",
            "Epoch 16/100\n",
            "2/2 [==============================] - 0s 8ms/step - loss: 13.0891 - mae: 13.0891\n",
            "Epoch 17/100\n",
            "2/2 [==============================] - 0s 4ms/step - loss: 19.4159 - mae: 19.4159\n",
            "Epoch 18/100\n",
            "2/2 [==============================] - 0s 4ms/step - loss: 35.7798 - mae: 35.7798\n",
            "Epoch 19/100\n",
            "2/2 [==============================] - 0s 11ms/step - loss: 18.9223 - mae: 18.9223\n",
            "Epoch 20/100\n",
            "2/2 [==============================] - 0s 4ms/step - loss: 11.9684 - mae: 11.9684\n",
            "Epoch 21/100\n",
            "2/2 [==============================] - 0s 4ms/step - loss: 16.6752 - mae: 16.6752\n",
            "Epoch 22/100\n",
            "2/2 [==============================] - 0s 5ms/step - loss: 28.7929 - mae: 28.7929\n",
            "Epoch 23/100\n",
            "2/2 [==============================] - 0s 4ms/step - loss: 6.5081 - mae: 6.5081\n",
            "Epoch 24/100\n",
            "2/2 [==============================] - 0s 5ms/step - loss: 15.8546 - mae: 15.8546\n",
            "Epoch 25/100\n",
            "2/2 [==============================] - 0s 5ms/step - loss: 25.4042 - mae: 25.4042\n",
            "Epoch 26/100\n",
            "2/2 [==============================] - 0s 5ms/step - loss: 21.7390 - mae: 21.7390\n",
            "Epoch 27/100\n",
            "2/2 [==============================] - 0s 5ms/step - loss: 7.9398 - mae: 7.9398\n",
            "Epoch 28/100\n",
            "2/2 [==============================] - 0s 4ms/step - loss: 10.8992 - mae: 10.8992\n",
            "Epoch 29/100\n",
            "2/2 [==============================] - 0s 5ms/step - loss: 13.7380 - mae: 13.7380\n",
            "Epoch 30/100\n",
            "2/2 [==============================] - 0s 7ms/step - loss: 34.1897 - mae: 34.1897\n",
            "Epoch 31/100\n",
            "2/2 [==============================] - 0s 5ms/step - loss: 10.9962 - mae: 10.9962\n",
            "Epoch 32/100\n",
            "2/2 [==============================] - 0s 4ms/step - loss: 15.3392 - mae: 15.3392\n",
            "Epoch 33/100\n",
            "2/2 [==============================] - 0s 5ms/step - loss: 20.9582 - mae: 20.9582\n",
            "Epoch 34/100\n",
            "2/2 [==============================] - 0s 5ms/step - loss: 31.2836 - mae: 31.2836\n",
            "Epoch 35/100\n",
            "2/2 [==============================] - 0s 5ms/step - loss: 10.0223 - mae: 10.0223\n",
            "Epoch 36/100\n",
            "2/2 [==============================] - 0s 5ms/step - loss: 17.6353 - mae: 17.6353\n",
            "Epoch 37/100\n",
            "2/2 [==============================] - 0s 6ms/step - loss: 16.5171 - mae: 16.5171\n",
            "Epoch 38/100\n",
            "2/2 [==============================] - 0s 5ms/step - loss: 23.0238 - mae: 23.0238\n",
            "Epoch 39/100\n",
            "2/2 [==============================] - 0s 4ms/step - loss: 24.7063 - mae: 24.7063\n",
            "Epoch 40/100\n",
            "2/2 [==============================] - 0s 5ms/step - loss: 7.4825 - mae: 7.4825\n",
            "Epoch 41/100\n",
            "2/2 [==============================] - 0s 5ms/step - loss: 14.7804 - mae: 14.7804\n",
            "Epoch 42/100\n",
            "2/2 [==============================] - 0s 5ms/step - loss: 19.1755 - mae: 19.1755\n",
            "Epoch 43/100\n",
            "2/2 [==============================] - 0s 5ms/step - loss: 17.1544 - mae: 17.1544\n",
            "Epoch 44/100\n",
            "2/2 [==============================] - 0s 6ms/step - loss: 47.0899 - mae: 47.0899\n",
            "Epoch 45/100\n",
            "2/2 [==============================] - 0s 4ms/step - loss: 22.0266 - mae: 22.0266\n",
            "Epoch 46/100\n",
            "2/2 [==============================] - 0s 5ms/step - loss: 5.1946 - mae: 5.1946\n",
            "Epoch 47/100\n",
            "2/2 [==============================] - 0s 5ms/step - loss: 13.8527 - mae: 13.8527\n",
            "Epoch 48/100\n",
            "2/2 [==============================] - 0s 5ms/step - loss: 13.2475 - mae: 13.2475\n",
            "Epoch 49/100\n",
            "2/2 [==============================] - 0s 5ms/step - loss: 14.5273 - mae: 14.5273\n",
            "Epoch 50/100\n",
            "2/2 [==============================] - 0s 5ms/step - loss: 17.1891 - mae: 17.1891\n",
            "Epoch 51/100\n",
            "2/2 [==============================] - 0s 4ms/step - loss: 16.9173 - mae: 16.9173\n",
            "Epoch 52/100\n",
            "2/2 [==============================] - 0s 5ms/step - loss: 47.4606 - mae: 47.4606\n",
            "Epoch 53/100\n",
            "2/2 [==============================] - 0s 6ms/step - loss: 27.4028 - mae: 27.4028\n",
            "Epoch 54/100\n",
            "2/2 [==============================] - 0s 7ms/step - loss: 26.9186 - mae: 26.9186\n",
            "Epoch 55/100\n",
            "2/2 [==============================] - 0s 5ms/step - loss: 24.5655 - mae: 24.5655\n",
            "Epoch 56/100\n",
            "2/2 [==============================] - 0s 10ms/step - loss: 9.4053 - mae: 9.4053\n",
            "Epoch 57/100\n",
            "2/2 [==============================] - 0s 8ms/step - loss: 15.2204 - mae: 15.2204\n",
            "Epoch 58/100\n",
            "2/2 [==============================] - 0s 7ms/step - loss: 16.3556 - mae: 16.3556\n",
            "Epoch 59/100\n",
            "2/2 [==============================] - 0s 6ms/step - loss: 19.0767 - mae: 19.0767\n",
            "Epoch 60/100\n",
            "2/2 [==============================] - 0s 4ms/step - loss: 32.5117 - mae: 32.5117\n",
            "Epoch 61/100\n",
            "2/2 [==============================] - 0s 4ms/step - loss: 12.0576 - mae: 12.0576\n",
            "Epoch 62/100\n",
            "2/2 [==============================] - 0s 7ms/step - loss: 11.9462 - mae: 11.9462\n",
            "Epoch 63/100\n",
            "2/2 [==============================] - 0s 7ms/step - loss: 15.4827 - mae: 15.4827\n",
            "Epoch 64/100\n",
            "2/2 [==============================] - 0s 4ms/step - loss: 21.1646 - mae: 21.1646\n",
            "Epoch 65/100\n",
            "2/2 [==============================] - 0s 3ms/step - loss: 30.1146 - mae: 30.1146\n",
            "Epoch 66/100\n",
            "2/2 [==============================] - 0s 3ms/step - loss: 14.2832 - mae: 14.2832\n",
            "Epoch 67/100\n",
            "2/2 [==============================] - 0s 4ms/step - loss: 10.8341 - mae: 10.8341\n",
            "Epoch 68/100\n",
            "2/2 [==============================] - 0s 8ms/step - loss: 15.2156 - mae: 15.2156\n",
            "Epoch 69/100\n",
            "2/2 [==============================] - 0s 4ms/step - loss: 21.4439 - mae: 21.4439\n",
            "Epoch 70/100\n",
            "2/2 [==============================] - 0s 4ms/step - loss: 24.7272 - mae: 24.7272\n",
            "Epoch 71/100\n",
            "2/2 [==============================] - 0s 4ms/step - loss: 8.6393 - mae: 8.6393\n",
            "Epoch 72/100\n",
            "2/2 [==============================] - 0s 4ms/step - loss: 13.4714 - mae: 13.4714\n",
            "Epoch 73/100\n",
            "2/2 [==============================] - 0s 4ms/step - loss: 14.8910 - mae: 14.8910\n",
            "Epoch 74/100\n",
            "2/2 [==============================] - 0s 5ms/step - loss: 34.4729 - mae: 34.4729\n",
            "Epoch 75/100\n",
            "2/2 [==============================] - 0s 4ms/step - loss: 14.5860 - mae: 14.5860\n",
            "Epoch 76/100\n",
            "2/2 [==============================] - 0s 3ms/step - loss: 23.0688 - mae: 23.0688\n",
            "Epoch 77/100\n",
            "2/2 [==============================] - 0s 9ms/step - loss: 25.8577 - mae: 25.8577\n",
            "Epoch 78/100\n",
            "2/2 [==============================] - 0s 4ms/step - loss: 10.1495 - mae: 10.1495\n",
            "Epoch 79/100\n",
            "2/2 [==============================] - 0s 9ms/step - loss: 11.4744 - mae: 11.4744\n",
            "Epoch 80/100\n",
            "2/2 [==============================] - 0s 13ms/step - loss: 27.6507 - mae: 27.6507\n",
            "Epoch 81/100\n",
            "2/2 [==============================] - 0s 5ms/step - loss: 12.0611 - mae: 12.0611\n",
            "Epoch 82/100\n",
            "2/2 [==============================] - 0s 7ms/step - loss: 20.8363 - mae: 20.8363\n",
            "Epoch 83/100\n",
            "2/2 [==============================] - 0s 5ms/step - loss: 28.6060 - mae: 28.6060\n",
            "Epoch 84/100\n",
            "2/2 [==============================] - 0s 6ms/step - loss: 12.9963 - mae: 12.9963\n",
            "Epoch 85/100\n",
            "2/2 [==============================] - 0s 6ms/step - loss: 27.7488 - mae: 27.7488\n",
            "Epoch 86/100\n",
            "2/2 [==============================] - 0s 4ms/step - loss: 14.4376 - mae: 14.4376\n",
            "Epoch 87/100\n",
            "2/2 [==============================] - 0s 4ms/step - loss: 11.4028 - mae: 11.4028\n",
            "Epoch 88/100\n",
            "2/2 [==============================] - 0s 4ms/step - loss: 22.7295 - mae: 22.7295\n",
            "Epoch 89/100\n",
            "2/2 [==============================] - 0s 4ms/step - loss: 23.6617 - mae: 23.6617\n",
            "Epoch 90/100\n",
            "2/2 [==============================] - 0s 7ms/step - loss: 12.4692 - mae: 12.4692\n",
            "Epoch 91/100\n",
            "2/2 [==============================] - 0s 12ms/step - loss: 12.7134 - mae: 12.7134\n",
            "Epoch 92/100\n",
            "2/2 [==============================] - 0s 6ms/step - loss: 24.5049 - mae: 24.5049\n",
            "Epoch 93/100\n",
            "2/2 [==============================] - 0s 4ms/step - loss: 19.6957 - mae: 19.6957\n",
            "Epoch 94/100\n",
            "2/2 [==============================] - 0s 4ms/step - loss: 10.7867 - mae: 10.7867\n",
            "Epoch 95/100\n",
            "2/2 [==============================] - 0s 8ms/step - loss: 17.9599 - mae: 17.9599\n",
            "Epoch 96/100\n",
            "2/2 [==============================] - 0s 5ms/step - loss: 21.2373 - mae: 21.2373\n",
            "Epoch 97/100\n",
            "2/2 [==============================] - 0s 4ms/step - loss: 33.1018 - mae: 33.1018\n",
            "Epoch 98/100\n",
            "2/2 [==============================] - 0s 4ms/step - loss: 8.1988 - mae: 8.1988\n",
            "Epoch 99/100\n",
            "2/2 [==============================] - 0s 5ms/step - loss: 13.7438 - mae: 13.7438\n",
            "Epoch 100/100\n",
            "2/2 [==============================] - 0s 4ms/step - loss: 26.9005 - mae: 26.9005\n"
          ]
        },
        {
          "output_type": "execute_result",
          "data": {
            "text/plain": [
              "<keras.callbacks.History at 0x7eff5ac18750>"
            ]
          },
          "metadata": {},
          "execution_count": 46
        }
      ]
    },
    {
      "cell_type": "code",
      "metadata": {
        "colab": {
          "base_uri": "https://localhost:8080/",
          "height": 0
        },
        "id": "S0m8Ps_f8qcz",
        "outputId": "bcee9eb4-6370-4dd8-d05c-7bfd6314166b"
      },
      "source": [
        "y_preds_1 = model_1.predict(X_test)\n",
        "plot_predictions(predictions=y_preds)"
      ],
      "execution_count": 47,
      "outputs": [
        {
          "output_type": "stream",
          "name": "stdout",
          "text": [
            "WARNING:tensorflow:5 out of the last 5 calls to <function Model.make_predict_function.<locals>.predict_function at 0x7eff0d1ffd40> triggered tf.function retracing. Tracing is expensive and the excessive number of tracings could be due to (1) creating @tf.function repeatedly in a loop, (2) passing tensors with different shapes, (3) passing Python objects instead of tensors. For (1), please define your @tf.function outside of the loop. For (2), @tf.function has experimental_relax_shapes=True option that relaxes argument shapes that can avoid unnecessary retracing. For (3), please refer to https://www.tensorflow.org/guide/function#controlling_retracing and https://www.tensorflow.org/api_docs/python/tf/function for  more details.\n"
          ]
        },
        {
          "output_type": "display_data",
          "data": {
            "image/png": "[encoded data removed]",
            "text/plain": [
              "<Figure size 720x504 with 1 Axes>"
            ]
          },
          "metadata": {
            "needs_background": "light"
          }
        }
      ]
    },
    {
      "cell_type": "code",
      "metadata": {
        "colab": {
          "base_uri": "https://localhost:8080/"
        },
        "id": "fgZjqkgpHnwz",
        "outputId": "b508d797-d4a2-48b8-990e-90051bc8023e"
      },
      "source": [
        "tf.constant(y_preds_1), tf.squeeze(y_preds_1)"
      ],
      "execution_count": 48,
      "outputs": [
        {
          "output_type": "execute_result",
          "data": {
            "text/plain": [
              "(<tf.Tensor: shape=(10, 1), dtype=float32, numpy=\n",
              " array([[40.47425 ],\n",
              "        [42.754494],\n",
              "        [45.034733],\n",
              "        [47.314972],\n",
              "        [49.59521 ],\n",
              "        [51.87545 ],\n",
              "        [54.15569 ],\n",
              "        [56.43593 ],\n",
              "        [58.716167],\n",
              "        [60.99641 ]], dtype=float32)>,\n",
              " <tf.Tensor: shape=(10,), dtype=float32, numpy=\n",
              " array([40.47425 , 42.754494, 45.034733, 47.314972, 49.59521 , 51.87545 ,\n",
              "        54.15569 , 56.43593 , 58.716167, 60.99641 ], dtype=float32)>)"
            ]
          },
          "metadata": {},
          "execution_count": 48
        }
      ]
    },
    {
      "cell_type": "code",
      "metadata": {
        "colab": {
          "base_uri": "https://localhost:8080/"
        },
        "id": "mbZPZC6IFCNm",
        "outputId": "40f37396-77b7-4f4a-8953-d0169e6b29e4"
      },
      "source": [
        "mae_1 = mae(y_test, tf.squeeze(y_preds_1))\n",
        "mse_1 = mse(y_test, tf.squeeze(y_preds_1))\n",
        "mae_1, mse_1"
      ],
      "execution_count": 49,
      "outputs": [
        {
          "output_type": "execute_result",
          "data": {
            "text/plain": [
              "(<tf.Tensor: shape=(), dtype=float32, numpy=38.264668>,\n",
              " <tf.Tensor: shape=(), dtype=float32, numpy=1488.585>)"
            ]
          },
          "metadata": {},
          "execution_count": 49
        }
      ]
    },
    {
      "cell_type": "markdown",
      "metadata": {
        "id": "ODxstqDTFCDK"
      },
      "source": [
        "Build Model_2\n",
        "\n",
        "* 2 dense layers, trained for 100 epochs"
      ]
    },
    {
      "cell_type": "code",
      "metadata": {
        "colab": {
          "base_uri": "https://localhost:8080/"
        },
        "id": "5F1tTHUCrNGT",
        "outputId": "843e8abb-d8d4-48da-ccad-feefb7d33120"
      },
      "source": [
        "tf.random.set_seed(42)\n",
        "\n",
        "model_2 = tf.keras.Sequential([\n",
        "                               tf.keras.layers.Dense(10),\n",
        "                               tf.keras.layers.Dense(1)\n",
        "])\n",
        "\n",
        "model_2.compile(loss=tf.keras.losses.mae,\n",
        "                 optimizer = tf.keras.optimizers.SGD(),\n",
        "                 metrics = [\"mse\"])\n",
        "\n",
        "model_2.fit(X_train, y_train, epochs= 100)"
      ],
      "execution_count": 50,
      "outputs": [
        {
          "output_type": "stream",
          "name": "stdout",
          "text": [
            "Epoch 1/100\n",
            "2/2 [==============================] - 0s 5ms/step - loss: 28.5179 - mse: 1169.6489\n",
            "Epoch 2/100\n",
            "2/2 [==============================] - 0s 4ms/step - loss: 23.5481 - mse: 795.0547\n",
            "Epoch 3/100\n",
            "2/2 [==============================] - 0s 4ms/step - loss: 30.3879 - mse: 1480.5624\n",
            "Epoch 4/100\n",
            "2/2 [==============================] - 0s 4ms/step - loss: 30.0180 - mse: 1317.8606\n",
            "Epoch 5/100\n",
            "2/2 [==============================] - 0s 3ms/step - loss: 11.3066 - mse: 220.3870\n",
            "Epoch 6/100\n",
            "2/2 [==============================] - 0s 7ms/step - loss: 14.9600 - mse: 316.0143\n",
            "Epoch 7/100\n",
            "2/2 [==============================] - 0s 4ms/step - loss: 15.8804 - mse: 361.8178\n",
            "Epoch 8/100\n",
            "2/2 [==============================] - 0s 6ms/step - loss: 17.7428 - mse: 484.7431\n",
            "Epoch 9/100\n",
            "2/2 [==============================] - 0s 15ms/step - loss: 46.8813 - mse: 3729.8262\n",
            "Epoch 10/100\n",
            "2/2 [==============================] - 0s 7ms/step - loss: 30.8266 - mse: 1382.1414\n",
            "Epoch 11/100\n",
            "2/2 [==============================] - 0s 4ms/step - loss: 10.5746 - mse: 604.1139\n",
            "Epoch 12/100\n",
            "2/2 [==============================] - 0s 4ms/step - loss: 20.1193 - mse: 655.2459\n",
            "Epoch 13/100\n",
            "2/2 [==============================] - 0s 6ms/step - loss: 31.7618 - mse: 1532.5508\n",
            "Epoch 14/100\n",
            "2/2 [==============================] - 0s 6ms/step - loss: 30.5628 - mse: 1384.6033\n",
            "Epoch 15/100\n",
            "2/2 [==============================] - 0s 4ms/step - loss: 19.8452 - mse: 559.7645\n",
            "Epoch 16/100\n",
            "2/2 [==============================] - 0s 4ms/step - loss: 11.3297 - mse: 344.4238\n",
            "Epoch 17/100\n",
            "2/2 [==============================] - 0s 7ms/step - loss: 16.5333 - mse: 491.0912\n",
            "Epoch 18/100\n",
            "2/2 [==============================] - 0s 11ms/step - loss: 28.3004 - mse: 1146.3480\n",
            "Epoch 19/100\n",
            "2/2 [==============================] - 0s 6ms/step - loss: 12.2918 - mse: 304.0186\n",
            "Epoch 20/100\n",
            "2/2 [==============================] - 0s 7ms/step - loss: 13.8303 - mse: 284.7693\n",
            "Epoch 21/100\n",
            "2/2 [==============================] - 0s 5ms/step - loss: 20.0399 - mse: 654.0999\n",
            "Epoch 22/100\n",
            "2/2 [==============================] - 0s 11ms/step - loss: 36.0641 - mse: 1941.5104\n",
            "Epoch 23/100\n",
            "2/2 [==============================] - 0s 12ms/step - loss: 7.8092 - mse: 465.2363\n",
            "Epoch 24/100\n",
            "2/2 [==============================] - 0s 6ms/step - loss: 11.0350 - mse: 451.4097\n",
            "Epoch 25/100\n",
            "2/2 [==============================] - 0s 9ms/step - loss: 16.0476 - mse: 450.9402\n",
            "Epoch 26/100\n",
            "2/2 [==============================] - 0s 11ms/step - loss: 30.3725 - mse: 1319.9651\n",
            "Epoch 27/100\n",
            "2/2 [==============================] - 0s 6ms/step - loss: 7.7186 - mse: 290.1093\n",
            "Epoch 28/100\n",
            "2/2 [==============================] - 0s 7ms/step - loss: 11.0176 - mse: 316.0635\n",
            "Epoch 29/100\n",
            "2/2 [==============================] - 0s 5ms/step - loss: 13.7589 - mse: 271.2116\n",
            "Epoch 30/100\n",
            "2/2 [==============================] - 0s 6ms/step - loss: 34.2857 - mse: 1629.0338\n",
            "Epoch 31/100\n",
            "2/2 [==============================] - 0s 4ms/step - loss: 11.1148 - mse: 286.3200\n",
            "Epoch 32/100\n",
            "2/2 [==============================] - 0s 6ms/step - loss: 15.4095 - mse: 340.7431\n",
            "Epoch 33/100\n",
            "2/2 [==============================] - 0s 10ms/step - loss: 21.1503 - mse: 695.8951\n",
            "Epoch 34/100\n",
            "2/2 [==============================] - 0s 4ms/step - loss: 30.8212 - mse: 1417.3405\n",
            "Epoch 35/100\n",
            "2/2 [==============================] - 0s 12ms/step - loss: 10.1207 - mse: 481.9192\n",
            "Epoch 36/100\n",
            "2/2 [==============================] - 0s 5ms/step - loss: 17.7624 - mse: 484.4411\n",
            "Epoch 37/100\n",
            "2/2 [==============================] - 0s 6ms/step - loss: 16.6077 - mse: 440.2589\n",
            "Epoch 38/100\n",
            "2/2 [==============================] - 0s 9ms/step - loss: 23.2026 - mse: 817.2706\n",
            "Epoch 39/100\n",
            "2/2 [==============================] - 0s 5ms/step - loss: 24.3343 - mse: 841.6603\n",
            "Epoch 40/100\n",
            "2/2 [==============================] - 0s 7ms/step - loss: 7.2099 - mse: 248.6759\n",
            "Epoch 41/100\n",
            "2/2 [==============================] - 0s 8ms/step - loss: 14.9112 - mse: 314.4931\n",
            "Epoch 42/100\n",
            "2/2 [==============================] - 0s 4ms/step - loss: 19.2823 - mse: 613.4383\n",
            "Epoch 43/100\n",
            "2/2 [==============================] - 0s 7ms/step - loss: 17.3744 - mse: 496.1060\n",
            "Epoch 44/100\n",
            "2/2 [==============================] - 0s 4ms/step - loss: 46.5426 - mse: 3602.5142\n",
            "Epoch 45/100\n",
            "2/2 [==============================] - 0s 7ms/step - loss: 21.6515 - mse: 662.3359\n",
            "Epoch 46/100\n",
            "2/2 [==============================] - 0s 11ms/step - loss: 5.7751 - mse: 236.9434\n",
            "Epoch 47/100\n",
            "2/2 [==============================] - 0s 6ms/step - loss: 15.1064 - mse: 342.3538\n",
            "Epoch 48/100\n",
            "2/2 [==============================] - 0s 12ms/step - loss: 12.7853 - mse: 240.4362\n",
            "Epoch 49/100\n",
            "2/2 [==============================] - 0s 9ms/step - loss: 14.1227 - mse: 282.1039\n",
            "Epoch 50/100\n",
            "2/2 [==============================] - 0s 8ms/step - loss: 16.8538 - mse: 438.3321\n",
            "Epoch 51/100\n",
            "2/2 [==============================] - 0s 3ms/step - loss: 16.1530 - mse: 453.4735\n",
            "Epoch 52/100\n",
            "2/2 [==============================] - 0s 5ms/step - loss: 49.6344 - mse: 4307.3975\n",
            "Epoch 53/100\n",
            "2/2 [==============================] - 0s 4ms/step - loss: 28.8078 - mse: 1252.1455\n",
            "Epoch 54/100\n",
            "2/2 [==============================] - 0s 5ms/step - loss: 28.3351 - mse: 1180.9895\n",
            "Epoch 55/100\n",
            "2/2 [==============================] - 0s 6ms/step - loss: 26.1305 - mse: 976.8480\n",
            "Epoch 56/100\n",
            "2/2 [==============================] - 0s 6ms/step - loss: 5.7222 - mse: 237.0042\n",
            "Epoch 57/100\n",
            "2/2 [==============================] - 0s 4ms/step - loss: 13.9285 - mse: 278.1383\n",
            "Epoch 58/100\n",
            "2/2 [==============================] - 0s 7ms/step - loss: 15.2750 - mse: 329.5324\n",
            "Epoch 59/100\n",
            "2/2 [==============================] - 0s 6ms/step - loss: 17.8327 - mse: 550.8404\n",
            "Epoch 60/100\n",
            "2/2 [==============================] - 0s 4ms/step - loss: 21.4037 - mse: 711.6859\n",
            "Epoch 61/100\n",
            "2/2 [==============================] - 0s 10ms/step - loss: 28.5592 - mse: 1201.7571\n",
            "Epoch 62/100\n",
            "2/2 [==============================] - 0s 4ms/step - loss: 10.9936 - mse: 241.0610\n",
            "Epoch 63/100\n",
            "2/2 [==============================] - 0s 6ms/step - loss: 13.7326 - mse: 283.4169\n",
            "Epoch 64/100\n",
            "2/2 [==============================] - 0s 4ms/step - loss: 17.5721 - mse: 531.5183\n",
            "Epoch 65/100\n",
            "2/2 [==============================] - 0s 8ms/step - loss: 39.1949 - mse: 2324.1814\n",
            "Epoch 66/100\n",
            "2/2 [==============================] - 0s 3ms/step - loss: 20.7874 - mse: 610.1927\n",
            "Epoch 67/100\n",
            "2/2 [==============================] - 0s 14ms/step - loss: 6.4168 - mse: 230.1468\n",
            "Epoch 68/100\n",
            "2/2 [==============================] - 0s 4ms/step - loss: 14.8720 - mse: 311.8894\n",
            "Epoch 69/100\n",
            "2/2 [==============================] - 0s 5ms/step - loss: 20.7768 - mse: 713.1251\n",
            "Epoch 70/100\n",
            "2/2 [==============================] - 0s 4ms/step - loss: 26.3167 - mse: 985.9502\n",
            "Epoch 71/100\n",
            "2/2 [==============================] - 0s 9ms/step - loss: 9.7182 - mse: 240.3789\n",
            "Epoch 72/100\n",
            "2/2 [==============================] - 0s 7ms/step - loss: 13.0782 - mse: 283.5255\n",
            "Epoch 73/100\n",
            "2/2 [==============================] - 0s 7ms/step - loss: 14.7838 - mse: 379.3763\n",
            "Epoch 74/100\n",
            "2/2 [==============================] - 0s 5ms/step - loss: 34.2289 - mse: 1695.0879\n",
            "Epoch 75/100\n",
            "2/2 [==============================] - 0s 5ms/step - loss: 14.2869 - mse: 287.6950\n",
            "Epoch 76/100\n",
            "2/2 [==============================] - 0s 5ms/step - loss: 22.4541 - mse: 778.8068\n",
            "Epoch 77/100\n",
            "2/2 [==============================] - 0s 6ms/step - loss: 27.5108 - mse: 1124.2435\n",
            "Epoch 78/100\n",
            "2/2 [==============================] - 0s 6ms/step - loss: 11.1687 - mse: 314.3328\n",
            "Epoch 79/100\n",
            "2/2 [==============================] - 0s 11ms/step - loss: 11.2364 - mse: 697.7102\n",
            "Epoch 80/100\n",
            "2/2 [==============================] - 0s 6ms/step - loss: 27.1847 - mse: 1104.7015\n",
            "Epoch 81/100\n",
            "2/2 [==============================] - 0s 4ms/step - loss: 13.5980 - mse: 252.1899\n",
            "Epoch 82/100\n",
            "2/2 [==============================] - 0s 4ms/step - loss: 20.1488 - mse: 684.9022\n",
            "Epoch 83/100\n",
            "2/2 [==============================] - 0s 4ms/step - loss: 30.5571 - mse: 1370.1691\n",
            "Epoch 84/100\n",
            "2/2 [==============================] - 0s 5ms/step - loss: 12.7689 - mse: 317.6271\n",
            "Epoch 85/100\n",
            "2/2 [==============================] - 0s 5ms/step - loss: 27.2860 - mse: 1091.1718\n",
            "Epoch 86/100\n",
            "2/2 [==============================] - 0s 5ms/step - loss: 15.6942 - mse: 410.9180\n",
            "Epoch 87/100\n",
            "2/2 [==============================] - 0s 5ms/step - loss: 11.0909 - mse: 573.8505\n",
            "Epoch 88/100\n",
            "2/2 [==============================] - 0s 6ms/step - loss: 22.1032 - mse: 745.3073\n",
            "Epoch 89/100\n",
            "2/2 [==============================] - 0s 6ms/step - loss: 25.1605 - mse: 886.0332\n",
            "Epoch 90/100\n",
            "2/2 [==============================] - 0s 10ms/step - loss: 13.7009 - mse: 304.2098\n",
            "Epoch 91/100\n",
            "2/2 [==============================] - 0s 6ms/step - loss: 12.4377 - mse: 312.1162\n",
            "Epoch 92/100\n",
            "2/2 [==============================] - 0s 6ms/step - loss: 23.9362 - mse: 896.7302\n",
            "Epoch 93/100\n",
            "2/2 [==============================] - 0s 4ms/step - loss: 21.1828 - mse: 635.1476\n",
            "Epoch 94/100\n",
            "2/2 [==============================] - 0s 6ms/step - loss: 10.3895 - mse: 473.1269\n",
            "Epoch 95/100\n",
            "2/2 [==============================] - 0s 5ms/step - loss: 17.6789 - mse: 541.7134\n",
            "Epoch 96/100\n",
            "2/2 [==============================] - 0s 8ms/step - loss: 22.6313 - mse: 768.8605\n",
            "Epoch 97/100\n",
            "2/2 [==============================] - 0s 4ms/step - loss: 29.2434 - mse: 1257.9968\n",
            "Epoch 98/100\n",
            "2/2 [==============================] - 0s 6ms/step - loss: 5.9584 - mse: 227.7279\n",
            "Epoch 99/100\n",
            "2/2 [==============================] - 0s 4ms/step - loss: 14.1331 - mse: 282.5331\n",
            "Epoch 100/100\n",
            "2/2 [==============================] - 0s 4ms/step - loss: 27.6729 - mse: 1101.3640\n"
          ]
        },
        {
          "output_type": "execute_result",
          "data": {
            "text/plain": [
              "<keras.callbacks.History at 0x7eff5ac2fb50>"
            ]
          },
          "metadata": {},
          "execution_count": 50
        }
      ]
    },
    {
      "cell_type": "code",
      "metadata": {
        "id": "CkXu-mNlFB-4",
        "colab": {
          "base_uri": "https://localhost:8080/",
          "height": 0
        },
        "outputId": "982839be-f5b7-4f67-9d97-9248df44a4cb"
      },
      "source": [
        "# Make and plot prediction of model 2\n",
        "\n",
        "y_pred_2 = model_2.predict(X_test)\n",
        "plot_predictions(predictions= y_pred_2)"
      ],
      "execution_count": 51,
      "outputs": [
        {
          "output_type": "stream",
          "name": "stdout",
          "text": [
            "WARNING:tensorflow:6 out of the last 6 calls to <function Model.make_predict_function.<locals>.predict_function at 0x7eff5aadbe60> triggered tf.function retracing. Tracing is expensive and the excessive number of tracings could be due to (1) creating @tf.function repeatedly in a loop, (2) passing tensors with different shapes, (3) passing Python objects instead of tensors. For (1), please define your @tf.function outside of the loop. For (2), @tf.function has experimental_relax_shapes=True option that relaxes argument shapes that can avoid unnecessary retracing. For (3), please refer to https://www.tensorflow.org/guide/function#controlling_retracing and https://www.tensorflow.org/api_docs/python/tf/function for  more details.\n"
          ]
        },
        {
          "output_type": "display_data",
          "data": {
            "image/png": "[encoded data removed]",
            "text/plain": [
              "<Figure size 720x504 with 1 Axes>"
            ]
          },
          "metadata": {
            "needs_background": "light"
          }
        }
      ]
    },
    {
      "cell_type": "code",
      "metadata": {
        "id": "osZB5MfQFB66",
        "colab": {
          "base_uri": "https://localhost:8080/"
        },
        "outputId": "a8298b40-a91a-42f3-9b1f-cebaf51349c2"
      },
      "source": [
        "# Calculate the model_2 metrics\n",
        "\n",
        "mae_2 = mae(y_test, y_pred_2)\n",
        "mse_2 = mse(y_test, y_pred_2)\n",
        "\n",
        "mae_2, mse_2"
      ],
      "execution_count": 52,
      "outputs": [
        {
          "output_type": "execute_result",
          "data": {
            "text/plain": [
              "(<tf.Tensor: shape=(), dtype=float32, numpy=24.276653>,\n",
              " <tf.Tensor: shape=(), dtype=float32, numpy=599.2369>)"
            ]
          },
          "metadata": {},
          "execution_count": 52
        }
      ]
    },
    {
      "cell_type": "code",
      "metadata": {
        "colab": {
          "base_uri": "https://localhost:8080/"
        },
        "id": "rJ3EFWvVtHpj",
        "outputId": "dc073825-e221-4a97-99cc-f66407cbec1b"
      },
      "source": [
        "# Build Model_3\n",
        "tf.random.set_seed(42)\n",
        "\n",
        "model_3 = tf.keras.Sequential([\n",
        "                               tf.keras.layers.Dense(10),\n",
        "                               tf.keras.layers.Dense(1)\n",
        "])\n",
        "\n",
        "model_3.compile(loss = tf.losses.mae,\n",
        "                optimizer= tf.keras.optimizers.SGD(),\n",
        "                metrics = ['mse'])\n",
        "\n",
        "model_3.fit(X_train, y_train, epochs= 500)"
      ],
      "execution_count": 53,
      "outputs": [
        {
          "output_type": "stream",
          "name": "stdout",
          "text": [
            "Epoch 1/500\n",
            "2/2 [==============================] - 0s 7ms/step - loss: 28.5179 - mse: 1169.6489\n",
            "Epoch 2/500\n",
            "2/2 [==============================] - 0s 6ms/step - loss: 23.5481 - mse: 795.0547\n",
            "Epoch 3/500\n",
            "2/2 [==============================] - 0s 8ms/step - loss: 30.3879 - mse: 1480.5624\n",
            "Epoch 4/500\n",
            "2/2 [==============================] - 0s 6ms/step - loss: 30.0180 - mse: 1317.8606\n",
            "Epoch 5/500\n",
            "2/2 [==============================] - 0s 4ms/step - loss: 11.3066 - mse: 220.3870\n",
            "Epoch 6/500\n",
            "2/2 [==============================] - 0s 4ms/step - loss: 14.9600 - mse: 316.0143\n",
            "Epoch 7/500\n",
            "2/2 [==============================] - 0s 4ms/step - loss: 15.8804 - mse: 361.8178\n",
            "Epoch 8/500\n",
            "2/2 [==============================] - 0s 4ms/step - loss: 17.7428 - mse: 484.7431\n",
            "Epoch 9/500\n",
            "2/2 [==============================] - 0s 5ms/step - loss: 46.8813 - mse: 3729.8262\n",
            "Epoch 10/500\n",
            "2/2 [==============================] - 0s 4ms/step - loss: 30.8266 - mse: 1382.1414\n",
            "Epoch 11/500\n",
            "2/2 [==============================] - 0s 4ms/step - loss: 10.5746 - mse: 604.1139\n",
            "Epoch 12/500\n",
            "2/2 [==============================] - 0s 4ms/step - loss: 20.1193 - mse: 655.2459\n",
            "Epoch 13/500\n",
            "2/2 [==============================] - 0s 7ms/step - loss: 31.7618 - mse: 1532.5508\n",
            "Epoch 14/500\n",
            "2/2 [==============================] - 0s 5ms/step - loss: 30.5628 - mse: 1384.6033\n",
            "Epoch 15/500\n",
            "2/2 [==============================] - 0s 4ms/step - loss: 19.8452 - mse: 559.7645\n",
            "Epoch 16/500\n",
            "2/2 [==============================] - 0s 6ms/step - loss: 11.3297 - mse: 344.4238\n",
            "Epoch 17/500\n",
            "2/2 [==============================] - 0s 6ms/step - loss: 16.5333 - mse: 491.0912\n",
            "Epoch 18/500\n",
            "2/2 [==============================] - 0s 6ms/step - loss: 28.3004 - mse: 1146.3480\n",
            "Epoch 19/500\n",
            "2/2 [==============================] - 0s 5ms/step - loss: 12.2918 - mse: 304.0186\n",
            "Epoch 20/500\n",
            "2/2 [==============================] - 0s 4ms/step - loss: 13.8303 - mse: 284.7693\n",
            "Epoch 21/500\n",
            "2/2 [==============================] - 0s 6ms/step - loss: 20.0399 - mse: 654.0999\n",
            "Epoch 22/500\n",
            "2/2 [==============================] - 0s 7ms/step - loss: 36.0641 - mse: 1941.5104\n",
            "Epoch 23/500\n",
            "2/2 [==============================] - 0s 6ms/step - loss: 7.8092 - mse: 465.2363\n",
            "Epoch 24/500\n",
            "2/2 [==============================] - 0s 3ms/step - loss: 11.0350 - mse: 451.4097\n",
            "Epoch 25/500\n",
            "2/2 [==============================] - 0s 4ms/step - loss: 16.0476 - mse: 450.9402\n",
            "Epoch 26/500\n",
            "2/2 [==============================] - 0s 5ms/step - loss: 30.3725 - mse: 1319.9651\n",
            "Epoch 27/500\n",
            "2/2 [==============================] - 0s 5ms/step - loss: 7.7186 - mse: 290.1093\n",
            "Epoch 28/500\n",
            "2/2 [==============================] - 0s 4ms/step - loss: 11.0176 - mse: 316.0635\n",
            "Epoch 29/500\n",
            "2/2 [==============================] - 0s 4ms/step - loss: 13.7589 - mse: 271.2116\n",
            "Epoch 30/500\n",
            "2/2 [==============================] - 0s 5ms/step - loss: 34.2857 - mse: 1629.0338\n",
            "Epoch 31/500\n",
            "2/2 [==============================] - 0s 5ms/step - loss: 11.1148 - mse: 286.3200\n",
            "Epoch 32/500\n",
            "2/2 [==============================] - 0s 3ms/step - loss: 15.4095 - mse: 340.7431\n",
            "Epoch 33/500\n",
            "2/2 [==============================] - 0s 4ms/step - loss: 21.1503 - mse: 695.8951\n",
            "Epoch 34/500\n",
            "2/2 [==============================] - 0s 5ms/step - loss: 30.8212 - mse: 1417.3405\n",
            "Epoch 35/500\n",
            "2/2 [==============================] - 0s 11ms/step - loss: 10.1207 - mse: 481.9192\n",
            "Epoch 36/500\n",
            "2/2 [==============================] - 0s 7ms/step - loss: 17.7624 - mse: 484.4411\n",
            "Epoch 37/500\n",
            "2/2 [==============================] - 0s 9ms/step - loss: 16.6077 - mse: 440.2589\n",
            "Epoch 38/500\n",
            "2/2 [==============================] - 0s 7ms/step - loss: 23.2026 - mse: 817.2706\n",
            "Epoch 39/500\n",
            "2/2 [==============================] - 0s 19ms/step - loss: 24.3343 - mse: 841.6603\n",
            "Epoch 40/500\n",
            "2/2 [==============================] - 0s 15ms/step - loss: 7.2099 - mse: 248.6759\n",
            "Epoch 41/500\n",
            "2/2 [==============================] - 0s 5ms/step - loss: 14.9112 - mse: 314.4931\n",
            "Epoch 42/500\n",
            "2/2 [==============================] - 0s 10ms/step - loss: 19.2823 - mse: 613.4383\n",
            "Epoch 43/500\n",
            "2/2 [==============================] - 0s 12ms/step - loss: 17.3744 - mse: 496.1060\n",
            "Epoch 44/500\n",
            "2/2 [==============================] - 0s 3ms/step - loss: 46.5426 - mse: 3602.5142\n",
            "Epoch 45/500\n",
            "2/2 [==============================] - 0s 8ms/step - loss: 21.6515 - mse: 662.3359\n",
            "Epoch 46/500\n",
            "2/2 [==============================] - 0s 4ms/step - loss: 5.7751 - mse: 236.9434\n",
            "Epoch 47/500\n",
            "2/2 [==============================] - 0s 4ms/step - loss: 15.1064 - mse: 342.3538\n",
            "Epoch 48/500\n",
            "2/2 [==============================] - 0s 7ms/step - loss: 12.7853 - mse: 240.4362\n",
            "Epoch 49/500\n",
            "2/2 [==============================] - 0s 7ms/step - loss: 14.1227 - mse: 282.1039\n",
            "Epoch 50/500\n",
            "2/2 [==============================] - 0s 4ms/step - loss: 16.8538 - mse: 438.3321\n",
            "Epoch 51/500\n",
            "2/2 [==============================] - 0s 3ms/step - loss: 16.1530 - mse: 453.4735\n",
            "Epoch 52/500\n",
            "2/2 [==============================] - 0s 7ms/step - loss: 49.6344 - mse: 4307.3975\n",
            "Epoch 53/500\n",
            "2/2 [==============================] - 0s 6ms/step - loss: 28.8078 - mse: 1252.1455\n",
            "Epoch 54/500\n",
            "2/2 [==============================] - 0s 6ms/step - loss: 28.3351 - mse: 1180.9895\n",
            "Epoch 55/500\n",
            "2/2 [==============================] - 0s 6ms/step - loss: 26.1305 - mse: 976.8480\n",
            "Epoch 56/500\n",
            "2/2 [==============================] - 0s 6ms/step - loss: 5.7222 - mse: 237.0042\n",
            "Epoch 57/500\n",
            "2/2 [==============================] - 0s 15ms/step - loss: 13.9285 - mse: 278.1383\n",
            "Epoch 58/500\n",
            "2/2 [==============================] - 0s 7ms/step - loss: 15.2750 - mse: 329.5324\n",
            "Epoch 59/500\n",
            "2/2 [==============================] - 0s 6ms/step - loss: 17.8327 - mse: 550.8404\n",
            "Epoch 60/500\n",
            "2/2 [==============================] - 0s 6ms/step - loss: 21.4037 - mse: 711.6859\n",
            "Epoch 61/500\n",
            "2/2 [==============================] - 0s 6ms/step - loss: 28.5592 - mse: 1201.7571\n",
            "Epoch 62/500\n",
            "2/2 [==============================] - 0s 9ms/step - loss: 10.9936 - mse: 241.0610\n",
            "Epoch 63/500\n",
            "2/2 [==============================] - 0s 7ms/step - loss: 13.7326 - mse: 283.4169\n",
            "Epoch 64/500\n",
            "2/2 [==============================] - 0s 9ms/step - loss: 17.5721 - mse: 531.5183\n",
            "Epoch 65/500\n",
            "2/2 [==============================] - 0s 9ms/step - loss: 39.1949 - mse: 2324.1814\n",
            "Epoch 66/500\n",
            "2/2 [==============================] - 0s 7ms/step - loss: 20.7874 - mse: 610.1927\n",
            "Epoch 67/500\n",
            "2/2 [==============================] - 0s 8ms/step - loss: 6.4168 - mse: 230.1468\n",
            "Epoch 68/500\n",
            "2/2 [==============================] - 0s 8ms/step - loss: 14.8720 - mse: 311.8894\n",
            "Epoch 69/500\n",
            "2/2 [==============================] - 0s 8ms/step - loss: 20.7768 - mse: 713.1251\n",
            "Epoch 70/500\n",
            "2/2 [==============================] - 0s 7ms/step - loss: 26.3167 - mse: 985.9502\n",
            "Epoch 71/500\n",
            "2/2 [==============================] - 0s 5ms/step - loss: 9.7182 - mse: 240.3789\n",
            "Epoch 72/500\n",
            "2/2 [==============================] - 0s 8ms/step - loss: 13.0782 - mse: 283.5255\n",
            "Epoch 73/500\n",
            "2/2 [==============================] - 0s 4ms/step - loss: 14.7838 - mse: 379.3763\n",
            "Epoch 74/500\n",
            "2/2 [==============================] - 0s 7ms/step - loss: 34.2289 - mse: 1695.0879\n",
            "Epoch 75/500\n",
            "2/2 [==============================] - 0s 7ms/step - loss: 14.2869 - mse: 287.6950\n",
            "Epoch 76/500\n",
            "2/2 [==============================] - 0s 9ms/step - loss: 22.4541 - mse: 778.8068\n",
            "Epoch 77/500\n",
            "2/2 [==============================] - 0s 9ms/step - loss: 27.5108 - mse: 1124.2435\n",
            "Epoch 78/500\n",
            "2/2 [==============================] - 0s 8ms/step - loss: 11.1687 - mse: 314.3328\n",
            "Epoch 79/500\n",
            "2/2 [==============================] - 0s 14ms/step - loss: 11.2364 - mse: 697.7102\n",
            "Epoch 80/500\n",
            "2/2 [==============================] - 0s 9ms/step - loss: 27.1847 - mse: 1104.7015\n",
            "Epoch 81/500\n",
            "2/2 [==============================] - 0s 5ms/step - loss: 13.5980 - mse: 252.1899\n",
            "Epoch 82/500\n",
            "2/2 [==============================] - 0s 9ms/step - loss: 20.1488 - mse: 684.9022\n",
            "Epoch 83/500\n",
            "2/2 [==============================] - 0s 10ms/step - loss: 30.5571 - mse: 1370.1691\n",
            "Epoch 84/500\n",
            "2/2 [==============================] - 0s 6ms/step - loss: 12.7689 - mse: 317.6271\n",
            "Epoch 85/500\n",
            "2/2 [==============================] - 0s 6ms/step - loss: 27.2860 - mse: 1091.1718\n",
            "Epoch 86/500\n",
            "2/2 [==============================] - 0s 6ms/step - loss: 15.6942 - mse: 410.9180\n",
            "Epoch 87/500\n",
            "2/2 [==============================] - 0s 8ms/step - loss: 11.0909 - mse: 573.8505\n",
            "Epoch 88/500\n",
            "2/2 [==============================] - 0s 15ms/step - loss: 22.1032 - mse: 745.3073\n",
            "Epoch 89/500\n",
            "2/2 [==============================] - 0s 11ms/step - loss: 25.1605 - mse: 886.0332\n",
            "Epoch 90/500\n",
            "2/2 [==============================] - 0s 8ms/step - loss: 13.7009 - mse: 304.2098\n",
            "Epoch 91/500\n",
            "2/2 [==============================] - 0s 8ms/step - loss: 12.4377 - mse: 312.1162\n",
            "Epoch 92/500\n",
            "2/2 [==============================] - 0s 6ms/step - loss: 23.9362 - mse: 896.7302\n",
            "Epoch 93/500\n",
            "2/2 [==============================] - 0s 4ms/step - loss: 21.1828 - mse: 635.1476\n",
            "Epoch 94/500\n",
            "2/2 [==============================] - 0s 4ms/step - loss: 10.3895 - mse: 473.1269\n",
            "Epoch 95/500\n",
            "2/2 [==============================] - 0s 4ms/step - loss: 17.6789 - mse: 541.7134\n",
            "Epoch 96/500\n",
            "2/2 [==============================] - 0s 4ms/step - loss: 22.6313 - mse: 768.8605\n",
            "Epoch 97/500\n",
            "2/2 [==============================] - 0s 4ms/step - loss: 29.2434 - mse: 1257.9968\n",
            "Epoch 98/500\n",
            "2/2 [==============================] - 0s 4ms/step - loss: 5.9584 - mse: 227.7279\n",
            "Epoch 99/500\n",
            "2/2 [==============================] - 0s 6ms/step - loss: 14.1331 - mse: 282.5331\n",
            "Epoch 100/500\n",
            "2/2 [==============================] - 0s 4ms/step - loss: 27.6729 - mse: 1101.3640\n",
            "Epoch 101/500\n",
            "2/2 [==============================] - 0s 4ms/step - loss: 14.4895 - mse: 341.8276\n",
            "Epoch 102/500\n",
            "2/2 [==============================] - 0s 5ms/step - loss: 10.9027 - mse: 312.3271\n",
            "Epoch 103/500\n",
            "2/2 [==============================] - 0s 7ms/step - loss: 14.1579 - mse: 282.7127\n",
            "Epoch 104/500\n",
            "2/2 [==============================] - 0s 5ms/step - loss: 27.2762 - mse: 1062.8132\n",
            "Epoch 105/500\n",
            "2/2 [==============================] - 0s 4ms/step - loss: 15.5813 - mse: 374.3025\n",
            "Epoch 106/500\n",
            "2/2 [==============================] - 0s 5ms/step - loss: 12.3891 - mse: 352.0942\n",
            "Epoch 107/500\n",
            "2/2 [==============================] - 0s 9ms/step - loss: 22.1045 - mse: 784.3488\n",
            "Epoch 108/500\n",
            "2/2 [==============================] - 0s 4ms/step - loss: 26.0883 - mse: 972.0490\n",
            "Epoch 109/500\n",
            "2/2 [==============================] - 0s 4ms/step - loss: 2.9373 - mse: 58.2747\n",
            "Epoch 110/500\n",
            "2/2 [==============================] - 0s 4ms/step - loss: 6.1285 - mse: 217.5042\n",
            "Epoch 111/500\n",
            "2/2 [==============================] - 0s 4ms/step - loss: 14.0205 - mse: 277.8954\n",
            "Epoch 112/500\n",
            "2/2 [==============================] - 0s 5ms/step - loss: 20.2869 - mse: 644.2050\n",
            "Epoch 113/500\n",
            "2/2 [==============================] - 0s 7ms/step - loss: 32.9438 - mse: 1621.3970\n",
            "Epoch 114/500\n",
            "2/2 [==============================] - 0s 13ms/step - loss: 27.7112 - mse: 1136.7249\n",
            "Epoch 115/500\n",
            "2/2 [==============================] - 0s 8ms/step - loss: 13.6144 - mse: 318.7126\n",
            "Epoch 116/500\n",
            "2/2 [==============================] - 0s 7ms/step - loss: 9.6407 - mse: 423.5934\n",
            "Epoch 117/500\n",
            "2/2 [==============================] - 0s 6ms/step - loss: 14.2952 - mse: 291.5838\n",
            "Epoch 118/500\n",
            "2/2 [==============================] - 0s 6ms/step - loss: 17.3057 - mse: 459.7532\n",
            "Epoch 119/500\n",
            "2/2 [==============================] - 0s 6ms/step - loss: 15.8666 - mse: 414.8195\n",
            "Epoch 120/500\n",
            "2/2 [==============================] - 0s 11ms/step - loss: 56.2115 - mse: 5168.3867\n",
            "Epoch 121/500\n",
            "2/2 [==============================] - 0s 10ms/step - loss: 21.4920 - mse: 644.5527\n",
            "Epoch 122/500\n",
            "2/2 [==============================] - 0s 6ms/step - loss: 18.9086 - mse: 508.2083\n",
            "Epoch 123/500\n",
            "2/2 [==============================] - 0s 7ms/step - loss: 19.8887 - mse: 567.5416\n",
            "Epoch 124/500\n",
            "2/2 [==============================] - 0s 15ms/step - loss: 9.6809 - mse: 208.5086\n",
            "Epoch 125/500\n",
            "2/2 [==============================] - 0s 9ms/step - loss: 13.7463 - mse: 288.3575\n",
            "Epoch 126/500\n",
            "2/2 [==============================] - 0s 8ms/step - loss: 16.7052 - mse: 451.3735\n",
            "Epoch 127/500\n",
            "2/2 [==============================] - 0s 7ms/step - loss: 23.7315 - mse: 859.1522\n",
            "Epoch 128/500\n",
            "2/2 [==============================] - 0s 8ms/step - loss: 23.9948 - mse: 827.9946\n",
            "Epoch 129/500\n",
            "2/2 [==============================] - 0s 4ms/step - loss: 10.7373 - mse: 275.6156\n",
            "Epoch 130/500\n",
            "2/2 [==============================] - 0s 10ms/step - loss: 12.1983 - mse: 343.5211\n",
            "Epoch 131/500\n",
            "2/2 [==============================] - 0s 6ms/step - loss: 19.0186 - mse: 590.9363\n",
            "Epoch 132/500\n",
            "2/2 [==============================] - 0s 12ms/step - loss: 34.2191 - mse: 1779.2789\n",
            "Epoch 133/500\n",
            "2/2 [==============================] - 0s 5ms/step - loss: 13.6384 - mse: 321.3326\n",
            "Epoch 134/500\n",
            "2/2 [==============================] - 0s 6ms/step - loss: 11.3214 - mse: 324.8299\n",
            "Epoch 135/500\n",
            "2/2 [==============================] - 0s 5ms/step - loss: 15.8710 - mse: 416.7072\n",
            "Epoch 136/500\n",
            "2/2 [==============================] - 0s 4ms/step - loss: 28.3510 - mse: 1145.4174\n",
            "Epoch 137/500\n",
            "2/2 [==============================] - 0s 3ms/step - loss: 15.8462 - mse: 373.2652\n",
            "Epoch 138/500\n",
            "2/2 [==============================] - 0s 10ms/step - loss: 11.4664 - mse: 247.3055\n",
            "Epoch 139/500\n",
            "2/2 [==============================] - 0s 14ms/step - loss: 13.8855 - mse: 277.0493\n",
            "Epoch 140/500\n",
            "2/2 [==============================] - 0s 3ms/step - loss: 24.7238 - mse: 904.0539\n",
            "Epoch 141/500\n",
            "2/2 [==============================] - 0s 9ms/step - loss: 20.9249 - mse: 612.5298\n",
            "Epoch 142/500\n",
            "2/2 [==============================] - 0s 8ms/step - loss: 19.2835 - mse: 529.0256\n",
            "Epoch 143/500\n",
            "2/2 [==============================] - 0s 9ms/step - loss: 8.7825 - mse: 191.3521\n",
            "Epoch 144/500\n",
            "2/2 [==============================] - 0s 5ms/step - loss: 14.7375 - mse: 320.7735\n",
            "Epoch 145/500\n",
            "2/2 [==============================] - 0s 10ms/step - loss: 28.7633 - mse: 1182.1697\n",
            "Epoch 146/500\n",
            "2/2 [==============================] - 0s 6ms/step - loss: 7.3183 - mse: 111.3536\n",
            "Epoch 147/500\n",
            "2/2 [==============================] - 0s 7ms/step - loss: 19.0756 - mse: 622.2153\n",
            "Epoch 148/500\n",
            "2/2 [==============================] - 0s 7ms/step - loss: 34.9578 - mse: 1811.9375\n",
            "Epoch 149/500\n",
            "2/2 [==============================] - 0s 10ms/step - loss: 5.8347 - mse: 150.4940\n",
            "Epoch 150/500\n",
            "2/2 [==============================] - 0s 4ms/step - loss: 15.3618 - mse: 345.7949\n",
            "Epoch 151/500\n",
            "2/2 [==============================] - 0s 4ms/step - loss: 27.6012 - mse: 1133.1809\n",
            "Epoch 152/500\n",
            "2/2 [==============================] - 0s 5ms/step - loss: 14.3077 - mse: 340.2524\n",
            "Epoch 153/500\n",
            "2/2 [==============================] - 0s 4ms/step - loss: 6.5990 - mse: 108.9928\n",
            "Epoch 154/500\n",
            "2/2 [==============================] - 0s 4ms/step - loss: 17.5497 - mse: 509.2939\n",
            "Epoch 155/500\n",
            "2/2 [==============================] - 0s 4ms/step - loss: 22.0820 - mse: 728.7017\n",
            "Epoch 156/500\n",
            "2/2 [==============================] - 0s 8ms/step - loss: 30.2417 - mse: 1326.8357\n",
            "Epoch 157/500\n",
            "2/2 [==============================] - 0s 5ms/step - loss: 27.3468 - mse: 1082.0715\n",
            "Epoch 158/500\n",
            "2/2 [==============================] - 0s 4ms/step - loss: 7.7501 - mse: 205.9868\n",
            "Epoch 159/500\n",
            "2/2 [==============================] - 0s 4ms/step - loss: 15.4529 - mse: 373.9843\n",
            "Epoch 160/500\n",
            "2/2 [==============================] - 0s 8ms/step - loss: 29.0313 - mse: 1227.7869\n",
            "Epoch 161/500\n",
            "2/2 [==============================] - 0s 10ms/step - loss: 11.6210 - mse: 316.1473\n",
            "Epoch 162/500\n",
            "2/2 [==============================] - 0s 9ms/step - loss: 5.9604 - mse: 204.4174\n",
            "Epoch 163/500\n",
            "2/2 [==============================] - 0s 5ms/step - loss: 12.1948 - mse: 281.4270\n",
            "Epoch 164/500\n",
            "2/2 [==============================] - 0s 12ms/step - loss: 8.5971 - mse: 272.6177\n",
            "Epoch 165/500\n",
            "2/2 [==============================] - 0s 4ms/step - loss: 7.0250 - mse: 269.8969\n",
            "Epoch 166/500\n",
            "2/2 [==============================] - 0s 26ms/step - loss: 12.7696 - mse: 308.9999\n",
            "Epoch 167/500\n",
            "2/2 [==============================] - 0s 11ms/step - loss: 19.9725 - mse: 655.9596\n",
            "Epoch 168/500\n",
            "2/2 [==============================] - 0s 12ms/step - loss: 31.5021 - mse: 1472.2292\n",
            "Epoch 169/500\n",
            "2/2 [==============================] - 0s 13ms/step - loss: 20.7422 - mse: 606.8705\n",
            "Epoch 170/500\n",
            "2/2 [==============================] - 0s 6ms/step - loss: 12.7352 - mse: 293.9911\n",
            "Epoch 171/500\n",
            "2/2 [==============================] - 0s 5ms/step - loss: 18.9262 - mse: 594.7495\n",
            "Epoch 172/500\n",
            "2/2 [==============================] - 0s 13ms/step - loss: 38.8438 - mse: 2351.8843\n",
            "Epoch 173/500\n",
            "2/2 [==============================] - 0s 12ms/step - loss: 22.6233 - mse: 725.5814\n",
            "Epoch 174/500\n",
            "2/2 [==============================] - 0s 4ms/step - loss: 11.8138 - mse: 396.1638\n",
            "Epoch 175/500\n",
            "2/2 [==============================] - 0s 3ms/step - loss: 25.2987 - mse: 989.7671\n",
            "Epoch 176/500\n",
            "2/2 [==============================] - 0s 3ms/step - loss: 18.3603 - mse: 461.6952\n",
            "Epoch 177/500\n",
            "2/2 [==============================] - 0s 4ms/step - loss: 13.9681 - mse: 286.8595\n",
            "Epoch 178/500\n",
            "2/2 [==============================] - 0s 6ms/step - loss: 21.1895 - mse: 725.0094\n",
            "Epoch 179/500\n",
            "2/2 [==============================] - 0s 10ms/step - loss: 27.0603 - mse: 1054.1501\n",
            "Epoch 180/500\n",
            "2/2 [==============================] - 0s 9ms/step - loss: 13.9921 - mse: 286.4448\n",
            "Epoch 181/500\n",
            "2/2 [==============================] - 0s 5ms/step - loss: 22.1972 - mse: 753.6167\n",
            "Epoch 182/500\n",
            "2/2 [==============================] - 0s 5ms/step - loss: 29.0541 - mse: 1236.4310\n",
            "Epoch 183/500\n",
            "2/2 [==============================] - 0s 4ms/step - loss: 10.3194 - mse: 337.1420\n",
            "Epoch 184/500\n",
            "2/2 [==============================] - 0s 6ms/step - loss: 10.6065 - mse: 236.1827\n",
            "Epoch 185/500\n",
            "2/2 [==============================] - 0s 6ms/step - loss: 14.5728 - mse: 299.5509\n",
            "Epoch 186/500\n",
            "2/2 [==============================] - 0s 4ms/step - loss: 23.4918 - mse: 849.6268\n",
            "Epoch 187/500\n",
            "2/2 [==============================] - 0s 4ms/step - loss: 21.2497 - mse: 635.2687\n",
            "Epoch 188/500\n",
            "2/2 [==============================] - 0s 10ms/step - loss: 11.8348 - mse: 208.6703\n",
            "Epoch 189/500\n",
            "2/2 [==============================] - 0s 8ms/step - loss: 16.2839 - mse: 401.2745\n",
            "Epoch 190/500\n",
            "2/2 [==============================] - 0s 4ms/step - loss: 23.6260 - mse: 870.8976\n",
            "Epoch 191/500\n",
            "2/2 [==============================] - 0s 4ms/step - loss: 22.3049 - mse: 700.9988\n",
            "Epoch 192/500\n",
            "2/2 [==============================] - 0s 4ms/step - loss: 12.2389 - mse: 358.1088\n",
            "Epoch 193/500\n",
            "2/2 [==============================] - 0s 6ms/step - loss: 27.2319 - mse: 1092.5227\n",
            "Epoch 194/500\n",
            "2/2 [==============================] - 0s 4ms/step - loss: 10.4223 - mse: 184.5056\n",
            "Epoch 195/500\n",
            "2/2 [==============================] - 0s 9ms/step - loss: 15.4620 - mse: 377.9719\n",
            "Epoch 196/500\n",
            "2/2 [==============================] - 0s 6ms/step - loss: 28.8647 - mse: 1242.6172\n",
            "Epoch 197/500\n",
            "2/2 [==============================] - 0s 6ms/step - loss: 8.0307 - mse: 245.3077\n",
            "Epoch 198/500\n",
            "2/2 [==============================] - 0s 6ms/step - loss: 12.3667 - mse: 352.6757\n",
            "Epoch 199/500\n",
            "2/2 [==============================] - 0s 9ms/step - loss: 24.2374 - mse: 874.2042\n",
            "Epoch 200/500\n",
            "2/2 [==============================] - 0s 5ms/step - loss: 25.9415 - mse: 975.8719\n",
            "Epoch 201/500\n",
            "2/2 [==============================] - 0s 4ms/step - loss: 10.0415 - mse: 631.1800\n",
            "Epoch 202/500\n",
            "2/2 [==============================] - 0s 4ms/step - loss: 18.8348 - mse: 571.8751\n",
            "Epoch 203/500\n",
            "2/2 [==============================] - 0s 4ms/step - loss: 32.9076 - mse: 1634.9434\n",
            "Epoch 204/500\n",
            "2/2 [==============================] - 0s 12ms/step - loss: 25.9940 - mse: 961.9163\n",
            "Epoch 205/500\n",
            "2/2 [==============================] - 0s 5ms/step - loss: 10.0110 - mse: 220.1525\n",
            "Epoch 206/500\n",
            "2/2 [==============================] - 0s 7ms/step - loss: 12.8606 - mse: 280.0905\n",
            "Epoch 207/500\n",
            "2/2 [==============================] - 0s 4ms/step - loss: 23.2324 - mse: 810.3246\n",
            "Epoch 208/500\n",
            "2/2 [==============================] - 0s 5ms/step - loss: 26.8435 - mse: 1041.8602\n",
            "Epoch 209/500\n",
            "2/2 [==============================] - 0s 13ms/step - loss: 19.6033 - mse: 542.4316\n",
            "Epoch 210/500\n",
            "2/2 [==============================] - 0s 12ms/step - loss: 18.9049 - mse: 511.8017\n",
            "Epoch 211/500\n",
            "2/2 [==============================] - 0s 6ms/step - loss: 10.5384 - mse: 622.5184\n",
            "Epoch 212/500\n",
            "2/2 [==============================] - 0s 5ms/step - loss: 22.0330 - mse: 764.3661\n",
            "Epoch 213/500\n",
            "2/2 [==============================] - 0s 10ms/step - loss: 21.6686 - mse: 664.7255\n",
            "Epoch 214/500\n",
            "2/2 [==============================] - 0s 12ms/step - loss: 10.8009 - mse: 515.7901\n",
            "Epoch 215/500\n",
            "2/2 [==============================] - 0s 6ms/step - loss: 20.4281 - mse: 703.2336\n",
            "Epoch 216/500\n",
            "2/2 [==============================] - 0s 4ms/step - loss: 26.2786 - mse: 990.9170\n",
            "Epoch 217/500\n",
            "2/2 [==============================] - 0s 4ms/step - loss: 11.8109 - mse: 194.9704\n",
            "Epoch 218/500\n",
            "2/2 [==============================] - 0s 9ms/step - loss: 20.8266 - mse: 723.7970\n",
            "Epoch 219/500\n",
            "2/2 [==============================] - 0s 10ms/step - loss: 15.4427 - mse: 333.4217\n",
            "Epoch 220/500\n",
            "2/2 [==============================] - 0s 7ms/step - loss: 13.3296 - mse: 251.0190\n",
            "Epoch 221/500\n",
            "2/2 [==============================] - 0s 9ms/step - loss: 33.8098 - mse: 1619.3132\n",
            "Epoch 222/500\n",
            "2/2 [==============================] - 0s 6ms/step - loss: 11.1683 - mse: 211.4494\n",
            "Epoch 223/500\n",
            "2/2 [==============================] - 0s 10ms/step - loss: 10.7667 - mse: 289.2361\n",
            "Epoch 224/500\n",
            "2/2 [==============================] - 0s 12ms/step - loss: 13.6005 - mse: 259.9905\n",
            "Epoch 225/500\n",
            "2/2 [==============================] - 0s 6ms/step - loss: 32.9574 - mse: 1561.7517\n",
            "Epoch 226/500\n",
            "2/2 [==============================] - 0s 10ms/step - loss: 12.9873 - mse: 276.3542\n",
            "Epoch 227/500\n",
            "2/2 [==============================] - 0s 6ms/step - loss: 21.2119 - mse: 711.1949\n",
            "Epoch 228/500\n",
            "2/2 [==============================] - 0s 5ms/step - loss: 27.7528 - mse: 1120.2816\n",
            "Epoch 229/500\n",
            "2/2 [==============================] - 0s 6ms/step - loss: 8.1422 - mse: 220.2966\n",
            "Epoch 230/500\n",
            "2/2 [==============================] - 0s 6ms/step - loss: 14.6747 - mse: 303.5143\n",
            "Epoch 231/500\n",
            "2/2 [==============================] - 0s 6ms/step - loss: 21.9837 - mse: 753.9736\n",
            "Epoch 232/500\n",
            "2/2 [==============================] - 0s 9ms/step - loss: 26.3585 - mse: 974.6005\n",
            "Epoch 233/500\n",
            "2/2 [==============================] - 0s 4ms/step - loss: 18.2207 - mse: 482.9041\n",
            "Epoch 234/500\n",
            "2/2 [==============================] - 0s 5ms/step - loss: 2.9026 - mse: 58.8835\n",
            "Epoch 235/500\n",
            "2/2 [==============================] - 0s 8ms/step - loss: 17.7721 - mse: 445.9040\n",
            "Epoch 236/500\n",
            "2/2 [==============================] - 0s 9ms/step - loss: 9.4972 - mse: 340.8407\n",
            "Epoch 237/500\n",
            "2/2 [==============================] - 0s 11ms/step - loss: 11.6703 - mse: 245.4521\n",
            "Epoch 238/500\n",
            "2/2 [==============================] - 0s 5ms/step - loss: 13.7864 - mse: 281.3491\n",
            "Epoch 239/500\n",
            "2/2 [==============================] - 0s 4ms/step - loss: 21.9254 - mse: 749.2805\n",
            "Epoch 240/500\n",
            "2/2 [==============================] - 0s 9ms/step - loss: 28.6093 - mse: 1223.3098\n",
            "Epoch 241/500\n",
            "2/2 [==============================] - 0s 20ms/step - loss: 9.8678 - mse: 271.9259\n",
            "Epoch 242/500\n",
            "2/2 [==============================] - 0s 5ms/step - loss: 12.1773 - mse: 326.0633\n",
            "Epoch 243/500\n",
            "2/2 [==============================] - 0s 17ms/step - loss: 22.9230 - mse: 837.3505\n",
            "Epoch 244/500\n",
            "2/2 [==============================] - 0s 11ms/step - loss: 19.4333 - mse: 534.0563\n",
            "Epoch 245/500\n",
            "2/2 [==============================] - 0s 9ms/step - loss: 11.0202 - mse: 302.9160\n",
            "Epoch 246/500\n",
            "2/2 [==============================] - 0s 7ms/step - loss: 14.4556 - mse: 304.1855\n",
            "Epoch 247/500\n",
            "2/2 [==============================] - 0s 9ms/step - loss: 29.8311 - mse: 1307.8657\n",
            "Epoch 248/500\n",
            "2/2 [==============================] - 0s 4ms/step - loss: 8.8563 - mse: 376.6506\n",
            "Epoch 249/500\n",
            "2/2 [==============================] - 0s 8ms/step - loss: 12.3965 - mse: 310.2710\n",
            "Epoch 250/500\n",
            "2/2 [==============================] - 0s 5ms/step - loss: 24.5252 - mse: 924.2723\n",
            "Epoch 251/500\n",
            "2/2 [==============================] - 0s 5ms/step - loss: 17.4086 - mse: 445.7230\n",
            "Epoch 252/500\n",
            "2/2 [==============================] - 0s 6ms/step - loss: 20.9751 - mse: 621.9388\n",
            "Epoch 253/500\n",
            "2/2 [==============================] - 0s 4ms/step - loss: 8.1464 - mse: 237.7275\n",
            "Epoch 254/500\n",
            "2/2 [==============================] - 0s 6ms/step - loss: 13.9030 - mse: 274.3869\n",
            "Epoch 255/500\n",
            "2/2 [==============================] - 0s 9ms/step - loss: 27.6514 - mse: 1147.4133\n",
            "Epoch 256/500\n",
            "2/2 [==============================] - 0s 4ms/step - loss: 14.0958 - mse: 313.7827\n",
            "Epoch 257/500\n",
            "2/2 [==============================] - 0s 7ms/step - loss: 11.1986 - mse: 348.3974\n",
            "Epoch 258/500\n",
            "2/2 [==============================] - 0s 7ms/step - loss: 15.2803 - mse: 361.5267\n",
            "Epoch 259/500\n",
            "2/2 [==============================] - 0s 7ms/step - loss: 28.5782 - mse: 1141.3123\n",
            "Epoch 260/500\n",
            "2/2 [==============================] - 0s 6ms/step - loss: 17.4871 - mse: 454.2013\n",
            "Epoch 261/500\n",
            "2/2 [==============================] - 0s 4ms/step - loss: 10.9339 - mse: 263.2436\n",
            "Epoch 262/500\n",
            "2/2 [==============================] - 0s 3ms/step - loss: 14.3323 - mse: 293.2297\n",
            "Epoch 263/500\n",
            "2/2 [==============================] - 0s 6ms/step - loss: 15.2699 - mse: 338.7552\n",
            "Epoch 264/500\n",
            "2/2 [==============================] - 0s 5ms/step - loss: 25.2737 - mse: 997.0327\n",
            "Epoch 265/500\n",
            "2/2 [==============================] - 0s 6ms/step - loss: 15.1547 - mse: 338.2231\n",
            "Epoch 266/500\n",
            "2/2 [==============================] - 0s 6ms/step - loss: 14.1781 - mse: 292.9904\n",
            "Epoch 267/500\n",
            "2/2 [==============================] - 0s 6ms/step - loss: 12.3883 - mse: 308.0637\n",
            "Epoch 268/500\n",
            "2/2 [==============================] - 0s 11ms/step - loss: 20.9850 - mse: 662.5054\n",
            "Epoch 269/500\n",
            "2/2 [==============================] - 0s 15ms/step - loss: 39.1631 - mse: 2292.6814\n",
            "Epoch 270/500\n",
            "2/2 [==============================] - 0s 4ms/step - loss: 11.6283 - mse: 229.7773\n",
            "Epoch 271/500\n",
            "2/2 [==============================] - 0s 6ms/step - loss: 15.3263 - mse: 384.0285\n",
            "Epoch 272/500\n",
            "2/2 [==============================] - 0s 11ms/step - loss: 32.1627 - mse: 1471.6895\n",
            "Epoch 273/500\n",
            "2/2 [==============================] - 0s 13ms/step - loss: 10.4332 - mse: 289.5980\n",
            "Epoch 274/500\n",
            "2/2 [==============================] - 0s 6ms/step - loss: 12.3257 - mse: 381.0233\n",
            "Epoch 275/500\n",
            "2/2 [==============================] - 0s 7ms/step - loss: 29.1937 - mse: 1264.1807\n",
            "Epoch 276/500\n",
            "2/2 [==============================] - 0s 7ms/step - loss: 7.8192 - mse: 349.8882\n",
            "Epoch 277/500\n",
            "2/2 [==============================] - 0s 9ms/step - loss: 7.7024 - mse: 340.3707\n",
            "Epoch 278/500\n",
            "2/2 [==============================] - 0s 6ms/step - loss: 9.2685 - mse: 466.8300\n",
            "Epoch 279/500\n",
            "2/2 [==============================] - 0s 9ms/step - loss: 13.9949 - mse: 279.4166\n",
            "Epoch 280/500\n",
            "2/2 [==============================] - 0s 4ms/step - loss: 26.9390 - mse: 1079.3047\n",
            "Epoch 281/500\n",
            "2/2 [==============================] - 0s 5ms/step - loss: 13.6577 - mse: 308.7014\n",
            "Epoch 282/500\n",
            "2/2 [==============================] - 0s 3ms/step - loss: 11.7713 - mse: 287.2018\n",
            "Epoch 283/500\n",
            "2/2 [==============================] - 0s 6ms/step - loss: 14.4518 - mse: 297.6699\n",
            "Epoch 284/500\n",
            "2/2 [==============================] - 0s 5ms/step - loss: 28.9830 - mse: 1202.1218\n",
            "Epoch 285/500\n",
            "2/2 [==============================] - 0s 3ms/step - loss: 11.6706 - mse: 234.9846\n",
            "Epoch 286/500\n",
            "2/2 [==============================] - 0s 4ms/step - loss: 13.0449 - mse: 285.0258\n",
            "Epoch 287/500\n",
            "2/2 [==============================] - 0s 3ms/step - loss: 21.9121 - mse: 752.3081\n",
            "Epoch 288/500\n",
            "2/2 [==============================] - 0s 23ms/step - loss: 31.7281 - mse: 1480.8669\n",
            "Epoch 289/500\n",
            "2/2 [==============================] - 0s 10ms/step - loss: 10.0313 - mse: 402.2863\n",
            "Epoch 290/500\n",
            "2/2 [==============================] - 0s 8ms/step - loss: 14.2374 - mse: 289.2077\n",
            "Epoch 291/500\n",
            "2/2 [==============================] - 0s 12ms/step - loss: 15.7103 - mse: 358.4599\n",
            "Epoch 292/500\n",
            "2/2 [==============================] - 0s 9ms/step - loss: 17.9001 - mse: 550.1010\n",
            "Epoch 293/500\n",
            "2/2 [==============================] - 0s 9ms/step - loss: 22.7476 - mse: 765.2886\n",
            "Epoch 294/500\n",
            "2/2 [==============================] - 0s 9ms/step - loss: 29.7402 - mse: 1323.3080\n",
            "Epoch 295/500\n",
            "2/2 [==============================] - 0s 6ms/step - loss: 7.6644 - mse: 197.3766\n",
            "Epoch 296/500\n",
            "2/2 [==============================] - 0s 8ms/step - loss: 13.7217 - mse: 259.9527\n",
            "Epoch 297/500\n",
            "2/2 [==============================] - 0s 11ms/step - loss: 11.8804 - mse: 376.7095\n",
            "Epoch 298/500\n",
            "2/2 [==============================] - 0s 12ms/step - loss: 22.1666 - mse: 763.2289\n",
            "Epoch 299/500\n",
            "2/2 [==============================] - 0s 3ms/step - loss: 26.4455 - mse: 1011.8289\n",
            "Epoch 300/500\n",
            "2/2 [==============================] - 0s 3ms/step - loss: 14.8019 - mse: 344.2933\n",
            "Epoch 301/500\n",
            "2/2 [==============================] - 0s 8ms/step - loss: 11.0092 - mse: 339.4012\n",
            "Epoch 302/500\n",
            "2/2 [==============================] - 0s 4ms/step - loss: 16.0856 - mse: 415.3119\n",
            "Epoch 303/500\n",
            "2/2 [==============================] - 0s 7ms/step - loss: 25.0171 - mse: 953.8447\n",
            "Epoch 304/500\n",
            "2/2 [==============================] - 0s 11ms/step - loss: 22.1011 - mse: 690.4761\n",
            "Epoch 305/500\n",
            "2/2 [==============================] - 0s 4ms/step - loss: 6.9425 - mse: 283.4326\n",
            "Epoch 306/500\n",
            "2/2 [==============================] - 0s 6ms/step - loss: 12.9212 - mse: 257.9522\n",
            "Epoch 307/500\n",
            "2/2 [==============================] - 0s 4ms/step - loss: 15.3218 - mse: 349.8731\n",
            "Epoch 308/500\n",
            "2/2 [==============================] - 0s 4ms/step - loss: 25.0529 - mse: 968.9053\n",
            "Epoch 309/500\n",
            "2/2 [==============================] - 0s 4ms/step - loss: 17.8056 - mse: 461.3213\n",
            "Epoch 310/500\n",
            "2/2 [==============================] - 0s 5ms/step - loss: 8.8363 - mse: 305.0184\n",
            "Epoch 311/500\n",
            "2/2 [==============================] - 0s 27ms/step - loss: 11.4052 - mse: 602.6526\n",
            "Epoch 312/500\n",
            "2/2 [==============================] - 0s 11ms/step - loss: 27.1664 - mse: 1068.8973\n",
            "Epoch 313/500\n",
            "2/2 [==============================] - 0s 9ms/step - loss: 17.0961 - mse: 407.9188\n",
            "Epoch 314/500\n",
            "2/2 [==============================] - 0s 4ms/step - loss: 14.1010 - mse: 279.5526\n",
            "Epoch 315/500\n",
            "2/2 [==============================] - 0s 5ms/step - loss: 28.2396 - mse: 1171.6593\n",
            "Epoch 316/500\n",
            "2/2 [==============================] - 0s 4ms/step - loss: 12.1829 - mse: 320.8474\n",
            "Epoch 317/500\n",
            "2/2 [==============================] - 0s 6ms/step - loss: 11.9991 - mse: 312.4891\n",
            "Epoch 318/500\n",
            "2/2 [==============================] - 0s 4ms/step - loss: 10.7592 - mse: 304.5991\n",
            "Epoch 319/500\n",
            "2/2 [==============================] - 0s 13ms/step - loss: 14.6809 - mse: 306.7006\n",
            "Epoch 320/500\n",
            "2/2 [==============================] - 0s 7ms/step - loss: 26.9906 - mse: 1069.2849\n",
            "Epoch 321/500\n",
            "2/2 [==============================] - 0s 6ms/step - loss: 13.7951 - mse: 287.7090\n",
            "Epoch 322/500\n",
            "2/2 [==============================] - 0s 4ms/step - loss: 14.4227 - mse: 293.9692\n",
            "Epoch 323/500\n",
            "2/2 [==============================] - 0s 6ms/step - loss: 20.6279 - mse: 685.5793\n",
            "Epoch 324/500\n",
            "2/2 [==============================] - 0s 13ms/step - loss: 31.1301 - mse: 1444.8181\n",
            "Epoch 325/500\n",
            "2/2 [==============================] - 0s 11ms/step - loss: 9.2303 - mse: 241.4524\n",
            "Epoch 326/500\n",
            "2/2 [==============================] - 0s 7ms/step - loss: 12.3569 - mse: 296.1691\n",
            "Epoch 327/500\n",
            "2/2 [==============================] - 0s 7ms/step - loss: 19.8797 - mse: 658.8248\n",
            "Epoch 328/500\n",
            "2/2 [==============================] - 0s 7ms/step - loss: 16.1141 - mse: 386.1711\n",
            "Epoch 329/500\n",
            "2/2 [==============================] - 0s 6ms/step - loss: 20.7015 - mse: 725.7750\n",
            "Epoch 330/500\n",
            "2/2 [==============================] - 0s 4ms/step - loss: 27.2248 - mse: 1048.3850\n",
            "Epoch 331/500\n",
            "2/2 [==============================] - 0s 6ms/step - loss: 16.4644 - mse: 405.6775\n",
            "Epoch 332/500\n",
            "2/2 [==============================] - 0s 7ms/step - loss: 6.1865 - mse: 226.7016\n",
            "Epoch 333/500\n",
            "2/2 [==============================] - 0s 5ms/step - loss: 9.4142 - mse: 360.4113\n",
            "Epoch 334/500\n",
            "2/2 [==============================] - 0s 6ms/step - loss: 12.4474 - mse: 263.0918\n",
            "Epoch 335/500\n",
            "2/2 [==============================] - 0s 6ms/step - loss: 13.0224 - mse: 265.4660\n",
            "Epoch 336/500\n",
            "2/2 [==============================] - 0s 4ms/step - loss: 33.8725 - mse: 1619.2511\n",
            "Epoch 337/500\n",
            "2/2 [==============================] - 0s 4ms/step - loss: 12.5867 - mse: 267.5179\n",
            "Epoch 338/500\n",
            "2/2 [==============================] - 0s 4ms/step - loss: 18.8332 - mse: 584.3859\n",
            "Epoch 339/500\n",
            "2/2 [==============================] - 0s 5ms/step - loss: 39.8682 - mse: 2460.5535\n",
            "Epoch 340/500\n",
            "2/2 [==============================] - 0s 4ms/step - loss: 12.3759 - mse: 285.2249\n",
            "Epoch 341/500\n",
            "2/2 [==============================] - 0s 5ms/step - loss: 8.0799 - mse: 296.3047\n",
            "Epoch 342/500\n",
            "2/2 [==============================] - 0s 6ms/step - loss: 7.7974 - mse: 125.1757\n",
            "Epoch 343/500\n",
            "2/2 [==============================] - 0s 5ms/step - loss: 19.4887 - mse: 610.4777\n",
            "Epoch 344/500\n",
            "2/2 [==============================] - 0s 5ms/step - loss: 13.9628 - mse: 287.1124\n",
            "Epoch 345/500\n",
            "2/2 [==============================] - 0s 4ms/step - loss: 34.4546 - mse: 1707.8715\n",
            "Epoch 346/500\n",
            "2/2 [==============================] - 0s 6ms/step - loss: 13.8946 - mse: 274.0116\n",
            "Epoch 347/500\n",
            "2/2 [==============================] - 0s 4ms/step - loss: 28.6378 - mse: 1180.0361\n",
            "Epoch 348/500\n",
            "2/2 [==============================] - 0s 6ms/step - loss: 9.3984 - mse: 195.3730\n",
            "Epoch 349/500\n",
            "2/2 [==============================] - 0s 8ms/step - loss: 15.9776 - mse: 370.6060\n",
            "Epoch 350/500\n",
            "2/2 [==============================] - 0s 6ms/step - loss: 18.4004 - mse: 509.4538\n",
            "Epoch 351/500\n",
            "2/2 [==============================] - 0s 5ms/step - loss: 46.8956 - mse: 3519.5015\n",
            "Epoch 352/500\n",
            "2/2 [==============================] - 0s 4ms/step - loss: 13.7439 - mse: 332.9931\n",
            "Epoch 353/500\n",
            "2/2 [==============================] - 0s 5ms/step - loss: 11.8709 - mse: 289.4108\n",
            "Epoch 354/500\n",
            "2/2 [==============================] - 0s 7ms/step - loss: 14.9188 - mse: 342.7837\n",
            "Epoch 355/500\n",
            "2/2 [==============================] - 0s 5ms/step - loss: 31.1997 - mse: 1417.5127\n",
            "Epoch 356/500\n",
            "2/2 [==============================] - 0s 5ms/step - loss: 11.4347 - mse: 438.6744\n",
            "Epoch 357/500\n",
            "2/2 [==============================] - 0s 4ms/step - loss: 22.5832 - mse: 753.4041\n",
            "Epoch 358/500\n",
            "2/2 [==============================] - 0s 12ms/step - loss: 32.1924 - mse: 1527.4181\n",
            "Epoch 359/500\n",
            "2/2 [==============================] - 0s 24ms/step - loss: 8.8068 - mse: 301.8060\n",
            "Epoch 360/500\n",
            "2/2 [==============================] - 0s 7ms/step - loss: 11.0152 - mse: 282.3317\n",
            "Epoch 361/500\n",
            "2/2 [==============================] - 0s 10ms/step - loss: 13.1948 - mse: 293.3283\n",
            "Epoch 362/500\n",
            "2/2 [==============================] - 0s 4ms/step - loss: 18.3038 - mse: 528.6761\n",
            "Epoch 363/500\n",
            "2/2 [==============================] - 0s 6ms/step - loss: 37.0818 - mse: 2293.5696\n",
            "Epoch 364/500\n",
            "2/2 [==============================] - 0s 6ms/step - loss: 46.0549 - mse: 3313.8218\n",
            "Epoch 365/500\n",
            "2/2 [==============================] - 0s 15ms/step - loss: 18.3249 - mse: 467.5111\n",
            "Epoch 366/500\n",
            "2/2 [==============================] - 0s 8ms/step - loss: 12.8933 - mse: 299.4742\n",
            "Epoch 367/500\n",
            "2/2 [==============================] - 0s 12ms/step - loss: 31.5475 - mse: 1429.7135\n",
            "Epoch 368/500\n",
            "2/2 [==============================] - 0s 8ms/step - loss: 11.0937 - mse: 328.5769\n",
            "Epoch 369/500\n",
            "2/2 [==============================] - 0s 11ms/step - loss: 14.9014 - mse: 314.6709\n",
            "Epoch 370/500\n",
            "2/2 [==============================] - 0s 15ms/step - loss: 18.9542 - mse: 586.3685\n",
            "Epoch 371/500\n",
            "2/2 [==============================] - 0s 6ms/step - loss: 38.8778 - mse: 2274.0400\n",
            "Epoch 372/500\n",
            "2/2 [==============================] - 0s 4ms/step - loss: 7.5106 - mse: 308.6394\n",
            "Epoch 373/500\n",
            "2/2 [==============================] - 0s 4ms/step - loss: 10.4291 - mse: 282.0015\n",
            "Epoch 374/500\n",
            "2/2 [==============================] - 0s 4ms/step - loss: 12.4805 - mse: 251.4707\n",
            "Epoch 375/500\n",
            "2/2 [==============================] - 0s 9ms/step - loss: 14.3082 - mse: 288.8014\n",
            "Epoch 376/500\n",
            "2/2 [==============================] - 0s 4ms/step - loss: 16.3448 - mse: 390.9939\n",
            "Epoch 377/500\n",
            "2/2 [==============================] - 0s 4ms/step - loss: 15.8561 - mse: 357.4642\n",
            "Epoch 378/500\n",
            "2/2 [==============================] - 0s 4ms/step - loss: 19.9117 - mse: 619.2850\n",
            "Epoch 379/500\n",
            "2/2 [==============================] - 0s 4ms/step - loss: 35.3578 - mse: 1830.4994\n",
            "Epoch 380/500\n",
            "2/2 [==============================] - 0s 4ms/step - loss: 31.1031 - mse: 1400.4559\n",
            "Epoch 381/500\n",
            "2/2 [==============================] - 0s 4ms/step - loss: 7.2493 - mse: 199.2021\n",
            "Epoch 382/500\n",
            "2/2 [==============================] - 0s 6ms/step - loss: 14.9425 - mse: 315.9034\n",
            "Epoch 383/500\n",
            "2/2 [==============================] - 0s 4ms/step - loss: 21.1490 - mse: 748.5854\n",
            "Epoch 384/500\n",
            "2/2 [==============================] - 0s 10ms/step - loss: 22.0845 - mse: 679.1532\n",
            "Epoch 385/500\n",
            "2/2 [==============================] - 0s 4ms/step - loss: 14.5268 - mse: 298.0971\n",
            "Epoch 386/500\n",
            "2/2 [==============================] - 0s 4ms/step - loss: 24.1562 - mse: 892.4205\n",
            "Epoch 387/500\n",
            "2/2 [==============================] - 0s 8ms/step - loss: 20.8579 - mse: 618.0485\n",
            "Epoch 388/500\n",
            "2/2 [==============================] - 0s 5ms/step - loss: 5.4187 - mse: 192.9586\n",
            "Epoch 389/500\n",
            "2/2 [==============================] - 0s 5ms/step - loss: 14.8467 - mse: 312.6297\n",
            "Epoch 390/500\n",
            "2/2 [==============================] - 0s 5ms/step - loss: 21.1314 - mse: 734.2994\n",
            "Epoch 391/500\n",
            "2/2 [==============================] - 0s 4ms/step - loss: 28.3319 - mse: 1139.9895\n",
            "Epoch 392/500\n",
            "2/2 [==============================] - 0s 4ms/step - loss: 9.0903 - mse: 236.7771\n",
            "Epoch 393/500\n",
            "2/2 [==============================] - 0s 4ms/step - loss: 12.6544 - mse: 280.4111\n",
            "Epoch 394/500\n",
            "2/2 [==============================] - 0s 4ms/step - loss: 14.6463 - mse: 320.5023\n",
            "Epoch 395/500\n",
            "2/2 [==============================] - 0s 8ms/step - loss: 30.2351 - mse: 1312.0115\n",
            "Epoch 396/500\n",
            "2/2 [==============================] - 0s 4ms/step - loss: 7.3884 - mse: 210.7486\n",
            "Epoch 397/500\n",
            "2/2 [==============================] - 0s 4ms/step - loss: 14.9934 - mse: 319.4159\n",
            "Epoch 398/500\n",
            "2/2 [==============================] - 0s 4ms/step - loss: 24.9915 - mse: 939.9341\n",
            "Epoch 399/500\n",
            "2/2 [==============================] - 0s 4ms/step - loss: 19.2065 - mse: 526.1340\n",
            "Epoch 400/500\n",
            "2/2 [==============================] - 0s 4ms/step - loss: 8.3453 - mse: 167.1458\n",
            "Epoch 401/500\n",
            "2/2 [==============================] - 0s 5ms/step - loss: 15.4306 - mse: 368.8648\n",
            "Epoch 402/500\n",
            "2/2 [==============================] - 0s 5ms/step - loss: 28.4476 - mse: 1181.3284\n",
            "Epoch 403/500\n",
            "2/2 [==============================] - 0s 4ms/step - loss: 10.6856 - mse: 271.9960\n",
            "Epoch 404/500\n",
            "2/2 [==============================] - 0s 4ms/step - loss: 10.4106 - mse: 499.1468\n",
            "Epoch 405/500\n",
            "2/2 [==============================] - 0s 4ms/step - loss: 15.4420 - mse: 348.7227\n",
            "Epoch 406/500\n",
            "2/2 [==============================] - 0s 32ms/step - loss: 26.8518 - mse: 1093.8835\n",
            "Epoch 407/500\n",
            "2/2 [==============================] - 0s 20ms/step - loss: 14.0909 - mse: 335.9901\n",
            "Epoch 408/500\n",
            "2/2 [==============================] - 0s 8ms/step - loss: 10.3771 - mse: 576.7419\n",
            "Epoch 409/500\n",
            "2/2 [==============================] - 0s 5ms/step - loss: 19.7054 - mse: 662.0326\n",
            "Epoch 410/500\n",
            "2/2 [==============================] - 0s 9ms/step - loss: 28.1060 - mse: 1138.4939\n",
            "Epoch 411/500\n",
            "2/2 [==============================] - 0s 5ms/step - loss: 6.0476 - mse: 250.8917\n",
            "Epoch 412/500\n",
            "2/2 [==============================] - 0s 4ms/step - loss: 14.0440 - mse: 281.9817\n",
            "Epoch 413/500\n",
            "2/2 [==============================] - 0s 5ms/step - loss: 14.7384 - mse: 307.1344\n",
            "Epoch 414/500\n",
            "2/2 [==============================] - 0s 4ms/step - loss: 21.0729 - mse: 724.7684\n",
            "Epoch 415/500\n",
            "2/2 [==============================] - 0s 6ms/step - loss: 24.3237 - mse: 832.5915\n",
            "Epoch 416/500\n",
            "2/2 [==============================] - 0s 4ms/step - loss: 17.3840 - mse: 449.5873\n",
            "Epoch 417/500\n",
            "2/2 [==============================] - 0s 32ms/step - loss: 5.2408 - mse: 198.4558\n",
            "Epoch 418/500\n",
            "2/2 [==============================] - 0s 5ms/step - loss: 17.0484 - mse: 472.4652\n",
            "Epoch 419/500\n",
            "2/2 [==============================] - 0s 9ms/step - loss: 21.1347 - mse: 664.3224\n",
            "Epoch 420/500\n",
            "2/2 [==============================] - 0s 11ms/step - loss: 34.0758 - mse: 1713.8730\n",
            "Epoch 421/500\n",
            "2/2 [==============================] - 0s 13ms/step - loss: 14.4884 - mse: 335.3509\n",
            "Epoch 422/500\n",
            "2/2 [==============================] - 0s 6ms/step - loss: 12.1594 - mse: 369.7398\n",
            "Epoch 423/500\n",
            "2/2 [==============================] - 0s 7ms/step - loss: 23.9919 - mse: 852.0098\n",
            "Epoch 424/500\n",
            "2/2 [==============================] - 0s 9ms/step - loss: 21.4965 - mse: 649.4542\n",
            "Epoch 425/500\n",
            "2/2 [==============================] - 0s 11ms/step - loss: 12.1543 - mse: 265.2300\n",
            "Epoch 426/500\n",
            "2/2 [==============================] - 0s 4ms/step - loss: 11.3212 - mse: 314.1507\n",
            "Epoch 427/500\n",
            "2/2 [==============================] - 0s 5ms/step - loss: 16.1409 - mse: 406.5858\n",
            "Epoch 428/500\n",
            "2/2 [==============================] - 0s 4ms/step - loss: 23.0385 - mse: 776.6035\n",
            "Epoch 429/500\n",
            "2/2 [==============================] - 0s 4ms/step - loss: 28.3042 - mse: 1222.3573\n",
            "Epoch 430/500\n",
            "2/2 [==============================] - 0s 8ms/step - loss: 21.2541 - mse: 634.5804\n",
            "Epoch 431/500\n",
            "2/2 [==============================] - 0s 14ms/step - loss: 13.0457 - mse: 332.2692\n",
            "Epoch 432/500\n",
            "2/2 [==============================] - 0s 13ms/step - loss: 6.9992 - mse: 408.4666\n",
            "Epoch 433/500\n",
            "2/2 [==============================] - 0s 13ms/step - loss: 13.5254 - mse: 255.0294\n",
            "Epoch 434/500\n",
            "2/2 [==============================] - 0s 9ms/step - loss: 33.5976 - mse: 1620.2681\n",
            "Epoch 435/500\n",
            "2/2 [==============================] - 0s 8ms/step - loss: 13.1475 - mse: 279.5366\n",
            "Epoch 436/500\n",
            "2/2 [==============================] - 0s 6ms/step - loss: 30.9890 - mse: 1428.6396\n",
            "Epoch 437/500\n",
            "2/2 [==============================] - 0s 5ms/step - loss: 10.7946 - mse: 287.0036\n",
            "Epoch 438/500\n",
            "2/2 [==============================] - 0s 4ms/step - loss: 12.7422 - mse: 286.1013\n",
            "Epoch 439/500\n",
            "2/2 [==============================] - 0s 5ms/step - loss: 34.8723 - mse: 1726.5062\n",
            "Epoch 440/500\n",
            "2/2 [==============================] - 0s 10ms/step - loss: 14.4905 - mse: 295.0565\n",
            "Epoch 441/500\n",
            "2/2 [==============================] - 0s 6ms/step - loss: 17.0705 - mse: 515.3553\n",
            "Epoch 442/500\n",
            "2/2 [==============================] - 0s 8ms/step - loss: 23.5580 - mse: 864.2068\n",
            "Epoch 443/500\n",
            "2/2 [==============================] - 0s 6ms/step - loss: 23.0360 - mse: 749.5509\n",
            "Epoch 444/500\n",
            "2/2 [==============================] - 0s 8ms/step - loss: 9.5390 - mse: 175.7238\n",
            "Epoch 445/500\n",
            "2/2 [==============================] - 0s 4ms/step - loss: 17.0646 - mse: 484.7977\n",
            "Epoch 446/500\n",
            "2/2 [==============================] - 0s 8ms/step - loss: 23.2956 - mse: 854.1725\n",
            "Epoch 447/500\n",
            "2/2 [==============================] - 0s 6ms/step - loss: 24.0000 - mse: 813.1627\n",
            "Epoch 448/500\n",
            "2/2 [==============================] - 0s 33ms/step - loss: 14.2943 - mse: 289.1691\n",
            "Epoch 449/500\n",
            "2/2 [==============================] - 0s 13ms/step - loss: 16.6150 - mse: 420.5410\n",
            "Epoch 450/500\n",
            "2/2 [==============================] - 0s 8ms/step - loss: 21.2131 - mse: 704.7860\n",
            "Epoch 451/500\n",
            "2/2 [==============================] - 0s 8ms/step - loss: 27.0567 - mse: 1092.9266\n",
            "Epoch 452/500\n",
            "2/2 [==============================] - 0s 8ms/step - loss: 31.5480 - mse: 1535.2634\n",
            "Epoch 453/500\n",
            "2/2 [==============================] - 0s 5ms/step - loss: 16.7534 - mse: 430.3803\n",
            "Epoch 454/500\n",
            "2/2 [==============================] - 0s 6ms/step - loss: 12.7879 - mse: 303.7513\n",
            "Epoch 455/500\n",
            "2/2 [==============================] - 0s 6ms/step - loss: 9.9643 - mse: 314.3447\n",
            "Epoch 456/500\n",
            "2/2 [==============================] - 0s 8ms/step - loss: 10.6995 - mse: 388.6785\n",
            "Epoch 457/500\n",
            "2/2 [==============================] - 0s 15ms/step - loss: 15.1946 - mse: 324.2394\n",
            "Epoch 458/500\n",
            "2/2 [==============================] - 0s 9ms/step - loss: 18.1987 - mse: 545.6484\n",
            "Epoch 459/500\n",
            "2/2 [==============================] - 0s 7ms/step - loss: 41.8318 - mse: 2823.6108\n",
            "Epoch 460/500\n",
            "2/2 [==============================] - 0s 7ms/step - loss: 19.8355 - mse: 555.6629\n",
            "Epoch 461/500\n",
            "2/2 [==============================] - 0s 9ms/step - loss: 11.0176 - mse: 328.5979\n",
            "Epoch 462/500\n",
            "2/2 [==============================] - 0s 5ms/step - loss: 13.6430 - mse: 268.7899\n",
            "Epoch 463/500\n",
            "2/2 [==============================] - 0s 9ms/step - loss: 29.7603 - mse: 1279.1881\n",
            "Epoch 464/500\n",
            "2/2 [==============================] - 0s 4ms/step - loss: 7.2578 - mse: 242.7454\n",
            "Epoch 465/500\n",
            "2/2 [==============================] - 0s 8ms/step - loss: 12.7459 - mse: 268.7264\n",
            "Epoch 466/500\n",
            "2/2 [==============================] - 0s 6ms/step - loss: 16.2591 - mse: 461.4811\n",
            "Epoch 467/500\n",
            "2/2 [==============================] - 0s 8ms/step - loss: 29.6920 - mse: 1295.9226\n",
            "Epoch 468/500\n",
            "2/2 [==============================] - 0s 9ms/step - loss: 8.6217 - mse: 310.4131\n",
            "Epoch 469/500\n",
            "2/2 [==============================] - 0s 8ms/step - loss: 10.1542 - mse: 526.6415\n",
            "Epoch 470/500\n",
            "2/2 [==============================] - 0s 18ms/step - loss: 15.1242 - mse: 387.1567\n",
            "Epoch 471/500\n",
            "2/2 [==============================] - 0s 6ms/step - loss: 33.0510 - mse: 1563.2334\n",
            "Epoch 472/500\n",
            "2/2 [==============================] - 0s 7ms/step - loss: 13.9421 - mse: 281.2872\n",
            "Epoch 473/500\n",
            "2/2 [==============================] - 0s 10ms/step - loss: 15.5731 - mse: 442.9848\n",
            "Epoch 474/500\n",
            "2/2 [==============================] - 0s 5ms/step - loss: 53.8569 - mse: 4710.8447\n",
            "Epoch 475/500\n",
            "2/2 [==============================] - 0s 22ms/step - loss: 26.4457 - mse: 1002.4910\n",
            "Epoch 476/500\n",
            "2/2 [==============================] - 0s 10ms/step - loss: 12.5954 - mse: 295.0941\n",
            "Epoch 477/500\n",
            "2/2 [==============================] - 0s 9ms/step - loss: 28.6119 - mse: 1185.7839\n",
            "Epoch 478/500\n",
            "2/2 [==============================] - 0s 4ms/step - loss: 9.5406 - mse: 176.0521\n",
            "Epoch 479/500\n",
            "2/2 [==============================] - 0s 4ms/step - loss: 15.9779 - mse: 391.6453\n",
            "Epoch 480/500\n",
            "2/2 [==============================] - 0s 4ms/step - loss: 25.3590 - mse: 961.0150\n",
            "Epoch 481/500\n",
            "2/2 [==============================] - 0s 4ms/step - loss: 17.5070 - mse: 446.2318\n",
            "Epoch 482/500\n",
            "2/2 [==============================] - 0s 7ms/step - loss: 6.6115 - mse: 211.8622\n",
            "Epoch 483/500\n",
            "2/2 [==============================] - 0s 9ms/step - loss: 13.4822 - mse: 264.7692\n",
            "Epoch 484/500\n",
            "2/2 [==============================] - 0s 15ms/step - loss: 30.0271 - mse: 1321.5956\n",
            "Epoch 485/500\n",
            "2/2 [==============================] - 0s 12ms/step - loss: 6.9338 - mse: 253.4785\n",
            "Epoch 486/500\n",
            "2/2 [==============================] - 0s 9ms/step - loss: 13.7299 - mse: 254.0161\n",
            "Epoch 487/500\n",
            "2/2 [==============================] - 0s 8ms/step - loss: 11.7684 - mse: 452.5086\n",
            "Epoch 488/500\n",
            "2/2 [==============================] - 0s 21ms/step - loss: 27.2771 - mse: 1131.6482\n",
            "Epoch 489/500\n",
            "2/2 [==============================] - 0s 7ms/step - loss: 7.5737 - mse: 181.3061\n",
            "Epoch 490/500\n",
            "2/2 [==============================] - 0s 10ms/step - loss: 15.4761 - mse: 367.6487\n",
            "Epoch 491/500\n",
            "2/2 [==============================] - 0s 8ms/step - loss: 28.5193 - mse: 1203.9048\n",
            "Epoch 492/500\n",
            "2/2 [==============================] - 0s 15ms/step - loss: 10.6499 - mse: 257.5699\n",
            "Epoch 493/500\n",
            "2/2 [==============================] - 0s 8ms/step - loss: 12.3928 - mse: 296.2677\n",
            "Epoch 494/500\n",
            "2/2 [==============================] - 0s 7ms/step - loss: 15.1978 - mse: 324.4729\n",
            "Epoch 495/500\n",
            "2/2 [==============================] - 0s 9ms/step - loss: 15.8277 - mse: 356.9999\n",
            "Epoch 496/500\n",
            "2/2 [==============================] - 0s 9ms/step - loss: 14.3392 - mse: 292.1489\n",
            "Epoch 497/500\n",
            "2/2 [==============================] - 0s 8ms/step - loss: 19.4951 - mse: 625.3523\n",
            "Epoch 498/500\n",
            "2/2 [==============================] - 0s 14ms/step - loss: 36.7071 - mse: 2175.2102\n",
            "Epoch 499/500\n",
            "2/2 [==============================] - 0s 8ms/step - loss: 20.2930 - mse: 569.7887\n",
            "Epoch 500/500\n",
            "2/2 [==============================] - 0s 4ms/step - loss: 13.7980 - mse: 259.9192\n"
          ]
        },
        {
          "output_type": "execute_result",
          "data": {
            "text/plain": [
              "<keras.callbacks.History at 0x7eff5aa53150>"
            ]
          },
          "metadata": {},
          "execution_count": 53
        }
      ]
    },
    {
      "cell_type": "code",
      "metadata": {
        "colab": {
          "base_uri": "https://localhost:8080/",
          "height": 0
        },
        "id": "Nf5LsREEu-sO",
        "outputId": "db52aace-b052-4b01-9a1c-a5e0f20fefcf"
      },
      "source": [
        "y_pred_3 = model_3.predict(X_test)\n",
        "\n",
        "plot_predictions(predictions=y_pred_3)"
      ],
      "execution_count": 54,
      "outputs": [
        {
          "output_type": "display_data",
          "data": {
            "image/png": "[encoded data removed]",
            "text/plain": [
              "<Figure size 720x504 with 1 Axes>"
            ]
          },
          "metadata": {
            "needs_background": "light"
          }
        }
      ]
    },
    {
      "cell_type": "code",
      "metadata": {
        "colab": {
          "base_uri": "https://localhost:8080/"
        },
        "id": "CF9wmI_7u-eU",
        "outputId": "4fc8bedb-62e8-44c3-b9b2-5834490d7c14"
      },
      "source": [
        "mse_3 = mse(y_test, y_pred_3)\n",
        "mae_3 = mae(y_test, y_pred_3)\n",
        "\n",
        "mse_3, mae_3"
      ],
      "execution_count": 55,
      "outputs": [
        {
          "output_type": "execute_result",
          "data": {
            "text/plain": [
              "(<tf.Tensor: shape=(), dtype=float32, numpy=5406.426>,\n",
              " <tf.Tensor: shape=(), dtype=float32, numpy=72.92698>)"
            ]
          },
          "metadata": {},
          "execution_count": 55
        }
      ]
    },
    {
      "cell_type": "markdown",
      "metadata": {
        "id": "A0Ompt0gtHlq"
      },
      "source": [
        "## Comparing the results"
      ]
    },
    {
      "cell_type": "code",
      "metadata": {
        "colab": {
          "base_uri": "https://localhost:8080/",
          "height": 0
        },
        "id": "rOerp03stHh5",
        "outputId": "3482749a-10c4-4467-dc56-2b29948b7100"
      },
      "source": [
        "import pandas as pd\n",
        "\n",
        "model_results = [['model_1', mae_1.numpy(), mse_1.numpy()],\n",
        "                 [\"model_2\", mae_2.numpy(), mse_2.numpy()],\n",
        "                 [\"model_3\", mae_3.numpy(), mse_3.numpy()]]\n",
        "\n",
        "all_results = pd.DataFrame(model_results, columns=['model', 'mae', 'mse'])\n",
        "all_results"
      ],
      "execution_count": 56,
      "outputs": [
        {
          "output_type": "execute_result",
          "data": {
            "text/html": [
              "<div>\n",
              "<style scoped>\n",
              "    .dataframe tbody tr th:only-of-type {\n",
              "        vertical-align: middle;\n",
              "    }\n",
              "\n",
              "    .dataframe tbody tr th {\n",
              "        vertical-align: top;\n",
              "    }\n",
              "\n",
              "    .dataframe thead th {\n",
              "        text-align: right;\n",
              "    }\n",
              "</style>\n",
              "<table border=\"1\" class=\"dataframe\">\n",
              "  <thead>\n",
              "    <tr style=\"text-align: right;\">\n",
              "      <th></th>\n",
              "      <th>model</th>\n",
              "      <th>mae</th>\n",
              "      <th>mse</th>\n",
              "    </tr>\n",
              "  </thead>\n",
              "  <tbody>\n",
              "    <tr>\n",
              "      <th>0</th>\n",
              "      <td>model_1</td>\n",
              "      <td>38.264668</td>\n",
              "      <td>1488.584961</td>\n",
              "    </tr>\n",
              "    <tr>\n",
              "      <th>1</th>\n",
              "      <td>model_2</td>\n",
              "      <td>24.276653</td>\n",
              "      <td>599.236877</td>\n",
              "    </tr>\n",
              "    <tr>\n",
              "      <th>2</th>\n",
              "      <td>model_3</td>\n",
              "      <td>72.926979</td>\n",
              "      <td>5406.425781</td>\n",
              "    </tr>\n",
              "  </tbody>\n",
              "</table>\n",
              "</div>"
            ],
            "text/plain": [
              "     model        mae          mse\n",
              "0  model_1  38.264668  1488.584961\n",
              "1  model_2  24.276653   599.236877\n",
              "2  model_3  72.926979  5406.425781"
            ]
          },
          "metadata": {},
          "execution_count": 56
        }
      ]
    },
    {
      "cell_type": "markdown",
      "metadata": {
        "id": "5HI_m69JLazo"
      },
      "source": [
        "### Looks like Model_2 performed best..."
      ]
    },
    {
      "cell_type": "code",
      "metadata": {
        "colab": {
          "base_uri": "https://localhost:8080/"
        },
        "id": "KFe1YqP6LMR-",
        "outputId": "66c02eed-4c52-4c2a-8152-f47142e8f26d"
      },
      "source": [
        "model_2.summary()"
      ],
      "execution_count": 57,
      "outputs": [
        {
          "output_type": "stream",
          "name": "stdout",
          "text": [
            "Model: \"sequential_7\"\n",
            "_________________________________________________________________\n",
            "Layer (type)                 Output Shape              Param #   \n",
            "=================================================================\n",
            "dense_10 (Dense)             (None, 10)                20        \n",
            "_________________________________________________________________\n",
            "dense_11 (Dense)             (None, 1)                 11        \n",
            "=================================================================\n",
            "Total params: 31\n",
            "Trainable params: 31\n",
            "Non-trainable params: 0\n",
            "_________________________________________________________________\n"
          ]
        }
      ]
    },
    {
      "cell_type": "markdown",
      "metadata": {
        "id": "QTg8f7M0LMM0"
      },
      "source": [
        "## Tracking your experiments\n",
        "\n",
        "-- Learn to use the TensorBoard: To help track modelling experiments.\n",
        "\n",
        "-- Weights & Biases: To track ML experiments."
      ]
    },
    {
      "cell_type": "markdown",
      "metadata": {
        "id": "gyQPz6L7MrtV"
      },
      "source": [
        "# Saving our models\n",
        "\n",
        "This helps us use them outside of google colab.\n",
        "\n",
        "There are two different format we can save our model to:\n",
        "\n",
        "1. the SavedModel format\n",
        "\n",
        "2. The HDF5 format."
      ]
    },
    {
      "cell_type": "code",
      "metadata": {
        "colab": {
          "base_uri": "https://localhost:8080/"
        },
        "id": "xYkZJ--CMrfF",
        "outputId": "7c6bd9af-65d3-481a-905b-728f20196674"
      },
      "source": [
        "# SavedModel Format\n",
        "\n",
        "model_2.save('best_model_savedmodel_format')"
      ],
      "execution_count": 58,
      "outputs": [
        {
          "output_type": "stream",
          "name": "stdout",
          "text": [
            "INFO:tensorflow:Assets written to: best_model_savedmodel_format/assets\n"
          ]
        }
      ]
    },
    {
      "cell_type": "code",
      "metadata": {
        "id": "lBHrZVJOOg73"
      },
      "source": [
        "# Saved HDF5 Model\n",
        "\n",
        "model_2.save('Best_Model_HDF5_Format.h5')"
      ],
      "execution_count": 59,
      "outputs": []
    },
    {
      "cell_type": "markdown",
      "metadata": {
        "id": "fYG47Ci2Ogu9"
      },
      "source": [
        "## Loading a Saved Model"
      ]
    },
    {
      "cell_type": "code",
      "metadata": {
        "colab": {
          "base_uri": "https://localhost:8080/"
        },
        "id": "8fMTbbmHMrTI",
        "outputId": "efd0e2df-6604-41fc-dcf3-a038d6a0ba59"
      },
      "source": [
        "# Load in the SavedModel format model\n",
        "\n",
        "loaded_SavedModel_Format = tf.keras.models.load_model('/content/best_model_savedmodel_format')\n",
        "loaded_SavedModel_Format.summary()"
      ],
      "execution_count": 60,
      "outputs": [
        {
          "output_type": "stream",
          "name": "stdout",
          "text": [
            "Model: \"sequential_7\"\n",
            "_________________________________________________________________\n",
            "Layer (type)                 Output Shape              Param #   \n",
            "=================================================================\n",
            "dense_10 (Dense)             (None, 10)                20        \n",
            "_________________________________________________________________\n",
            "dense_11 (Dense)             (None, 1)                 11        \n",
            "=================================================================\n",
            "Total params: 31\n",
            "Trainable params: 31\n",
            "Non-trainable params: 0\n",
            "_________________________________________________________________\n"
          ]
        }
      ]
    },
    {
      "cell_type": "code",
      "metadata": {
        "colab": {
          "base_uri": "https://localhost:8080/"
        },
        "id": "Tj3vi0xHLMIS",
        "outputId": "4d11293d-30cc-44fc-f32e-327f98297d4a"
      },
      "source": [
        "# Compare model_2 prediction with savedModel prediction\n",
        "\n",
        "model_2_preds = model_2.predict(X_test)\n",
        "loaded_SavedModel_Format_preds = loaded_SavedModel_Format.predict(X_test)\n",
        "model_2_preds == loaded_SavedModel_Format_preds"
      ],
      "execution_count": 61,
      "outputs": [
        {
          "output_type": "execute_result",
          "data": {
            "text/plain": [
              "array([[ True],\n",
              "       [ True],\n",
              "       [ True],\n",
              "       [ True],\n",
              "       [ True],\n",
              "       [ True],\n",
              "       [ True],\n",
              "       [ True],\n",
              "       [ True],\n",
              "       [ True]])"
            ]
          },
          "metadata": {},
          "execution_count": 61
        }
      ]
    },
    {
      "cell_type": "code",
      "metadata": {
        "colab": {
          "base_uri": "https://localhost:8080/"
        },
        "id": "QPHCZhHutHbJ",
        "outputId": "693725c2-f0d2-48f6-a4cc-8470d362ba2b"
      },
      "source": [
        "mae(y_true=y_test, y_pred=model_2_preds) == mae(y_true=y_test, y_pred=loaded_SavedModel_Format_preds)"
      ],
      "execution_count": 62,
      "outputs": [
        {
          "output_type": "execute_result",
          "data": {
            "text/plain": [
              "<tf.Tensor: shape=(), dtype=bool, numpy=True>"
            ]
          },
          "metadata": {},
          "execution_count": 62
        }
      ]
    },
    {
      "cell_type": "code",
      "metadata": {
        "colab": {
          "base_uri": "https://localhost:8080/"
        },
        "id": "kQTGbhVytHWs",
        "outputId": "1870f628-2978-4eb3-dac8-0e53284aeb75"
      },
      "source": [
        "# Load in the SavedHDF5 format model\n",
        "\n",
        "loaded_h5_Format = tf.keras.models.load_model('/content/Best_Model_HDF5_Format.h5')\n",
        "loaded_h5_Format.summary()"
      ],
      "execution_count": 63,
      "outputs": [
        {
          "output_type": "stream",
          "name": "stdout",
          "text": [
            "Model: \"sequential_7\"\n",
            "_________________________________________________________________\n",
            "Layer (type)                 Output Shape              Param #   \n",
            "=================================================================\n",
            "dense_10 (Dense)             (None, 10)                20        \n",
            "_________________________________________________________________\n",
            "dense_11 (Dense)             (None, 1)                 11        \n",
            "=================================================================\n",
            "Total params: 31\n",
            "Trainable params: 31\n",
            "Non-trainable params: 0\n",
            "_________________________________________________________________\n"
          ]
        }
      ]
    },
    {
      "cell_type": "code",
      "metadata": {
        "colab": {
          "base_uri": "https://localhost:8080/"
        },
        "id": "xKyie30ptHTO",
        "outputId": "3fc67b34-d098-4291-f141-53c324388a35"
      },
      "source": [
        "# Compare model_2 prediction with h5 prediction\n",
        "\n",
        "model_2_preds = model_2.predict(X_test)\n",
        "loaded_h5_Format_preds = loaded_h5_Format.predict(X_test)\n",
        "model_2_preds == loaded_h5_Format_preds"
      ],
      "execution_count": 64,
      "outputs": [
        {
          "output_type": "execute_result",
          "data": {
            "text/plain": [
              "array([[ True],\n",
              "       [ True],\n",
              "       [ True],\n",
              "       [ True],\n",
              "       [ True],\n",
              "       [ True],\n",
              "       [ True],\n",
              "       [ True],\n",
              "       [ True],\n",
              "       [ True]])"
            ]
          },
          "metadata": {},
          "execution_count": 64
        }
      ]
    },
    {
      "cell_type": "markdown",
      "metadata": {
        "id": "nfdXfv17TfJq"
      },
      "source": [
        "## Downloading a Model from Google Colab"
      ]
    },
    {
      "cell_type": "markdown",
      "metadata": {
        "id": "hwx-7q6FTe18"
      },
      "source": [
        "1. Go to the files tab and right click and \"download\"\n",
        "2. Use code\n",
        "3. Save in GoogleDrive after mounting the drive."
      ]
    },
    {
      "cell_type": "code",
      "metadata": {
        "colab": {
          "base_uri": "https://localhost:8080/",
          "height": 17
        },
        "id": "tCP6PLc-TesZ",
        "outputId": "6ea4e740-abfe-4f6a-b8c8-6abdedcc1e37"
      },
      "source": [
        "from google.colab import files\n",
        "files.download('/content/Best_Model_HDF5_Format.h5')"
      ],
      "execution_count": 65,
      "outputs": [
        {
          "output_type": "display_data",
          "data": {
            "application/javascript": [
              "\n",
              "    async function download(id, filename, size) {\n",
              "      if (!google.colab.kernel.accessAllowed) {\n",
              "        return;\n",
              "      }\n",
              "      const div = document.createElement('div');\n",
              "      const label = document.createElement('label');\n",
              "      label.textContent = `Downloading \"${filename}\": `;\n",
              "      div.appendChild(label);\n",
              "      const progress = document.createElement('progress');\n",
              "      progress.max = size;\n",
              "      div.appendChild(progress);\n",
              "      document.body.appendChild(div);\n",
              "\n",
              "      const buffers = [];\n",
              "      let downloaded = 0;\n",
              "\n",
              "      const channel = await google.colab.kernel.comms.open(id);\n",
              "      // Send a message to notify the kernel that we're ready.\n",
              "      channel.send({})\n",
              "\n",
              "      for await (const message of channel.messages) {\n",
              "        // Send a message to notify the kernel that we're ready.\n",
              "        channel.send({})\n",
              "        if (message.buffers) {\n",
              "          for (const buffer of message.buffers) {\n",
              "            buffers.push(buffer);\n",
              "            downloaded += buffer.byteLength;\n",
              "            progress.value = downloaded;\n",
              "          }\n",
              "        }\n",
              "      }\n",
              "      const blob = new Blob(buffers, {type: 'application/binary'});\n",
              "      const a = document.createElement('a');\n",
              "      a.href = window.URL.createObjectURL(blob);\n",
              "      a.download = filename;\n",
              "      div.appendChild(a);\n",
              "      a.click();\n",
              "      div.remove();\n",
              "    }\n",
              "  "
            ],
            "text/plain": [
              "<IPython.core.display.Javascript object>"
            ]
          },
          "metadata": {}
        },
        {
          "output_type": "display_data",
          "data": {
            "application/javascript": [
              "download(\"download_ff1d29a0-f8b7-4aeb-843b-ffbd3bc3a70f\", \"Best_Model_HDF5_Format.h5\", 17040)"
            ],
            "text/plain": [
              "<IPython.core.display.Javascript object>"
            ]
          },
          "metadata": {}
        }
      ]
    },
    {
      "cell_type": "code",
      "metadata": {
        "id": "hGhcpJ6vVgoo",
        "colab": {
          "base_uri": "https://localhost:8080/"
        },
        "outputId": "ba922a09-0e8c-49ea-fd2b-2f2bc9ea97b8"
      },
      "source": [
        "# Save a file from Google Colab to Google Drive (After mounting Google Derive)\n",
        "\n",
        "!cp /content/Best_Model_HDF5_Format.h5 '/content/drive/MyDrive/Colab Notebooks'"
      ],
      "execution_count": 66,
      "outputs": [
        {
          "output_type": "stream",
          "name": "stdout",
          "text": [
            "cp: cannot create regular file '/content/drive/MyDrive/Colab Notebooks': No such file or directory\n"
          ]
        }
      ]
    },
    {
      "cell_type": "code",
      "metadata": {
        "colab": {
          "base_uri": "https://localhost:8080/"
        },
        "id": "0McWGS4OVgfW",
        "outputId": "2f616747-284f-4d33-b807-af50ad4fa37c"
      },
      "source": [
        "!ls '/content/drive/MyDrive/Colab Notebooks'"
      ],
      "execution_count": 67,
      "outputs": [
        {
          "output_type": "stream",
          "name": "stdout",
          "text": [
            "ls: cannot access '/content/drive/MyDrive/Colab Notebooks': No such file or directory\n"
          ]
        }
      ]
    },
    {
      "cell_type": "markdown",
      "metadata": {
        "id": "BXEvrPUBVgT4"
      },
      "source": [
        "### A larger example"
      ]
    },
    {
      "cell_type": "code",
      "metadata": {
        "id": "PnneMQHDTeef"
      },
      "source": [
        "import tensorflow as tf\n",
        "import pandas as pd\n",
        "import matplotlib.pyplot as plt"
      ],
      "execution_count": 68,
      "outputs": []
    },
    {
      "cell_type": "code",
      "metadata": {
        "colab": {
          "base_uri": "https://localhost:8080/"
        },
        "id": "6UxAmXWZ4SLk",
        "outputId": "211bba1b-5e10-495d-ddd5-fa15a4389627"
      },
      "source": [
        "! pip install kaggle"
      ],
      "execution_count": 69,
      "outputs": [
        {
          "output_type": "stream",
          "name": "stdout",
          "text": [
            "Requirement already satisfied: kaggle in /usr/local/lib/python3.7/dist-packages (1.5.12)\n",
            "Requirement already satisfied: six>=1.10 in /usr/local/lib/python3.7/dist-packages (from kaggle) (1.15.0)\n",
            "Requirement already satisfied: python-slugify in /usr/local/lib/python3.7/dist-packages (from kaggle) (5.0.2)\n",
            "Requirement already satisfied: tqdm in /usr/local/lib/python3.7/dist-packages (from kaggle) (4.62.0)\n",
            "Requirement already satisfied: certifi in /usr/local/lib/python3.7/dist-packages (from kaggle) (2021.5.30)\n",
            "Requirement already satisfied: urllib3 in /usr/local/lib/python3.7/dist-packages (from kaggle) (1.24.3)\n",
            "Requirement already satisfied: python-dateutil in /usr/local/lib/python3.7/dist-packages (from kaggle) (2.8.2)\n",
            "Requirement already satisfied: requests in /usr/local/lib/python3.7/dist-packages (from kaggle) (2.23.0)\n",
            "Requirement already satisfied: text-unidecode>=1.3 in /usr/local/lib/python3.7/dist-packages (from python-slugify->kaggle) (1.3)\n",
            "Requirement already satisfied: chardet<4,>=3.0.2 in /usr/local/lib/python3.7/dist-packages (from requests->kaggle) (3.0.4)\n",
            "Requirement already satisfied: idna<3,>=2.5 in /usr/local/lib/python3.7/dist-packages (from requests->kaggle) (2.10)\n"
          ]
        }
      ]
    },
    {
      "cell_type": "code",
      "metadata": {
        "id": "LSHuxZHS4Zl0"
      },
      "source": [
        "! mkdir ~/.kaggle"
      ],
      "execution_count": 70,
      "outputs": []
    },
    {
      "cell_type": "code",
      "metadata": {
        "colab": {
          "base_uri": "https://localhost:8080/"
        },
        "id": "wvtb4Gvj4ZhA",
        "outputId": "14edb194-4c5c-46c1-afe4-ff67dd090814"
      },
      "source": [
        "! cp kaggle.json ~/.kaggle/"
      ],
      "execution_count": 71,
      "outputs": [
        {
          "output_type": "stream",
          "name": "stdout",
          "text": [
            "cp: cannot stat 'kaggle.json': No such file or directory\n"
          ]
        }
      ]
    },
    {
      "cell_type": "code",
      "metadata": {
        "colab": {
          "base_uri": "https://localhost:8080/"
        },
        "id": "FweO1GvH4Zc5",
        "outputId": "7103e9c6-3389-4d81-eaf1-45080f996561"
      },
      "source": [
        "! chmod 600 ~/.kaggle/kaggle.json"
      ],
      "execution_count": 72,
      "outputs": [
        {
          "output_type": "stream",
          "name": "stdout",
          "text": [
            "chmod: cannot access '/root/.kaggle/kaggle.json': No such file or directory\n"
          ]
        }
      ]
    },
    {
      "cell_type": "markdown",
      "metadata": {
        "id": "OZ8ke9vr4-_w"
      },
      "source": [
        "# Downloading a dataset from kaggle"
      ]
    },
    {
      "cell_type": "code",
      "metadata": {
        "colab": {
          "base_uri": "https://localhost:8080/"
        },
        "id": "C0eDBRN45Pvo",
        "outputId": "6b633f93-2fc1-43be-a3fd-db6cf0c745d6"
      },
      "source": [
        "! kaggle datasets download mirichoi0218/insurance"
      ],
      "execution_count": 73,
      "outputs": [
        {
          "output_type": "stream",
          "name": "stdout",
          "text": [
            "Traceback (most recent call last):\n",
            "  File \"/usr/local/bin/kaggle\", line 5, in <module>\n",
            "    from kaggle.cli import main\n",
            "  File \"/usr/local/lib/python2.7/dist-packages/kaggle/__init__.py\", line 23, in <module>\n",
            "    api.authenticate()\n",
            "  File \"/usr/local/lib/python2.7/dist-packages/kaggle/api/kaggle_api_extended.py\", line 146, in authenticate\n",
            "    self.config_file, self.config_dir))\n",
            "IOError: Could not find kaggle.json. Make sure it's located in /root/.kaggle. Or use the environment method.\n"
          ]
        }
      ]
    },
    {
      "cell_type": "code",
      "metadata": {
        "id": "ff-OWpE2TeY4"
      },
      "source": [
        "insurance = pd.read_csv('https://raw.githubusercontent.com/stedy/Machine-Learning-with-R-datasets/master/insurance.csv')"
      ],
      "execution_count": 74,
      "outputs": []
    },
    {
      "cell_type": "code",
      "metadata": {
        "id": "qRnTfEzaTeTY",
        "colab": {
          "base_uri": "https://localhost:8080/",
          "height": 204
        },
        "outputId": "244acf10-3231-49dd-f677-7e9c2bf77e9b"
      },
      "source": [
        "insurance.head()"
      ],
      "execution_count": 75,
      "outputs": [
        {
          "output_type": "execute_result",
          "data": {
            "text/html": [
              "<div>\n",
              "<style scoped>\n",
              "    .dataframe tbody tr th:only-of-type {\n",
              "        vertical-align: middle;\n",
              "    }\n",
              "\n",
              "    .dataframe tbody tr th {\n",
              "        vertical-align: top;\n",
              "    }\n",
              "\n",
              "    .dataframe thead th {\n",
              "        text-align: right;\n",
              "    }\n",
              "</style>\n",
              "<table border=\"1\" class=\"dataframe\">\n",
              "  <thead>\n",
              "    <tr style=\"text-align: right;\">\n",
              "      <th></th>\n",
              "      <th>age</th>\n",
              "      <th>sex</th>\n",
              "      <th>bmi</th>\n",
              "      <th>children</th>\n",
              "      <th>smoker</th>\n",
              "      <th>region</th>\n",
              "      <th>charges</th>\n",
              "    </tr>\n",
              "  </thead>\n",
              "  <tbody>\n",
              "    <tr>\n",
              "      <th>0</th>\n",
              "      <td>19</td>\n",
              "      <td>female</td>\n",
              "      <td>27.900</td>\n",
              "      <td>0</td>\n",
              "      <td>yes</td>\n",
              "      <td>southwest</td>\n",
              "      <td>16884.92400</td>\n",
              "    </tr>\n",
              "    <tr>\n",
              "      <th>1</th>\n",
              "      <td>18</td>\n",
              "      <td>male</td>\n",
              "      <td>33.770</td>\n",
              "      <td>1</td>\n",
              "      <td>no</td>\n",
              "      <td>southeast</td>\n",
              "      <td>1725.55230</td>\n",
              "    </tr>\n",
              "    <tr>\n",
              "      <th>2</th>\n",
              "      <td>28</td>\n",
              "      <td>male</td>\n",
              "      <td>33.000</td>\n",
              "      <td>3</td>\n",
              "      <td>no</td>\n",
              "      <td>southeast</td>\n",
              "      <td>4449.46200</td>\n",
              "    </tr>\n",
              "    <tr>\n",
              "      <th>3</th>\n",
              "      <td>33</td>\n",
              "      <td>male</td>\n",
              "      <td>22.705</td>\n",
              "      <td>0</td>\n",
              "      <td>no</td>\n",
              "      <td>northwest</td>\n",
              "      <td>21984.47061</td>\n",
              "    </tr>\n",
              "    <tr>\n",
              "      <th>4</th>\n",
              "      <td>32</td>\n",
              "      <td>male</td>\n",
              "      <td>28.880</td>\n",
              "      <td>0</td>\n",
              "      <td>no</td>\n",
              "      <td>northwest</td>\n",
              "      <td>3866.85520</td>\n",
              "    </tr>\n",
              "  </tbody>\n",
              "</table>\n",
              "</div>"
            ],
            "text/plain": [
              "   age     sex     bmi  children smoker     region      charges\n",
              "0   19  female  27.900         0    yes  southwest  16884.92400\n",
              "1   18    male  33.770         1     no  southeast   1725.55230\n",
              "2   28    male  33.000         3     no  southeast   4449.46200\n",
              "3   33    male  22.705         0     no  northwest  21984.47061\n",
              "4   32    male  28.880         0     no  northwest   3866.85520"
            ]
          },
          "metadata": {},
          "execution_count": 75
        }
      ]
    },
    {
      "cell_type": "code",
      "metadata": {
        "id": "95aGX6LpTePg",
        "colab": {
          "base_uri": "https://localhost:8080/"
        },
        "outputId": "ad25205f-6449-45f5-e216-4b9578bdd93d"
      },
      "source": [
        "insurance[\"smoker\"].dtype, insurance[\"age\"].dtype"
      ],
      "execution_count": 76,
      "outputs": [
        {
          "output_type": "execute_result",
          "data": {
            "text/plain": [
              "(dtype('O'), dtype('int64'))"
            ]
          },
          "metadata": {},
          "execution_count": 76
        }
      ]
    },
    {
      "cell_type": "code",
      "metadata": {
        "colab": {
          "base_uri": "https://localhost:8080/",
          "height": 204
        },
        "id": "u0nOYH8qDhAR",
        "outputId": "2d20c82b-2105-433c-c153-0b6fa52db6cc"
      },
      "source": [
        "insurance_one_hot = pd.get_dummies(insurance)\n",
        "insurance_one_hot.head(5)"
      ],
      "execution_count": 77,
      "outputs": [
        {
          "output_type": "execute_result",
          "data": {
            "text/html": [
              "<div>\n",
              "<style scoped>\n",
              "    .dataframe tbody tr th:only-of-type {\n",
              "        vertical-align: middle;\n",
              "    }\n",
              "\n",
              "    .dataframe tbody tr th {\n",
              "        vertical-align: top;\n",
              "    }\n",
              "\n",
              "    .dataframe thead th {\n",
              "        text-align: right;\n",
              "    }\n",
              "</style>\n",
              "<table border=\"1\" class=\"dataframe\">\n",
              "  <thead>\n",
              "    <tr style=\"text-align: right;\">\n",
              "      <th></th>\n",
              "      <th>age</th>\n",
              "      <th>bmi</th>\n",
              "      <th>children</th>\n",
              "      <th>charges</th>\n",
              "      <th>sex_female</th>\n",
              "      <th>sex_male</th>\n",
              "      <th>smoker_no</th>\n",
              "      <th>smoker_yes</th>\n",
              "      <th>region_northeast</th>\n",
              "      <th>region_northwest</th>\n",
              "      <th>region_southeast</th>\n",
              "      <th>region_southwest</th>\n",
              "    </tr>\n",
              "  </thead>\n",
              "  <tbody>\n",
              "    <tr>\n",
              "      <th>0</th>\n",
              "      <td>19</td>\n",
              "      <td>27.900</td>\n",
              "      <td>0</td>\n",
              "      <td>16884.92400</td>\n",
              "      <td>1</td>\n",
              "      <td>0</td>\n",
              "      <td>0</td>\n",
              "      <td>1</td>\n",
              "      <td>0</td>\n",
              "      <td>0</td>\n",
              "      <td>0</td>\n",
              "      <td>1</td>\n",
              "    </tr>\n",
              "    <tr>\n",
              "      <th>1</th>\n",
              "      <td>18</td>\n",
              "      <td>33.770</td>\n",
              "      <td>1</td>\n",
              "      <td>1725.55230</td>\n",
              "      <td>0</td>\n",
              "      <td>1</td>\n",
              "      <td>1</td>\n",
              "      <td>0</td>\n",
              "      <td>0</td>\n",
              "      <td>0</td>\n",
              "      <td>1</td>\n",
              "      <td>0</td>\n",
              "    </tr>\n",
              "    <tr>\n",
              "      <th>2</th>\n",
              "      <td>28</td>\n",
              "      <td>33.000</td>\n",
              "      <td>3</td>\n",
              "      <td>4449.46200</td>\n",
              "      <td>0</td>\n",
              "      <td>1</td>\n",
              "      <td>1</td>\n",
              "      <td>0</td>\n",
              "      <td>0</td>\n",
              "      <td>0</td>\n",
              "      <td>1</td>\n",
              "      <td>0</td>\n",
              "    </tr>\n",
              "    <tr>\n",
              "      <th>3</th>\n",
              "      <td>33</td>\n",
              "      <td>22.705</td>\n",
              "      <td>0</td>\n",
              "      <td>21984.47061</td>\n",
              "      <td>0</td>\n",
              "      <td>1</td>\n",
              "      <td>1</td>\n",
              "      <td>0</td>\n",
              "      <td>0</td>\n",
              "      <td>1</td>\n",
              "      <td>0</td>\n",
              "      <td>0</td>\n",
              "    </tr>\n",
              "    <tr>\n",
              "      <th>4</th>\n",
              "      <td>32</td>\n",
              "      <td>28.880</td>\n",
              "      <td>0</td>\n",
              "      <td>3866.85520</td>\n",
              "      <td>0</td>\n",
              "      <td>1</td>\n",
              "      <td>1</td>\n",
              "      <td>0</td>\n",
              "      <td>0</td>\n",
              "      <td>1</td>\n",
              "      <td>0</td>\n",
              "      <td>0</td>\n",
              "    </tr>\n",
              "  </tbody>\n",
              "</table>\n",
              "</div>"
            ],
            "text/plain": [
              "   age     bmi  children  ...  region_northwest  region_southeast  region_southwest\n",
              "0   19  27.900         0  ...                 0                 0                 1\n",
              "1   18  33.770         1  ...                 0                 1                 0\n",
              "2   28  33.000         3  ...                 0                 1                 0\n",
              "3   33  22.705         0  ...                 1                 0                 0\n",
              "4   32  28.880         0  ...                 1                 0                 0\n",
              "\n",
              "[5 rows x 12 columns]"
            ]
          },
          "metadata": {},
          "execution_count": 77
        }
      ]
    },
    {
      "cell_type": "code",
      "metadata": {
        "id": "wJzhuIpUDOvm"
      },
      "source": [
        "X = insurance_one_hot.drop(['charges'], 1)\n",
        "y = insurance_one_hot.charges"
      ],
      "execution_count": 78,
      "outputs": []
    },
    {
      "cell_type": "code",
      "metadata": {
        "id": "zZwfqDUvDOqu"
      },
      "source": [
        "from sklearn.model_selection import train_test_split"
      ],
      "execution_count": 79,
      "outputs": []
    },
    {
      "cell_type": "code",
      "metadata": {
        "id": "P340ZdJvDOmH"
      },
      "source": [
        "X_train, X_test, y_train, y_test = train_test_split(X, y, test_size=0.3, random_state=42)"
      ],
      "execution_count": 80,
      "outputs": []
    },
    {
      "cell_type": "code",
      "metadata": {
        "colab": {
          "base_uri": "https://localhost:8080/"
        },
        "id": "R3qatwINHRBQ",
        "outputId": "4c0e5e0d-ed72-4719-a074-90a761176c3c"
      },
      "source": [
        "len(X_train), len(X_test)"
      ],
      "execution_count": 81,
      "outputs": [
        {
          "output_type": "execute_result",
          "data": {
            "text/plain": [
              "(936, 402)"
            ]
          },
          "metadata": {},
          "execution_count": 81
        }
      ]
    },
    {
      "cell_type": "code",
      "metadata": {
        "colab": {
          "base_uri": "https://localhost:8080/"
        },
        "id": "4FJ_L7fODOg2",
        "outputId": "0ea38e07-e574-4a1b-f5ff-58855f51e252"
      },
      "source": [
        "insurance_model = tf.keras.Sequential([\n",
        "                                       tf.keras.layers.Dense(15),\n",
        "                                       tf.keras.layers.Dense(1)\n",
        "])\n",
        "\n",
        "insurance_model.compile(loss= tf.keras.losses.mae,\n",
        "                        optimizer = tf.keras.optimizers.SGD(),\n",
        "                        metrics = ['mse'])\n",
        "\n",
        "insurance_model.fit(X_train, y_train, epochs=100)"
      ],
      "execution_count": 82,
      "outputs": [
        {
          "output_type": "stream",
          "name": "stdout",
          "text": [
            "Epoch 1/100\n",
            "30/30 [==============================] - 0s 1ms/step - loss: 8714.9912 - mse: 193773152.0000\n",
            "Epoch 2/100\n",
            "30/30 [==============================] - 0s 1ms/step - loss: 7765.0420 - mse: 168690224.0000\n",
            "Epoch 3/100\n",
            "30/30 [==============================] - 0s 1ms/step - loss: 7720.7505 - mse: 167545680.0000\n",
            "Epoch 4/100\n",
            "30/30 [==============================] - 0s 1ms/step - loss: 7745.3003 - mse: 168070000.0000\n",
            "Epoch 5/100\n",
            "30/30 [==============================] - 0s 1ms/step - loss: 7728.3105 - mse: 167994064.0000\n",
            "Epoch 6/100\n",
            "30/30 [==============================] - 0s 2ms/step - loss: 7836.3774 - mse: 170917600.0000\n",
            "Epoch 7/100\n",
            "30/30 [==============================] - 0s 1ms/step - loss: 7429.6421 - mse: 163230272.0000\n",
            "Epoch 8/100\n",
            "30/30 [==============================] - 0s 1ms/step - loss: 7586.7900 - mse: 165556032.0000\n",
            "Epoch 9/100\n",
            "30/30 [==============================] - 0s 1ms/step - loss: 7883.9282 - mse: 170651152.0000\n",
            "Epoch 10/100\n",
            "30/30 [==============================] - 0s 1ms/step - loss: 7799.3789 - mse: 169313136.0000\n",
            "Epoch 11/100\n",
            "30/30 [==============================] - 0s 1ms/step - loss: 7825.0107 - mse: 164386304.0000\n",
            "Epoch 12/100\n",
            "30/30 [==============================] - 0s 1ms/step - loss: 7493.2505 - mse: 163953232.0000\n",
            "Epoch 13/100\n",
            "30/30 [==============================] - 0s 1ms/step - loss: 7746.7349 - mse: 163692528.0000\n",
            "Epoch 14/100\n",
            "30/30 [==============================] - 0s 1ms/step - loss: 7831.8931 - mse: 167914832.0000\n",
            "Epoch 15/100\n",
            "30/30 [==============================] - 0s 2ms/step - loss: 7901.4023 - mse: 169800560.0000\n",
            "Epoch 16/100\n",
            "30/30 [==============================] - 0s 1ms/step - loss: 7749.8730 - mse: 165859648.0000\n",
            "Epoch 17/100\n",
            "30/30 [==============================] - 0s 1ms/step - loss: 7865.7007 - mse: 173721712.0000\n",
            "Epoch 18/100\n",
            "30/30 [==============================] - 0s 2ms/step - loss: 7894.7476 - mse: 168549776.0000\n",
            "Epoch 19/100\n",
            "30/30 [==============================] - 0s 1ms/step - loss: 7784.7656 - mse: 158704912.0000\n",
            "Epoch 20/100\n",
            "30/30 [==============================] - 0s 1ms/step - loss: 7961.8545 - mse: 170456352.0000\n",
            "Epoch 21/100\n",
            "30/30 [==============================] - 0s 1ms/step - loss: 7746.8652 - mse: 165654000.0000\n",
            "Epoch 22/100\n",
            "30/30 [==============================] - 0s 2ms/step - loss: 7594.2920 - mse: 162830912.0000\n",
            "Epoch 23/100\n",
            "30/30 [==============================] - 0s 1ms/step - loss: 7595.5889 - mse: 163823392.0000\n",
            "Epoch 24/100\n",
            "30/30 [==============================] - 0s 1ms/step - loss: 7659.2437 - mse: 162982512.0000\n",
            "Epoch 25/100\n",
            "30/30 [==============================] - 0s 2ms/step - loss: 7567.0747 - mse: 158794304.0000\n",
            "Epoch 26/100\n",
            "30/30 [==============================] - 0s 2ms/step - loss: 7322.8545 - mse: 155047520.0000\n",
            "Epoch 27/100\n",
            "30/30 [==============================] - 0s 1ms/step - loss: 7549.2261 - mse: 159816976.0000\n",
            "Epoch 28/100\n",
            "30/30 [==============================] - 0s 2ms/step - loss: 7752.1211 - mse: 159539168.0000\n",
            "Epoch 29/100\n",
            "30/30 [==============================] - 0s 1ms/step - loss: 7440.6587 - mse: 159026752.0000\n",
            "Epoch 30/100\n",
            "30/30 [==============================] - 0s 1ms/step - loss: 7719.0361 - mse: 159324224.0000\n",
            "Epoch 31/100\n",
            "30/30 [==============================] - 0s 1ms/step - loss: 7740.7178 - mse: 162264672.0000\n",
            "Epoch 32/100\n",
            "30/30 [==============================] - 0s 1ms/step - loss: 7512.4619 - mse: 161454752.0000\n",
            "Epoch 33/100\n",
            "30/30 [==============================] - 0s 1ms/step - loss: 7771.2661 - mse: 162620160.0000\n",
            "Epoch 34/100\n",
            "30/30 [==============================] - 0s 1ms/step - loss: 7558.9277 - mse: 161950192.0000\n",
            "Epoch 35/100\n",
            "30/30 [==============================] - 0s 1ms/step - loss: 7527.9023 - mse: 159127712.0000\n",
            "Epoch 36/100\n",
            "30/30 [==============================] - 0s 1ms/step - loss: 7613.8516 - mse: 159166064.0000\n",
            "Epoch 37/100\n",
            "30/30 [==============================] - 0s 1ms/step - loss: 7612.5347 - mse: 162091824.0000\n",
            "Epoch 38/100\n",
            "30/30 [==============================] - 0s 1ms/step - loss: 7596.2080 - mse: 153564208.0000\n",
            "Epoch 39/100\n",
            "30/30 [==============================] - 0s 2ms/step - loss: 7698.9546 - mse: 159163856.0000\n",
            "Epoch 40/100\n",
            "30/30 [==============================] - 0s 1ms/step - loss: 7431.0864 - mse: 154841104.0000\n",
            "Epoch 41/100\n",
            "30/30 [==============================] - 0s 2ms/step - loss: 7532.1387 - mse: 154381552.0000\n",
            "Epoch 42/100\n",
            "30/30 [==============================] - 0s 1ms/step - loss: 7584.3701 - mse: 155031760.0000\n",
            "Epoch 43/100\n",
            "30/30 [==============================] - 0s 1ms/step - loss: 7399.6201 - mse: 154585856.0000\n",
            "Epoch 44/100\n",
            "30/30 [==============================] - 0s 2ms/step - loss: 7526.3345 - mse: 152405104.0000\n",
            "Epoch 45/100\n",
            "30/30 [==============================] - 0s 1ms/step - loss: 7541.6919 - mse: 158749248.0000\n",
            "Epoch 46/100\n",
            "30/30 [==============================] - 0s 1ms/step - loss: 7532.9146 - mse: 158816688.0000\n",
            "Epoch 47/100\n",
            "30/30 [==============================] - 0s 2ms/step - loss: 7606.7544 - mse: 153131312.0000\n",
            "Epoch 48/100\n",
            "30/30 [==============================] - 0s 2ms/step - loss: 7678.7329 - mse: 156051296.0000\n",
            "Epoch 49/100\n",
            "30/30 [==============================] - 0s 1ms/step - loss: 7450.1328 - mse: 155819984.0000\n",
            "Epoch 50/100\n",
            "30/30 [==============================] - 0s 1ms/step - loss: 7526.4780 - mse: 152662592.0000\n",
            "Epoch 51/100\n",
            "30/30 [==============================] - 0s 2ms/step - loss: 7558.3452 - mse: 154154448.0000\n",
            "Epoch 52/100\n",
            "30/30 [==============================] - 0s 1ms/step - loss: 7609.7090 - mse: 152199152.0000\n",
            "Epoch 53/100\n",
            "30/30 [==============================] - 0s 2ms/step - loss: 7518.8013 - mse: 150088000.0000\n",
            "Epoch 54/100\n",
            "30/30 [==============================] - 0s 1ms/step - loss: 7699.3472 - mse: 160993856.0000\n",
            "Epoch 55/100\n",
            "30/30 [==============================] - 0s 2ms/step - loss: 7404.3457 - mse: 152767600.0000\n",
            "Epoch 56/100\n",
            "30/30 [==============================] - 0s 1ms/step - loss: 7477.3823 - mse: 147326528.0000\n",
            "Epoch 57/100\n",
            "30/30 [==============================] - 0s 1ms/step - loss: 7151.1353 - mse: 152157584.0000\n",
            "Epoch 58/100\n",
            "30/30 [==============================] - 0s 2ms/step - loss: 7577.4043 - mse: 151293776.0000\n",
            "Epoch 59/100\n",
            "30/30 [==============================] - 0s 1ms/step - loss: 7608.9849 - mse: 157594608.0000\n",
            "Epoch 60/100\n",
            "30/30 [==============================] - 0s 2ms/step - loss: 7566.5430 - mse: 154766096.0000\n",
            "Epoch 61/100\n",
            "30/30 [==============================] - 0s 1ms/step - loss: 7607.8477 - mse: 152213920.0000\n",
            "Epoch 62/100\n",
            "30/30 [==============================] - 0s 1ms/step - loss: 7482.3442 - mse: 150113872.0000\n",
            "Epoch 63/100\n",
            "30/30 [==============================] - 0s 1ms/step - loss: 7471.2373 - mse: 150065360.0000\n",
            "Epoch 64/100\n",
            "30/30 [==============================] - 0s 1ms/step - loss: 7304.3423 - mse: 145173536.0000\n",
            "Epoch 65/100\n",
            "30/30 [==============================] - 0s 1ms/step - loss: 7366.3086 - mse: 145308688.0000\n",
            "Epoch 66/100\n",
            "30/30 [==============================] - 0s 1ms/step - loss: 7724.3008 - mse: 150742432.0000\n",
            "Epoch 67/100\n",
            "30/30 [==============================] - 0s 2ms/step - loss: 7358.8086 - mse: 150042480.0000\n",
            "Epoch 68/100\n",
            "30/30 [==============================] - 0s 1ms/step - loss: 7289.5361 - mse: 150765968.0000\n",
            "Epoch 69/100\n",
            "30/30 [==============================] - 0s 2ms/step - loss: 7354.0337 - mse: 148513152.0000\n",
            "Epoch 70/100\n",
            "30/30 [==============================] - 0s 1ms/step - loss: 7344.9717 - mse: 147273776.0000\n",
            "Epoch 71/100\n",
            "30/30 [==============================] - 0s 1ms/step - loss: 7529.2725 - mse: 150947344.0000\n",
            "Epoch 72/100\n",
            "30/30 [==============================] - 0s 2ms/step - loss: 7548.7915 - mse: 150609552.0000\n",
            "Epoch 73/100\n",
            "30/30 [==============================] - 0s 2ms/step - loss: 7502.2466 - mse: 150820112.0000\n",
            "Epoch 74/100\n",
            "30/30 [==============================] - 0s 1ms/step - loss: 7445.0166 - mse: 153000064.0000\n",
            "Epoch 75/100\n",
            "30/30 [==============================] - 0s 1ms/step - loss: 7098.8872 - mse: 147825216.0000\n",
            "Epoch 76/100\n",
            "30/30 [==============================] - 0s 1ms/step - loss: 7547.3486 - mse: 142047696.0000\n",
            "Epoch 77/100\n",
            "30/30 [==============================] - 0s 1ms/step - loss: 7228.4570 - mse: 142782960.0000\n",
            "Epoch 78/100\n",
            "30/30 [==============================] - 0s 1ms/step - loss: 7400.8101 - mse: 141610096.0000\n",
            "Epoch 79/100\n",
            "30/30 [==============================] - 0s 1ms/step - loss: 7470.8076 - mse: 145048656.0000\n",
            "Epoch 80/100\n",
            "30/30 [==============================] - 0s 2ms/step - loss: 7711.2974 - mse: 149144560.0000\n",
            "Epoch 81/100\n",
            "30/30 [==============================] - 0s 1ms/step - loss: 7405.5649 - mse: 140411968.0000\n",
            "Epoch 82/100\n",
            "30/30 [==============================] - 0s 1ms/step - loss: 7334.6089 - mse: 143967856.0000\n",
            "Epoch 83/100\n",
            "30/30 [==============================] - 0s 1ms/step - loss: 7277.4712 - mse: 138990464.0000\n",
            "Epoch 84/100\n",
            "30/30 [==============================] - 0s 1ms/step - loss: 7268.4956 - mse: 142094496.0000\n",
            "Epoch 85/100\n",
            "30/30 [==============================] - 0s 1ms/step - loss: 7314.3105 - mse: 134595520.0000\n",
            "Epoch 86/100\n",
            "30/30 [==============================] - 0s 2ms/step - loss: 7468.6816 - mse: 146078896.0000\n",
            "Epoch 87/100\n",
            "30/30 [==============================] - 0s 2ms/step - loss: 7321.7393 - mse: 143199088.0000\n",
            "Epoch 88/100\n",
            "30/30 [==============================] - 0s 1ms/step - loss: 7310.8335 - mse: 141249616.0000\n",
            "Epoch 89/100\n",
            "30/30 [==============================] - 0s 1ms/step - loss: 7473.5732 - mse: 149610304.0000\n",
            "Epoch 90/100\n",
            "30/30 [==============================] - 0s 1ms/step - loss: 7261.0576 - mse: 136318640.0000\n",
            "Epoch 91/100\n",
            "30/30 [==============================] - 0s 2ms/step - loss: 7331.2012 - mse: 139787024.0000\n",
            "Epoch 92/100\n",
            "30/30 [==============================] - 0s 1ms/step - loss: 7363.7490 - mse: 140608384.0000\n",
            "Epoch 93/100\n",
            "30/30 [==============================] - 0s 2ms/step - loss: 7454.0229 - mse: 138897856.0000\n",
            "Epoch 94/100\n",
            "30/30 [==============================] - 0s 1ms/step - loss: 7058.2876 - mse: 136845408.0000\n",
            "Epoch 95/100\n",
            "30/30 [==============================] - 0s 1ms/step - loss: 7279.4502 - mse: 138937296.0000\n",
            "Epoch 96/100\n",
            "30/30 [==============================] - 0s 1ms/step - loss: 7392.1084 - mse: 134939440.0000\n",
            "Epoch 97/100\n",
            "30/30 [==============================] - 0s 1ms/step - loss: 7328.7056 - mse: 142637024.0000\n",
            "Epoch 98/100\n",
            "30/30 [==============================] - 0s 1ms/step - loss: 7197.8364 - mse: 137544080.0000\n",
            "Epoch 99/100\n",
            "30/30 [==============================] - 0s 1ms/step - loss: 7121.6357 - mse: 131993072.0000\n",
            "Epoch 100/100\n",
            "30/30 [==============================] - 0s 1ms/step - loss: 7269.7544 - mse: 136166576.0000\n"
          ]
        },
        {
          "output_type": "execute_result",
          "data": {
            "text/plain": [
              "<keras.callbacks.History at 0x7eff00243ed0>"
            ]
          },
          "metadata": {},
          "execution_count": 82
        }
      ]
    },
    {
      "cell_type": "code",
      "metadata": {
        "colab": {
          "base_uri": "https://localhost:8080/"
        },
        "id": "WTpKw8ueDOcQ",
        "outputId": "2f44df8d-296c-4708-95fe-4ee5da690274"
      },
      "source": [
        "insurance_model.evaluate(X_test, y_test)"
      ],
      "execution_count": 83,
      "outputs": [
        {
          "output_type": "stream",
          "name": "stdout",
          "text": [
            "13/13 [==============================] - 0s 1ms/step - loss: 7858.0312 - mse: 178995136.0000\n"
          ]
        },
        {
          "output_type": "execute_result",
          "data": {
            "text/plain": [
              "[7858.03125, 178995136.0]"
            ]
          },
          "metadata": {},
          "execution_count": 83
        }
      ]
    },
    {
      "cell_type": "code",
      "metadata": {
        "colab": {
          "base_uri": "https://localhost:8080/"
        },
        "id": "97-EYdRCDOX6",
        "outputId": "b1e8ca55-cbb6-4987-9c56-3d52f9be3e2e"
      },
      "source": [
        "y_train.median(), y_train.mean()"
      ],
      "execution_count": 84,
      "outputs": [
        {
          "output_type": "execute_result",
          "data": {
            "text/plain": [
              "(9526.937699999999, 13379.157306773523)"
            ]
          },
          "metadata": {},
          "execution_count": 84
        }
      ]
    },
    {
      "cell_type": "markdown",
      "metadata": {
        "id": "vJWGQwseDOTC"
      },
      "source": [
        "### Improving the model"
      ]
    },
    {
      "cell_type": "code",
      "metadata": {
        "colab": {
          "base_uri": "https://localhost:8080/"
        },
        "id": "8_xD2qdbDONj",
        "outputId": "421f3f9e-1af2-4fa6-8849-d7c0e47a77ef"
      },
      "source": [
        "insurance_model_2 = tf.keras.Sequential([\n",
        "                                         tf.keras.layers.Dense(100),\n",
        "                                         tf.keras.layers.Dense(10),\n",
        "                                         tf.keras.layers.Dense(1)\n",
        "])\n",
        "\n",
        "insurance_model_2.compile(loss= tf.keras.losses.mae,\n",
        "                        optimizer = tf.keras.optimizers.Adam(),\n",
        "                        metrics = ['mse'])\n",
        "\n",
        "insurance_model_2.fit(X_train, y_train, epochs=100)"
      ],
      "execution_count": 85,
      "outputs": [
        {
          "output_type": "stream",
          "name": "stdout",
          "text": [
            "Epoch 1/100\n",
            "30/30 [==============================] - 0s 2ms/step - loss: 13340.2520 - mse: 324362304.0000\n",
            "Epoch 2/100\n",
            "30/30 [==============================] - 0s 2ms/step - loss: 13206.7744 - mse: 320613440.0000\n",
            "Epoch 3/100\n",
            "30/30 [==============================] - 0s 2ms/step - loss: 12958.7412 - mse: 313660960.0000\n",
            "Epoch 4/100\n",
            "30/30 [==============================] - 0s 2ms/step - loss: 12493.4893 - mse: 300974560.0000\n",
            "Epoch 5/100\n",
            "30/30 [==============================] - 0s 2ms/step - loss: 11704.2529 - mse: 280307200.0000\n",
            "Epoch 6/100\n",
            "30/30 [==============================] - 0s 2ms/step - loss: 10570.8604 - mse: 251852176.0000\n",
            "Epoch 7/100\n",
            "30/30 [==============================] - 0s 2ms/step - loss: 9275.6299 - mse: 218139984.0000\n",
            "Epoch 8/100\n",
            "30/30 [==============================] - 0s 2ms/step - loss: 8151.3813 - mse: 186183040.0000\n",
            "Epoch 9/100\n",
            "30/30 [==============================] - 0s 2ms/step - loss: 7638.0728 - mse: 165717648.0000\n",
            "Epoch 10/100\n",
            "30/30 [==============================] - 0s 2ms/step - loss: 7538.7593 - mse: 158462432.0000\n",
            "Epoch 11/100\n",
            "30/30 [==============================] - 0s 2ms/step - loss: 7516.8242 - mse: 156359584.0000\n",
            "Epoch 12/100\n",
            "30/30 [==============================] - 0s 2ms/step - loss: 7497.3008 - mse: 156146512.0000\n",
            "Epoch 13/100\n",
            "30/30 [==============================] - 0s 2ms/step - loss: 7479.5278 - mse: 156710944.0000\n",
            "Epoch 14/100\n",
            "30/30 [==============================] - 0s 2ms/step - loss: 7459.6533 - mse: 155536256.0000\n",
            "Epoch 15/100\n",
            "30/30 [==============================] - 0s 2ms/step - loss: 7440.4741 - mse: 155872560.0000\n",
            "Epoch 16/100\n",
            "30/30 [==============================] - 0s 2ms/step - loss: 7420.2534 - mse: 155895808.0000\n",
            "Epoch 17/100\n",
            "30/30 [==============================] - 0s 2ms/step - loss: 7400.4370 - mse: 155866704.0000\n",
            "Epoch 18/100\n",
            "30/30 [==============================] - 0s 2ms/step - loss: 7382.1670 - mse: 155622992.0000\n",
            "Epoch 19/100\n",
            "30/30 [==============================] - 0s 2ms/step - loss: 7361.6709 - mse: 155976832.0000\n",
            "Epoch 20/100\n",
            "30/30 [==============================] - 0s 2ms/step - loss: 7341.0444 - mse: 155411952.0000\n",
            "Epoch 21/100\n",
            "30/30 [==============================] - 0s 2ms/step - loss: 7321.7979 - mse: 155834368.0000\n",
            "Epoch 22/100\n",
            "30/30 [==============================] - 0s 2ms/step - loss: 7302.4937 - mse: 155369360.0000\n",
            "Epoch 23/100\n",
            "30/30 [==============================] - 0s 2ms/step - loss: 7281.7690 - mse: 156599360.0000\n",
            "Epoch 24/100\n",
            "30/30 [==============================] - 0s 2ms/step - loss: 7259.4556 - mse: 154601408.0000\n",
            "Epoch 25/100\n",
            "30/30 [==============================] - 0s 2ms/step - loss: 7235.4160 - mse: 154916848.0000\n",
            "Epoch 26/100\n",
            "30/30 [==============================] - 0s 2ms/step - loss: 7217.1230 - mse: 157270368.0000\n",
            "Epoch 27/100\n",
            "30/30 [==============================] - 0s 2ms/step - loss: 7188.8999 - mse: 155038816.0000\n",
            "Epoch 28/100\n",
            "30/30 [==============================] - 0s 2ms/step - loss: 7163.3076 - mse: 155271776.0000\n",
            "Epoch 29/100\n",
            "30/30 [==============================] - 0s 2ms/step - loss: 7138.9712 - mse: 155555792.0000\n",
            "Epoch 30/100\n",
            "30/30 [==============================] - 0s 2ms/step - loss: 7115.1782 - mse: 156447776.0000\n",
            "Epoch 31/100\n",
            "30/30 [==============================] - 0s 2ms/step - loss: 7089.9326 - mse: 155810416.0000\n",
            "Epoch 32/100\n",
            "30/30 [==============================] - 0s 2ms/step - loss: 7062.4829 - mse: 156785152.0000\n",
            "Epoch 33/100\n",
            "30/30 [==============================] - 0s 2ms/step - loss: 7039.5659 - mse: 154608176.0000\n",
            "Epoch 34/100\n",
            "30/30 [==============================] - 0s 2ms/step - loss: 7005.8330 - mse: 156948416.0000\n",
            "Epoch 35/100\n",
            "30/30 [==============================] - 0s 2ms/step - loss: 6984.5898 - mse: 156819840.0000\n",
            "Epoch 36/100\n",
            "30/30 [==============================] - 0s 2ms/step - loss: 6950.1060 - mse: 157143472.0000\n",
            "Epoch 37/100\n",
            "30/30 [==============================] - 0s 2ms/step - loss: 6922.2979 - mse: 156979024.0000\n",
            "Epoch 38/100\n",
            "30/30 [==============================] - 0s 2ms/step - loss: 6891.0625 - mse: 156785632.0000\n",
            "Epoch 39/100\n",
            "30/30 [==============================] - 0s 3ms/step - loss: 6859.5586 - mse: 157548928.0000\n",
            "Epoch 40/100\n",
            "30/30 [==============================] - 0s 2ms/step - loss: 6827.2646 - mse: 158261008.0000\n",
            "Epoch 41/100\n",
            "30/30 [==============================] - 0s 2ms/step - loss: 6797.3940 - mse: 158388000.0000\n",
            "Epoch 42/100\n",
            "30/30 [==============================] - 0s 1ms/step - loss: 6763.2329 - mse: 157427744.0000\n",
            "Epoch 43/100\n",
            "30/30 [==============================] - 0s 2ms/step - loss: 6728.5112 - mse: 158183296.0000\n",
            "Epoch 44/100\n",
            "30/30 [==============================] - 0s 2ms/step - loss: 6697.4951 - mse: 158673136.0000\n",
            "Epoch 45/100\n",
            "30/30 [==============================] - 0s 2ms/step - loss: 6667.8730 - mse: 158506432.0000\n",
            "Epoch 46/100\n",
            "30/30 [==============================] - 0s 2ms/step - loss: 6640.9199 - mse: 158954096.0000\n",
            "Epoch 47/100\n",
            "30/30 [==============================] - 0s 2ms/step - loss: 6612.3237 - mse: 158835376.0000\n",
            "Epoch 48/100\n",
            "30/30 [==============================] - 0s 2ms/step - loss: 6590.7651 - mse: 158748352.0000\n",
            "Epoch 49/100\n",
            "30/30 [==============================] - 0s 2ms/step - loss: 6571.1748 - mse: 157933680.0000\n",
            "Epoch 50/100\n",
            "30/30 [==============================] - 0s 2ms/step - loss: 6554.5557 - mse: 158381664.0000\n",
            "Epoch 51/100\n",
            "30/30 [==============================] - 0s 2ms/step - loss: 6541.2349 - mse: 158192368.0000\n",
            "Epoch 52/100\n",
            "30/30 [==============================] - 0s 2ms/step - loss: 6531.0093 - mse: 157634448.0000\n",
            "Epoch 53/100\n",
            "30/30 [==============================] - 0s 2ms/step - loss: 6516.6689 - mse: 156031776.0000\n",
            "Epoch 54/100\n",
            "30/30 [==============================] - 0s 2ms/step - loss: 6501.5273 - mse: 158077744.0000\n",
            "Epoch 55/100\n",
            "30/30 [==============================] - 0s 2ms/step - loss: 6492.5732 - mse: 155001904.0000\n",
            "Epoch 56/100\n",
            "30/30 [==============================] - 0s 2ms/step - loss: 6477.9795 - mse: 156887104.0000\n",
            "Epoch 57/100\n",
            "30/30 [==============================] - 0s 2ms/step - loss: 6466.0601 - mse: 156094848.0000\n",
            "Epoch 58/100\n",
            "30/30 [==============================] - 0s 2ms/step - loss: 6453.4219 - mse: 155252032.0000\n",
            "Epoch 59/100\n",
            "30/30 [==============================] - 0s 2ms/step - loss: 6442.9048 - mse: 155041440.0000\n",
            "Epoch 60/100\n",
            "30/30 [==============================] - 0s 2ms/step - loss: 6433.2104 - mse: 153652336.0000\n",
            "Epoch 61/100\n",
            "30/30 [==============================] - 0s 2ms/step - loss: 6419.0464 - mse: 155053264.0000\n",
            "Epoch 62/100\n",
            "30/30 [==============================] - 0s 2ms/step - loss: 6413.6436 - mse: 153621232.0000\n",
            "Epoch 63/100\n",
            "30/30 [==============================] - 0s 2ms/step - loss: 6397.8188 - mse: 153083584.0000\n",
            "Epoch 64/100\n",
            "30/30 [==============================] - 0s 2ms/step - loss: 6380.4058 - mse: 153128672.0000\n",
            "Epoch 65/100\n",
            "30/30 [==============================] - 0s 2ms/step - loss: 6370.5537 - mse: 152062896.0000\n",
            "Epoch 66/100\n",
            "30/30 [==============================] - 0s 2ms/step - loss: 6356.9590 - mse: 152057920.0000\n",
            "Epoch 67/100\n",
            "30/30 [==============================] - 0s 2ms/step - loss: 6346.3442 - mse: 151496464.0000\n",
            "Epoch 68/100\n",
            "30/30 [==============================] - 0s 2ms/step - loss: 6332.8516 - mse: 151923920.0000\n",
            "Epoch 69/100\n",
            "30/30 [==============================] - 0s 2ms/step - loss: 6314.8579 - mse: 150357776.0000\n",
            "Epoch 70/100\n",
            "30/30 [==============================] - 0s 2ms/step - loss: 6303.4521 - mse: 149928256.0000\n",
            "Epoch 71/100\n",
            "30/30 [==============================] - 0s 2ms/step - loss: 6295.7261 - mse: 150673744.0000\n",
            "Epoch 72/100\n",
            "30/30 [==============================] - 0s 2ms/step - loss: 6279.7456 - mse: 148252032.0000\n",
            "Epoch 73/100\n",
            "30/30 [==============================] - 0s 2ms/step - loss: 6259.3032 - mse: 147676944.0000\n",
            "Epoch 74/100\n",
            "30/30 [==============================] - 0s 2ms/step - loss: 6251.6040 - mse: 148771808.0000\n",
            "Epoch 75/100\n",
            "30/30 [==============================] - 0s 2ms/step - loss: 6229.5537 - mse: 146732096.0000\n",
            "Epoch 76/100\n",
            "30/30 [==============================] - 0s 2ms/step - loss: 6219.2905 - mse: 147298384.0000\n",
            "Epoch 77/100\n",
            "30/30 [==============================] - 0s 3ms/step - loss: 6200.4038 - mse: 146638464.0000\n",
            "Epoch 78/100\n",
            "30/30 [==============================] - 0s 2ms/step - loss: 6187.1431 - mse: 145773392.0000\n",
            "Epoch 79/100\n",
            "30/30 [==============================] - 0s 2ms/step - loss: 6170.4521 - mse: 144581872.0000\n",
            "Epoch 80/100\n",
            "30/30 [==============================] - 0s 2ms/step - loss: 6148.8130 - mse: 144392320.0000\n",
            "Epoch 81/100\n",
            "30/30 [==============================] - 0s 2ms/step - loss: 6133.2480 - mse: 144057600.0000\n",
            "Epoch 82/100\n",
            "30/30 [==============================] - 0s 2ms/step - loss: 6115.7734 - mse: 143052144.0000\n",
            "Epoch 83/100\n",
            "30/30 [==============================] - 0s 2ms/step - loss: 6104.0835 - mse: 141883776.0000\n",
            "Epoch 84/100\n",
            "30/30 [==============================] - 0s 2ms/step - loss: 6081.2144 - mse: 141682032.0000\n",
            "Epoch 85/100\n",
            "30/30 [==============================] - 0s 2ms/step - loss: 6060.9692 - mse: 140661312.0000\n",
            "Epoch 86/100\n",
            "30/30 [==============================] - 0s 2ms/step - loss: 6039.0840 - mse: 139929440.0000\n",
            "Epoch 87/100\n",
            "30/30 [==============================] - 0s 2ms/step - loss: 6018.1816 - mse: 139020528.0000\n",
            "Epoch 88/100\n",
            "30/30 [==============================] - 0s 2ms/step - loss: 5998.7061 - mse: 138231232.0000\n",
            "Epoch 89/100\n",
            "30/30 [==============================] - 0s 2ms/step - loss: 5976.2500 - mse: 136686416.0000\n",
            "Epoch 90/100\n",
            "30/30 [==============================] - 0s 2ms/step - loss: 5956.4585 - mse: 136165168.0000\n",
            "Epoch 91/100\n",
            "30/30 [==============================] - 0s 3ms/step - loss: 5931.5552 - mse: 135639168.0000\n",
            "Epoch 92/100\n",
            "30/30 [==============================] - 0s 2ms/step - loss: 5907.3896 - mse: 134788800.0000\n",
            "Epoch 93/100\n",
            "30/30 [==============================] - 0s 2ms/step - loss: 5882.5068 - mse: 134106520.0000\n",
            "Epoch 94/100\n",
            "30/30 [==============================] - 0s 2ms/step - loss: 5855.3774 - mse: 132927408.0000\n",
            "Epoch 95/100\n",
            "30/30 [==============================] - 0s 2ms/step - loss: 5828.0293 - mse: 131709248.0000\n",
            "Epoch 96/100\n",
            "30/30 [==============================] - 0s 2ms/step - loss: 5801.0210 - mse: 130576568.0000\n",
            "Epoch 97/100\n",
            "30/30 [==============================] - 0s 2ms/step - loss: 5774.9946 - mse: 129341736.0000\n",
            "Epoch 98/100\n",
            "30/30 [==============================] - 0s 2ms/step - loss: 5760.8994 - mse: 128373656.0000\n",
            "Epoch 99/100\n",
            "30/30 [==============================] - 0s 2ms/step - loss: 5716.3823 - mse: 127718928.0000\n",
            "Epoch 100/100\n",
            "30/30 [==============================] - 0s 2ms/step - loss: 5683.2725 - mse: 125654664.0000\n"
          ]
        },
        {
          "output_type": "execute_result",
          "data": {
            "text/plain": [
              "<keras.callbacks.History at 0x7eff081cb910>"
            ]
          },
          "metadata": {},
          "execution_count": 85
        }
      ]
    },
    {
      "cell_type": "code",
      "metadata": {
        "colab": {
          "base_uri": "https://localhost:8080/"
        },
        "id": "nKpLS056DOG-",
        "outputId": "f8db4b2d-49cd-4eb2-b3aa-3364bb556166"
      },
      "source": [
        "insurance_model_2.evaluate(X_test, y_test)"
      ],
      "execution_count": 86,
      "outputs": [
        {
          "output_type": "stream",
          "name": "stdout",
          "text": [
            "13/13 [==============================] - 0s 1ms/step - loss: 5393.7349 - mse: 120767472.0000\n"
          ]
        },
        {
          "output_type": "execute_result",
          "data": {
            "text/plain": [
              "[5393.73486328125, 120767472.0]"
            ]
          },
          "metadata": {},
          "execution_count": 86
        }
      ]
    },
    {
      "cell_type": "code",
      "metadata": {
        "colab": {
          "base_uri": "https://localhost:8080/"
        },
        "id": "QASZswYcOO7Y",
        "outputId": "431db6cc-d8c9-4ef6-9034-423e7013dfbb"
      },
      "source": [
        "tf.random.set_seed(42)\n",
        "\n",
        "insurance_model_3 = tf.keras.Sequential([\n",
        "                                         tf.keras.layers.Dense(100),\n",
        "                                         tf.keras.layers.Dense(10),\n",
        "                                         tf.keras.layers.Dense(1)\n",
        "])\n",
        "\n",
        "insurance_model_3.compile(loss= tf.keras.losses.mae,\n",
        "                        optimizer = tf.keras.optimizers.Adam(),\n",
        "                        metrics = ['mse'])\n",
        "\n",
        "history = insurance_model_3.fit(X_train, y_train, epochs=200)"
      ],
      "execution_count": 87,
      "outputs": [
        {
          "output_type": "stream",
          "name": "stdout",
          "text": [
            "Epoch 1/200\n",
            "30/30 [==============================] - 1s 2ms/step - loss: 13313.9971 - mse: 323600480.0000\n",
            "Epoch 2/200\n",
            "30/30 [==============================] - 0s 2ms/step - loss: 13179.2734 - mse: 319822592.0000\n",
            "Epoch 3/200\n",
            "30/30 [==============================] - 0s 2ms/step - loss: 12920.9727 - mse: 312595840.0000\n",
            "Epoch 4/200\n",
            "30/30 [==============================] - 0s 2ms/step - loss: 12436.7705 - mse: 299436800.0000\n",
            "Epoch 5/200\n",
            "30/30 [==============================] - 0s 2ms/step - loss: 11626.3779 - mse: 278314016.0000\n",
            "Epoch 6/200\n",
            "30/30 [==============================] - 0s 2ms/step - loss: 10485.0664 - mse: 249743280.0000\n",
            "Epoch 7/200\n",
            "30/30 [==============================] - 0s 2ms/step - loss: 9192.6865 - mse: 216218832.0000\n",
            "Epoch 8/200\n",
            "30/30 [==============================] - 0s 2ms/step - loss: 8096.6348 - mse: 184938576.0000\n",
            "Epoch 9/200\n",
            "30/30 [==============================] - 0s 2ms/step - loss: 7617.7764 - mse: 165496624.0000\n",
            "Epoch 10/200\n",
            "30/30 [==============================] - 0s 2ms/step - loss: 7524.7554 - mse: 158632496.0000\n",
            "Epoch 11/200\n",
            "30/30 [==============================] - 0s 2ms/step - loss: 7503.5977 - mse: 156432672.0000\n",
            "Epoch 12/200\n",
            "30/30 [==============================] - 0s 2ms/step - loss: 7484.3735 - mse: 156321856.0000\n",
            "Epoch 13/200\n",
            "30/30 [==============================] - 0s 2ms/step - loss: 7467.0913 - mse: 156944368.0000\n",
            "Epoch 14/200\n",
            "30/30 [==============================] - 0s 2ms/step - loss: 7447.2041 - mse: 155803024.0000\n",
            "Epoch 15/200\n",
            "30/30 [==============================] - 0s 2ms/step - loss: 7428.4790 - mse: 156158960.0000\n",
            "Epoch 16/200\n",
            "30/30 [==============================] - 0s 2ms/step - loss: 7408.5752 - mse: 156010576.0000\n",
            "Epoch 17/200\n",
            "30/30 [==============================] - 0s 2ms/step - loss: 7389.4253 - mse: 155974672.0000\n",
            "Epoch 18/200\n",
            "30/30 [==============================] - 0s 2ms/step - loss: 7371.2725 - mse: 155938096.0000\n",
            "Epoch 19/200\n",
            "30/30 [==============================] - 0s 2ms/step - loss: 7351.1938 - mse: 156256016.0000\n",
            "Epoch 20/200\n",
            "30/30 [==============================] - 0s 2ms/step - loss: 7330.8481 - mse: 155495328.0000\n",
            "Epoch 21/200\n",
            "30/30 [==============================] - 0s 2ms/step - loss: 7312.1841 - mse: 155994960.0000\n",
            "Epoch 22/200\n",
            "30/30 [==============================] - 0s 2ms/step - loss: 7292.7183 - mse: 155514624.0000\n",
            "Epoch 23/200\n",
            "30/30 [==============================] - 0s 2ms/step - loss: 7271.8701 - mse: 156708512.0000\n",
            "Epoch 24/200\n",
            "30/30 [==============================] - 0s 2ms/step - loss: 7249.5098 - mse: 154825776.0000\n",
            "Epoch 25/200\n",
            "30/30 [==============================] - 0s 2ms/step - loss: 7226.2056 - mse: 155146432.0000\n",
            "Epoch 26/200\n",
            "30/30 [==============================] - 0s 2ms/step - loss: 7207.4907 - mse: 157380768.0000\n",
            "Epoch 27/200\n",
            "30/30 [==============================] - 0s 2ms/step - loss: 7179.8174 - mse: 155273712.0000\n",
            "Epoch 28/200\n",
            "30/30 [==============================] - 0s 2ms/step - loss: 7154.9214 - mse: 155357120.0000\n",
            "Epoch 29/200\n",
            "30/30 [==============================] - 0s 2ms/step - loss: 7130.6455 - mse: 155712912.0000\n",
            "Epoch 30/200\n",
            "30/30 [==============================] - 0s 2ms/step - loss: 7107.1372 - mse: 156616704.0000\n",
            "Epoch 31/200\n",
            "30/30 [==============================] - 0s 2ms/step - loss: 7082.3242 - mse: 156139168.0000\n",
            "Epoch 32/200\n",
            "30/30 [==============================] - 0s 2ms/step - loss: 7055.3755 - mse: 156892240.0000\n",
            "Epoch 33/200\n",
            "30/30 [==============================] - 0s 2ms/step - loss: 7033.8389 - mse: 154880048.0000\n",
            "Epoch 34/200\n",
            "30/30 [==============================] - 0s 2ms/step - loss: 6998.3354 - mse: 157121984.0000\n",
            "Epoch 35/200\n",
            "30/30 [==============================] - 0s 2ms/step - loss: 6978.4277 - mse: 156925216.0000\n",
            "Epoch 36/200\n",
            "30/30 [==============================] - 0s 2ms/step - loss: 6943.8818 - mse: 157355040.0000\n",
            "Epoch 37/200\n",
            "30/30 [==============================] - 0s 2ms/step - loss: 6916.1514 - mse: 157263824.0000\n",
            "Epoch 38/200\n",
            "30/30 [==============================] - 0s 2ms/step - loss: 6885.5366 - mse: 157083952.0000\n",
            "Epoch 39/200\n",
            "30/30 [==============================] - 0s 2ms/step - loss: 6854.2876 - mse: 157937424.0000\n",
            "Epoch 40/200\n",
            "30/30 [==============================] - 0s 2ms/step - loss: 6822.6460 - mse: 158609360.0000\n",
            "Epoch 41/200\n",
            "30/30 [==============================] - 0s 2ms/step - loss: 6793.5718 - mse: 158520224.0000\n",
            "Epoch 42/200\n",
            "30/30 [==============================] - 0s 3ms/step - loss: 6759.9087 - mse: 157686096.0000\n",
            "Epoch 43/200\n",
            "30/30 [==============================] - 0s 2ms/step - loss: 6725.8818 - mse: 158410352.0000\n",
            "Epoch 44/200\n",
            "30/30 [==============================] - 0s 2ms/step - loss: 6695.5278 - mse: 158882608.0000\n",
            "Epoch 45/200\n",
            "30/30 [==============================] - 0s 2ms/step - loss: 6668.4995 - mse: 158876528.0000\n",
            "Epoch 46/200\n",
            "30/30 [==============================] - 0s 2ms/step - loss: 6642.0781 - mse: 159043104.0000\n",
            "Epoch 47/200\n",
            "30/30 [==============================] - 0s 2ms/step - loss: 6614.2139 - mse: 159005296.0000\n",
            "Epoch 48/200\n",
            "30/30 [==============================] - 0s 2ms/step - loss: 6594.2251 - mse: 158959280.0000\n",
            "Epoch 49/200\n",
            "30/30 [==============================] - 0s 2ms/step - loss: 6575.9663 - mse: 158141840.0000\n",
            "Epoch 50/200\n",
            "30/30 [==============================] - 0s 2ms/step - loss: 6559.9922 - mse: 158589424.0000\n",
            "Epoch 51/200\n",
            "30/30 [==============================] - 0s 2ms/step - loss: 6546.9111 - mse: 158465696.0000\n",
            "Epoch 52/200\n",
            "30/30 [==============================] - 0s 2ms/step - loss: 6537.4624 - mse: 157753200.0000\n",
            "Epoch 53/200\n",
            "30/30 [==============================] - 0s 2ms/step - loss: 6522.7144 - mse: 156318848.0000\n",
            "Epoch 54/200\n",
            "30/30 [==============================] - 0s 2ms/step - loss: 6508.4492 - mse: 158270416.0000\n",
            "Epoch 55/200\n",
            "30/30 [==============================] - 0s 2ms/step - loss: 6500.1479 - mse: 155233520.0000\n",
            "Epoch 56/200\n",
            "30/30 [==============================] - 0s 2ms/step - loss: 6485.5518 - mse: 157163824.0000\n",
            "Epoch 57/200\n",
            "30/30 [==============================] - 0s 2ms/step - loss: 6473.9761 - mse: 156333264.0000\n",
            "Epoch 58/200\n",
            "30/30 [==============================] - 0s 2ms/step - loss: 6461.6797 - mse: 155603584.0000\n",
            "Epoch 59/200\n",
            "30/30 [==============================] - 0s 2ms/step - loss: 6451.7021 - mse: 155355328.0000\n",
            "Epoch 60/200\n",
            "30/30 [==============================] - 0s 2ms/step - loss: 6442.7339 - mse: 153961024.0000\n",
            "Epoch 61/200\n",
            "30/30 [==============================] - 0s 2ms/step - loss: 6428.2603 - mse: 155385808.0000\n",
            "Epoch 62/200\n",
            "30/30 [==============================] - 0s 2ms/step - loss: 6423.5981 - mse: 153790784.0000\n",
            "Epoch 63/200\n",
            "30/30 [==============================] - 0s 2ms/step - loss: 6406.7905 - mse: 153578832.0000\n",
            "Epoch 64/200\n",
            "30/30 [==============================] - 0s 2ms/step - loss: 6391.4507 - mse: 153520144.0000\n",
            "Epoch 65/200\n",
            "30/30 [==============================] - 0s 2ms/step - loss: 6381.8682 - mse: 152472080.0000\n",
            "Epoch 66/200\n",
            "30/30 [==============================] - 0s 2ms/step - loss: 6369.1133 - mse: 152485584.0000\n",
            "Epoch 67/200\n",
            "30/30 [==============================] - 0s 2ms/step - loss: 6358.1284 - mse: 151973488.0000\n",
            "Epoch 68/200\n",
            "30/30 [==============================] - 0s 2ms/step - loss: 6345.5835 - mse: 152350784.0000\n",
            "Epoch 69/200\n",
            "30/30 [==============================] - 0s 2ms/step - loss: 6328.4150 - mse: 150846400.0000\n",
            "Epoch 70/200\n",
            "30/30 [==============================] - 0s 2ms/step - loss: 6318.0488 - mse: 150408320.0000\n",
            "Epoch 71/200\n",
            "30/30 [==============================] - 0s 2ms/step - loss: 6310.8071 - mse: 151118832.0000\n",
            "Epoch 72/200\n",
            "30/30 [==============================] - 0s 2ms/step - loss: 6295.4604 - mse: 148757632.0000\n",
            "Epoch 73/200\n",
            "30/30 [==============================] - 0s 2ms/step - loss: 6276.4810 - mse: 148206384.0000\n",
            "Epoch 74/200\n",
            "30/30 [==============================] - 0s 2ms/step - loss: 6268.7456 - mse: 149425888.0000\n",
            "Epoch 75/200\n",
            "30/30 [==============================] - 0s 2ms/step - loss: 6247.2896 - mse: 147346496.0000\n",
            "Epoch 76/200\n",
            "30/30 [==============================] - 0s 2ms/step - loss: 6238.5225 - mse: 148002560.0000\n",
            "Epoch 77/200\n",
            "30/30 [==============================] - 0s 2ms/step - loss: 6219.6963 - mse: 147362976.0000\n",
            "Epoch 78/200\n",
            "30/30 [==============================] - 0s 2ms/step - loss: 6207.9136 - mse: 146488064.0000\n",
            "Epoch 79/200\n",
            "30/30 [==============================] - 0s 2ms/step - loss: 6190.7729 - mse: 145359232.0000\n",
            "Epoch 80/200\n",
            "30/30 [==============================] - 0s 2ms/step - loss: 6170.8979 - mse: 145414784.0000\n",
            "Epoch 81/200\n",
            "30/30 [==============================] - 0s 2ms/step - loss: 6156.3296 - mse: 144911440.0000\n",
            "Epoch 82/200\n",
            "30/30 [==============================] - 0s 2ms/step - loss: 6139.1665 - mse: 143969392.0000\n",
            "Epoch 83/200\n",
            "30/30 [==============================] - 0s 2ms/step - loss: 6128.3662 - mse: 142826336.0000\n",
            "Epoch 84/200\n",
            "30/30 [==============================] - 0s 2ms/step - loss: 6106.7476 - mse: 142718272.0000\n",
            "Epoch 85/200\n",
            "30/30 [==============================] - 0s 2ms/step - loss: 6088.7627 - mse: 141901664.0000\n",
            "Epoch 86/200\n",
            "30/30 [==============================] - 0s 2ms/step - loss: 6067.5962 - mse: 141032128.0000\n",
            "Epoch 87/200\n",
            "30/30 [==============================] - 0s 2ms/step - loss: 6047.8066 - mse: 140167376.0000\n",
            "Epoch 88/200\n",
            "30/30 [==============================] - 0s 3ms/step - loss: 6029.8701 - mse: 139695792.0000\n",
            "Epoch 89/200\n",
            "30/30 [==============================] - 0s 2ms/step - loss: 6008.4839 - mse: 138109936.0000\n",
            "Epoch 90/200\n",
            "30/30 [==============================] - 0s 2ms/step - loss: 5990.8311 - mse: 137648832.0000\n",
            "Epoch 91/200\n",
            "30/30 [==============================] - 0s 2ms/step - loss: 5967.7598 - mse: 136949360.0000\n",
            "Epoch 92/200\n",
            "30/30 [==============================] - 0s 2ms/step - loss: 5945.8066 - mse: 136232464.0000\n",
            "Epoch 93/200\n",
            "30/30 [==============================] - 0s 2ms/step - loss: 5921.4443 - mse: 135541216.0000\n",
            "Epoch 94/200\n",
            "30/30 [==============================] - 0s 2ms/step - loss: 5896.3418 - mse: 134460736.0000\n",
            "Epoch 95/200\n",
            "30/30 [==============================] - 0s 2ms/step - loss: 5871.0439 - mse: 133521968.0000\n",
            "Epoch 96/200\n",
            "30/30 [==============================] - 0s 2ms/step - loss: 5846.0737 - mse: 132448872.0000\n",
            "Epoch 97/200\n",
            "30/30 [==============================] - 0s 2ms/step - loss: 5822.6641 - mse: 131270760.0000\n",
            "Epoch 98/200\n",
            "30/30 [==============================] - 0s 2ms/step - loss: 5809.8979 - mse: 130501096.0000\n",
            "Epoch 99/200\n",
            "30/30 [==============================] - 0s 2ms/step - loss: 5766.4180 - mse: 129590032.0000\n",
            "Epoch 100/200\n",
            "30/30 [==============================] - 0s 2ms/step - loss: 5736.4341 - mse: 127760584.0000\n",
            "Epoch 101/200\n",
            "30/30 [==============================] - 0s 2ms/step - loss: 5706.3457 - mse: 126570440.0000\n",
            "Epoch 102/200\n",
            "30/30 [==============================] - 0s 2ms/step - loss: 5674.5605 - mse: 125788744.0000\n",
            "Epoch 103/200\n",
            "30/30 [==============================] - 0s 2ms/step - loss: 5647.6636 - mse: 124668224.0000\n",
            "Epoch 104/200\n",
            "30/30 [==============================] - 0s 2ms/step - loss: 5614.3457 - mse: 123000208.0000\n",
            "Epoch 105/200\n",
            "30/30 [==============================] - 0s 2ms/step - loss: 5565.4185 - mse: 121182496.0000\n",
            "Epoch 106/200\n",
            "30/30 [==============================] - 0s 2ms/step - loss: 5527.9243 - mse: 120482904.0000\n",
            "Epoch 107/200\n",
            "30/30 [==============================] - 0s 2ms/step - loss: 5493.8081 - mse: 118829952.0000\n",
            "Epoch 108/200\n",
            "30/30 [==============================] - 0s 2ms/step - loss: 5447.3203 - mse: 117566856.0000\n",
            "Epoch 109/200\n",
            "30/30 [==============================] - 0s 2ms/step - loss: 5412.8711 - mse: 115063144.0000\n",
            "Epoch 110/200\n",
            "30/30 [==============================] - 0s 2ms/step - loss: 5360.8604 - mse: 113706208.0000\n",
            "Epoch 111/200\n",
            "30/30 [==============================] - 0s 2ms/step - loss: 5328.4453 - mse: 112244104.0000\n",
            "Epoch 112/200\n",
            "30/30 [==============================] - 0s 2ms/step - loss: 5268.5381 - mse: 109504432.0000\n",
            "Epoch 113/200\n",
            "30/30 [==============================] - 0s 2ms/step - loss: 5213.5220 - mse: 107893464.0000\n",
            "Epoch 114/200\n",
            "30/30 [==============================] - 0s 2ms/step - loss: 5164.4902 - mse: 106662792.0000\n",
            "Epoch 115/200\n",
            "30/30 [==============================] - 0s 2ms/step - loss: 5105.5127 - mse: 104209384.0000\n",
            "Epoch 116/200\n",
            "30/30 [==============================] - 0s 2ms/step - loss: 5056.8813 - mse: 102034344.0000\n",
            "Epoch 117/200\n",
            "30/30 [==============================] - 0s 2ms/step - loss: 4986.8374 - mse: 99630280.0000\n",
            "Epoch 118/200\n",
            "30/30 [==============================] - 0s 2ms/step - loss: 4933.5210 - mse: 96986752.0000\n",
            "Epoch 119/200\n",
            "30/30 [==============================] - 0s 3ms/step - loss: 4862.3799 - mse: 95417456.0000\n",
            "Epoch 120/200\n",
            "30/30 [==============================] - 0s 2ms/step - loss: 4797.1631 - mse: 93567896.0000\n",
            "Epoch 121/200\n",
            "30/30 [==============================] - 0s 2ms/step - loss: 4720.5269 - mse: 90705880.0000\n",
            "Epoch 122/200\n",
            "30/30 [==============================] - 0s 2ms/step - loss: 4642.7847 - mse: 88176888.0000\n",
            "Epoch 123/200\n",
            "30/30 [==============================] - 0s 2ms/step - loss: 4564.7817 - mse: 85749592.0000\n",
            "Epoch 124/200\n",
            "30/30 [==============================] - 0s 2ms/step - loss: 4485.8271 - mse: 83237016.0000\n",
            "Epoch 125/200\n",
            "30/30 [==============================] - 0s 2ms/step - loss: 4407.6411 - mse: 80580024.0000\n",
            "Epoch 126/200\n",
            "30/30 [==============================] - 0s 2ms/step - loss: 4327.8730 - mse: 78438240.0000\n",
            "Epoch 127/200\n",
            "30/30 [==============================] - 0s 2ms/step - loss: 4260.3633 - mse: 75609144.0000\n",
            "Epoch 128/200\n",
            "30/30 [==============================] - 0s 2ms/step - loss: 4175.2900 - mse: 73278104.0000\n",
            "Epoch 129/200\n",
            "30/30 [==============================] - 0s 2ms/step - loss: 4103.9766 - mse: 71112200.0000\n",
            "Epoch 130/200\n",
            "30/30 [==============================] - 0s 2ms/step - loss: 4047.8955 - mse: 69902968.0000\n",
            "Epoch 131/200\n",
            "30/30 [==============================] - 0s 2ms/step - loss: 4000.2339 - mse: 67594000.0000\n",
            "Epoch 132/200\n",
            "30/30 [==============================] - 0s 2ms/step - loss: 3975.4956 - mse: 66602316.0000\n",
            "Epoch 133/200\n",
            "30/30 [==============================] - 0s 2ms/step - loss: 3937.7595 - mse: 64738988.0000\n",
            "Epoch 134/200\n",
            "30/30 [==============================] - 0s 2ms/step - loss: 3911.4614 - mse: 63136860.0000\n",
            "Epoch 135/200\n",
            "30/30 [==============================] - 0s 2ms/step - loss: 3882.6248 - mse: 62407572.0000\n",
            "Epoch 136/200\n",
            "30/30 [==============================] - 0s 2ms/step - loss: 3873.4050 - mse: 61273820.0000\n",
            "Epoch 137/200\n",
            "30/30 [==============================] - 0s 2ms/step - loss: 3851.5085 - mse: 60284572.0000\n",
            "Epoch 138/200\n",
            "30/30 [==============================] - 0s 2ms/step - loss: 3848.7354 - mse: 60408148.0000\n",
            "Epoch 139/200\n",
            "30/30 [==============================] - 0s 2ms/step - loss: 3828.3030 - mse: 59177904.0000\n",
            "Epoch 140/200\n",
            "30/30 [==============================] - 0s 2ms/step - loss: 3816.3376 - mse: 58479316.0000\n",
            "Epoch 141/200\n",
            "30/30 [==============================] - 0s 2ms/step - loss: 3826.1741 - mse: 58200084.0000\n",
            "Epoch 142/200\n",
            "30/30 [==============================] - 0s 2ms/step - loss: 3807.8323 - mse: 57652000.0000\n",
            "Epoch 143/200\n",
            "30/30 [==============================] - 0s 2ms/step - loss: 3802.3181 - mse: 57373804.0000\n",
            "Epoch 144/200\n",
            "30/30 [==============================] - 0s 2ms/step - loss: 3799.4209 - mse: 57301644.0000\n",
            "Epoch 145/200\n",
            "30/30 [==============================] - 0s 3ms/step - loss: 3793.6221 - mse: 56810628.0000\n",
            "Epoch 146/200\n",
            "30/30 [==============================] - 0s 2ms/step - loss: 3814.1533 - mse: 56862924.0000\n",
            "Epoch 147/200\n",
            "30/30 [==============================] - 0s 2ms/step - loss: 3794.3027 - mse: 56249068.0000\n",
            "Epoch 148/200\n",
            "30/30 [==============================] - 0s 2ms/step - loss: 3788.6345 - mse: 56336980.0000\n",
            "Epoch 149/200\n",
            "30/30 [==============================] - 0s 2ms/step - loss: 3784.3958 - mse: 56226128.0000\n",
            "Epoch 150/200\n",
            "30/30 [==============================] - 0s 2ms/step - loss: 3786.1985 - mse: 56242116.0000\n",
            "Epoch 151/200\n",
            "30/30 [==============================] - 0s 2ms/step - loss: 3785.3472 - mse: 55735768.0000\n",
            "Epoch 152/200\n",
            "30/30 [==============================] - 0s 2ms/step - loss: 3786.2166 - mse: 55973784.0000\n",
            "Epoch 153/200\n",
            "30/30 [==============================] - 0s 2ms/step - loss: 3782.1885 - mse: 55662472.0000\n",
            "Epoch 154/200\n",
            "30/30 [==============================] - 0s 2ms/step - loss: 3793.0095 - mse: 55689628.0000\n",
            "Epoch 155/200\n",
            "30/30 [==============================] - 0s 3ms/step - loss: 3796.3301 - mse: 55981760.0000\n",
            "Epoch 156/200\n",
            "30/30 [==============================] - 0s 2ms/step - loss: 3776.1355 - mse: 55764532.0000\n",
            "Epoch 157/200\n",
            "30/30 [==============================] - 0s 2ms/step - loss: 3781.5273 - mse: 55740652.0000\n",
            "Epoch 158/200\n",
            "30/30 [==============================] - 0s 2ms/step - loss: 3773.4819 - mse: 55775364.0000\n",
            "Epoch 159/200\n",
            "30/30 [==============================] - 0s 2ms/step - loss: 3768.1411 - mse: 55691852.0000\n",
            "Epoch 160/200\n",
            "30/30 [==============================] - 0s 2ms/step - loss: 3769.1550 - mse: 55598876.0000\n",
            "Epoch 161/200\n",
            "30/30 [==============================] - 0s 2ms/step - loss: 3768.4258 - mse: 55535988.0000\n",
            "Epoch 162/200\n",
            "30/30 [==============================] - 0s 3ms/step - loss: 3772.1726 - mse: 55614320.0000\n",
            "Epoch 163/200\n",
            "30/30 [==============================] - 0s 2ms/step - loss: 3769.0415 - mse: 55274852.0000\n",
            "Epoch 164/200\n",
            "30/30 [==============================] - 0s 2ms/step - loss: 3763.2749 - mse: 55189608.0000\n",
            "Epoch 165/200\n",
            "30/30 [==============================] - 0s 2ms/step - loss: 3769.3997 - mse: 55362520.0000\n",
            "Epoch 166/200\n",
            "30/30 [==============================] - 0s 2ms/step - loss: 3760.1252 - mse: 55416376.0000\n",
            "Epoch 167/200\n",
            "30/30 [==============================] - 0s 2ms/step - loss: 3765.7334 - mse: 55463080.0000\n",
            "Epoch 168/200\n",
            "30/30 [==============================] - 0s 2ms/step - loss: 3754.1816 - mse: 55338816.0000\n",
            "Epoch 169/200\n",
            "30/30 [==============================] - 0s 2ms/step - loss: 3755.1938 - mse: 55364560.0000\n",
            "Epoch 170/200\n",
            "30/30 [==============================] - 0s 2ms/step - loss: 3780.5122 - mse: 54756228.0000\n",
            "Epoch 171/200\n",
            "30/30 [==============================] - 0s 2ms/step - loss: 3764.2910 - mse: 54846500.0000\n",
            "Epoch 172/200\n",
            "30/30 [==============================] - 0s 2ms/step - loss: 3756.0352 - mse: 54963284.0000\n",
            "Epoch 173/200\n",
            "30/30 [==============================] - 0s 2ms/step - loss: 3761.6899 - mse: 54891932.0000\n",
            "Epoch 174/200\n",
            "30/30 [==============================] - 0s 2ms/step - loss: 3751.9497 - mse: 54979780.0000\n",
            "Epoch 175/200\n",
            "30/30 [==============================] - 0s 2ms/step - loss: 3748.8511 - mse: 54701604.0000\n",
            "Epoch 176/200\n",
            "30/30 [==============================] - 0s 2ms/step - loss: 3746.7231 - mse: 54702380.0000\n",
            "Epoch 177/200\n",
            "30/30 [==============================] - 0s 2ms/step - loss: 3751.0022 - mse: 54127440.0000\n",
            "Epoch 178/200\n",
            "30/30 [==============================] - 0s 2ms/step - loss: 3745.1780 - mse: 54398540.0000\n",
            "Epoch 179/200\n",
            "30/30 [==============================] - 0s 2ms/step - loss: 3752.9890 - mse: 54158180.0000\n",
            "Epoch 180/200\n",
            "30/30 [==============================] - 0s 2ms/step - loss: 3749.4136 - mse: 54376916.0000\n",
            "Epoch 181/200\n",
            "30/30 [==============================] - 0s 2ms/step - loss: 3756.6296 - mse: 54022512.0000\n",
            "Epoch 182/200\n",
            "30/30 [==============================] - 0s 2ms/step - loss: 3753.0474 - mse: 53854352.0000\n",
            "Epoch 183/200\n",
            "30/30 [==============================] - 0s 2ms/step - loss: 3754.4736 - mse: 53969284.0000\n",
            "Epoch 184/200\n",
            "30/30 [==============================] - 0s 2ms/step - loss: 3741.8687 - mse: 53620872.0000\n",
            "Epoch 185/200\n",
            "30/30 [==============================] - 0s 2ms/step - loss: 3740.2888 - mse: 53678880.0000\n",
            "Epoch 186/200\n",
            "30/30 [==============================] - 0s 2ms/step - loss: 3739.2449 - mse: 53576024.0000\n",
            "Epoch 187/200\n",
            "30/30 [==============================] - 0s 2ms/step - loss: 3753.0835 - mse: 53966624.0000\n",
            "Epoch 188/200\n",
            "30/30 [==============================] - 0s 2ms/step - loss: 3736.1470 - mse: 53512132.0000\n",
            "Epoch 189/200\n",
            "30/30 [==============================] - 0s 2ms/step - loss: 3741.5854 - mse: 53199484.0000\n",
            "Epoch 190/200\n",
            "30/30 [==============================] - 0s 2ms/step - loss: 3737.7737 - mse: 53362416.0000\n",
            "Epoch 191/200\n",
            "30/30 [==============================] - 0s 2ms/step - loss: 3732.4775 - mse: 53135752.0000\n",
            "Epoch 192/200\n",
            "30/30 [==============================] - 0s 2ms/step - loss: 3731.0581 - mse: 53133024.0000\n",
            "Epoch 193/200\n",
            "30/30 [==============================] - 0s 2ms/step - loss: 3742.4885 - mse: 53257224.0000\n",
            "Epoch 194/200\n",
            "30/30 [==============================] - 0s 2ms/step - loss: 3734.1389 - mse: 52814996.0000\n",
            "Epoch 195/200\n",
            "30/30 [==============================] - 0s 2ms/step - loss: 3769.0532 - mse: 51997016.0000\n",
            "Epoch 196/200\n",
            "30/30 [==============================] - 0s 2ms/step - loss: 3739.1233 - mse: 52671288.0000\n",
            "Epoch 197/200\n",
            "30/30 [==============================] - 0s 2ms/step - loss: 3724.1753 - mse: 52201544.0000\n",
            "Epoch 198/200\n",
            "30/30 [==============================] - 0s 2ms/step - loss: 3730.4983 - mse: 52135580.0000\n",
            "Epoch 199/200\n",
            "30/30 [==============================] - 0s 2ms/step - loss: 3734.8408 - mse: 52040932.0000\n",
            "Epoch 200/200\n",
            "30/30 [==============================] - 0s 2ms/step - loss: 3724.8047 - mse: 51590576.0000\n"
          ]
        }
      ]
    },
    {
      "cell_type": "code",
      "metadata": {
        "colab": {
          "base_uri": "https://localhost:8080/"
        },
        "id": "ElbFoX18DOEc",
        "outputId": "8a1dcbd6-6158-45dc-db0b-47134f0b2970"
      },
      "source": [
        "insurance_model_3.evaluate(X_test, y_test)"
      ],
      "execution_count": 88,
      "outputs": [
        {
          "output_type": "stream",
          "name": "stdout",
          "text": [
            "13/13 [==============================] - 0s 2ms/step - loss: 3584.1841 - mse: 47981656.0000\n"
          ]
        },
        {
          "output_type": "execute_result",
          "data": {
            "text/plain": [
              "[3584.18408203125, 47981656.0]"
            ]
          },
          "metadata": {},
          "execution_count": 88
        }
      ]
    },
    {
      "cell_type": "code",
      "metadata": {
        "id": "vT3dnXTjFB3U",
        "colab": {
          "base_uri": "https://localhost:8080/"
        },
        "outputId": "3149ac7f-a357-4b4e-ed7c-ec39315671a2"
      },
      "source": [
        "insurance_model.evaluate(X_test, y_test)"
      ],
      "execution_count": 89,
      "outputs": [
        {
          "output_type": "stream",
          "name": "stdout",
          "text": [
            "13/13 [==============================] - 0s 1ms/step - loss: 7858.0312 - mse: 178995136.0000\n"
          ]
        },
        {
          "output_type": "execute_result",
          "data": {
            "text/plain": [
              "[7858.03125, 178995136.0]"
            ]
          },
          "metadata": {},
          "execution_count": 89
        }
      ]
    },
    {
      "cell_type": "code",
      "metadata": {
        "id": "5MwceI7w8qZZ",
        "colab": {
          "base_uri": "https://localhost:8080/",
          "height": 307
        },
        "outputId": "f42bb853-d7a2-4f1f-8cf3-274c51bf5d89"
      },
      "source": [
        "#Plot history (training curve)\n",
        "\n",
        "pd.DataFrame(history.history).plot()\n",
        "plt.ylabel('loss')\n",
        "plt.xlabel('epochs')"
      ],
      "execution_count": 90,
      "outputs": [
        {
          "output_type": "execute_result",
          "data": {
            "text/plain": [
              "Text(0.5, 0, 'epochs')"
            ]
          },
          "metadata": {},
          "execution_count": 90
        },
        {
          "output_type": "display_data",
          "data": {
            "image/png": "[encoded data removed]",
            "text/plain": [
              "<Figure size 432x288 with 1 Axes>"
            ]
          },
          "metadata": {
            "needs_background": "light"
          }
        }
      ]
    },
    {
      "cell_type": "code",
      "metadata": {
        "colab": {
          "base_uri": "https://localhost:8080/"
        },
        "id": "qrW_TbyBQvBo",
        "outputId": "1cd6d53f-84b7-426d-ccae-08446d9218f0"
      },
      "source": [
        "tf.random.set_seed(42)\n",
        "\n",
        "insurance_model_4 = tf.keras.Sequential([\n",
        "                                         tf.keras.layers.Dense(100),\n",
        "                                         tf.keras.layers.Dense(10),\n",
        "                                         tf.keras.layers.Dense(1)\n",
        "])\n",
        "\n",
        "insurance_model_4.compile(loss= tf.keras.losses.mae,\n",
        "                        optimizer = tf.keras.optimizers.Adam(),\n",
        "                        metrics = ['mse'])\n",
        "\n",
        "history_4 = insurance_model_4.fit(X_train, y_train, epochs=300)"
      ],
      "execution_count": 91,
      "outputs": [
        {
          "output_type": "stream",
          "name": "stdout",
          "text": [
            "Epoch 1/300\n",
            "30/30 [==============================] - 0s 2ms/step - loss: 13313.9971 - mse: 323600480.0000\n",
            "Epoch 2/300\n",
            "30/30 [==============================] - 0s 2ms/step - loss: 13179.2734 - mse: 319822592.0000\n",
            "Epoch 3/300\n",
            "30/30 [==============================] - 0s 1ms/step - loss: 12920.9727 - mse: 312595840.0000\n",
            "Epoch 4/300\n",
            "30/30 [==============================] - 0s 2ms/step - loss: 12436.7705 - mse: 299436800.0000\n",
            "Epoch 5/300\n",
            "30/30 [==============================] - 0s 2ms/step - loss: 11626.3779 - mse: 278314016.0000\n",
            "Epoch 6/300\n",
            "30/30 [==============================] - 0s 2ms/step - loss: 10485.0664 - mse: 249743280.0000\n",
            "Epoch 7/300\n",
            "30/30 [==============================] - 0s 2ms/step - loss: 9192.6865 - mse: 216218832.0000\n",
            "Epoch 8/300\n",
            "30/30 [==============================] - 0s 2ms/step - loss: 8096.6348 - mse: 184938576.0000\n",
            "Epoch 9/300\n",
            "30/30 [==============================] - 0s 2ms/step - loss: 7617.7764 - mse: 165496624.0000\n",
            "Epoch 10/300\n",
            "30/30 [==============================] - 0s 2ms/step - loss: 7524.7554 - mse: 158632496.0000\n",
            "Epoch 11/300\n",
            "30/30 [==============================] - 0s 2ms/step - loss: 7503.5977 - mse: 156432672.0000\n",
            "Epoch 12/300\n",
            "30/30 [==============================] - 0s 2ms/step - loss: 7484.3735 - mse: 156321856.0000\n",
            "Epoch 13/300\n",
            "30/30 [==============================] - 0s 2ms/step - loss: 7467.0913 - mse: 156944368.0000\n",
            "Epoch 14/300\n",
            "30/30 [==============================] - 0s 2ms/step - loss: 7447.2041 - mse: 155803024.0000\n",
            "Epoch 15/300\n",
            "30/30 [==============================] - 0s 2ms/step - loss: 7428.4790 - mse: 156158960.0000\n",
            "Epoch 16/300\n",
            "30/30 [==============================] - 0s 2ms/step - loss: 7408.5752 - mse: 156010576.0000\n",
            "Epoch 17/300\n",
            "30/30 [==============================] - 0s 2ms/step - loss: 7389.4253 - mse: 155974672.0000\n",
            "Epoch 18/300\n",
            "30/30 [==============================] - 0s 2ms/step - loss: 7371.2725 - mse: 155938096.0000\n",
            "Epoch 19/300\n",
            "30/30 [==============================] - 0s 2ms/step - loss: 7351.1938 - mse: 156256016.0000\n",
            "Epoch 20/300\n",
            "30/30 [==============================] - 0s 2ms/step - loss: 7330.8481 - mse: 155495328.0000\n",
            "Epoch 21/300\n",
            "30/30 [==============================] - 0s 2ms/step - loss: 7312.1841 - mse: 155994960.0000\n",
            "Epoch 22/300\n",
            "30/30 [==============================] - 0s 2ms/step - loss: 7292.7183 - mse: 155514624.0000\n",
            "Epoch 23/300\n",
            "30/30 [==============================] - 0s 2ms/step - loss: 7271.8701 - mse: 156708512.0000\n",
            "Epoch 24/300\n",
            "30/30 [==============================] - 0s 2ms/step - loss: 7249.5098 - mse: 154825776.0000\n",
            "Epoch 25/300\n",
            "30/30 [==============================] - 0s 2ms/step - loss: 7226.2056 - mse: 155146432.0000\n",
            "Epoch 26/300\n",
            "30/30 [==============================] - 0s 2ms/step - loss: 7207.4907 - mse: 157380768.0000\n",
            "Epoch 27/300\n",
            "30/30 [==============================] - 0s 2ms/step - loss: 7179.8174 - mse: 155273712.0000\n",
            "Epoch 28/300\n",
            "30/30 [==============================] - 0s 2ms/step - loss: 7154.9214 - mse: 155357120.0000\n",
            "Epoch 29/300\n",
            "30/30 [==============================] - 0s 2ms/step - loss: 7130.6455 - mse: 155712912.0000\n",
            "Epoch 30/300\n",
            "30/30 [==============================] - 0s 2ms/step - loss: 7107.1372 - mse: 156616704.0000\n",
            "Epoch 31/300\n",
            "30/30 [==============================] - 0s 2ms/step - loss: 7082.3242 - mse: 156139168.0000\n",
            "Epoch 32/300\n",
            "30/30 [==============================] - 0s 2ms/step - loss: 7055.3755 - mse: 156892240.0000\n",
            "Epoch 33/300\n",
            "30/30 [==============================] - 0s 2ms/step - loss: 7033.8389 - mse: 154880048.0000\n",
            "Epoch 34/300\n",
            "30/30 [==============================] - 0s 2ms/step - loss: 6998.3354 - mse: 157121984.0000\n",
            "Epoch 35/300\n",
            "30/30 [==============================] - 0s 1ms/step - loss: 6978.4277 - mse: 156925216.0000\n",
            "Epoch 36/300\n",
            "30/30 [==============================] - 0s 2ms/step - loss: 6943.8818 - mse: 157355040.0000\n",
            "Epoch 37/300\n",
            "30/30 [==============================] - 0s 2ms/step - loss: 6916.1514 - mse: 157263824.0000\n",
            "Epoch 38/300\n",
            "30/30 [==============================] - 0s 2ms/step - loss: 6885.5366 - mse: 157083952.0000\n",
            "Epoch 39/300\n",
            "30/30 [==============================] - 0s 2ms/step - loss: 6854.2876 - mse: 157937424.0000\n",
            "Epoch 40/300\n",
            "30/30 [==============================] - 0s 2ms/step - loss: 6822.6460 - mse: 158609360.0000\n",
            "Epoch 41/300\n",
            "30/30 [==============================] - 0s 2ms/step - loss: 6793.5718 - mse: 158520224.0000\n",
            "Epoch 42/300\n",
            "30/30 [==============================] - 0s 2ms/step - loss: 6759.9087 - mse: 157686096.0000\n",
            "Epoch 43/300\n",
            "30/30 [==============================] - 0s 2ms/step - loss: 6725.8818 - mse: 158410352.0000\n",
            "Epoch 44/300\n",
            "30/30 [==============================] - 0s 2ms/step - loss: 6695.5278 - mse: 158882608.0000\n",
            "Epoch 45/300\n",
            "30/30 [==============================] - 0s 2ms/step - loss: 6668.4995 - mse: 158876528.0000\n",
            "Epoch 46/300\n",
            "30/30 [==============================] - 0s 2ms/step - loss: 6642.0781 - mse: 159043104.0000\n",
            "Epoch 47/300\n",
            "30/30 [==============================] - 0s 2ms/step - loss: 6614.2139 - mse: 159005296.0000\n",
            "Epoch 48/300\n",
            "30/30 [==============================] - 0s 2ms/step - loss: 6594.2251 - mse: 158959280.0000\n",
            "Epoch 49/300\n",
            "30/30 [==============================] - 0s 2ms/step - loss: 6575.9663 - mse: 158141840.0000\n",
            "Epoch 50/300\n",
            "30/30 [==============================] - 0s 2ms/step - loss: 6559.9922 - mse: 158589424.0000\n",
            "Epoch 51/300\n",
            "30/30 [==============================] - 0s 2ms/step - loss: 6546.9111 - mse: 158465696.0000\n",
            "Epoch 52/300\n",
            "30/30 [==============================] - 0s 2ms/step - loss: 6537.4624 - mse: 157753200.0000\n",
            "Epoch 53/300\n",
            "30/30 [==============================] - 0s 2ms/step - loss: 6522.7144 - mse: 156318848.0000\n",
            "Epoch 54/300\n",
            "30/30 [==============================] - 0s 2ms/step - loss: 6508.4492 - mse: 158270416.0000\n",
            "Epoch 55/300\n",
            "30/30 [==============================] - 0s 2ms/step - loss: 6500.1479 - mse: 155233520.0000\n",
            "Epoch 56/300\n",
            "30/30 [==============================] - 0s 2ms/step - loss: 6485.5518 - mse: 157163824.0000\n",
            "Epoch 57/300\n",
            "30/30 [==============================] - 0s 2ms/step - loss: 6473.9761 - mse: 156333264.0000\n",
            "Epoch 58/300\n",
            "30/30 [==============================] - 0s 2ms/step - loss: 6461.6797 - mse: 155603584.0000\n",
            "Epoch 59/300\n",
            "30/30 [==============================] - 0s 2ms/step - loss: 6451.7021 - mse: 155355328.0000\n",
            "Epoch 60/300\n",
            "30/30 [==============================] - 0s 2ms/step - loss: 6442.7339 - mse: 153961024.0000\n",
            "Epoch 61/300\n",
            "30/30 [==============================] - 0s 2ms/step - loss: 6428.2603 - mse: 155385808.0000\n",
            "Epoch 62/300\n",
            "30/30 [==============================] - 0s 2ms/step - loss: 6423.5981 - mse: 153790784.0000\n",
            "Epoch 63/300\n",
            "30/30 [==============================] - 0s 2ms/step - loss: 6406.7905 - mse: 153578832.0000\n",
            "Epoch 64/300\n",
            "30/30 [==============================] - 0s 2ms/step - loss: 6391.4507 - mse: 153520144.0000\n",
            "Epoch 65/300\n",
            "30/30 [==============================] - 0s 2ms/step - loss: 6381.8682 - mse: 152472080.0000\n",
            "Epoch 66/300\n",
            "30/30 [==============================] - 0s 2ms/step - loss: 6369.1133 - mse: 152485584.0000\n",
            "Epoch 67/300\n",
            "30/30 [==============================] - 0s 2ms/step - loss: 6358.1284 - mse: 151973488.0000\n",
            "Epoch 68/300\n",
            "30/30 [==============================] - 0s 2ms/step - loss: 6345.5835 - mse: 152350784.0000\n",
            "Epoch 69/300\n",
            "30/30 [==============================] - 0s 3ms/step - loss: 6328.4150 - mse: 150846400.0000\n",
            "Epoch 70/300\n",
            "30/30 [==============================] - 0s 2ms/step - loss: 6318.0488 - mse: 150408320.0000\n",
            "Epoch 71/300\n",
            "30/30 [==============================] - 0s 2ms/step - loss: 6310.8071 - mse: 151118832.0000\n",
            "Epoch 72/300\n",
            "30/30 [==============================] - 0s 2ms/step - loss: 6295.4604 - mse: 148757632.0000\n",
            "Epoch 73/300\n",
            "30/30 [==============================] - 0s 2ms/step - loss: 6276.4810 - mse: 148206384.0000\n",
            "Epoch 74/300\n",
            "30/30 [==============================] - 0s 2ms/step - loss: 6268.7456 - mse: 149425888.0000\n",
            "Epoch 75/300\n",
            "30/30 [==============================] - 0s 2ms/step - loss: 6247.2896 - mse: 147346496.0000\n",
            "Epoch 76/300\n",
            "30/30 [==============================] - 0s 2ms/step - loss: 6238.5225 - mse: 148002560.0000\n",
            "Epoch 77/300\n",
            "30/30 [==============================] - 0s 3ms/step - loss: 6219.6963 - mse: 147362976.0000\n",
            "Epoch 78/300\n",
            "30/30 [==============================] - 0s 2ms/step - loss: 6207.9136 - mse: 146488064.0000\n",
            "Epoch 79/300\n",
            "30/30 [==============================] - 0s 2ms/step - loss: 6190.7729 - mse: 145359232.0000\n",
            "Epoch 80/300\n",
            "30/30 [==============================] - 0s 2ms/step - loss: 6170.8979 - mse: 145414784.0000\n",
            "Epoch 81/300\n",
            "30/30 [==============================] - 0s 2ms/step - loss: 6156.3296 - mse: 144911440.0000\n",
            "Epoch 82/300\n",
            "30/30 [==============================] - 0s 2ms/step - loss: 6139.1665 - mse: 143969392.0000\n",
            "Epoch 83/300\n",
            "30/30 [==============================] - 0s 2ms/step - loss: 6128.3662 - mse: 142826336.0000\n",
            "Epoch 84/300\n",
            "30/30 [==============================] - 0s 2ms/step - loss: 6106.7476 - mse: 142718272.0000\n",
            "Epoch 85/300\n",
            "30/30 [==============================] - 0s 2ms/step - loss: 6088.7627 - mse: 141901664.0000\n",
            "Epoch 86/300\n",
            "30/30 [==============================] - 0s 2ms/step - loss: 6067.5962 - mse: 141032128.0000\n",
            "Epoch 87/300\n",
            "30/30 [==============================] - 0s 2ms/step - loss: 6047.8066 - mse: 140167376.0000\n",
            "Epoch 88/300\n",
            "30/30 [==============================] - 0s 2ms/step - loss: 6029.8701 - mse: 139695792.0000\n",
            "Epoch 89/300\n",
            "30/30 [==============================] - 0s 2ms/step - loss: 6008.4839 - mse: 138109936.0000\n",
            "Epoch 90/300\n",
            "30/30 [==============================] - 0s 2ms/step - loss: 5990.8311 - mse: 137648832.0000\n",
            "Epoch 91/300\n",
            "30/30 [==============================] - 0s 2ms/step - loss: 5967.7598 - mse: 136949360.0000\n",
            "Epoch 92/300\n",
            "30/30 [==============================] - 0s 2ms/step - loss: 5945.8066 - mse: 136232464.0000\n",
            "Epoch 93/300\n",
            "30/30 [==============================] - 0s 2ms/step - loss: 5921.4443 - mse: 135541216.0000\n",
            "Epoch 94/300\n",
            "30/30 [==============================] - 0s 2ms/step - loss: 5896.3418 - mse: 134460736.0000\n",
            "Epoch 95/300\n",
            "30/30 [==============================] - 0s 3ms/step - loss: 5871.0439 - mse: 133521968.0000\n",
            "Epoch 96/300\n",
            "30/30 [==============================] - 0s 2ms/step - loss: 5846.0737 - mse: 132448872.0000\n",
            "Epoch 97/300\n",
            "30/30 [==============================] - 0s 2ms/step - loss: 5822.6641 - mse: 131270760.0000\n",
            "Epoch 98/300\n",
            "30/30 [==============================] - 0s 2ms/step - loss: 5809.8979 - mse: 130501096.0000\n",
            "Epoch 99/300\n",
            "30/30 [==============================] - 0s 2ms/step - loss: 5766.4180 - mse: 129590032.0000\n",
            "Epoch 100/300\n",
            "30/30 [==============================] - 0s 2ms/step - loss: 5736.4341 - mse: 127760584.0000\n",
            "Epoch 101/300\n",
            "30/30 [==============================] - 0s 2ms/step - loss: 5706.3457 - mse: 126570440.0000\n",
            "Epoch 102/300\n",
            "30/30 [==============================] - 0s 2ms/step - loss: 5674.5605 - mse: 125788744.0000\n",
            "Epoch 103/300\n",
            "30/30 [==============================] - 0s 2ms/step - loss: 5647.6636 - mse: 124668224.0000\n",
            "Epoch 104/300\n",
            "30/30 [==============================] - 0s 2ms/step - loss: 5614.3457 - mse: 123000208.0000\n",
            "Epoch 105/300\n",
            "30/30 [==============================] - 0s 2ms/step - loss: 5565.4185 - mse: 121182496.0000\n",
            "Epoch 106/300\n",
            "30/30 [==============================] - 0s 2ms/step - loss: 5527.9243 - mse: 120482904.0000\n",
            "Epoch 107/300\n",
            "30/30 [==============================] - 0s 3ms/step - loss: 5493.8081 - mse: 118829952.0000\n",
            "Epoch 108/300\n",
            "30/30 [==============================] - 0s 2ms/step - loss: 5447.3203 - mse: 117566856.0000\n",
            "Epoch 109/300\n",
            "30/30 [==============================] - 0s 2ms/step - loss: 5412.8711 - mse: 115063144.0000\n",
            "Epoch 110/300\n",
            "30/30 [==============================] - 0s 1ms/step - loss: 5360.8604 - mse: 113706208.0000\n",
            "Epoch 111/300\n",
            "30/30 [==============================] - 0s 2ms/step - loss: 5328.4453 - mse: 112244104.0000\n",
            "Epoch 112/300\n",
            "30/30 [==============================] - 0s 2ms/step - loss: 5268.5381 - mse: 109504432.0000\n",
            "Epoch 113/300\n",
            "30/30 [==============================] - 0s 2ms/step - loss: 5213.5220 - mse: 107893464.0000\n",
            "Epoch 114/300\n",
            "30/30 [==============================] - 0s 2ms/step - loss: 5164.4902 - mse: 106662792.0000\n",
            "Epoch 115/300\n",
            "30/30 [==============================] - 0s 2ms/step - loss: 5105.5127 - mse: 104209384.0000\n",
            "Epoch 116/300\n",
            "30/30 [==============================] - 0s 2ms/step - loss: 5056.8813 - mse: 102034344.0000\n",
            "Epoch 117/300\n",
            "30/30 [==============================] - 0s 2ms/step - loss: 4986.8374 - mse: 99630280.0000\n",
            "Epoch 118/300\n",
            "30/30 [==============================] - 0s 2ms/step - loss: 4933.5210 - mse: 96986752.0000\n",
            "Epoch 119/300\n",
            "30/30 [==============================] - 0s 2ms/step - loss: 4862.3799 - mse: 95417456.0000\n",
            "Epoch 120/300\n",
            "30/30 [==============================] - 0s 2ms/step - loss: 4797.1631 - mse: 93567896.0000\n",
            "Epoch 121/300\n",
            "30/30 [==============================] - 0s 2ms/step - loss: 4720.5269 - mse: 90705880.0000\n",
            "Epoch 122/300\n",
            "30/30 [==============================] - 0s 2ms/step - loss: 4642.7847 - mse: 88176888.0000\n",
            "Epoch 123/300\n",
            "30/30 [==============================] - 0s 2ms/step - loss: 4564.7817 - mse: 85749592.0000\n",
            "Epoch 124/300\n",
            "30/30 [==============================] - 0s 2ms/step - loss: 4485.8271 - mse: 83237016.0000\n",
            "Epoch 125/300\n",
            "30/30 [==============================] - 0s 2ms/step - loss: 4407.6411 - mse: 80580024.0000\n",
            "Epoch 126/300\n",
            "30/30 [==============================] - 0s 2ms/step - loss: 4327.8730 - mse: 78438240.0000\n",
            "Epoch 127/300\n",
            "30/30 [==============================] - 0s 2ms/step - loss: 4260.3633 - mse: 75609144.0000\n",
            "Epoch 128/300\n",
            "30/30 [==============================] - 0s 3ms/step - loss: 4175.2900 - mse: 73278104.0000\n",
            "Epoch 129/300\n",
            "30/30 [==============================] - 0s 2ms/step - loss: 4103.9766 - mse: 71112200.0000\n",
            "Epoch 130/300\n",
            "30/30 [==============================] - 0s 2ms/step - loss: 4047.8955 - mse: 69902968.0000\n",
            "Epoch 131/300\n",
            "30/30 [==============================] - 0s 2ms/step - loss: 4000.2339 - mse: 67594000.0000\n",
            "Epoch 132/300\n",
            "30/30 [==============================] - 0s 2ms/step - loss: 3975.4956 - mse: 66602316.0000\n",
            "Epoch 133/300\n",
            "30/30 [==============================] - 0s 2ms/step - loss: 3937.7595 - mse: 64738988.0000\n",
            "Epoch 134/300\n",
            "30/30 [==============================] - 0s 2ms/step - loss: 3911.4614 - mse: 63136860.0000\n",
            "Epoch 135/300\n",
            "30/30 [==============================] - 0s 2ms/step - loss: 3882.6248 - mse: 62407572.0000\n",
            "Epoch 136/300\n",
            "30/30 [==============================] - 0s 2ms/step - loss: 3873.4050 - mse: 61273820.0000\n",
            "Epoch 137/300\n",
            "30/30 [==============================] - 0s 2ms/step - loss: 3851.5085 - mse: 60284572.0000\n",
            "Epoch 138/300\n",
            "30/30 [==============================] - 0s 2ms/step - loss: 3848.7354 - mse: 60408148.0000\n",
            "Epoch 139/300\n",
            "30/30 [==============================] - 0s 2ms/step - loss: 3828.3030 - mse: 59177904.0000\n",
            "Epoch 140/300\n",
            "30/30 [==============================] - 0s 2ms/step - loss: 3816.3376 - mse: 58479316.0000\n",
            "Epoch 141/300\n",
            "30/30 [==============================] - 0s 2ms/step - loss: 3826.1741 - mse: 58200084.0000\n",
            "Epoch 142/300\n",
            "30/30 [==============================] - 0s 2ms/step - loss: 3807.8323 - mse: 57652000.0000\n",
            "Epoch 143/300\n",
            "30/30 [==============================] - 0s 2ms/step - loss: 3802.3181 - mse: 57373804.0000\n",
            "Epoch 144/300\n",
            "30/30 [==============================] - 0s 2ms/step - loss: 3799.4209 - mse: 57301644.0000\n",
            "Epoch 145/300\n",
            "30/30 [==============================] - 0s 2ms/step - loss: 3793.6221 - mse: 56810628.0000\n",
            "Epoch 146/300\n",
            "30/30 [==============================] - 0s 2ms/step - loss: 3814.1533 - mse: 56862924.0000\n",
            "Epoch 147/300\n",
            "30/30 [==============================] - 0s 2ms/step - loss: 3794.3027 - mse: 56249068.0000\n",
            "Epoch 148/300\n",
            "30/30 [==============================] - 0s 2ms/step - loss: 3788.6345 - mse: 56336980.0000\n",
            "Epoch 149/300\n",
            "30/30 [==============================] - 0s 2ms/step - loss: 3784.3958 - mse: 56226128.0000\n",
            "Epoch 150/300\n",
            "30/30 [==============================] - 0s 2ms/step - loss: 3786.1985 - mse: 56242116.0000\n",
            "Epoch 151/300\n",
            "30/30 [==============================] - 0s 2ms/step - loss: 3785.3472 - mse: 55735768.0000\n",
            "Epoch 152/300\n",
            "30/30 [==============================] - 0s 2ms/step - loss: 3786.2166 - mse: 55973784.0000\n",
            "Epoch 153/300\n",
            "30/30 [==============================] - 0s 2ms/step - loss: 3782.1885 - mse: 55662472.0000\n",
            "Epoch 154/300\n",
            "30/30 [==============================] - 0s 2ms/step - loss: 3793.0095 - mse: 55689628.0000\n",
            "Epoch 155/300\n",
            "30/30 [==============================] - 0s 2ms/step - loss: 3796.3301 - mse: 55981760.0000\n",
            "Epoch 156/300\n",
            "30/30 [==============================] - 0s 2ms/step - loss: 3776.1355 - mse: 55764532.0000\n",
            "Epoch 157/300\n",
            "30/30 [==============================] - 0s 2ms/step - loss: 3781.5273 - mse: 55740652.0000\n",
            "Epoch 158/300\n",
            "30/30 [==============================] - 0s 2ms/step - loss: 3773.4819 - mse: 55775364.0000\n",
            "Epoch 159/300\n",
            "30/30 [==============================] - 0s 2ms/step - loss: 3768.1411 - mse: 55691852.0000\n",
            "Epoch 160/300\n",
            "30/30 [==============================] - 0s 2ms/step - loss: 3769.1550 - mse: 55598876.0000\n",
            "Epoch 161/300\n",
            "30/30 [==============================] - 0s 2ms/step - loss: 3768.4258 - mse: 55535988.0000\n",
            "Epoch 162/300\n",
            "30/30 [==============================] - 0s 2ms/step - loss: 3772.1726 - mse: 55614320.0000\n",
            "Epoch 163/300\n",
            "30/30 [==============================] - 0s 2ms/step - loss: 3769.0415 - mse: 55274852.0000\n",
            "Epoch 164/300\n",
            "30/30 [==============================] - 0s 2ms/step - loss: 3763.2749 - mse: 55189608.0000\n",
            "Epoch 165/300\n",
            "30/30 [==============================] - 0s 2ms/step - loss: 3769.3997 - mse: 55362520.0000\n",
            "Epoch 166/300\n",
            "30/30 [==============================] - 0s 2ms/step - loss: 3760.1252 - mse: 55416376.0000\n",
            "Epoch 167/300\n",
            "30/30 [==============================] - 0s 2ms/step - loss: 3765.7334 - mse: 55463080.0000\n",
            "Epoch 168/300\n",
            "30/30 [==============================] - 0s 2ms/step - loss: 3754.1816 - mse: 55338816.0000\n",
            "Epoch 169/300\n",
            "30/30 [==============================] - 0s 2ms/step - loss: 3755.1938 - mse: 55364560.0000\n",
            "Epoch 170/300\n",
            "30/30 [==============================] - 0s 2ms/step - loss: 3780.5122 - mse: 54756228.0000\n",
            "Epoch 171/300\n",
            "30/30 [==============================] - 0s 2ms/step - loss: 3764.2910 - mse: 54846500.0000\n",
            "Epoch 172/300\n",
            "30/30 [==============================] - 0s 2ms/step - loss: 3756.0352 - mse: 54963284.0000\n",
            "Epoch 173/300\n",
            "30/30 [==============================] - 0s 2ms/step - loss: 3761.6899 - mse: 54891932.0000\n",
            "Epoch 174/300\n",
            "30/30 [==============================] - 0s 2ms/step - loss: 3751.9497 - mse: 54979780.0000\n",
            "Epoch 175/300\n",
            "30/30 [==============================] - 0s 2ms/step - loss: 3748.8511 - mse: 54701604.0000\n",
            "Epoch 176/300\n",
            "30/30 [==============================] - 0s 2ms/step - loss: 3746.7231 - mse: 54702380.0000\n",
            "Epoch 177/300\n",
            "30/30 [==============================] - 0s 2ms/step - loss: 3751.0022 - mse: 54127440.0000\n",
            "Epoch 178/300\n",
            "30/30 [==============================] - 0s 2ms/step - loss: 3745.1780 - mse: 54398540.0000\n",
            "Epoch 179/300\n",
            "30/30 [==============================] - 0s 2ms/step - loss: 3752.9890 - mse: 54158180.0000\n",
            "Epoch 180/300\n",
            "30/30 [==============================] - 0s 2ms/step - loss: 3749.4136 - mse: 54376916.0000\n",
            "Epoch 181/300\n",
            "30/30 [==============================] - 0s 2ms/step - loss: 3756.6296 - mse: 54022512.0000\n",
            "Epoch 182/300\n",
            "30/30 [==============================] - 0s 2ms/step - loss: 3753.0474 - mse: 53854352.0000\n",
            "Epoch 183/300\n",
            "30/30 [==============================] - 0s 2ms/step - loss: 3754.4736 - mse: 53969284.0000\n",
            "Epoch 184/300\n",
            "30/30 [==============================] - 0s 2ms/step - loss: 3741.8687 - mse: 53620872.0000\n",
            "Epoch 185/300\n",
            "30/30 [==============================] - 0s 2ms/step - loss: 3740.2888 - mse: 53678880.0000\n",
            "Epoch 186/300\n",
            "30/30 [==============================] - 0s 2ms/step - loss: 3739.2449 - mse: 53576024.0000\n",
            "Epoch 187/300\n",
            "30/30 [==============================] - 0s 2ms/step - loss: 3753.0835 - mse: 53966624.0000\n",
            "Epoch 188/300\n",
            "30/30 [==============================] - 0s 2ms/step - loss: 3736.1470 - mse: 53512132.0000\n",
            "Epoch 189/300\n",
            "30/30 [==============================] - 0s 2ms/step - loss: 3741.5854 - mse: 53199484.0000\n",
            "Epoch 190/300\n",
            "30/30 [==============================] - 0s 2ms/step - loss: 3737.7737 - mse: 53362416.0000\n",
            "Epoch 191/300\n",
            "30/30 [==============================] - 0s 2ms/step - loss: 3732.4775 - mse: 53135752.0000\n",
            "Epoch 192/300\n",
            "30/30 [==============================] - 0s 2ms/step - loss: 3731.0581 - mse: 53133024.0000\n",
            "Epoch 193/300\n",
            "30/30 [==============================] - 0s 2ms/step - loss: 3742.4885 - mse: 53257224.0000\n",
            "Epoch 194/300\n",
            "30/30 [==============================] - 0s 2ms/step - loss: 3734.1389 - mse: 52814996.0000\n",
            "Epoch 195/300\n",
            "30/30 [==============================] - 0s 2ms/step - loss: 3769.0532 - mse: 51997016.0000\n",
            "Epoch 196/300\n",
            "30/30 [==============================] - 0s 2ms/step - loss: 3739.1233 - mse: 52671288.0000\n",
            "Epoch 197/300\n",
            "30/30 [==============================] - 0s 2ms/step - loss: 3724.1753 - mse: 52201544.0000\n",
            "Epoch 198/300\n",
            "30/30 [==============================] - 0s 2ms/step - loss: 3730.4983 - mse: 52135580.0000\n",
            "Epoch 199/300\n",
            "30/30 [==============================] - 0s 2ms/step - loss: 3734.8408 - mse: 52040932.0000\n",
            "Epoch 200/300\n",
            "30/30 [==============================] - 0s 2ms/step - loss: 3724.8047 - mse: 51590576.0000\n",
            "Epoch 201/300\n",
            "30/30 [==============================] - 0s 2ms/step - loss: 3727.9580 - mse: 51963804.0000\n",
            "Epoch 202/300\n",
            "30/30 [==============================] - 0s 2ms/step - loss: 3732.3669 - mse: 51969720.0000\n",
            "Epoch 203/300\n",
            "30/30 [==============================] - 0s 2ms/step - loss: 3721.9717 - mse: 51420532.0000\n",
            "Epoch 204/300\n",
            "30/30 [==============================] - 0s 2ms/step - loss: 3725.5906 - mse: 51746584.0000\n",
            "Epoch 205/300\n",
            "30/30 [==============================] - 0s 2ms/step - loss: 3732.4656 - mse: 51404612.0000\n",
            "Epoch 206/300\n",
            "30/30 [==============================] - 0s 2ms/step - loss: 3723.9919 - mse: 51086540.0000\n",
            "Epoch 207/300\n",
            "30/30 [==============================] - 0s 3ms/step - loss: 3715.4634 - mse: 50926396.0000\n",
            "Epoch 208/300\n",
            "30/30 [==============================] - 0s 2ms/step - loss: 3718.0483 - mse: 51088512.0000\n",
            "Epoch 209/300\n",
            "30/30 [==============================] - 0s 2ms/step - loss: 3715.6636 - mse: 50914384.0000\n",
            "Epoch 210/300\n",
            "30/30 [==============================] - 0s 2ms/step - loss: 3714.2957 - mse: 51029804.0000\n",
            "Epoch 211/300\n",
            "30/30 [==============================] - 0s 2ms/step - loss: 3726.6931 - mse: 50403092.0000\n",
            "Epoch 212/300\n",
            "30/30 [==============================] - 0s 2ms/step - loss: 3714.5635 - mse: 50112328.0000\n",
            "Epoch 213/300\n",
            "30/30 [==============================] - 0s 3ms/step - loss: 3712.1960 - mse: 50154768.0000\n",
            "Epoch 214/300\n",
            "30/30 [==============================] - 0s 2ms/step - loss: 3710.3213 - mse: 50122516.0000\n",
            "Epoch 215/300\n",
            "30/30 [==============================] - 0s 2ms/step - loss: 3714.9744 - mse: 50231424.0000\n",
            "Epoch 216/300\n",
            "30/30 [==============================] - 0s 2ms/step - loss: 3704.6797 - mse: 49798752.0000\n",
            "Epoch 217/300\n",
            "30/30 [==============================] - 0s 2ms/step - loss: 3715.2815 - mse: 49629960.0000\n",
            "Epoch 218/300\n",
            "30/30 [==============================] - 0s 2ms/step - loss: 3704.8950 - mse: 49660276.0000\n",
            "Epoch 219/300\n",
            "30/30 [==============================] - 0s 2ms/step - loss: 3709.3726 - mse: 49188584.0000\n",
            "Epoch 220/300\n",
            "30/30 [==============================] - 0s 2ms/step - loss: 3703.7339 - mse: 49319764.0000\n",
            "Epoch 221/300\n",
            "30/30 [==============================] - 0s 2ms/step - loss: 3714.9614 - mse: 48896744.0000\n",
            "Epoch 222/300\n",
            "30/30 [==============================] - 0s 2ms/step - loss: 3701.4812 - mse: 49348296.0000\n",
            "Epoch 223/300\n",
            "30/30 [==============================] - 0s 2ms/step - loss: 3697.9404 - mse: 49011668.0000\n",
            "Epoch 224/300\n",
            "30/30 [==============================] - 0s 2ms/step - loss: 3703.4409 - mse: 49040056.0000\n",
            "Epoch 225/300\n",
            "30/30 [==============================] - 0s 2ms/step - loss: 3700.7844 - mse: 48740880.0000\n",
            "Epoch 226/300\n",
            "30/30 [==============================] - 0s 2ms/step - loss: 3698.1309 - mse: 48819648.0000\n",
            "Epoch 227/300\n",
            "30/30 [==============================] - 0s 2ms/step - loss: 3707.4902 - mse: 48588612.0000\n",
            "Epoch 228/300\n",
            "30/30 [==============================] - 0s 2ms/step - loss: 3697.5037 - mse: 48492012.0000\n",
            "Epoch 229/300\n",
            "30/30 [==============================] - 0s 2ms/step - loss: 3702.3425 - mse: 48177660.0000\n",
            "Epoch 230/300\n",
            "30/30 [==============================] - 0s 2ms/step - loss: 3694.2793 - mse: 47999692.0000\n",
            "Epoch 231/300\n",
            "30/30 [==============================] - 0s 2ms/step - loss: 3698.8655 - mse: 47903196.0000\n",
            "Epoch 232/300\n",
            "30/30 [==============================] - 0s 2ms/step - loss: 3693.9121 - mse: 47882460.0000\n",
            "Epoch 233/300\n",
            "30/30 [==============================] - 0s 2ms/step - loss: 3685.4460 - mse: 47674008.0000\n",
            "Epoch 234/300\n",
            "30/30 [==============================] - 0s 2ms/step - loss: 3689.0881 - mse: 47060976.0000\n",
            "Epoch 235/300\n",
            "30/30 [==============================] - 0s 2ms/step - loss: 3683.2166 - mse: 47356036.0000\n",
            "Epoch 236/300\n",
            "30/30 [==============================] - 0s 2ms/step - loss: 3683.1199 - mse: 47446952.0000\n",
            "Epoch 237/300\n",
            "30/30 [==============================] - 0s 2ms/step - loss: 3686.7451 - mse: 47087508.0000\n",
            "Epoch 238/300\n",
            "30/30 [==============================] - 0s 2ms/step - loss: 3681.4697 - mse: 47103024.0000\n",
            "Epoch 239/300\n",
            "30/30 [==============================] - 0s 3ms/step - loss: 3685.8921 - mse: 46664864.0000\n",
            "Epoch 240/300\n",
            "30/30 [==============================] - 0s 2ms/step - loss: 3689.8394 - mse: 46654436.0000\n",
            "Epoch 241/300\n",
            "30/30 [==============================] - 0s 2ms/step - loss: 3692.2300 - mse: 47032932.0000\n",
            "Epoch 242/300\n",
            "30/30 [==============================] - 0s 2ms/step - loss: 3680.9238 - mse: 46538196.0000\n",
            "Epoch 243/300\n",
            "30/30 [==============================] - 0s 2ms/step - loss: 3689.9243 - mse: 47030180.0000\n",
            "Epoch 244/300\n",
            "30/30 [==============================] - 0s 2ms/step - loss: 3681.4082 - mse: 46384380.0000\n",
            "Epoch 245/300\n",
            "30/30 [==============================] - 0s 2ms/step - loss: 3678.2124 - mse: 46511720.0000\n",
            "Epoch 246/300\n",
            "30/30 [==============================] - 0s 2ms/step - loss: 3682.5159 - mse: 46273780.0000\n",
            "Epoch 247/300\n",
            "30/30 [==============================] - 0s 2ms/step - loss: 3672.4331 - mse: 46445468.0000\n",
            "Epoch 248/300\n",
            "30/30 [==============================] - 0s 2ms/step - loss: 3698.8794 - mse: 45801100.0000\n",
            "Epoch 249/300\n",
            "30/30 [==============================] - 0s 2ms/step - loss: 3674.9536 - mse: 46051140.0000\n",
            "Epoch 250/300\n",
            "30/30 [==============================] - 0s 2ms/step - loss: 3674.1609 - mse: 46121720.0000\n",
            "Epoch 251/300\n",
            "30/30 [==============================] - 0s 2ms/step - loss: 3677.8608 - mse: 45833868.0000\n",
            "Epoch 252/300\n",
            "30/30 [==============================] - 0s 2ms/step - loss: 3677.0483 - mse: 45875916.0000\n",
            "Epoch 253/300\n",
            "30/30 [==============================] - 0s 2ms/step - loss: 3673.5146 - mse: 45982692.0000\n",
            "Epoch 254/300\n",
            "30/30 [==============================] - 0s 2ms/step - loss: 3675.4292 - mse: 45664176.0000\n",
            "Epoch 255/300\n",
            "30/30 [==============================] - 0s 2ms/step - loss: 3669.0024 - mse: 45714516.0000\n",
            "Epoch 256/300\n",
            "30/30 [==============================] - 0s 2ms/step - loss: 3679.8584 - mse: 45412312.0000\n",
            "Epoch 257/300\n",
            "30/30 [==============================] - 0s 2ms/step - loss: 3669.5942 - mse: 45365500.0000\n",
            "Epoch 258/300\n",
            "30/30 [==============================] - 0s 2ms/step - loss: 3663.5591 - mse: 45545864.0000\n",
            "Epoch 259/300\n",
            "30/30 [==============================] - 0s 2ms/step - loss: 3665.4216 - mse: 45105696.0000\n",
            "Epoch 260/300\n",
            "30/30 [==============================] - 0s 3ms/step - loss: 3663.1162 - mse: 44998052.0000\n",
            "Epoch 261/300\n",
            "30/30 [==============================] - 0s 2ms/step - loss: 3673.0352 - mse: 45240676.0000\n",
            "Epoch 262/300\n",
            "30/30 [==============================] - 0s 2ms/step - loss: 3673.3445 - mse: 44845772.0000\n",
            "Epoch 263/300\n",
            "30/30 [==============================] - 0s 2ms/step - loss: 3661.8967 - mse: 44851980.0000\n",
            "Epoch 264/300\n",
            "30/30 [==============================] - 0s 2ms/step - loss: 3660.2930 - mse: 44775332.0000\n",
            "Epoch 265/300\n",
            "30/30 [==============================] - 0s 2ms/step - loss: 3659.7080 - mse: 44522320.0000\n",
            "Epoch 266/300\n",
            "30/30 [==============================] - 0s 2ms/step - loss: 3656.4382 - mse: 44305880.0000\n",
            "Epoch 267/300\n",
            "30/30 [==============================] - 0s 2ms/step - loss: 3658.0859 - mse: 44460736.0000\n",
            "Epoch 268/300\n",
            "30/30 [==============================] - 0s 2ms/step - loss: 3647.2732 - mse: 44158108.0000\n",
            "Epoch 269/300\n",
            "30/30 [==============================] - 0s 2ms/step - loss: 3661.3372 - mse: 43820312.0000\n",
            "Epoch 270/300\n",
            "30/30 [==============================] - 0s 2ms/step - loss: 3657.2383 - mse: 43796552.0000\n",
            "Epoch 271/300\n",
            "30/30 [==============================] - 0s 3ms/step - loss: 3646.4290 - mse: 44060352.0000\n",
            "Epoch 272/300\n",
            "30/30 [==============================] - 0s 2ms/step - loss: 3669.8406 - mse: 43687124.0000\n",
            "Epoch 273/300\n",
            "30/30 [==============================] - 0s 2ms/step - loss: 3650.9966 - mse: 43782384.0000\n",
            "Epoch 274/300\n",
            "30/30 [==============================] - 0s 2ms/step - loss: 3653.8542 - mse: 43522640.0000\n",
            "Epoch 275/300\n",
            "30/30 [==============================] - 0s 2ms/step - loss: 3655.0430 - mse: 43474752.0000\n",
            "Epoch 276/300\n",
            "30/30 [==============================] - 0s 2ms/step - loss: 3658.5208 - mse: 43758824.0000\n",
            "Epoch 277/300\n",
            "30/30 [==============================] - 0s 2ms/step - loss: 3642.8203 - mse: 43232808.0000\n",
            "Epoch 278/300\n",
            "30/30 [==============================] - 0s 2ms/step - loss: 3638.7473 - mse: 43238764.0000\n",
            "Epoch 279/300\n",
            "30/30 [==============================] - 0s 2ms/step - loss: 3641.8955 - mse: 43363604.0000\n",
            "Epoch 280/300\n",
            "30/30 [==============================] - 0s 2ms/step - loss: 3641.7417 - mse: 43193756.0000\n",
            "Epoch 281/300\n",
            "30/30 [==============================] - 0s 2ms/step - loss: 3649.5759 - mse: 43129396.0000\n",
            "Epoch 282/300\n",
            "30/30 [==============================] - 0s 2ms/step - loss: 3637.8726 - mse: 42920220.0000\n",
            "Epoch 283/300\n",
            "30/30 [==============================] - 0s 2ms/step - loss: 3644.8259 - mse: 43243820.0000\n",
            "Epoch 284/300\n",
            "30/30 [==============================] - 0s 2ms/step - loss: 3637.4636 - mse: 42796992.0000\n",
            "Epoch 285/300\n",
            "30/30 [==============================] - 0s 2ms/step - loss: 3631.1851 - mse: 42882344.0000\n",
            "Epoch 286/300\n",
            "30/30 [==============================] - 0s 2ms/step - loss: 3644.8389 - mse: 42726688.0000\n",
            "Epoch 287/300\n",
            "30/30 [==============================] - 0s 3ms/step - loss: 3643.7581 - mse: 42621156.0000\n",
            "Epoch 288/300\n",
            "30/30 [==============================] - 0s 2ms/step - loss: 3648.9365 - mse: 42837364.0000\n",
            "Epoch 289/300\n",
            "30/30 [==============================] - 0s 2ms/step - loss: 3629.1526 - mse: 42503384.0000\n",
            "Epoch 290/300\n",
            "30/30 [==============================] - 0s 2ms/step - loss: 3632.9902 - mse: 42558236.0000\n",
            "Epoch 291/300\n",
            "30/30 [==============================] - 0s 2ms/step - loss: 3631.7610 - mse: 42479560.0000\n",
            "Epoch 292/300\n",
            "30/30 [==============================] - 0s 2ms/step - loss: 3631.4436 - mse: 42674940.0000\n",
            "Epoch 293/300\n",
            "30/30 [==============================] - 0s 2ms/step - loss: 3626.2915 - mse: 42250240.0000\n",
            "Epoch 294/300\n",
            "30/30 [==============================] - 0s 2ms/step - loss: 3620.3035 - mse: 42345244.0000\n",
            "Epoch 295/300\n",
            "30/30 [==============================] - 0s 2ms/step - loss: 3627.5408 - mse: 42133184.0000\n",
            "Epoch 296/300\n",
            "30/30 [==============================] - 0s 2ms/step - loss: 3624.8474 - mse: 42277432.0000\n",
            "Epoch 297/300\n",
            "30/30 [==============================] - 0s 2ms/step - loss: 3620.9148 - mse: 42302844.0000\n",
            "Epoch 298/300\n",
            "30/30 [==============================] - 0s 3ms/step - loss: 3618.6831 - mse: 42092060.0000\n",
            "Epoch 299/300\n",
            "30/30 [==============================] - 0s 2ms/step - loss: 3621.2739 - mse: 42222308.0000\n",
            "Epoch 300/300\n",
            "30/30 [==============================] - 0s 2ms/step - loss: 3626.7375 - mse: 42123188.0000\n"
          ]
        }
      ]
    },
    {
      "cell_type": "code",
      "metadata": {
        "colab": {
          "base_uri": "https://localhost:8080/"
        },
        "id": "qTnUSzcsRsqR",
        "outputId": "ccdf557a-4649-4d9b-a1dd-469229450530"
      },
      "source": [
        "insurance_model_4.evaluate(X_test, y_test)"
      ],
      "execution_count": 92,
      "outputs": [
        {
          "output_type": "stream",
          "name": "stdout",
          "text": [
            "13/13 [==============================] - 0s 2ms/step - loss: 3370.6555 - mse: 37174144.0000\n"
          ]
        },
        {
          "output_type": "execute_result",
          "data": {
            "text/plain": [
              "[3370.655517578125, 37174144.0]"
            ]
          },
          "metadata": {},
          "execution_count": 92
        }
      ]
    },
    {
      "cell_type": "code",
      "metadata": {
        "colab": {
          "base_uri": "https://localhost:8080/",
          "height": 307
        },
        "id": "2Y4BbPeIQu1O",
        "outputId": "4f578204-4bc9-40aa-8bda-443a1fe813e4"
      },
      "source": [
        "pd.DataFrame(history_4.history).plot()\n",
        "plt.ylabel('loss')\n",
        "plt.xlabel('epochs')"
      ],
      "execution_count": 93,
      "outputs": [
        {
          "output_type": "execute_result",
          "data": {
            "text/plain": [
              "Text(0.5, 0, 'epochs')"
            ]
          },
          "metadata": {},
          "execution_count": 93
        },
        {
          "output_type": "display_data",
          "data": {
            "image/png": "[encoded data removed]",
            "text/plain": [
              "<Figure size 432x288 with 1 Axes>"
            ]
          },
          "metadata": {
            "needs_background": "light"
          }
        }
      ]
    },
    {
      "cell_type": "markdown",
      "metadata": {
        "id": "afwQta8aR8TP"
      },
      "source": [
        "Preprocessing data (normalization and standardization)"
      ]
    },
    {
      "cell_type": "code",
      "metadata": {
        "colab": {
          "base_uri": "https://localhost:8080/",
          "height": 282
        },
        "id": "H0ChHtLdSv6F",
        "outputId": "f05bf5d5-70c9-46bb-e06a-1be0167ad62d"
      },
      "source": [
        "X['age'].plot(kind='hist')"
      ],
      "execution_count": 94,
      "outputs": [
        {
          "output_type": "execute_result",
          "data": {
            "text/plain": [
              "<matplotlib.axes._subplots.AxesSubplot at 0x7eff0b935110>"
            ]
          },
          "metadata": {},
          "execution_count": 94
        },
        {
          "output_type": "display_data",
          "data": {
            "image/png": "[encoded data removed]",
            "text/plain": [
              "<Figure size 432x288 with 1 Axes>"
            ]
          },
          "metadata": {
            "needs_background": "light"
          }
        }
      ]
    },
    {
      "cell_type": "code",
      "metadata": {
        "colab": {
          "base_uri": "https://localhost:8080/"
        },
        "id": "n1jdNYVDQuw-",
        "outputId": "f4113059-a588-4967-9bef-f5cd90f57def"
      },
      "source": [
        "X['children'].value_counts()"
      ],
      "execution_count": 95,
      "outputs": [
        {
          "output_type": "execute_result",
          "data": {
            "text/plain": [
              "0    574\n",
              "1    324\n",
              "2    240\n",
              "3    157\n",
              "4     25\n",
              "5     18\n",
              "Name: children, dtype: int64"
            ]
          },
          "metadata": {},
          "execution_count": 95
        }
      ]
    },
    {
      "cell_type": "code",
      "metadata": {
        "id": "tX3g79ioSEK3"
      },
      "source": [
        "from sklearn.compose import make_column_transformer\n",
        "from sklearn.preprocessing import OneHotEncoder, MinMaxScaler"
      ],
      "execution_count": 96,
      "outputs": []
    },
    {
      "cell_type": "code",
      "metadata": {
        "colab": {
          "base_uri": "https://localhost:8080/",
          "height": 111
        },
        "id": "M7v5XImlSD3a",
        "outputId": "69226baf-b251-4a0d-c6a7-95bde5e644d1"
      },
      "source": [
        "insurance = pd.read_csv('https://raw.githubusercontent.com/stedy/Machine-Learning-with-R-datasets/master/insurance.csv')\n",
        "insurance.head(2)"
      ],
      "execution_count": 97,
      "outputs": [
        {
          "output_type": "execute_result",
          "data": {
            "text/html": [
              "<div>\n",
              "<style scoped>\n",
              "    .dataframe tbody tr th:only-of-type {\n",
              "        vertical-align: middle;\n",
              "    }\n",
              "\n",
              "    .dataframe tbody tr th {\n",
              "        vertical-align: top;\n",
              "    }\n",
              "\n",
              "    .dataframe thead th {\n",
              "        text-align: right;\n",
              "    }\n",
              "</style>\n",
              "<table border=\"1\" class=\"dataframe\">\n",
              "  <thead>\n",
              "    <tr style=\"text-align: right;\">\n",
              "      <th></th>\n",
              "      <th>age</th>\n",
              "      <th>sex</th>\n",
              "      <th>bmi</th>\n",
              "      <th>children</th>\n",
              "      <th>smoker</th>\n",
              "      <th>region</th>\n",
              "      <th>charges</th>\n",
              "    </tr>\n",
              "  </thead>\n",
              "  <tbody>\n",
              "    <tr>\n",
              "      <th>0</th>\n",
              "      <td>19</td>\n",
              "      <td>female</td>\n",
              "      <td>27.90</td>\n",
              "      <td>0</td>\n",
              "      <td>yes</td>\n",
              "      <td>southwest</td>\n",
              "      <td>16884.9240</td>\n",
              "    </tr>\n",
              "    <tr>\n",
              "      <th>1</th>\n",
              "      <td>18</td>\n",
              "      <td>male</td>\n",
              "      <td>33.77</td>\n",
              "      <td>1</td>\n",
              "      <td>no</td>\n",
              "      <td>southeast</td>\n",
              "      <td>1725.5523</td>\n",
              "    </tr>\n",
              "  </tbody>\n",
              "</table>\n",
              "</div>"
            ],
            "text/plain": [
              "   age     sex    bmi  children smoker     region     charges\n",
              "0   19  female  27.90         0    yes  southwest  16884.9240\n",
              "1   18    male  33.77         1     no  southeast   1725.5523"
            ]
          },
          "metadata": {},
          "execution_count": 97
        }
      ]
    },
    {
      "cell_type": "code",
      "metadata": {
        "id": "pXfLaWFHSDyL"
      },
      "source": [
        "ct = make_column_transformer(\n",
        "    (MinMaxScaler(), ['age', 'children', 'bmi', 'children']),\n",
        "    (OneHotEncoder(handle_unknown='ignore'), ['region', 'sex', 'smoker'])\n",
        ")\n",
        "\n",
        "X = insurance.drop('charges', axis=1)\n",
        "y = insurance['charges']\n",
        "\n",
        "X_train, X_test, y_train, y_test = train_test_split(X, y, test_size= 0.2, random_state = 42)\n",
        "\n",
        "# Fit the column transformer to the training data\n",
        "ct.fit(X_train)\n",
        "\n",
        "X_train_normal = ct.transform(X_train)\n",
        "X_test_normal = ct.transform(X_test)"
      ],
      "execution_count": 98,
      "outputs": []
    },
    {
      "cell_type": "code",
      "metadata": {
        "colab": {
          "base_uri": "https://localhost:8080/"
        },
        "id": "84Z2dV_TSDt0",
        "outputId": "66adcb13-7c90-453e-d474-dfc8dd7f4031"
      },
      "source": [
        "X_train.loc[0]"
      ],
      "execution_count": 99,
      "outputs": [
        {
          "output_type": "execute_result",
          "data": {
            "text/plain": [
              "age                19\n",
              "sex            female\n",
              "bmi              27.9\n",
              "children            0\n",
              "smoker            yes\n",
              "region      southwest\n",
              "Name: 0, dtype: object"
            ]
          },
          "metadata": {},
          "execution_count": 99
        }
      ]
    },
    {
      "cell_type": "code",
      "metadata": {
        "colab": {
          "base_uri": "https://localhost:8080/"
        },
        "id": "6SF60NEZSDpi",
        "outputId": "ae02fc39-e072-4b34-a82d-78f4055848f7"
      },
      "source": [
        "X_train_normal[0]"
      ],
      "execution_count": 100,
      "outputs": [
        {
          "output_type": "execute_result",
          "data": {
            "text/plain": [
              "array([0.60869565, 0.4       , 0.10734463, 0.4       , 0.        ,\n",
              "       1.        , 0.        , 0.        , 1.        , 0.        ,\n",
              "       1.        , 0.        ])"
            ]
          },
          "metadata": {},
          "execution_count": 100
        }
      ]
    },
    {
      "cell_type": "code",
      "metadata": {
        "colab": {
          "base_uri": "https://localhost:8080/"
        },
        "id": "Chq07uaHSDlP",
        "outputId": "033d5b65-6b11-421b-b9d7-1991938aefb5"
      },
      "source": [
        "X_train.shape, X_train_normal.shape"
      ],
      "execution_count": 101,
      "outputs": [
        {
          "output_type": "execute_result",
          "data": {
            "text/plain": [
              "((1070, 6), (1070, 12))"
            ]
          },
          "metadata": {},
          "execution_count": 101
        }
      ]
    },
    {
      "cell_type": "markdown",
      "metadata": {
        "id": "beWD4CTXeakg"
      },
      "source": [
        "### Build a neural network  model to fit on our normalized data"
      ]
    },
    {
      "cell_type": "code",
      "metadata": {
        "colab": {
          "base_uri": "https://localhost:8080/"
        },
        "id": "ApKqrB7YQur7",
        "outputId": "fb79c754-6b1b-4f39-d6f0-55742825cc47"
      },
      "source": [
        "tf.random.set_seed(42)\n",
        "\n",
        "insurance_model_5 = tf.keras.Sequential([\n",
        "                                         tf.keras.layers.Dense(100),\n",
        "                                         tf.keras.layers.Dense(10),\n",
        "                                         tf.keras.layers.Dense(1)\n",
        "])\n",
        "\n",
        "insurance_model_5.compile(loss= tf.keras.losses.mae,\n",
        "                        optimizer = tf.keras.optimizers.Adam(),\n",
        "                        metrics = ['mae'])\n",
        "\n",
        "history_4 = insurance_model_5.fit(X_train_normal, y_train, epochs=100)"
      ],
      "execution_count": 102,
      "outputs": [
        {
          "output_type": "stream",
          "name": "stdout",
          "text": [
            "Epoch 1/100\n",
            "34/34 [==============================] - 0s 2ms/step - loss: 13342.4775 - mae: 13342.4775\n",
            "Epoch 2/100\n",
            "34/34 [==============================] - 0s 2ms/step - loss: 13332.8789 - mae: 13332.8789\n",
            "Epoch 3/100\n",
            "34/34 [==============================] - 0s 1ms/step - loss: 13310.2773 - mae: 13310.2773\n",
            "Epoch 4/100\n",
            "34/34 [==============================] - 0s 2ms/step - loss: 13263.9180 - mae: 13263.9180\n",
            "Epoch 5/100\n",
            "34/34 [==============================] - 0s 2ms/step - loss: 13182.2246 - mae: 13182.2246\n",
            "Epoch 6/100\n",
            "34/34 [==============================] - 0s 2ms/step - loss: 13053.7109 - mae: 13053.7109\n",
            "Epoch 7/100\n",
            "34/34 [==============================] - 0s 2ms/step - loss: 12867.6377 - mae: 12867.6377\n",
            "Epoch 8/100\n",
            "34/34 [==============================] - 0s 1ms/step - loss: 12613.4404 - mae: 12613.4404\n",
            "Epoch 9/100\n",
            "34/34 [==============================] - 0s 2ms/step - loss: 12280.4932 - mae: 12280.4932\n",
            "Epoch 10/100\n",
            "34/34 [==============================] - 0s 2ms/step - loss: 11863.2705 - mae: 11863.2705\n",
            "Epoch 11/100\n",
            "34/34 [==============================] - 0s 2ms/step - loss: 11371.0342 - mae: 11371.0342\n",
            "Epoch 12/100\n",
            "34/34 [==============================] - 0s 2ms/step - loss: 10842.0811 - mae: 10842.0811\n",
            "Epoch 13/100\n",
            "34/34 [==============================] - 0s 2ms/step - loss: 10318.9678 - mae: 10318.9678\n",
            "Epoch 14/100\n",
            "34/34 [==============================] - 0s 2ms/step - loss: 9810.3799 - mae: 9810.3799\n",
            "Epoch 15/100\n",
            "34/34 [==============================] - 0s 2ms/step - loss: 9345.4404 - mae: 9345.4404\n",
            "Epoch 16/100\n",
            "34/34 [==============================] - 0s 2ms/step - loss: 8947.7812 - mae: 8947.7812\n",
            "Epoch 17/100\n",
            "34/34 [==============================] - 0s 2ms/step - loss: 8626.0166 - mae: 8626.0166\n",
            "Epoch 18/100\n",
            "34/34 [==============================] - 0s 2ms/step - loss: 8371.0869 - mae: 8371.0869\n",
            "Epoch 19/100\n",
            "34/34 [==============================] - 0s 2ms/step - loss: 8190.1084 - mae: 8190.1084\n",
            "Epoch 20/100\n",
            "34/34 [==============================] - 0s 2ms/step - loss: 8067.8970 - mae: 8067.8970\n",
            "Epoch 21/100\n",
            "34/34 [==============================] - 0s 2ms/step - loss: 7978.3999 - mae: 7978.3999\n",
            "Epoch 22/100\n",
            "34/34 [==============================] - 0s 2ms/step - loss: 7915.6318 - mae: 7915.6318\n",
            "Epoch 23/100\n",
            "34/34 [==============================] - 0s 2ms/step - loss: 7861.5898 - mae: 7861.5898\n",
            "Epoch 24/100\n",
            "34/34 [==============================] - 0s 2ms/step - loss: 7813.5347 - mae: 7813.5347\n",
            "Epoch 25/100\n",
            "34/34 [==============================] - 0s 2ms/step - loss: 7777.5312 - mae: 7777.5312\n",
            "Epoch 26/100\n",
            "34/34 [==============================] - 0s 2ms/step - loss: 7727.6357 - mae: 7727.6357\n",
            "Epoch 27/100\n",
            "34/34 [==============================] - 0s 2ms/step - loss: 7686.8687 - mae: 7686.8687\n",
            "Epoch 28/100\n",
            "34/34 [==============================] - 0s 2ms/step - loss: 7645.0923 - mae: 7645.0923\n",
            "Epoch 29/100\n",
            "34/34 [==============================] - 0s 2ms/step - loss: 7602.8779 - mae: 7602.8779\n",
            "Epoch 30/100\n",
            "34/34 [==============================] - 0s 2ms/step - loss: 7560.5342 - mae: 7560.5342\n",
            "Epoch 31/100\n",
            "34/34 [==============================] - 0s 2ms/step - loss: 7517.9551 - mae: 7517.9551\n",
            "Epoch 32/100\n",
            "34/34 [==============================] - 0s 2ms/step - loss: 7475.0132 - mae: 7475.0132\n",
            "Epoch 33/100\n",
            "34/34 [==============================] - 0s 2ms/step - loss: 7431.3213 - mae: 7431.3213\n",
            "Epoch 34/100\n",
            "34/34 [==============================] - 0s 2ms/step - loss: 7385.0396 - mae: 7385.0396\n",
            "Epoch 35/100\n",
            "34/34 [==============================] - 0s 2ms/step - loss: 7339.2920 - mae: 7339.2920\n",
            "Epoch 36/100\n",
            "34/34 [==============================] - 0s 2ms/step - loss: 7290.7466 - mae: 7290.7466\n",
            "Epoch 37/100\n",
            "34/34 [==============================] - 0s 2ms/step - loss: 7241.7461 - mae: 7241.7461\n",
            "Epoch 38/100\n",
            "34/34 [==============================] - 0s 2ms/step - loss: 7192.2944 - mae: 7192.2944\n",
            "Epoch 39/100\n",
            "34/34 [==============================] - 0s 2ms/step - loss: 7138.8188 - mae: 7138.8188\n",
            "Epoch 40/100\n",
            "34/34 [==============================] - 0s 2ms/step - loss: 7085.1880 - mae: 7085.1880\n",
            "Epoch 41/100\n",
            "34/34 [==============================] - 0s 2ms/step - loss: 7030.3267 - mae: 7030.3267\n",
            "Epoch 42/100\n",
            "34/34 [==============================] - 0s 2ms/step - loss: 6972.6768 - mae: 6972.6768\n",
            "Epoch 43/100\n",
            "34/34 [==============================] - 0s 2ms/step - loss: 6912.2212 - mae: 6912.2212\n",
            "Epoch 44/100\n",
            "34/34 [==============================] - 0s 2ms/step - loss: 6846.9746 - mae: 6846.9746\n",
            "Epoch 45/100\n",
            "34/34 [==============================] - 0s 2ms/step - loss: 6781.1924 - mae: 6781.1924\n",
            "Epoch 46/100\n",
            "34/34 [==============================] - 0s 2ms/step - loss: 6713.1318 - mae: 6713.1318\n",
            "Epoch 47/100\n",
            "34/34 [==============================] - 0s 2ms/step - loss: 6643.7866 - mae: 6643.7866\n",
            "Epoch 48/100\n",
            "34/34 [==============================] - 0s 2ms/step - loss: 6566.5234 - mae: 6566.5234\n",
            "Epoch 49/100\n",
            "34/34 [==============================] - 0s 2ms/step - loss: 6489.2759 - mae: 6489.2759\n",
            "Epoch 50/100\n",
            "34/34 [==============================] - 0s 2ms/step - loss: 6405.4780 - mae: 6405.4780\n",
            "Epoch 51/100\n",
            "34/34 [==============================] - 0s 2ms/step - loss: 6323.1870 - mae: 6323.1870\n",
            "Epoch 52/100\n",
            "34/34 [==============================] - 0s 2ms/step - loss: 6230.3066 - mae: 6230.3066\n",
            "Epoch 53/100\n",
            "34/34 [==============================] - 0s 2ms/step - loss: 6135.6646 - mae: 6135.6646\n",
            "Epoch 54/100\n",
            "34/34 [==============================] - 0s 2ms/step - loss: 6038.4966 - mae: 6038.4966\n",
            "Epoch 55/100\n",
            "34/34 [==============================] - 0s 2ms/step - loss: 5931.1309 - mae: 5931.1309\n",
            "Epoch 56/100\n",
            "34/34 [==============================] - 0s 2ms/step - loss: 5822.2881 - mae: 5822.2881\n",
            "Epoch 57/100\n",
            "34/34 [==============================] - 0s 2ms/step - loss: 5706.0942 - mae: 5706.0942\n",
            "Epoch 58/100\n",
            "34/34 [==============================] - 0s 2ms/step - loss: 5585.6284 - mae: 5585.6284\n",
            "Epoch 59/100\n",
            "34/34 [==============================] - 0s 2ms/step - loss: 5464.3110 - mae: 5464.3110\n",
            "Epoch 60/100\n",
            "34/34 [==============================] - 0s 2ms/step - loss: 5340.3584 - mae: 5340.3584\n",
            "Epoch 61/100\n",
            "34/34 [==============================] - 0s 2ms/step - loss: 5212.7827 - mae: 5212.7827\n",
            "Epoch 62/100\n",
            "34/34 [==============================] - 0s 2ms/step - loss: 5082.2212 - mae: 5082.2212\n",
            "Epoch 63/100\n",
            "34/34 [==============================] - 0s 2ms/step - loss: 4952.1113 - mae: 4952.1113\n",
            "Epoch 64/100\n",
            "34/34 [==============================] - 0s 2ms/step - loss: 4816.3447 - mae: 4816.3447\n",
            "Epoch 65/100\n",
            "34/34 [==============================] - 0s 2ms/step - loss: 4684.9077 - mae: 4684.9077\n",
            "Epoch 66/100\n",
            "34/34 [==============================] - 0s 2ms/step - loss: 4552.9824 - mae: 4552.9824\n",
            "Epoch 67/100\n",
            "34/34 [==============================] - 0s 2ms/step - loss: 4435.2642 - mae: 4435.2642\n",
            "Epoch 68/100\n",
            "34/34 [==============================] - 0s 2ms/step - loss: 4323.0181 - mae: 4323.0181\n",
            "Epoch 69/100\n",
            "34/34 [==============================] - 0s 2ms/step - loss: 4218.3604 - mae: 4218.3604\n",
            "Epoch 70/100\n",
            "34/34 [==============================] - 0s 2ms/step - loss: 4123.7500 - mae: 4123.7500\n",
            "Epoch 71/100\n",
            "34/34 [==============================] - 0s 2ms/step - loss: 4035.1223 - mae: 4035.1223\n",
            "Epoch 72/100\n",
            "34/34 [==============================] - 0s 2ms/step - loss: 3957.4038 - mae: 3957.4038\n",
            "Epoch 73/100\n",
            "34/34 [==============================] - 0s 2ms/step - loss: 3891.4426 - mae: 3891.4426\n",
            "Epoch 74/100\n",
            "34/34 [==============================] - 0s 2ms/step - loss: 3836.6758 - mae: 3836.6758\n",
            "Epoch 75/100\n",
            "34/34 [==============================] - 0s 2ms/step - loss: 3791.6448 - mae: 3791.6448\n",
            "Epoch 76/100\n",
            "34/34 [==============================] - 0s 2ms/step - loss: 3757.7439 - mae: 3757.7439\n",
            "Epoch 77/100\n",
            "34/34 [==============================] - 0s 2ms/step - loss: 3730.6553 - mae: 3730.6553\n",
            "Epoch 78/100\n",
            "34/34 [==============================] - 0s 1ms/step - loss: 3711.5051 - mae: 3711.5051\n",
            "Epoch 79/100\n",
            "34/34 [==============================] - 0s 2ms/step - loss: 3697.4104 - mae: 3697.4104\n",
            "Epoch 80/100\n",
            "34/34 [==============================] - 0s 2ms/step - loss: 3687.9285 - mae: 3687.9285\n",
            "Epoch 81/100\n",
            "34/34 [==============================] - 0s 2ms/step - loss: 3680.4736 - mae: 3680.4736\n",
            "Epoch 82/100\n",
            "34/34 [==============================] - 0s 2ms/step - loss: 3676.4321 - mae: 3676.4321\n",
            "Epoch 83/100\n",
            "34/34 [==============================] - 0s 2ms/step - loss: 3669.9580 - mae: 3669.9580\n",
            "Epoch 84/100\n",
            "34/34 [==============================] - 0s 2ms/step - loss: 3666.4158 - mae: 3666.4158\n",
            "Epoch 85/100\n",
            "34/34 [==============================] - 0s 2ms/step - loss: 3663.8933 - mae: 3663.8933\n",
            "Epoch 86/100\n",
            "34/34 [==============================] - 0s 1ms/step - loss: 3661.9043 - mae: 3661.9043\n",
            "Epoch 87/100\n",
            "34/34 [==============================] - 0s 1ms/step - loss: 3659.1562 - mae: 3659.1562\n",
            "Epoch 88/100\n",
            "34/34 [==============================] - 0s 2ms/step - loss: 3656.1006 - mae: 3656.1006\n",
            "Epoch 89/100\n",
            "34/34 [==============================] - 0s 2ms/step - loss: 3654.4949 - mae: 3654.4949\n",
            "Epoch 90/100\n",
            "34/34 [==============================] - 0s 2ms/step - loss: 3653.0452 - mae: 3653.0452\n",
            "Epoch 91/100\n",
            "34/34 [==============================] - 0s 2ms/step - loss: 3650.0093 - mae: 3650.0093\n",
            "Epoch 92/100\n",
            "34/34 [==============================] - 0s 1ms/step - loss: 3649.3425 - mae: 3649.3425\n",
            "Epoch 93/100\n",
            "34/34 [==============================] - 0s 2ms/step - loss: 3647.1848 - mae: 3647.1848\n",
            "Epoch 94/100\n",
            "34/34 [==============================] - 0s 2ms/step - loss: 3645.3743 - mae: 3645.3743\n",
            "Epoch 95/100\n",
            "34/34 [==============================] - 0s 2ms/step - loss: 3646.5334 - mae: 3646.5334\n",
            "Epoch 96/100\n",
            "34/34 [==============================] - 0s 2ms/step - loss: 3643.2834 - mae: 3643.2834\n",
            "Epoch 97/100\n",
            "34/34 [==============================] - 0s 2ms/step - loss: 3640.9890 - mae: 3640.9890\n",
            "Epoch 98/100\n",
            "34/34 [==============================] - 0s 2ms/step - loss: 3639.0002 - mae: 3639.0002\n",
            "Epoch 99/100\n",
            "34/34 [==============================] - 0s 2ms/step - loss: 3638.2014 - mae: 3638.2014\n",
            "Epoch 100/100\n",
            "34/34 [==============================] - 0s 2ms/step - loss: 3637.0320 - mae: 3637.0320\n"
          ]
        }
      ]
    },
    {
      "cell_type": "code",
      "metadata": {
        "colab": {
          "base_uri": "https://localhost:8080/"
        },
        "id": "W_1RGI3DQunT",
        "outputId": "199846a9-50ae-44eb-c471-631f9d91e997"
      },
      "source": [
        "insurance_model_5.evaluate(X_test_normal, y_test)"
      ],
      "execution_count": 103,
      "outputs": [
        {
          "output_type": "stream",
          "name": "stdout",
          "text": [
            "9/9 [==============================] - 0s 2ms/step - loss: 3441.0835 - mae: 3441.0835\n"
          ]
        },
        {
          "output_type": "execute_result",
          "data": {
            "text/plain": [
              "[3441.08349609375, 3441.08349609375]"
            ]
          },
          "metadata": {},
          "execution_count": 103
        }
      ]
    },
    {
      "cell_type": "code",
      "metadata": {
        "id": "HnooDkaE8qWL",
        "colab": {
          "base_uri": "https://localhost:8080/"
        },
        "outputId": "711a269e-09be-4a7a-c84f-1b9c0489b695"
      },
      "source": [
        "tf.random.set_seed(42)\n",
        "\n",
        "insurance_model_6 = tf.keras.Sequential([\n",
        "                                         tf.keras.layers.Dense(100),\n",
        "                                         tf.keras.layers.Dense(10),\n",
        "                                         tf.keras.layers.Dense(1)\n",
        "])\n",
        "\n",
        "insurance_model_6.compile(loss= tf.keras.losses.mae,\n",
        "                        optimizer = tf.keras.optimizers.Adam(),\n",
        "                        metrics = ['mae'])\n",
        "\n",
        "history_6 = insurance_model_6.fit(X_train_normal, y_train, epochs=300)"
      ],
      "execution_count": 104,
      "outputs": [
        {
          "output_type": "stream",
          "name": "stdout",
          "text": [
            "Epoch 1/300\n",
            "34/34 [==============================] - 0s 3ms/step - loss: 13342.4775 - mae: 13342.4775\n",
            "Epoch 2/300\n",
            "34/34 [==============================] - 0s 2ms/step - loss: 13332.8789 - mae: 13332.8789\n",
            "Epoch 3/300\n",
            "34/34 [==============================] - 0s 2ms/step - loss: 13310.2773 - mae: 13310.2773\n",
            "Epoch 4/300\n",
            "34/34 [==============================] - 0s 3ms/step - loss: 13263.9180 - mae: 13263.9180\n",
            "Epoch 5/300\n",
            "34/34 [==============================] - 0s 2ms/step - loss: 13182.2246 - mae: 13182.2246\n",
            "Epoch 6/300\n",
            "34/34 [==============================] - 0s 2ms/step - loss: 13053.7109 - mae: 13053.7109\n",
            "Epoch 7/300\n",
            "34/34 [==============================] - 0s 2ms/step - loss: 12867.6377 - mae: 12867.6377\n",
            "Epoch 8/300\n",
            "34/34 [==============================] - 0s 2ms/step - loss: 12613.4404 - mae: 12613.4404\n",
            "Epoch 9/300\n",
            "34/34 [==============================] - 0s 2ms/step - loss: 12280.4932 - mae: 12280.4932\n",
            "Epoch 10/300\n",
            "34/34 [==============================] - 0s 2ms/step - loss: 11863.2705 - mae: 11863.2705\n",
            "Epoch 11/300\n",
            "34/34 [==============================] - 0s 2ms/step - loss: 11371.0342 - mae: 11371.0342\n",
            "Epoch 12/300\n",
            "34/34 [==============================] - 0s 2ms/step - loss: 10842.0811 - mae: 10842.0811\n",
            "Epoch 13/300\n",
            "34/34 [==============================] - 0s 2ms/step - loss: 10318.9678 - mae: 10318.9678\n",
            "Epoch 14/300\n",
            "34/34 [==============================] - 0s 2ms/step - loss: 9810.3799 - mae: 9810.3799\n",
            "Epoch 15/300\n",
            "34/34 [==============================] - 0s 2ms/step - loss: 9345.4404 - mae: 9345.4404\n",
            "Epoch 16/300\n",
            "34/34 [==============================] - 0s 2ms/step - loss: 8947.7812 - mae: 8947.7812\n",
            "Epoch 17/300\n",
            "34/34 [==============================] - 0s 2ms/step - loss: 8626.0166 - mae: 8626.0166\n",
            "Epoch 18/300\n",
            "34/34 [==============================] - 0s 2ms/step - loss: 8371.0869 - mae: 8371.0869\n",
            "Epoch 19/300\n",
            "34/34 [==============================] - 0s 2ms/step - loss: 8190.1084 - mae: 8190.1084\n",
            "Epoch 20/300\n",
            "34/34 [==============================] - 0s 2ms/step - loss: 8067.8970 - mae: 8067.8970\n",
            "Epoch 21/300\n",
            "34/34 [==============================] - 0s 2ms/step - loss: 7978.3999 - mae: 7978.3999\n",
            "Epoch 22/300\n",
            "34/34 [==============================] - 0s 2ms/step - loss: 7915.6318 - mae: 7915.6318\n",
            "Epoch 23/300\n",
            "34/34 [==============================] - 0s 2ms/step - loss: 7861.5898 - mae: 7861.5898\n",
            "Epoch 24/300\n",
            "34/34 [==============================] - 0s 2ms/step - loss: 7813.5347 - mae: 7813.5347\n",
            "Epoch 25/300\n",
            "34/34 [==============================] - 0s 2ms/step - loss: 7777.5312 - mae: 7777.5312\n",
            "Epoch 26/300\n",
            "34/34 [==============================] - 0s 2ms/step - loss: 7727.6357 - mae: 7727.6357\n",
            "Epoch 27/300\n",
            "34/34 [==============================] - 0s 2ms/step - loss: 7686.8687 - mae: 7686.8687\n",
            "Epoch 28/300\n",
            "34/34 [==============================] - 0s 2ms/step - loss: 7645.0923 - mae: 7645.0923\n",
            "Epoch 29/300\n",
            "34/34 [==============================] - 0s 2ms/step - loss: 7602.8779 - mae: 7602.8779\n",
            "Epoch 30/300\n",
            "34/34 [==============================] - 0s 2ms/step - loss: 7560.5342 - mae: 7560.5342\n",
            "Epoch 31/300\n",
            "34/34 [==============================] - 0s 2ms/step - loss: 7517.9551 - mae: 7517.9551\n",
            "Epoch 32/300\n",
            "34/34 [==============================] - 0s 2ms/step - loss: 7475.0132 - mae: 7475.0132\n",
            "Epoch 33/300\n",
            "34/34 [==============================] - 0s 2ms/step - loss: 7431.3213 - mae: 7431.3213\n",
            "Epoch 34/300\n",
            "34/34 [==============================] - 0s 2ms/step - loss: 7385.0396 - mae: 7385.0396\n",
            "Epoch 35/300\n",
            "34/34 [==============================] - 0s 2ms/step - loss: 7339.2920 - mae: 7339.2920\n",
            "Epoch 36/300\n",
            "34/34 [==============================] - 0s 2ms/step - loss: 7290.7466 - mae: 7290.7466\n",
            "Epoch 37/300\n",
            "34/34 [==============================] - 0s 2ms/step - loss: 7241.7461 - mae: 7241.7461\n",
            "Epoch 38/300\n",
            "34/34 [==============================] - 0s 2ms/step - loss: 7192.2944 - mae: 7192.2944\n",
            "Epoch 39/300\n",
            "34/34 [==============================] - 0s 2ms/step - loss: 7138.8188 - mae: 7138.8188\n",
            "Epoch 40/300\n",
            "34/34 [==============================] - 0s 2ms/step - loss: 7085.1880 - mae: 7085.1880\n",
            "Epoch 41/300\n",
            "34/34 [==============================] - 0s 2ms/step - loss: 7030.3267 - mae: 7030.3267\n",
            "Epoch 42/300\n",
            "34/34 [==============================] - 0s 2ms/step - loss: 6972.6768 - mae: 6972.6768\n",
            "Epoch 43/300\n",
            "34/34 [==============================] - 0s 2ms/step - loss: 6912.2212 - mae: 6912.2212\n",
            "Epoch 44/300\n",
            "34/34 [==============================] - 0s 2ms/step - loss: 6846.9746 - mae: 6846.9746\n",
            "Epoch 45/300\n",
            "34/34 [==============================] - 0s 2ms/step - loss: 6781.1924 - mae: 6781.1924\n",
            "Epoch 46/300\n",
            "34/34 [==============================] - 0s 2ms/step - loss: 6713.1318 - mae: 6713.1318\n",
            "Epoch 47/300\n",
            "34/34 [==============================] - 0s 2ms/step - loss: 6643.7866 - mae: 6643.7866\n",
            "Epoch 48/300\n",
            "34/34 [==============================] - 0s 2ms/step - loss: 6566.5234 - mae: 6566.5234\n",
            "Epoch 49/300\n",
            "34/34 [==============================] - 0s 2ms/step - loss: 6489.2759 - mae: 6489.2759\n",
            "Epoch 50/300\n",
            "34/34 [==============================] - 0s 2ms/step - loss: 6405.4780 - mae: 6405.4780\n",
            "Epoch 51/300\n",
            "34/34 [==============================] - 0s 2ms/step - loss: 6323.1870 - mae: 6323.1870\n",
            "Epoch 52/300\n",
            "34/34 [==============================] - 0s 2ms/step - loss: 6230.3066 - mae: 6230.3066\n",
            "Epoch 53/300\n",
            "34/34 [==============================] - 0s 2ms/step - loss: 6135.6646 - mae: 6135.6646\n",
            "Epoch 54/300\n",
            "34/34 [==============================] - 0s 2ms/step - loss: 6038.4966 - mae: 6038.4966\n",
            "Epoch 55/300\n",
            "34/34 [==============================] - 0s 2ms/step - loss: 5931.1309 - mae: 5931.1309\n",
            "Epoch 56/300\n",
            "34/34 [==============================] - 0s 2ms/step - loss: 5822.2881 - mae: 5822.2881\n",
            "Epoch 57/300\n",
            "34/34 [==============================] - 0s 2ms/step - loss: 5706.0942 - mae: 5706.0942\n",
            "Epoch 58/300\n",
            "34/34 [==============================] - 0s 2ms/step - loss: 5585.6284 - mae: 5585.6284\n",
            "Epoch 59/300\n",
            "34/34 [==============================] - 0s 2ms/step - loss: 5464.3110 - mae: 5464.3110\n",
            "Epoch 60/300\n",
            "34/34 [==============================] - 0s 2ms/step - loss: 5340.3584 - mae: 5340.3584\n",
            "Epoch 61/300\n",
            "34/34 [==============================] - 0s 2ms/step - loss: 5212.7827 - mae: 5212.7827\n",
            "Epoch 62/300\n",
            "34/34 [==============================] - 0s 1ms/step - loss: 5082.2212 - mae: 5082.2212\n",
            "Epoch 63/300\n",
            "34/34 [==============================] - 0s 2ms/step - loss: 4952.1113 - mae: 4952.1113\n",
            "Epoch 64/300\n",
            "34/34 [==============================] - 0s 2ms/step - loss: 4816.3447 - mae: 4816.3447\n",
            "Epoch 65/300\n",
            "34/34 [==============================] - 0s 2ms/step - loss: 4684.9077 - mae: 4684.9077\n",
            "Epoch 66/300\n",
            "34/34 [==============================] - 0s 2ms/step - loss: 4552.9824 - mae: 4552.9824\n",
            "Epoch 67/300\n",
            "34/34 [==============================] - 0s 2ms/step - loss: 4435.2642 - mae: 4435.2642\n",
            "Epoch 68/300\n",
            "34/34 [==============================] - 0s 2ms/step - loss: 4323.0181 - mae: 4323.0181\n",
            "Epoch 69/300\n",
            "34/34 [==============================] - 0s 2ms/step - loss: 4218.3604 - mae: 4218.3604\n",
            "Epoch 70/300\n",
            "34/34 [==============================] - 0s 2ms/step - loss: 4123.7500 - mae: 4123.7500\n",
            "Epoch 71/300\n",
            "34/34 [==============================] - 0s 2ms/step - loss: 4035.1223 - mae: 4035.1223\n",
            "Epoch 72/300\n",
            "34/34 [==============================] - 0s 2ms/step - loss: 3957.4038 - mae: 3957.4038\n",
            "Epoch 73/300\n",
            "34/34 [==============================] - 0s 2ms/step - loss: 3891.4426 - mae: 3891.4426\n",
            "Epoch 74/300\n",
            "34/34 [==============================] - 0s 2ms/step - loss: 3836.6758 - mae: 3836.6758\n",
            "Epoch 75/300\n",
            "34/34 [==============================] - 0s 2ms/step - loss: 3791.6448 - mae: 3791.6448\n",
            "Epoch 76/300\n",
            "34/34 [==============================] - 0s 2ms/step - loss: 3757.7439 - mae: 3757.7439\n",
            "Epoch 77/300\n",
            "34/34 [==============================] - 0s 2ms/step - loss: 3730.6553 - mae: 3730.6553\n",
            "Epoch 78/300\n",
            "34/34 [==============================] - 0s 2ms/step - loss: 3711.5051 - mae: 3711.5051\n",
            "Epoch 79/300\n",
            "34/34 [==============================] - 0s 2ms/step - loss: 3697.4104 - mae: 3697.4104\n",
            "Epoch 80/300\n",
            "34/34 [==============================] - 0s 2ms/step - loss: 3687.9285 - mae: 3687.9285\n",
            "Epoch 81/300\n",
            "34/34 [==============================] - 0s 2ms/step - loss: 3680.4736 - mae: 3680.4736\n",
            "Epoch 82/300\n",
            "34/34 [==============================] - 0s 2ms/step - loss: 3676.4321 - mae: 3676.4321\n",
            "Epoch 83/300\n",
            "34/34 [==============================] - 0s 2ms/step - loss: 3669.9580 - mae: 3669.9580\n",
            "Epoch 84/300\n",
            "34/34 [==============================] - 0s 2ms/step - loss: 3666.4158 - mae: 3666.4158\n",
            "Epoch 85/300\n",
            "34/34 [==============================] - 0s 1ms/step - loss: 3663.8933 - mae: 3663.8933\n",
            "Epoch 86/300\n",
            "34/34 [==============================] - 0s 2ms/step - loss: 3661.9043 - mae: 3661.9043\n",
            "Epoch 87/300\n",
            "34/34 [==============================] - 0s 2ms/step - loss: 3659.1562 - mae: 3659.1562\n",
            "Epoch 88/300\n",
            "34/34 [==============================] - 0s 2ms/step - loss: 3656.1006 - mae: 3656.1006\n",
            "Epoch 89/300\n",
            "34/34 [==============================] - 0s 2ms/step - loss: 3654.4949 - mae: 3654.4949\n",
            "Epoch 90/300\n",
            "34/34 [==============================] - 0s 2ms/step - loss: 3653.0452 - mae: 3653.0452\n",
            "Epoch 91/300\n",
            "34/34 [==============================] - 0s 2ms/step - loss: 3650.0093 - mae: 3650.0093\n",
            "Epoch 92/300\n",
            "34/34 [==============================] - 0s 2ms/step - loss: 3649.3425 - mae: 3649.3425\n",
            "Epoch 93/300\n",
            "34/34 [==============================] - 0s 2ms/step - loss: 3647.1848 - mae: 3647.1848\n",
            "Epoch 94/300\n",
            "34/34 [==============================] - 0s 2ms/step - loss: 3645.3743 - mae: 3645.3743\n",
            "Epoch 95/300\n",
            "34/34 [==============================] - 0s 2ms/step - loss: 3646.5334 - mae: 3646.5334\n",
            "Epoch 96/300\n",
            "34/34 [==============================] - 0s 2ms/step - loss: 3643.2834 - mae: 3643.2834\n",
            "Epoch 97/300\n",
            "34/34 [==============================] - 0s 2ms/step - loss: 3640.9890 - mae: 3640.9890\n",
            "Epoch 98/300\n",
            "34/34 [==============================] - 0s 1ms/step - loss: 3639.0002 - mae: 3639.0002\n",
            "Epoch 99/300\n",
            "34/34 [==============================] - 0s 2ms/step - loss: 3638.2014 - mae: 3638.2014\n",
            "Epoch 100/300\n",
            "34/34 [==============================] - 0s 2ms/step - loss: 3637.0320 - mae: 3637.0320\n",
            "Epoch 101/300\n",
            "34/34 [==============================] - 0s 2ms/step - loss: 3634.0159 - mae: 3634.0159\n",
            "Epoch 102/300\n",
            "34/34 [==============================] - 0s 2ms/step - loss: 3631.4460 - mae: 3631.4460\n",
            "Epoch 103/300\n",
            "34/34 [==============================] - 0s 2ms/step - loss: 3630.4678 - mae: 3630.4678\n",
            "Epoch 104/300\n",
            "34/34 [==============================] - 0s 2ms/step - loss: 3627.9473 - mae: 3627.9473\n",
            "Epoch 105/300\n",
            "34/34 [==============================] - 0s 2ms/step - loss: 3626.4111 - mae: 3626.4111\n",
            "Epoch 106/300\n",
            "34/34 [==============================] - 0s 2ms/step - loss: 3625.0896 - mae: 3625.0896\n",
            "Epoch 107/300\n",
            "34/34 [==============================] - 0s 2ms/step - loss: 3624.8333 - mae: 3624.8333\n",
            "Epoch 108/300\n",
            "34/34 [==============================] - 0s 2ms/step - loss: 3622.0703 - mae: 3622.0703\n",
            "Epoch 109/300\n",
            "34/34 [==============================] - 0s 2ms/step - loss: 3622.5535 - mae: 3622.5535\n",
            "Epoch 110/300\n",
            "34/34 [==============================] - 0s 2ms/step - loss: 3619.1384 - mae: 3619.1384\n",
            "Epoch 111/300\n",
            "34/34 [==============================] - 0s 2ms/step - loss: 3616.3589 - mae: 3616.3589\n",
            "Epoch 112/300\n",
            "34/34 [==============================] - 0s 2ms/step - loss: 3614.4448 - mae: 3614.4448\n",
            "Epoch 113/300\n",
            "34/34 [==============================] - 0s 2ms/step - loss: 3612.9375 - mae: 3612.9375\n",
            "Epoch 114/300\n",
            "34/34 [==============================] - 0s 2ms/step - loss: 3612.0332 - mae: 3612.0332\n",
            "Epoch 115/300\n",
            "34/34 [==============================] - 0s 2ms/step - loss: 3610.2109 - mae: 3610.2109\n",
            "Epoch 116/300\n",
            "34/34 [==============================] - 0s 2ms/step - loss: 3608.8208 - mae: 3608.8208\n",
            "Epoch 117/300\n",
            "34/34 [==============================] - 0s 2ms/step - loss: 3605.9736 - mae: 3605.9736\n",
            "Epoch 118/300\n",
            "34/34 [==============================] - 0s 2ms/step - loss: 3602.2039 - mae: 3602.2039\n",
            "Epoch 119/300\n",
            "34/34 [==============================] - 0s 2ms/step - loss: 3604.3984 - mae: 3604.3984\n",
            "Epoch 120/300\n",
            "34/34 [==============================] - 0s 2ms/step - loss: 3601.1296 - mae: 3601.1296\n",
            "Epoch 121/300\n",
            "34/34 [==============================] - 0s 2ms/step - loss: 3596.5945 - mae: 3596.5945\n",
            "Epoch 122/300\n",
            "34/34 [==============================] - 0s 2ms/step - loss: 3595.8174 - mae: 3595.8174\n",
            "Epoch 123/300\n",
            "34/34 [==============================] - 0s 2ms/step - loss: 3593.8513 - mae: 3593.8513\n",
            "Epoch 124/300\n",
            "34/34 [==============================] - 0s 2ms/step - loss: 3591.5540 - mae: 3591.5540\n",
            "Epoch 125/300\n",
            "34/34 [==============================] - 0s 2ms/step - loss: 3589.5366 - mae: 3589.5366\n",
            "Epoch 126/300\n",
            "34/34 [==============================] - 0s 2ms/step - loss: 3588.7129 - mae: 3588.7129\n",
            "Epoch 127/300\n",
            "34/34 [==============================] - 0s 2ms/step - loss: 3588.8828 - mae: 3588.8828\n",
            "Epoch 128/300\n",
            "34/34 [==============================] - 0s 2ms/step - loss: 3585.7935 - mae: 3585.7935\n",
            "Epoch 129/300\n",
            "34/34 [==============================] - 0s 2ms/step - loss: 3583.9382 - mae: 3583.9382\n",
            "Epoch 130/300\n",
            "34/34 [==============================] - 0s 2ms/step - loss: 3580.4680 - mae: 3580.4680\n",
            "Epoch 131/300\n",
            "34/34 [==============================] - 0s 2ms/step - loss: 3579.0657 - mae: 3579.0657\n",
            "Epoch 132/300\n",
            "34/34 [==============================] - 0s 2ms/step - loss: 3576.2747 - mae: 3576.2747\n",
            "Epoch 133/300\n",
            "34/34 [==============================] - 0s 2ms/step - loss: 3574.6726 - mae: 3574.6726\n",
            "Epoch 134/300\n",
            "34/34 [==============================] - 0s 2ms/step - loss: 3572.7058 - mae: 3572.7058\n",
            "Epoch 135/300\n",
            "34/34 [==============================] - 0s 2ms/step - loss: 3570.8879 - mae: 3570.8879\n",
            "Epoch 136/300\n",
            "34/34 [==============================] - 0s 2ms/step - loss: 3569.1511 - mae: 3569.1511\n",
            "Epoch 137/300\n",
            "34/34 [==============================] - 0s 2ms/step - loss: 3567.5256 - mae: 3567.5256\n",
            "Epoch 138/300\n",
            "34/34 [==============================] - 0s 2ms/step - loss: 3565.1296 - mae: 3565.1296\n",
            "Epoch 139/300\n",
            "34/34 [==============================] - 0s 2ms/step - loss: 3564.2883 - mae: 3564.2883\n",
            "Epoch 140/300\n",
            "34/34 [==============================] - 0s 2ms/step - loss: 3562.3289 - mae: 3562.3289\n",
            "Epoch 141/300\n",
            "34/34 [==============================] - 0s 2ms/step - loss: 3562.4126 - mae: 3562.4126\n",
            "Epoch 142/300\n",
            "34/34 [==============================] - 0s 2ms/step - loss: 3559.3357 - mae: 3559.3357\n",
            "Epoch 143/300\n",
            "34/34 [==============================] - 0s 2ms/step - loss: 3559.2256 - mae: 3559.2256\n",
            "Epoch 144/300\n",
            "34/34 [==============================] - 0s 2ms/step - loss: 3556.3843 - mae: 3556.3843\n",
            "Epoch 145/300\n",
            "34/34 [==============================] - 0s 2ms/step - loss: 3554.3271 - mae: 3554.3271\n",
            "Epoch 146/300\n",
            "34/34 [==============================] - 0s 2ms/step - loss: 3554.4846 - mae: 3554.4846\n",
            "Epoch 147/300\n",
            "34/34 [==============================] - 0s 2ms/step - loss: 3551.9871 - mae: 3551.9871\n",
            "Epoch 148/300\n",
            "34/34 [==============================] - 0s 2ms/step - loss: 3550.7104 - mae: 3550.7104\n",
            "Epoch 149/300\n",
            "34/34 [==============================] - 0s 3ms/step - loss: 3548.1548 - mae: 3548.1548\n",
            "Epoch 150/300\n",
            "34/34 [==============================] - 0s 2ms/step - loss: 3547.8530 - mae: 3547.8530\n",
            "Epoch 151/300\n",
            "34/34 [==============================] - 0s 2ms/step - loss: 3546.1787 - mae: 3546.1787\n",
            "Epoch 152/300\n",
            "34/34 [==============================] - 0s 2ms/step - loss: 3544.6475 - mae: 3544.6475\n",
            "Epoch 153/300\n",
            "34/34 [==============================] - 0s 2ms/step - loss: 3542.8904 - mae: 3542.8904\n",
            "Epoch 154/300\n",
            "34/34 [==============================] - 0s 2ms/step - loss: 3544.5081 - mae: 3544.5081\n",
            "Epoch 155/300\n",
            "34/34 [==============================] - 0s 2ms/step - loss: 3542.2930 - mae: 3542.2930\n",
            "Epoch 156/300\n",
            "34/34 [==============================] - 0s 2ms/step - loss: 3540.0410 - mae: 3540.0410\n",
            "Epoch 157/300\n",
            "34/34 [==============================] - 0s 2ms/step - loss: 3538.5759 - mae: 3538.5759\n",
            "Epoch 158/300\n",
            "34/34 [==============================] - 0s 2ms/step - loss: 3535.8198 - mae: 3535.8198\n",
            "Epoch 159/300\n",
            "34/34 [==============================] - 0s 2ms/step - loss: 3534.4153 - mae: 3534.4153\n",
            "Epoch 160/300\n",
            "34/34 [==============================] - 0s 2ms/step - loss: 3534.0212 - mae: 3534.0212\n",
            "Epoch 161/300\n",
            "34/34 [==============================] - 0s 2ms/step - loss: 3531.0017 - mae: 3531.0017\n",
            "Epoch 162/300\n",
            "34/34 [==============================] - 0s 2ms/step - loss: 3530.5789 - mae: 3530.5789\n",
            "Epoch 163/300\n",
            "34/34 [==============================] - 0s 2ms/step - loss: 3528.5430 - mae: 3528.5430\n",
            "Epoch 164/300\n",
            "34/34 [==============================] - 0s 2ms/step - loss: 3528.0032 - mae: 3528.0032\n",
            "Epoch 165/300\n",
            "34/34 [==============================] - 0s 2ms/step - loss: 3525.5190 - mae: 3525.5190\n",
            "Epoch 166/300\n",
            "34/34 [==============================] - 0s 2ms/step - loss: 3524.0144 - mae: 3524.0144\n",
            "Epoch 167/300\n",
            "34/34 [==============================] - 0s 2ms/step - loss: 3523.0037 - mae: 3523.0037\n",
            "Epoch 168/300\n",
            "34/34 [==============================] - 0s 2ms/step - loss: 3521.5952 - mae: 3521.5952\n",
            "Epoch 169/300\n",
            "34/34 [==============================] - 0s 2ms/step - loss: 3520.4487 - mae: 3520.4487\n",
            "Epoch 170/300\n",
            "34/34 [==============================] - 0s 2ms/step - loss: 3519.4756 - mae: 3519.4756\n",
            "Epoch 171/300\n",
            "34/34 [==============================] - 0s 2ms/step - loss: 3518.5791 - mae: 3518.5791\n",
            "Epoch 172/300\n",
            "34/34 [==============================] - 0s 2ms/step - loss: 3517.1440 - mae: 3517.1440\n",
            "Epoch 173/300\n",
            "34/34 [==============================] - 0s 2ms/step - loss: 3516.2446 - mae: 3516.2446\n",
            "Epoch 174/300\n",
            "34/34 [==============================] - 0s 2ms/step - loss: 3514.7510 - mae: 3514.7510\n",
            "Epoch 175/300\n",
            "34/34 [==============================] - 0s 2ms/step - loss: 3513.4604 - mae: 3513.4604\n",
            "Epoch 176/300\n",
            "34/34 [==============================] - 0s 2ms/step - loss: 3513.5454 - mae: 3513.5454\n",
            "Epoch 177/300\n",
            "34/34 [==============================] - 0s 2ms/step - loss: 3514.1086 - mae: 3514.1086\n",
            "Epoch 178/300\n",
            "34/34 [==============================] - 0s 2ms/step - loss: 3511.7800 - mae: 3511.7800\n",
            "Epoch 179/300\n",
            "34/34 [==============================] - 0s 2ms/step - loss: 3512.5132 - mae: 3512.5132\n",
            "Epoch 180/300\n",
            "34/34 [==============================] - 0s 2ms/step - loss: 3508.4387 - mae: 3508.4387\n",
            "Epoch 181/300\n",
            "34/34 [==============================] - 0s 2ms/step - loss: 3506.3591 - mae: 3506.3591\n",
            "Epoch 182/300\n",
            "34/34 [==============================] - 0s 2ms/step - loss: 3505.7329 - mae: 3505.7329\n",
            "Epoch 183/300\n",
            "34/34 [==============================] - 0s 2ms/step - loss: 3503.9714 - mae: 3503.9714\n",
            "Epoch 184/300\n",
            "34/34 [==============================] - 0s 2ms/step - loss: 3502.9197 - mae: 3502.9197\n",
            "Epoch 185/300\n",
            "34/34 [==============================] - 0s 2ms/step - loss: 3502.4807 - mae: 3502.4807\n",
            "Epoch 186/300\n",
            "34/34 [==============================] - 0s 2ms/step - loss: 3500.9963 - mae: 3500.9963\n",
            "Epoch 187/300\n",
            "34/34 [==============================] - 0s 2ms/step - loss: 3500.5664 - mae: 3500.5664\n",
            "Epoch 188/300\n",
            "34/34 [==============================] - 0s 2ms/step - loss: 3497.6897 - mae: 3497.6897\n",
            "Epoch 189/300\n",
            "34/34 [==============================] - 0s 2ms/step - loss: 3496.1387 - mae: 3496.1387\n",
            "Epoch 190/300\n",
            "34/34 [==============================] - 0s 2ms/step - loss: 3498.3789 - mae: 3498.3789\n",
            "Epoch 191/300\n",
            "34/34 [==============================] - 0s 2ms/step - loss: 3503.0461 - mae: 3503.0461\n",
            "Epoch 192/300\n",
            "34/34 [==============================] - 0s 2ms/step - loss: 3493.2463 - mae: 3493.2463\n",
            "Epoch 193/300\n",
            "34/34 [==============================] - 0s 2ms/step - loss: 3493.2336 - mae: 3493.2336\n",
            "Epoch 194/300\n",
            "34/34 [==============================] - 0s 2ms/step - loss: 3490.2014 - mae: 3490.2014\n",
            "Epoch 195/300\n",
            "34/34 [==============================] - 0s 2ms/step - loss: 3489.5571 - mae: 3489.5571\n",
            "Epoch 196/300\n",
            "34/34 [==============================] - 0s 2ms/step - loss: 3491.0762 - mae: 3491.0762\n",
            "Epoch 197/300\n",
            "34/34 [==============================] - 0s 2ms/step - loss: 3487.7441 - mae: 3487.7441\n",
            "Epoch 198/300\n",
            "34/34 [==============================] - 0s 2ms/step - loss: 3486.3269 - mae: 3486.3269\n",
            "Epoch 199/300\n",
            "34/34 [==============================] - 0s 2ms/step - loss: 3484.8289 - mae: 3484.8289\n",
            "Epoch 200/300\n",
            "34/34 [==============================] - 0s 2ms/step - loss: 3485.9211 - mae: 3485.9211\n",
            "Epoch 201/300\n",
            "34/34 [==============================] - 0s 2ms/step - loss: 3481.8611 - mae: 3481.8611\n",
            "Epoch 202/300\n",
            "34/34 [==============================] - 0s 2ms/step - loss: 3481.7327 - mae: 3481.7327\n",
            "Epoch 203/300\n",
            "34/34 [==============================] - 0s 2ms/step - loss: 3478.6016 - mae: 3478.6016\n",
            "Epoch 204/300\n",
            "34/34 [==============================] - 0s 2ms/step - loss: 3479.0098 - mae: 3479.0098\n",
            "Epoch 205/300\n",
            "34/34 [==============================] - 0s 2ms/step - loss: 3476.9854 - mae: 3476.9854\n",
            "Epoch 206/300\n",
            "34/34 [==============================] - 0s 2ms/step - loss: 3475.8223 - mae: 3475.8223\n",
            "Epoch 207/300\n",
            "34/34 [==============================] - 0s 2ms/step - loss: 3475.8479 - mae: 3475.8479\n",
            "Epoch 208/300\n",
            "34/34 [==============================] - 0s 2ms/step - loss: 3474.8450 - mae: 3474.8450\n",
            "Epoch 209/300\n",
            "34/34 [==============================] - 0s 2ms/step - loss: 3474.3101 - mae: 3474.3101\n",
            "Epoch 210/300\n",
            "34/34 [==============================] - 0s 2ms/step - loss: 3473.8328 - mae: 3473.8328\n",
            "Epoch 211/300\n",
            "34/34 [==============================] - 0s 2ms/step - loss: 3473.0833 - mae: 3473.0833\n",
            "Epoch 212/300\n",
            "34/34 [==============================] - 0s 2ms/step - loss: 3473.4517 - mae: 3473.4517\n",
            "Epoch 213/300\n",
            "34/34 [==============================] - 0s 2ms/step - loss: 3472.7166 - mae: 3472.7166\n",
            "Epoch 214/300\n",
            "34/34 [==============================] - 0s 2ms/step - loss: 3474.6697 - mae: 3474.6697\n",
            "Epoch 215/300\n",
            "34/34 [==============================] - 0s 2ms/step - loss: 3473.6074 - mae: 3473.6074\n",
            "Epoch 216/300\n",
            "34/34 [==============================] - 0s 2ms/step - loss: 3472.9180 - mae: 3472.9180\n",
            "Epoch 217/300\n",
            "34/34 [==============================] - 0s 2ms/step - loss: 3475.1042 - mae: 3475.1042\n",
            "Epoch 218/300\n",
            "34/34 [==============================] - 0s 2ms/step - loss: 3472.4583 - mae: 3472.4583\n",
            "Epoch 219/300\n",
            "34/34 [==============================] - 0s 2ms/step - loss: 3472.7771 - mae: 3472.7771\n",
            "Epoch 220/300\n",
            "34/34 [==============================] - 0s 2ms/step - loss: 3471.8279 - mae: 3471.8279\n",
            "Epoch 221/300\n",
            "34/34 [==============================] - 0s 2ms/step - loss: 3474.6240 - mae: 3474.6240\n",
            "Epoch 222/300\n",
            "34/34 [==============================] - 0s 2ms/step - loss: 3473.7441 - mae: 3473.7441\n",
            "Epoch 223/300\n",
            "34/34 [==============================] - 0s 2ms/step - loss: 3472.7473 - mae: 3472.7473\n",
            "Epoch 224/300\n",
            "34/34 [==============================] - 0s 2ms/step - loss: 3473.0613 - mae: 3473.0613\n",
            "Epoch 225/300\n",
            "34/34 [==============================] - 0s 2ms/step - loss: 3473.2141 - mae: 3473.2141\n",
            "Epoch 226/300\n",
            "34/34 [==============================] - 0s 2ms/step - loss: 3471.8340 - mae: 3471.8340\n",
            "Epoch 227/300\n",
            "34/34 [==============================] - 0s 2ms/step - loss: 3471.2598 - mae: 3471.2598\n",
            "Epoch 228/300\n",
            "34/34 [==============================] - 0s 2ms/step - loss: 3473.6350 - mae: 3473.6350\n",
            "Epoch 229/300\n",
            "34/34 [==============================] - 0s 2ms/step - loss: 3472.1279 - mae: 3472.1279\n",
            "Epoch 230/300\n",
            "34/34 [==============================] - 0s 2ms/step - loss: 3473.9905 - mae: 3473.9905\n",
            "Epoch 231/300\n",
            "34/34 [==============================] - 0s 2ms/step - loss: 3471.9202 - mae: 3471.9202\n",
            "Epoch 232/300\n",
            "34/34 [==============================] - 0s 2ms/step - loss: 3472.8628 - mae: 3472.8628\n",
            "Epoch 233/300\n",
            "34/34 [==============================] - 0s 2ms/step - loss: 3472.0234 - mae: 3472.0234\n",
            "Epoch 234/300\n",
            "34/34 [==============================] - 0s 2ms/step - loss: 3472.6538 - mae: 3472.6538\n",
            "Epoch 235/300\n",
            "34/34 [==============================] - 0s 2ms/step - loss: 3474.2598 - mae: 3474.2598\n",
            "Epoch 236/300\n",
            "34/34 [==============================] - 0s 2ms/step - loss: 3473.5547 - mae: 3473.5547\n",
            "Epoch 237/300\n",
            "34/34 [==============================] - 0s 2ms/step - loss: 3472.8994 - mae: 3472.8994\n",
            "Epoch 238/300\n",
            "34/34 [==============================] - 0s 2ms/step - loss: 3473.6523 - mae: 3473.6523\n",
            "Epoch 239/300\n",
            "34/34 [==============================] - 0s 2ms/step - loss: 3474.8413 - mae: 3474.8413\n",
            "Epoch 240/300\n",
            "34/34 [==============================] - 0s 2ms/step - loss: 3472.6230 - mae: 3472.6230\n",
            "Epoch 241/300\n",
            "34/34 [==============================] - 0s 3ms/step - loss: 3471.9062 - mae: 3471.9062\n",
            "Epoch 242/300\n",
            "34/34 [==============================] - 0s 2ms/step - loss: 3474.0154 - mae: 3474.0154\n",
            "Epoch 243/300\n",
            "34/34 [==============================] - 0s 2ms/step - loss: 3472.0789 - mae: 3472.0789\n",
            "Epoch 244/300\n",
            "34/34 [==============================] - 0s 2ms/step - loss: 3473.8640 - mae: 3473.8640\n",
            "Epoch 245/300\n",
            "34/34 [==============================] - 0s 2ms/step - loss: 3471.9763 - mae: 3471.9763\n",
            "Epoch 246/300\n",
            "34/34 [==============================] - 0s 2ms/step - loss: 3473.6519 - mae: 3473.6519\n",
            "Epoch 247/300\n",
            "34/34 [==============================] - 0s 2ms/step - loss: 3472.4678 - mae: 3472.4678\n",
            "Epoch 248/300\n",
            "34/34 [==============================] - 0s 2ms/step - loss: 3474.0955 - mae: 3474.0955\n",
            "Epoch 249/300\n",
            "34/34 [==============================] - 0s 2ms/step - loss: 3475.0264 - mae: 3475.0264\n",
            "Epoch 250/300\n",
            "34/34 [==============================] - 0s 2ms/step - loss: 3472.2769 - mae: 3472.2769\n",
            "Epoch 251/300\n",
            "34/34 [==============================] - 0s 2ms/step - loss: 3471.4368 - mae: 3471.4368\n",
            "Epoch 252/300\n",
            "34/34 [==============================] - 0s 2ms/step - loss: 3473.6121 - mae: 3473.6121\n",
            "Epoch 253/300\n",
            "34/34 [==============================] - 0s 2ms/step - loss: 3472.9910 - mae: 3472.9910\n",
            "Epoch 254/300\n",
            "34/34 [==============================] - 0s 2ms/step - loss: 3471.9883 - mae: 3471.9883\n",
            "Epoch 255/300\n",
            "34/34 [==============================] - 0s 2ms/step - loss: 3472.8027 - mae: 3472.8027\n",
            "Epoch 256/300\n",
            "34/34 [==============================] - 0s 2ms/step - loss: 3475.0271 - mae: 3475.0271\n",
            "Epoch 257/300\n",
            "34/34 [==============================] - 0s 2ms/step - loss: 3475.3428 - mae: 3475.3428\n",
            "Epoch 258/300\n",
            "34/34 [==============================] - 0s 2ms/step - loss: 3472.3040 - mae: 3472.3040\n",
            "Epoch 259/300\n",
            "34/34 [==============================] - 0s 2ms/step - loss: 3474.1677 - mae: 3474.1677\n",
            "Epoch 260/300\n",
            "34/34 [==============================] - 0s 2ms/step - loss: 3471.9702 - mae: 3471.9702\n",
            "Epoch 261/300\n",
            "34/34 [==============================] - 0s 3ms/step - loss: 3473.0828 - mae: 3473.0828\n",
            "Epoch 262/300\n",
            "34/34 [==============================] - 0s 2ms/step - loss: 3472.6150 - mae: 3472.6150\n",
            "Epoch 263/300\n",
            "34/34 [==============================] - 0s 2ms/step - loss: 3472.3364 - mae: 3472.3364\n",
            "Epoch 264/300\n",
            "34/34 [==============================] - 0s 2ms/step - loss: 3472.5610 - mae: 3472.5610\n",
            "Epoch 265/300\n",
            "34/34 [==============================] - 0s 2ms/step - loss: 3472.9006 - mae: 3472.9006\n",
            "Epoch 266/300\n",
            "34/34 [==============================] - 0s 2ms/step - loss: 3472.3142 - mae: 3472.3142\n",
            "Epoch 267/300\n",
            "34/34 [==============================] - 0s 2ms/step - loss: 3473.8010 - mae: 3473.8010\n",
            "Epoch 268/300\n",
            "34/34 [==============================] - 0s 2ms/step - loss: 3472.0378 - mae: 3472.0378\n",
            "Epoch 269/300\n",
            "34/34 [==============================] - 0s 2ms/step - loss: 3471.8215 - mae: 3471.8215\n",
            "Epoch 270/300\n",
            "34/34 [==============================] - 0s 2ms/step - loss: 3471.8831 - mae: 3471.8831\n",
            "Epoch 271/300\n",
            "34/34 [==============================] - 0s 2ms/step - loss: 3472.2515 - mae: 3472.2515\n",
            "Epoch 272/300\n",
            "34/34 [==============================] - 0s 2ms/step - loss: 3472.2058 - mae: 3472.2058\n",
            "Epoch 273/300\n",
            "34/34 [==============================] - 0s 2ms/step - loss: 3472.6130 - mae: 3472.6130\n",
            "Epoch 274/300\n",
            "34/34 [==============================] - 0s 2ms/step - loss: 3472.5925 - mae: 3472.5925\n",
            "Epoch 275/300\n",
            "34/34 [==============================] - 0s 2ms/step - loss: 3474.1533 - mae: 3474.1533\n",
            "Epoch 276/300\n",
            "34/34 [==============================] - 0s 3ms/step - loss: 3473.7295 - mae: 3473.7295\n",
            "Epoch 277/300\n",
            "34/34 [==============================] - 0s 2ms/step - loss: 3471.9780 - mae: 3471.9780\n",
            "Epoch 278/300\n",
            "34/34 [==============================] - 0s 2ms/step - loss: 3472.2261 - mae: 3472.2261\n",
            "Epoch 279/300\n",
            "34/34 [==============================] - 0s 2ms/step - loss: 3475.7935 - mae: 3475.7935\n",
            "Epoch 280/300\n",
            "34/34 [==============================] - 0s 2ms/step - loss: 3472.1890 - mae: 3472.1890\n",
            "Epoch 281/300\n",
            "34/34 [==============================] - 0s 2ms/step - loss: 3472.9119 - mae: 3472.9119\n",
            "Epoch 282/300\n",
            "34/34 [==============================] - 0s 2ms/step - loss: 3471.6680 - mae: 3471.6680\n",
            "Epoch 283/300\n",
            "34/34 [==============================] - 0s 2ms/step - loss: 3472.7832 - mae: 3472.7832\n",
            "Epoch 284/300\n",
            "34/34 [==============================] - 0s 2ms/step - loss: 3472.3801 - mae: 3472.3801\n",
            "Epoch 285/300\n",
            "34/34 [==============================] - 0s 2ms/step - loss: 3471.8110 - mae: 3471.8110\n",
            "Epoch 286/300\n",
            "34/34 [==============================] - 0s 2ms/step - loss: 3472.2661 - mae: 3472.2661\n",
            "Epoch 287/300\n",
            "34/34 [==============================] - 0s 3ms/step - loss: 3472.7285 - mae: 3472.7285\n",
            "Epoch 288/300\n",
            "34/34 [==============================] - 0s 2ms/step - loss: 3472.2292 - mae: 3472.2292\n",
            "Epoch 289/300\n",
            "34/34 [==============================] - 0s 2ms/step - loss: 3474.0378 - mae: 3474.0378\n",
            "Epoch 290/300\n",
            "34/34 [==============================] - 0s 2ms/step - loss: 3473.0674 - mae: 3473.0674\n",
            "Epoch 291/300\n",
            "34/34 [==============================] - 0s 2ms/step - loss: 3471.3625 - mae: 3471.3625\n",
            "Epoch 292/300\n",
            "34/34 [==============================] - 0s 2ms/step - loss: 3473.6938 - mae: 3473.6938\n",
            "Epoch 293/300\n",
            "34/34 [==============================] - 0s 2ms/step - loss: 3471.9517 - mae: 3471.9517\n",
            "Epoch 294/300\n",
            "34/34 [==============================] - 0s 2ms/step - loss: 3473.4729 - mae: 3473.4729\n",
            "Epoch 295/300\n",
            "34/34 [==============================] - 0s 2ms/step - loss: 3473.3503 - mae: 3473.3503\n",
            "Epoch 296/300\n",
            "34/34 [==============================] - 0s 2ms/step - loss: 3474.3457 - mae: 3474.3457\n",
            "Epoch 297/300\n",
            "34/34 [==============================] - 0s 2ms/step - loss: 3476.1387 - mae: 3476.1387\n",
            "Epoch 298/300\n",
            "34/34 [==============================] - 0s 2ms/step - loss: 3475.0698 - mae: 3475.0698\n",
            "Epoch 299/300\n",
            "34/34 [==============================] - 0s 2ms/step - loss: 3471.9746 - mae: 3471.9746\n",
            "Epoch 300/300\n",
            "34/34 [==============================] - 0s 2ms/step - loss: 3472.9238 - mae: 3472.9238\n"
          ]
        }
      ]
    },
    {
      "cell_type": "code",
      "metadata": {
        "colab": {
          "base_uri": "https://localhost:8080/"
        },
        "id": "Vdde1KU2gKSF",
        "outputId": "cd69fb27-5377-4fbe-c547-458e7cd7fe39"
      },
      "source": [
        "insurance_model_6.evaluate(X_test_normal, y_test)"
      ],
      "execution_count": 105,
      "outputs": [
        {
          "output_type": "stream",
          "name": "stdout",
          "text": [
            "9/9 [==============================] - 0s 2ms/step - loss: 3161.3960 - mae: 3161.3960\n"
          ]
        },
        {
          "output_type": "execute_result",
          "data": {
            "text/plain": [
              "[3161.39599609375, 3161.39599609375]"
            ]
          },
          "metadata": {},
          "execution_count": 105
        }
      ]
    },
    {
      "cell_type": "code",
      "metadata": {
        "id": "W6I2-ZfigKHt"
      },
      "source": [
        ""
      ],
      "execution_count": 105,
      "outputs": []
    },
    {
      "cell_type": "code",
      "metadata": {
        "id": "-JmxXZJ3gKC7"
      },
      "source": [
        ""
      ],
      "execution_count": 105,
      "outputs": []
    },
    {
      "cell_type": "code",
      "metadata": {
        "id": "CoIhaXgpgJ9S"
      },
      "source": [
        ""
      ],
      "execution_count": 105,
      "outputs": []
    },
    {
      "cell_type": "code",
      "metadata": {
        "id": "QCN9_iVugJ4h"
      },
      "source": [
        ""
      ],
      "execution_count": 105,
      "outputs": []
    },
    {
      "cell_type": "code",
      "metadata": {
        "id": "iCbbGSkDgJyj"
      },
      "source": [
        ""
      ],
      "execution_count": 105,
      "outputs": []
    },
    {
      "cell_type": "code",
      "metadata": {
        "id": "IUnECZpKgJrn"
      },
      "source": [
        ""
      ],
      "execution_count": 105,
      "outputs": []
    },
    {
      "cell_type": "code",
      "metadata": {
        "id": "XYEhc8EtgJml"
      },
      "source": [
        ""
      ],
      "execution_count": 105,
      "outputs": []
    },
    {
      "cell_type": "code",
      "metadata": {
        "id": "0HlIDZGogJfH"
      },
      "source": [
        ""
      ],
      "execution_count": 105,
      "outputs": []
    },
    {
      "cell_type": "code",
      "metadata": {
        "id": "Nv3I38gPa4Sp"
      },
      "source": [
        ""
      ],
      "execution_count": 105,
      "outputs": []
    }
  ]
}