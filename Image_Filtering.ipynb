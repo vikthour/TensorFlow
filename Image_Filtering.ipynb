{
  "nbformat": 4,
  "nbformat_minor": 0,
  "metadata": {
    "colab": {
      "name": "Image Filtering.ipynb",
      "provenance": []
    },
    "kernelspec": {
      "name": "python3",
      "display_name": "Python 3"
    },
    "language_info": {
      "name": "python"
    }
  },
  "cells": [
    {
      "cell_type": "code",
      "execution_count": 2,
      "metadata": {
        "id": "ld845Fk2R9O6"
      },
      "outputs": [],
      "source": [
        "from PIL import Image\n",
        "\n",
        "# Open image\n",
        "image = Image.open(\"/content/IMG_E0246.JPG\")\n",
        "\n",
        "# Filter\n",
        "def filter(image):\n",
        "    # Get image dimesions\n",
        "    width, height = image.size\n",
        "\n",
        "    # Create a white RGB image\n",
        "    new_image = Image.new(\"RGB\", (width, height), \"white\")\n",
        "\n",
        "    # Filter magic happens here\n",
        "\n",
        "    return new_image\n",
        "\n",
        "# Show result\n",
        "new_image = filter(image)\n",
        "new_image.show()"
      ]
    },
    {
      "cell_type": "code",
      "source": [
        ""
      ],
      "metadata": {
        "id": "ZtNz6ZPCSc_B"
      },
      "execution_count": 3,
      "outputs": []
    },
    {
      "cell_type": "code",
      "source": [
        ""
      ],
      "metadata": {
        "id": "TxM_yjQOCSum"
      },
      "execution_count": null,
      "outputs": []
    }
  ]
}