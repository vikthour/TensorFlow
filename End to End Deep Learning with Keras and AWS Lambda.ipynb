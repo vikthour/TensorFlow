{
 "cells": [
  {
   "cell_type": "code",
   "execution_count": 1,
   "id": "57aa481c",
   "metadata": {},
   "outputs": [],
   "source": [
    "import numpy as np\n",
    "import pandas as pd\n",
    "#import Path\n",
    "\n",
    "import matplotlib.pyplot as plt\n",
    "\n",
    "import tensorflow as tf\n",
    "from tensorflow import keras"
   ]
  },
  {
   "cell_type": "code",
   "execution_count": 2,
   "id": "c0b50758",
   "metadata": {},
   "outputs": [],
   "source": [
    "from tensorflow.keras.preprocessing.image import load_img"
   ]
  },
  {
   "cell_type": "code",
   "execution_count": 3,
   "id": "81ab0ed3",
   "metadata": {
    "scrolled": true
   },
   "outputs": [],
   "source": [
    "train = 'C:\\\\Users\\\\VictorAdeife\\\\Documents\\\\Dataset\\\\clothing-dataset-small-master\\\\train'\n",
    "test = 'C:\\\\Users\\\\VictorAdeife\\\\Documents\\\\Dataset\\\\clothing-dataset-small-master\\\\test'\n",
    "val = 'C:\\\\Users\\\\VictorAdeife\\\\Documents\\\\Dataset\\\\clothing-dataset-small-master\\\\validation'"
   ]
  },
  {
   "cell_type": "code",
   "execution_count": 4,
   "id": "2abdae96",
   "metadata": {},
   "outputs": [],
   "source": [
    "one_shirt = 'C:\\\\Users\\\\VictorAdeife\\\\Documents\\\\Dataset\\\\clothing-dataset-small-master\\\\train\\\\dress\\\\0a69db60-c052-4b9a-a90d-e53120d091d5.jpg'"
   ]
  },
  {
   "cell_type": "code",
   "execution_count": 5,
   "id": "65197d68",
   "metadata": {},
   "outputs": [
    {
     "data": {
      "image/png": "[encoded data removed]",
      "text/plain": [
       "<PIL.Image.Image image mode=RGB size=150x150 at 0x26A121EEDC8>"
      ]
     },
     "execution_count": 5,
     "metadata": {},
     "output_type": "execute_result"
    }
   ],
   "source": [
    "load_img(one_shirt, target_size=(150, 150))"
   ]
  },
  {
   "cell_type": "code",
   "execution_count": 36,
   "id": "7b0cd2e1",
   "metadata": {},
   "outputs": [],
   "source": [
    "from tensorflow.keras.preprocessing.image import ImageDataGenerator"
   ]
  },
  {
   "cell_type": "code",
   "execution_count": 7,
   "id": "31fab49a",
   "metadata": {},
   "outputs": [
    {
     "name": "stdout",
     "output_type": "stream",
     "text": [
      "Found 3068 images belonging to 10 classes.\n"
     ]
    }
   ],
   "source": [
    "train_gen = ImageDataGenerator()\n",
    "\n",
    "train_ds = train_gen.flow_from_directory(\n",
    "    train,\n",
    "    seed= 1,\n",
    "    target_size = (150, 150),\n",
    "    batch_size = 32\n",
    "\n",
    ")"
   ]
  },
  {
   "cell_type": "code",
   "execution_count": 8,
   "id": "5fb8b386",
   "metadata": {},
   "outputs": [],
   "source": [
    "X, y = next(train_ds)"
   ]
  },
  {
   "cell_type": "code",
   "execution_count": 25,
   "id": "a1d2f39f",
   "metadata": {},
   "outputs": [
    {
     "data": {
      "text/plain": [
       "array([[[[178., 171., 145.],\n",
       "         [183., 176., 150.],\n",
       "         [184., 177., 151.],\n",
       "         ...,\n",
       "         [145., 137., 124.],\n",
       "         [156., 148., 137.],\n",
       "         [155., 147., 136.]],\n",
       "\n",
       "        [[181., 174., 148.],\n",
       "         [184., 177., 151.],\n",
       "         [184., 177., 151.],\n",
       "         ...,\n",
       "         [148., 140., 127.],\n",
       "         [153., 145., 134.],\n",
       "         [159., 151., 140.]],\n",
       "\n",
       "        [[182., 175., 149.],\n",
       "         [185., 178., 152.],\n",
       "         [184., 177., 151.],\n",
       "         ...,\n",
       "         [150., 142., 129.],\n",
       "         [156., 148., 137.],\n",
       "         [159., 151., 140.]],\n",
       "\n",
       "        ...,\n",
       "\n",
       "        [[180., 177., 160.],\n",
       "         [183., 180., 163.],\n",
       "         [182., 179., 162.],\n",
       "         ...,\n",
       "         [114., 111.,  94.],\n",
       "         [114., 111.,  94.],\n",
       "         [113., 110.,  93.]],\n",
       "\n",
       "        [[177., 176., 158.],\n",
       "         [181., 178., 161.],\n",
       "         [180., 177., 160.],\n",
       "         ...,\n",
       "         [111., 108.,  91.],\n",
       "         [112., 109.,  92.],\n",
       "         [108., 105.,  88.]],\n",
       "\n",
       "        [[179., 181., 160.],\n",
       "         [180., 182., 161.],\n",
       "         [183., 182., 162.],\n",
       "         ...,\n",
       "         [106., 103.,  86.],\n",
       "         [105., 102.,  85.],\n",
       "         [104., 101.,  84.]]],\n",
       "\n",
       "\n",
       "       [[[123., 104.,  90.],\n",
       "         [125., 106.,  92.],\n",
       "         [125., 106.,  92.],\n",
       "         ...,\n",
       "         [140., 116., 106.],\n",
       "         [149., 125., 115.],\n",
       "         [147., 123., 113.]],\n",
       "\n",
       "        [[129., 110.,  96.],\n",
       "         [129., 110.,  96.],\n",
       "         [124., 105.,  91.],\n",
       "         ...,\n",
       "         [142., 120., 109.],\n",
       "         [145., 123., 112.],\n",
       "         [148., 126., 115.]],\n",
       "\n",
       "        [[129., 110.,  96.],\n",
       "         [127., 108.,  94.],\n",
       "         [123., 104.,  90.],\n",
       "         ...,\n",
       "         [158., 136., 125.],\n",
       "         [157., 135., 124.],\n",
       "         [154., 131., 123.]],\n",
       "\n",
       "        ...,\n",
       "\n",
       "        [[165., 148., 138.],\n",
       "         [171., 154., 144.],\n",
       "         [172., 155., 145.],\n",
       "         ...,\n",
       "         [165., 145., 138.],\n",
       "         [177., 157., 150.],\n",
       "         [190., 168., 157.]],\n",
       "\n",
       "        [[180., 163., 155.],\n",
       "         [185., 168., 160.],\n",
       "         [185., 168., 160.],\n",
       "         ...,\n",
       "         [169., 149., 142.],\n",
       "         [163., 143., 136.],\n",
       "         [163., 139., 127.]],\n",
       "\n",
       "        [[181., 164., 156.],\n",
       "         [182., 165., 157.],\n",
       "         [184., 167., 159.],\n",
       "         ...,\n",
       "         [168., 148., 141.],\n",
       "         [167., 147., 140.],\n",
       "         [167., 144., 130.]]],\n",
       "\n",
       "\n",
       "       [[[195., 189., 189.],\n",
       "         [191., 185., 185.],\n",
       "         [203., 197., 197.],\n",
       "         ...,\n",
       "         [222., 221., 227.],\n",
       "         [219., 218., 224.],\n",
       "         [223., 222., 228.]],\n",
       "\n",
       "        [[211., 207., 206.],\n",
       "         [194., 190., 189.],\n",
       "         [198., 194., 193.],\n",
       "         ...,\n",
       "         [223., 222., 228.],\n",
       "         [221., 220., 226.],\n",
       "         [219., 218., 224.]],\n",
       "\n",
       "        [[191., 190., 188.],\n",
       "         [185., 184., 182.],\n",
       "         [189., 188., 186.],\n",
       "         ...,\n",
       "         [220., 219., 225.],\n",
       "         [222., 221., 227.],\n",
       "         [221., 220., 226.]],\n",
       "\n",
       "        ...,\n",
       "\n",
       "        [[120., 115., 112.],\n",
       "         [124., 119., 116.],\n",
       "         [131., 126., 123.],\n",
       "         ...,\n",
       "         [141.,  98.,  82.],\n",
       "         [144.,  98.,  83.],\n",
       "         [145.,  99.,  84.]],\n",
       "\n",
       "        [[111., 106., 103.],\n",
       "         [112., 107., 104.],\n",
       "         [125., 120., 117.],\n",
       "         ...,\n",
       "         [138.,  95.,  79.],\n",
       "         [148., 102.,  89.],\n",
       "         [139.,  93.,  80.]],\n",
       "\n",
       "        [[103.,  95.,  93.],\n",
       "         [113., 105., 103.],\n",
       "         [117., 109., 107.],\n",
       "         ...,\n",
       "         [145., 100.,  81.],\n",
       "         [136.,  89.,  79.],\n",
       "         [136.,  89.,  83.]]],\n",
       "\n",
       "\n",
       "       ...,\n",
       "\n",
       "\n",
       "       [[[146., 136., 126.],\n",
       "         [149., 139., 129.],\n",
       "         [164., 154., 144.],\n",
       "         ...,\n",
       "         [166., 162., 151.],\n",
       "         [167., 160., 150.],\n",
       "         [165., 156., 147.]],\n",
       "\n",
       "        [[147., 137., 127.],\n",
       "         [146., 136., 126.],\n",
       "         [165., 155., 145.],\n",
       "         ...,\n",
       "         [168., 160., 149.],\n",
       "         [164., 156., 143.],\n",
       "         [164., 150., 137.]],\n",
       "\n",
       "        [[146., 136., 126.],\n",
       "         [149., 139., 129.],\n",
       "         [162., 152., 142.],\n",
       "         ...,\n",
       "         [166., 160., 148.],\n",
       "         [162., 156., 144.],\n",
       "         [151., 146., 140.]],\n",
       "\n",
       "        ...,\n",
       "\n",
       "        [[207., 202., 199.],\n",
       "         [208., 203., 200.],\n",
       "         [206., 201., 198.],\n",
       "         ...,\n",
       "         [180., 179., 177.],\n",
       "         [170., 169., 167.],\n",
       "         [183., 182., 180.]],\n",
       "\n",
       "        [[207., 202., 199.],\n",
       "         [208., 203., 200.],\n",
       "         [206., 201., 198.],\n",
       "         ...,\n",
       "         [185., 184., 182.],\n",
       "         [174., 173., 171.],\n",
       "         [179., 178., 176.]],\n",
       "\n",
       "        [[207., 202., 199.],\n",
       "         [208., 203., 200.],\n",
       "         [206., 201., 198.],\n",
       "         ...,\n",
       "         [186., 185., 183.],\n",
       "         [179., 178., 176.],\n",
       "         [177., 176., 174.]]],\n",
       "\n",
       "\n",
       "       [[[126.,  63.,  30.],\n",
       "         [135.,  72.,  37.],\n",
       "         [142.,  80.,  43.],\n",
       "         ...,\n",
       "         [156.,  91.,  59.],\n",
       "         [154.,  89.,  57.],\n",
       "         [153.,  88.,  56.]],\n",
       "\n",
       "        [[120.,  57.,  24.],\n",
       "         [131.,  68.,  35.],\n",
       "         [134.,  71.,  36.],\n",
       "         ...,\n",
       "         [175., 110.,  78.],\n",
       "         [174., 109.,  77.],\n",
       "         [169., 104.,  72.]],\n",
       "\n",
       "        [[116.,  57.,  27.],\n",
       "         [121.,  62.,  30.],\n",
       "         [130.,  71.,  37.],\n",
       "         ...,\n",
       "         [165., 100.,  68.],\n",
       "         [167., 102.,  70.],\n",
       "         [167., 102.,  70.]],\n",
       "\n",
       "        ...,\n",
       "\n",
       "        [[193., 125.,  80.],\n",
       "         [199., 131.,  86.],\n",
       "         [199., 131.,  86.],\n",
       "         ...,\n",
       "         [198., 126.,  78.],\n",
       "         [196., 124.,  76.],\n",
       "         [194., 122.,  74.]],\n",
       "\n",
       "        [[177., 109.,  64.],\n",
       "         [183., 114.,  72.],\n",
       "         [188., 119.,  77.],\n",
       "         ...,\n",
       "         [200., 128.,  80.],\n",
       "         [198., 126.,  78.],\n",
       "         [192., 120.,  72.]],\n",
       "\n",
       "        [[191., 122.,  81.],\n",
       "         [189., 120.,  79.],\n",
       "         [189., 120.,  79.],\n",
       "         ...,\n",
       "         [210., 138.,  88.],\n",
       "         [200., 128.,  80.],\n",
       "         [201., 129.,  81.]]],\n",
       "\n",
       "\n",
       "       [[[173., 169., 160.],\n",
       "         [175., 171., 162.],\n",
       "         [176., 172., 163.],\n",
       "         ...,\n",
       "         [203., 199., 190.],\n",
       "         [200., 196., 187.],\n",
       "         [198., 194., 185.]],\n",
       "\n",
       "        [[173., 169., 160.],\n",
       "         [175., 171., 162.],\n",
       "         [176., 172., 163.],\n",
       "         ...,\n",
       "         [203., 199., 190.],\n",
       "         [203., 199., 190.],\n",
       "         [203., 199., 190.]],\n",
       "\n",
       "        [[172., 168., 159.],\n",
       "         [173., 169., 160.],\n",
       "         [174., 170., 161.],\n",
       "         ...,\n",
       "         [204., 200., 191.],\n",
       "         [203., 199., 190.],\n",
       "         [202., 198., 189.]],\n",
       "\n",
       "        ...,\n",
       "\n",
       "        [[154., 149., 143.],\n",
       "         [154., 149., 143.],\n",
       "         [156., 151., 145.],\n",
       "         ...,\n",
       "         [135., 130., 124.],\n",
       "         [134., 129., 123.],\n",
       "         [133., 128., 122.]],\n",
       "\n",
       "        [[150., 150., 142.],\n",
       "         [152., 149., 142.],\n",
       "         [152., 149., 142.],\n",
       "         ...,\n",
       "         [133., 128., 122.],\n",
       "         [132., 127., 121.],\n",
       "         [131., 126., 120.]],\n",
       "\n",
       "        [[149., 149., 141.],\n",
       "         [149., 149., 141.],\n",
       "         [149., 149., 141.],\n",
       "         ...,\n",
       "         [132., 127., 121.],\n",
       "         [130., 125., 119.],\n",
       "         [129., 124., 118.]]]], dtype=float32)"
      ]
     },
     "execution_count": 25,
     "metadata": {},
     "output_type": "execute_result"
    }
   ],
   "source": [
    "X"
   ]
  },
  {
   "cell_type": "code",
   "execution_count": 10,
   "id": "2710599b",
   "metadata": {},
   "outputs": [
    {
     "data": {
      "text/plain": [
       "(32, 150, 150, 3)"
      ]
     },
     "execution_count": 10,
     "metadata": {},
     "output_type": "execute_result"
    }
   ],
   "source": [
    "X.shape"
   ]
  },
  {
   "cell_type": "code",
   "execution_count": 11,
   "id": "0e186ec9",
   "metadata": {
    "scrolled": true
   },
   "outputs": [
    {
     "data": {
      "text/plain": [
       "array([[0., 0., 0., 1., 0., 0., 0., 0., 0., 0.],\n",
       "       [1., 0., 0., 0., 0., 0., 0., 0., 0., 0.],\n",
       "       [0., 0., 0., 0., 0., 0., 0., 0., 0., 1.],\n",
       "       [1., 0., 0., 0., 0., 0., 0., 0., 0., 0.],\n",
       "       [0., 0., 0., 0., 0., 0., 1., 0., 0., 0.],\n",
       "       [0., 0., 0., 0., 0., 0., 1., 0., 0., 0.],\n",
       "       [0., 0., 0., 1., 0., 0., 0., 0., 0., 0.],\n",
       "       [0., 0., 0., 0., 0., 0., 0., 0., 0., 1.],\n",
       "       [1., 0., 0., 0., 0., 0., 0., 0., 0., 0.],\n",
       "       [0., 0., 1., 0., 0., 0., 0., 0., 0., 0.],\n",
       "       [0., 0., 1., 0., 0., 0., 0., 0., 0., 0.],\n",
       "       [0., 1., 0., 0., 0., 0., 0., 0., 0., 0.],\n",
       "       [0., 0., 0., 0., 0., 0., 0., 1., 0., 0.],\n",
       "       [0., 0., 0., 0., 0., 0., 0., 1., 0., 0.],\n",
       "       [0., 0., 0., 0., 1., 0., 0., 0., 0., 0.],\n",
       "       [0., 0., 1., 0., 0., 0., 0., 0., 0., 0.],\n",
       "       [0., 1., 0., 0., 0., 0., 0., 0., 0., 0.],\n",
       "       [0., 0., 0., 1., 0., 0., 0., 0., 0., 0.],\n",
       "       [0., 0., 0., 0., 0., 0., 0., 1., 0., 0.],\n",
       "       [0., 0., 0., 0., 0., 0., 0., 1., 0., 0.],\n",
       "       [0., 0., 0., 0., 0., 0., 1., 0., 0., 0.],\n",
       "       [0., 0., 0., 0., 1., 0., 0., 0., 0., 0.],\n",
       "       [0., 0., 0., 0., 0., 1., 0., 0., 0., 0.],\n",
       "       [0., 0., 0., 0., 0., 0., 0., 0., 0., 1.],\n",
       "       [0., 0., 0., 0., 0., 0., 0., 0., 1., 0.],\n",
       "       [0., 0., 0., 0., 0., 0., 0., 0., 0., 1.],\n",
       "       [0., 0., 0., 0., 1., 0., 0., 0., 0., 0.],\n",
       "       [0., 0., 0., 0., 0., 0., 0., 0., 0., 1.],\n",
       "       [1., 0., 0., 0., 0., 0., 0., 0., 0., 0.],\n",
       "       [0., 1., 0., 0., 0., 0., 0., 0., 0., 0.],\n",
       "       [0., 0., 0., 0., 0., 1., 0., 0., 0., 0.],\n",
       "       [0., 0., 0., 0., 0., 0., 0., 1., 0., 0.]], dtype=float32)"
      ]
     },
     "execution_count": 11,
     "metadata": {},
     "output_type": "execute_result"
    }
   ],
   "source": [
    "y"
   ]
  },
  {
   "cell_type": "code",
   "execution_count": 12,
   "id": "8ebd6cef",
   "metadata": {},
   "outputs": [
    {
     "data": {
      "text/plain": [
       "(32, 10)"
      ]
     },
     "execution_count": 12,
     "metadata": {},
     "output_type": "execute_result"
    }
   ],
   "source": [
    "y.shape"
   ]
  },
  {
   "cell_type": "code",
   "execution_count": 13,
   "id": "62ec2bcf",
   "metadata": {},
   "outputs": [],
   "source": [
    "from tensorflow.keras.applications.xception import Xception\n",
    "from tensorflow.keras.applications.xception import preprocess_input"
   ]
  },
  {
   "cell_type": "code",
   "execution_count": 14,
   "id": "b932429f",
   "metadata": {
    "scrolled": true
   },
   "outputs": [
    {
     "data": {
      "text/plain": [
       "array([[[ 0.09803927,  0.07450986, -0.05882353],\n",
       "        [ 0.13725495,  0.11372554, -0.01960784],\n",
       "        [ 0.14509809,  0.12156868, -0.01176471],\n",
       "        ...,\n",
       "        [ 0.48235297,  0.4901961 ,  0.3803922 ],\n",
       "        [ 0.47450984,  0.48235297,  0.37254906],\n",
       "        [ 0.4666667 ,  0.47450984,  0.36470592]],\n",
       "\n",
       "       [[ 0.11372554,  0.09019613, -0.04313725],\n",
       "        [ 0.15294123,  0.12941182, -0.00392157],\n",
       "        [ 0.16078436,  0.13725495,  0.00392163],\n",
       "        ...,\n",
       "        [ 0.5137255 ,  0.52156866,  0.41176474],\n",
       "        [ 0.49803925,  0.5058824 ,  0.39607847],\n",
       "        [ 0.49803925,  0.5058824 ,  0.39607847]],\n",
       "\n",
       "       [[ 0.10588241,  0.082353  , -0.05098039],\n",
       "        [ 0.13725495,  0.11372554, -0.01960784],\n",
       "        [ 0.16078436,  0.13725495,  0.00392163],\n",
       "        ...,\n",
       "        [ 0.5137255 ,  0.52156866,  0.41176474],\n",
       "        [ 0.49803925,  0.5058824 ,  0.39607847],\n",
       "        [ 0.49803925,  0.5058824 ,  0.39607847]],\n",
       "\n",
       "       ...,\n",
       "\n",
       "       [[-0.5137255 , -0.5058824 , -0.6313726 ],\n",
       "        [-0.45098037, -0.44313723, -0.5686275 ],\n",
       "        [-0.3960784 , -0.38823527, -0.5137255 ],\n",
       "        ...,\n",
       "        [ 0.41176474,  0.3803922 ,  0.28627455],\n",
       "        [ 0.43529415,  0.4039216 ,  0.30980396],\n",
       "        [ 0.49803925,  0.4666667 ,  0.37254906]],\n",
       "\n",
       "       [[-0.44313723, -0.45098037, -0.60784316],\n",
       "        [-0.45098037, -0.47450978, -0.5921569 ],\n",
       "        [-0.38823527, -0.41960782, -0.5137255 ],\n",
       "        ...,\n",
       "        [ 0.39607847,  0.36470592,  0.27843142],\n",
       "        [ 0.45098042,  0.41960788,  0.33333337],\n",
       "        [ 0.5058824 ,  0.47450984,  0.38823533]],\n",
       "\n",
       "       [[-0.3960784 , -0.41176468, -0.5764706 ],\n",
       "        [-0.5058824 , -0.5294118 , -0.64705884],\n",
       "        [-0.38823527, -0.41960782, -0.5058824 ],\n",
       "        ...,\n",
       "        [ 0.39607847,  0.36470592,  0.27843142],\n",
       "        [ 0.45098042,  0.41960788,  0.33333337],\n",
       "        [ 0.5058824 ,  0.47450984,  0.38823533]]], dtype=float32)"
      ]
     },
     "execution_count": 14,
     "metadata": {},
     "output_type": "execute_result"
    }
   ],
   "source": [
    "preprocess_input(X[0])"
   ]
  },
  {
   "cell_type": "code",
   "execution_count": 15,
   "id": "c6274842",
   "metadata": {},
   "outputs": [
    {
     "name": "stdout",
     "output_type": "stream",
     "text": [
      "Found 3068 images belonging to 10 classes.\n"
     ]
    }
   ],
   "source": [
    "train_gen = ImageDataGenerator()\n",
    "\n",
    "train_ds = train_gen.flow_from_directory(\n",
    "    train,\n",
    "    seed= 1,\n",
    "    target_size = (150, 150),\n",
    "    batch_size = 32\n",
    "\n",
    ")"
   ]
  },
  {
   "cell_type": "code",
   "execution_count": 16,
   "id": "a399f7ff",
   "metadata": {},
   "outputs": [],
   "source": [
    "X, y = next(train_ds)"
   ]
  },
  {
   "cell_type": "code",
   "execution_count": 17,
   "id": "0f9ea3d4",
   "metadata": {
    "scrolled": true
   },
   "outputs": [
    {
     "data": {
      "text/plain": [
       "array([[[140., 137., 120.],\n",
       "        [145., 142., 125.],\n",
       "        [146., 143., 126.],\n",
       "        ...,\n",
       "        [189., 190., 176.],\n",
       "        [188., 189., 175.],\n",
       "        [187., 188., 174.]],\n",
       "\n",
       "       [[142., 139., 122.],\n",
       "        [147., 144., 127.],\n",
       "        [148., 145., 128.],\n",
       "        ...,\n",
       "        [193., 194., 180.],\n",
       "        [191., 192., 178.],\n",
       "        [191., 192., 178.]],\n",
       "\n",
       "       [[141., 138., 121.],\n",
       "        [145., 142., 125.],\n",
       "        [148., 145., 128.],\n",
       "        ...,\n",
       "        [193., 194., 180.],\n",
       "        [191., 192., 178.],\n",
       "        [191., 192., 178.]],\n",
       "\n",
       "       ...,\n",
       "\n",
       "       [[ 62.,  63.,  47.],\n",
       "        [ 70.,  71.,  55.],\n",
       "        [ 77.,  78.,  62.],\n",
       "        ...,\n",
       "        [180., 176., 164.],\n",
       "        [183., 179., 167.],\n",
       "        [191., 187., 175.]],\n",
       "\n",
       "       [[ 71.,  70.,  50.],\n",
       "        [ 70.,  67.,  52.],\n",
       "        [ 78.,  74.,  62.],\n",
       "        ...,\n",
       "        [178., 174., 163.],\n",
       "        [185., 181., 170.],\n",
       "        [192., 188., 177.]],\n",
       "\n",
       "       [[ 77.,  75.,  54.],\n",
       "        [ 63.,  60.,  45.],\n",
       "        [ 78.,  74.,  63.],\n",
       "        ...,\n",
       "        [178., 174., 163.],\n",
       "        [185., 181., 170.],\n",
       "        [192., 188., 177.]]], dtype=float32)"
      ]
     },
     "execution_count": 17,
     "metadata": {},
     "output_type": "execute_result"
    }
   ],
   "source": [
    "X[0]"
   ]
  },
  {
   "cell_type": "code",
   "execution_count": 26,
   "id": "b060f623",
   "metadata": {},
   "outputs": [
    {
     "name": "stdout",
     "output_type": "stream",
     "text": [
      "Found 341 images belonging to 10 classes.\n"
     ]
    }
   ],
   "source": [
    "val_gen = ImageDataGenerator()\n",
    "\n",
    "val_ds = val_gen.flow_from_directory(\n",
    "    val,\n",
    "    seed= 1,\n",
    "    target_size = (150, 150),\n",
    "    batch_size = 32\n",
    "\n",
    ")"
   ]
  },
  {
   "cell_type": "code",
   "execution_count": 19,
   "id": "7c3a8716",
   "metadata": {},
   "outputs": [],
   "source": [
    "X, y = next(train_ds)"
   ]
  },
  {
   "cell_type": "markdown",
   "id": "d07ca233",
   "metadata": {},
   "source": [
    "## Transfer Learning"
   ]
  },
  {
   "cell_type": "code",
   "execution_count": 20,
   "id": "b5894a96",
   "metadata": {},
   "outputs": [],
   "source": [
    "base_model = Xception(\n",
    "    weights = 'imagenet',\n",
    "    input_shape= (150, 150, 3),\n",
    "    include_top=False    \n",
    ")\n",
    "\n",
    "base_model.trainable = False"
   ]
  },
  {
   "cell_type": "code",
   "execution_count": 21,
   "id": "5ba6a618",
   "metadata": {},
   "outputs": [],
   "source": [
    "inputs = keras.Input(shape=(150,150,3))\n",
    "\n",
    "base = base_model(inputs, training= False)\n",
    "vector = keras.layers.GlobalAveragePooling2D()(base)\n",
    "outputs = keras.layers.Dense(10)(vector)\n",
    "\n",
    "model = keras.Model(inputs, outputs)"
   ]
  },
  {
   "cell_type": "code",
   "execution_count": 22,
   "id": "ffa8f01d",
   "metadata": {},
   "outputs": [],
   "source": [
    "# The best learning rate is 0.001\n",
    "\n",
    "lr = 0.01\n",
    "\n",
    "model.compile(\n",
    "    optimizer=keras.optimizers.Adam(lr),\n",
    "    loss= keras.losses.CategoricalCrossentropy(from_logits=True),\n",
    "    metrics= ['accuracy']\n",
    "    \n",
    ")"
   ]
  },
  {
   "cell_type": "code",
   "execution_count": 28,
   "id": "4a26af9c",
   "metadata": {},
   "outputs": [
    {
     "name": "stdout",
     "output_type": "stream",
     "text": [
      "WARNING:tensorflow:sample_weight modes were coerced from\n",
      "  ...\n",
      "    to  \n",
      "  ['...']\n",
      "WARNING:tensorflow:sample_weight modes were coerced from\n",
      "  ...\n",
      "    to  \n",
      "  ['...']\n",
      "Train for 96 steps, validate for 11 steps\n",
      "Epoch 1/10\n",
      "96/96 [==============================] - 360s 4s/step - loss: 12.8234 - accuracy: 0.4984 - val_loss: 17.9166 - val_accuracy: 0.3343\n",
      "Epoch 2/10\n",
      "96/96 [==============================] - 346s 4s/step - loss: 12.1373 - accuracy: 0.5218 - val_loss: 17.6920 - val_accuracy: 0.4457\n",
      "Epoch 3/10\n",
      "96/96 [==============================] - 333s 3s/step - loss: 11.7982 - accuracy: 0.5453 - val_loss: 17.0359 - val_accuracy: 0.4516\n",
      "Epoch 4/10\n",
      "96/96 [==============================] - 275s 3s/step - loss: 10.0136 - accuracy: 0.5766 - val_loss: 19.1172 - val_accuracy: 0.4370\n",
      "Epoch 5/10\n",
      "96/96 [==============================] - 264s 3s/step - loss: 9.0575 - accuracy: 0.5714 - val_loss: 19.3261 - val_accuracy: 0.4135\n",
      "Epoch 6/10\n",
      "96/96 [==============================] - 257s 3s/step - loss: 8.6733 - accuracy: 0.6030 - val_loss: 20.6017 - val_accuracy: 0.3930\n",
      "Epoch 7/10\n",
      "96/96 [==============================] - 296s 3s/step - loss: 9.1120 - accuracy: 0.6017 - val_loss: 19.9114 - val_accuracy: 0.4047\n",
      "Epoch 8/10\n",
      "96/96 [==============================] - 260s 3s/step - loss: 9.8697 - accuracy: 0.6053 - val_loss: 22.6084 - val_accuracy: 0.3959\n",
      "Epoch 9/10\n",
      "96/96 [==============================] - 249s 3s/step - loss: 8.7966 - accuracy: 0.6261 - val_loss: 23.9541 - val_accuracy: 0.3578\n",
      "Epoch 10/10\n",
      "96/96 [==============================] - 303s 3s/step - loss: 7.7584 - accuracy: 0.6460 - val_loss: 26.2096 - val_accuracy: 0.4194\n"
     ]
    }
   ],
   "source": [
    "history = model.fit(train_ds, epochs= 10, validation_data= val_ds)"
   ]
  },
  {
   "cell_type": "code",
   "execution_count": 29,
   "id": "440859d9",
   "metadata": {},
   "outputs": [
    {
     "data": {
      "text/plain": [
       "[<matplotlib.lines.Line2D at 0x26a1d5f7a88>]"
      ]
     },
     "execution_count": 29,
     "metadata": {},
     "output_type": "execute_result"
    },
    {
     "data": {
      "image/png": "[encoded data removed]",
      "text/plain": [
       "<Figure size 432x288 with 1 Axes>"
      ]
     },
     "metadata": {
      "needs_background": "light"
     },
     "output_type": "display_data"
    }
   ],
   "source": [
    "plt.figure(figsize=(6, 4))\n",
    "\n",
    "plt.plot(history.epoch, history.history['val_accuracy'])\n",
    "plt.plot(history.epoch, history.history['accuracy'])"
   ]
  },
  {
   "cell_type": "markdown",
   "id": "3f2db1c6",
   "metadata": {},
   "source": [
    "## Adding Inner Layers"
   ]
  },
  {
   "cell_type": "code",
   "execution_count": 31,
   "id": "b832950c",
   "metadata": {},
   "outputs": [],
   "source": [
    "inputs = keras.Input(shape=(150,150,3))\n",
    "\n",
    "base = base_model(inputs, training= False)\n",
    "vector = keras.layers.GlobalAveragePooling2D()(base)\n",
    "\n",
    "inner = keras.layers.Dense(100, activation = 'relu')(vector)\n",
    "dropout = keras.layers.Dropout(0.5)(inner)\n",
    "\n",
    "outputs = keras.layers.Dense(10)(dropout)\n",
    "\n",
    "\n",
    "lr = 0.001\n",
    "model.compile(\n",
    "    optimizer=keras.optimizers.Adam(lr),\n",
    "    loss= keras.losses.CategoricalCrossentropy(from_logits=True),\n",
    "    metrics= ['accuracy']   \n",
    ")"
   ]
  },
  {
   "cell_type": "code",
   "execution_count": 32,
   "id": "293ad6d0",
   "metadata": {},
   "outputs": [],
   "source": [
    "callbacks = [\n",
    "    keras.callbacks.ModelCheckpoint(\n",
    "        'xception_{epoch:02d}_{val_accuracy:.3f}.h5',\n",
    "        monitor='val_accuracy',\n",
    "        save_best_only= True,\n",
    "        mode = 'max'\n",
    "    )\n",
    "]"
   ]
  },
  {
   "cell_type": "code",
   "execution_count": 33,
   "id": "32d51c3b",
   "metadata": {},
   "outputs": [
    {
     "name": "stdout",
     "output_type": "stream",
     "text": [
      "WARNING:tensorflow:sample_weight modes were coerced from\n",
      "  ...\n",
      "    to  \n",
      "  ['...']\n",
      "WARNING:tensorflow:sample_weight modes were coerced from\n",
      "  ...\n",
      "    to  \n",
      "  ['...']\n",
      "Train for 96 steps, validate for 11 steps\n",
      "Epoch 1/5\n",
      "96/96 [==============================] - 274s 3s/step - loss: 3.2290 - accuracy: 0.7647 - val_loss: 15.2870 - val_accuracy: 0.4516\n",
      "Epoch 2/5\n",
      "96/96 [==============================] - 255s 3s/step - loss: 1.6262 - accuracy: 0.8240 - val_loss: 14.9483 - val_accuracy: 0.4487\n",
      "Epoch 3/5\n",
      "96/96 [==============================] - 269s 3s/step - loss: 1.4281 - accuracy: 0.8315 - val_loss: 14.8081 - val_accuracy: 0.4516\n",
      "Epoch 4/5\n",
      "96/96 [==============================] - 268s 3s/step - loss: 1.4057 - accuracy: 0.8272 - val_loss: 15.1664 - val_accuracy: 0.4487\n",
      "Epoch 5/5\n",
      "96/96 [==============================] - 261s 3s/step - loss: 1.1638 - accuracy: 0.8501 - val_loss: 14.5618 - val_accuracy: 0.4692\n"
     ]
    }
   ],
   "source": [
    "history = model.fit(train_ds, epochs= 5, validation_data = val_ds, callbacks= callbacks)"
   ]
  },
  {
   "cell_type": "markdown",
   "id": "ccd18fdf",
   "metadata": {},
   "source": [
    "# Augumentation"
   ]
  },
  {
   "cell_type": "code",
   "execution_count": null,
   "id": "769b6b00",
   "metadata": {},
   "outputs": [],
   "source": [
    "x = np.array(tshirt)"
   ]
  },
  {
   "cell_type": "code",
   "execution_count": null,
   "id": "429f2e16",
   "metadata": {},
   "outputs": [],
   "source": [
    "plt.figure(figsize=(10,4))\n",
    "\n",
    "for i in range(10):\n",
    "    t = vis_gen.get_random_transform((150,150))\n",
    "    xaug = vis_gen.apply_transform(x, t)\n",
    "    \n",
    "    plt.subplot(2, 5, i+1)\n",
    "    plt.imshow(xaug.astype('uint8'))\n",
    "    plt.axis(\"off\")"
   ]
  },
  {
   "cell_type": "code",
   "execution_count": null,
   "id": "0a5022ed",
   "metadata": {},
   "outputs": [],
   "source": [
    "values = [0.5, 0.75, 1, 1.2, 1.5]"
   ]
  },
  {
   "cell_type": "markdown",
   "id": "1e54c91b",
   "metadata": {},
   "source": [
    "For this dataset, you should use the vertical flip without rotation.\n",
    "\n",
    "Parameters to tweak:\n",
    "* flip\n",
    "* rotation\n",
    "* height shift\n",
    "* width shift\n",
    "* shear\n",
    "* zoom_x\n",
    "* zoom_y\n"
   ]
  },
  {
   "cell_type": "code",
   "execution_count": 40,
   "id": "a900dd5d",
   "metadata": {},
   "outputs": [
    {
     "name": "stdout",
     "output_type": "stream",
     "text": [
      "Found 3068 images belonging to 10 classes.\n",
      "Found 341 images belonging to 10 classes.\n"
     ]
    }
   ],
   "source": [
    "train_gen = ImageDataGenerator(\n",
    "    preprocessing_function = preprocess_input,\n",
    "    rotation_range= 10,\n",
    "    width_shift_range= 5.0,\n",
    "    height_shift_range= 5.0,\n",
    "    shear_range= 10.0,\n",
    "    zoom_range= 0.1,\n",
    "    horizontal_flip= True,\n",
    ")\n",
    "\n",
    "train_ds = train_gen.flow_from_directory(\n",
    "    train,\n",
    "    seed = 1,\n",
    "    target_size = (299, 299),\n",
    "    batch_size = 32\n",
    ")\n",
    "\n",
    "val_gen = ImageDataGenerator(preprocessing_function = preprocess_input)\n",
    "\n",
    "val_ds = val_gen.flow_from_directory(\n",
    "    val,\n",
    "    seed= 1,\n",
    "    target_size = (229, 229),\n",
    "    batch_size = 32\n",
    ")"
   ]
  },
  {
   "cell_type": "code",
   "execution_count": 42,
   "id": "ee1cbd31",
   "metadata": {},
   "outputs": [],
   "source": [
    "base_model = Xception(\n",
    "    weights = 'imagenet',\n",
    "    input_shape= (299, 299, 3),\n",
    "    include_top=False    \n",
    ")\n",
    "\n",
    "base_model.trainable = False"
   ]
  },
  {
   "cell_type": "code",
   "execution_count": 43,
   "id": "8425c933",
   "metadata": {},
   "outputs": [],
   "source": [
    "inputs = keras.Input(shape=(299,299,3))\n",
    "\n",
    "base = base_model(inputs, training= False)\n",
    "vector = keras.layers.GlobalAveragePooling2D()(base)\n",
    "\n",
    "inner = keras.layers.Dense(100, activation = 'relu')(vector)\n",
    "dropout = keras.layers.Dropout(0.5)(inner)\n",
    "\n",
    "outputs = keras.layers.Dense(10)(dropout)\n",
    "\n",
    "\n",
    "lr = 0.001\n",
    "model.compile(\n",
    "    optimizer=keras.optimizers.Adam(lr),\n",
    "    loss= keras.losses.CategoricalCrossentropy(from_logits=True),\n",
    "    metrics= ['accuracy']   \n",
    ")"
   ]
  },
  {
   "cell_type": "code",
   "execution_count": 44,
   "id": "73b06323",
   "metadata": {},
   "outputs": [],
   "source": [
    "callbacks = [\n",
    "    keras.callbacks.ModelCheckpoint(\n",
    "        'xception_{epoch:02d}_{val_accuracy:.3f}.h5',\n",
    "        monitor='val_accuracy',\n",
    "        save_best_only= True,\n",
    "        mode = 'max'\n",
    "    )\n",
    "]"
   ]
  },
  {
   "cell_type": "code",
   "execution_count": 45,
   "id": "a8a9cb8d",
   "metadata": {},
   "outputs": [
    {
     "name": "stdout",
     "output_type": "stream",
     "text": [
      "WARNING:tensorflow:sample_weight modes were coerced from\n",
      "  ...\n",
      "    to  \n",
      "  ['...']\n",
      "WARNING:tensorflow:sample_weight modes were coerced from\n",
      "  ...\n",
      "    to  \n",
      "  ['...']\n",
      "Train for 96 steps, validate for 11 steps\n",
      "Epoch 1/5\n",
      "96/96 [==============================] - 1277s 13s/step - loss: 4.0074 - accuracy: 0.3243 - val_loss: 3.8004 - val_accuracy: 0.4135\n",
      "Epoch 2/5\n",
      "96/96 [==============================] - 33187s 346s/step - loss: 1.6078 - accuracy: 0.5583 - val_loss: 2.5733 - val_accuracy: 0.5836\n",
      "Epoch 3/5\n",
      "96/96 [==============================] - 1168s 12s/step - loss: 1.1439 - accuracy: 0.6659 - val_loss: 2.1772 - val_accuracy: 0.6276\n",
      "Epoch 4/5\n",
      "96/96 [==============================] - 1102s 11s/step - loss: 0.9342 - accuracy: 0.7216 - val_loss: 1.9057 - val_accuracy: 0.6569\n",
      "Epoch 5/5\n",
      "96/96 [==============================] - 1133s 12s/step - loss: 0.8419 - accuracy: 0.7428 - val_loss: 1.7504 - val_accuracy: 0.6891\n"
     ]
    }
   ],
   "source": [
    "history = model.fit(train_ds, epochs= 5, validation_data = val_ds, callbacks= callbacks)"
   ]
  },
  {
   "cell_type": "markdown",
   "id": "b2d1e561",
   "metadata": {},
   "source": [
    "# Testing the Data"
   ]
  },
  {
   "cell_type": "code",
   "execution_count": 46,
   "id": "5d9ebe65",
   "metadata": {},
   "outputs": [],
   "source": [
    "labels = {\n",
    "    0: 'dress',\n",
    "    1: 'hat',\n",
    "    2: 'longsleeve',\n",
    "    3: 'outwear',\n",
    "    4: 'pants',\n",
    "    5: 'shirt',\n",
    "    6: 'shoes',\n",
    "    7: 'shorts',\n",
    "    8: 'skirt',\n",
    "    9: 't-shirt'\n",
    "}"
   ]
  },
  {
   "cell_type": "code",
   "execution_count": null,
   "id": "138d5518",
   "metadata": {},
   "outputs": [],
   "source": [
    "img_size = (299, 299)"
   ]
  },
  {
   "cell_type": "code",
   "execution_count": 47,
   "id": "c57d2f22",
   "metadata": {},
   "outputs": [],
   "source": [
    "model = keras.models.load_model('xception_05_0.h5')"
   ]
  },
  {
   "cell_type": "code",
   "execution_count": 48,
   "id": "7c68b9b3",
   "metadata": {
    "scrolled": true
   },
   "outputs": [
    {
     "ename": "SyntaxError",
     "evalue": "(unicode error) 'unicodeescape' codec can't decode bytes in position 2-3: truncated \\UXXXXXXXX escape (<ipython-input-48-2318150318d2>, line 1)",
     "output_type": "error",
     "traceback": [
      "\u001b[1;36m  File \u001b[1;32m\"<ipython-input-48-2318150318d2>\"\u001b[1;36m, line \u001b[1;32m1\u001b[0m\n\u001b[1;33m    path = 'C:\\Users\\VictorAdeife\\Documents\\Dataset\\clothing-dataset-small-master\\test\\hat\\2a12baab-f020-42e3-8e6b-5d82e3ed0b55.jpg'\u001b[0m\n\u001b[1;37m          ^\u001b[0m\n\u001b[1;31mSyntaxError\u001b[0m\u001b[1;31m:\u001b[0m (unicode error) 'unicodeescape' codec can't decode bytes in position 2-3: truncated \\UXXXXXXXX escape\n"
     ]
    }
   ],
   "source": [
    "path = 'C:\\Users\\VictorAdeife\\Documents\\Dataset\\clothing-dataset-small-master\\test\\hat\\2a12baab-f020-42e3-8e6b-5d82e3ed0b55.jpg'\n",
    "img = load_img(path, target_size = image_size)\n",
    "img"
   ]
  },
  {
   "cell_type": "code",
   "execution_count": null,
   "id": "b78e8aab",
   "metadata": {},
   "outputs": [],
   "source": [
    "x = np.array(img)\n",
    "X =np.array(x[0])\n",
    "X = preprocess_input(X)"
   ]
  },
  {
   "cell_type": "code",
   "execution_count": null,
   "id": "3e5b23dd",
   "metadata": {},
   "outputs": [],
   "source": [
    "pred = model.predict(X)\n",
    "pred[0]"
   ]
  },
  {
   "cell_type": "code",
   "execution_count": null,
   "id": "ff1432b7",
   "metadata": {},
   "outputs": [],
   "source": [
    "pred[0].argmax()"
   ]
  },
  {
   "cell_type": "code",
   "execution_count": null,
   "id": "80691a56",
   "metadata": {},
   "outputs": [],
   "source": [
    "labels[pred[0].argmax()]"
   ]
  },
  {
   "cell_type": "code",
   "execution_count": null,
   "id": "6b63c823",
   "metadata": {},
   "outputs": [],
   "source": [
    "test_gen = ImageDataGenerator(preprocessing_function = preprocess_input)"
   ]
  },
  {
   "cell_type": "markdown",
   "id": "bf3501b7",
   "metadata": {},
   "source": [
    "Use Lambda and tensorflow lite."
   ]
  },
  {
   "cell_type": "code",
   "execution_count": 5,
   "id": "675d3996",
   "metadata": {},
   "outputs": [
    {
     "ename": "ModuleNotFoundError",
     "evalue": "No module named 'tensorflow.contrib'",
     "output_type": "error",
     "traceback": [
      "\u001b[1;31m---------------------------------------------------------------------------\u001b[0m",
      "\u001b[1;31mModuleNotFoundError\u001b[0m                       Traceback (most recent call last)",
      "\u001b[1;32m<ipython-input-5-6099ed91056b>\u001b[0m in \u001b[0;36m<module>\u001b[1;34m\u001b[0m\n\u001b[0;32m      3\u001b[0m \u001b[1;32mimport\u001b[0m \u001b[0mtensorflow\u001b[0m \u001b[1;32mas\u001b[0m \u001b[0mtf\u001b[0m\u001b[1;33m\u001b[0m\u001b[1;33m\u001b[0m\u001b[0m\n\u001b[0;32m      4\u001b[0m \u001b[1;32mfrom\u001b[0m \u001b[0mtensorflow\u001b[0m \u001b[1;32mimport\u001b[0m \u001b[0mkeras\u001b[0m\u001b[1;33m\u001b[0m\u001b[1;33m\u001b[0m\u001b[0m\n\u001b[1;32m----> 5\u001b[1;33m \u001b[1;32mfrom\u001b[0m \u001b[0mtensorflow\u001b[0m\u001b[1;33m.\u001b[0m\u001b[0mcontrib\u001b[0m \u001b[1;32mimport\u001b[0m \u001b[0mlite\u001b[0m\u001b[1;33m\u001b[0m\u001b[1;33m\u001b[0m\u001b[0m\n\u001b[0m\u001b[0;32m      6\u001b[0m \u001b[1;33m\u001b[0m\u001b[0m\n\u001b[0;32m      7\u001b[0m \u001b[0mmodel\u001b[0m \u001b[1;33m=\u001b[0m \u001b[0mkeras\u001b[0m\u001b[1;33m.\u001b[0m\u001b[0mmodels\u001b[0m\u001b[1;33m.\u001b[0m\u001b[0mload_model\u001b[0m\u001b[1;33m(\u001b[0m\u001b[1;34m'xception_05_0.h5'\u001b[0m\u001b[1;33m)\u001b[0m\u001b[1;33m\u001b[0m\u001b[1;33m\u001b[0m\u001b[0m\n",
      "\u001b[1;31mModuleNotFoundError\u001b[0m: No module named 'tensorflow.contrib'"
     ]
    }
   ],
   "source": [
    "#In visusal code\n",
    "\n",
    "import tensorflow as tf\n",
    "from tensorflow import keras\n",
    "\n",
    "model = keras.models.load_model('xception_05_0.h5')\n",
    "\n",
    "converter = lite.TFLiteConverter.from_keras_model_file('xception_05_0.h5')\n",
    "tflite_model = converter.convert()\n",
    "\n",
    "open (\"model.tflite\" , \"wb\") .write(tflite_model)"
   ]
  },
  {
   "cell_type": "code",
   "execution_count": 7,
   "id": "7cf39754",
   "metadata": {},
   "outputs": [
    {
     "data": {
      "text/plain": [
       "83250380"
      ]
     },
     "execution_count": 7,
     "metadata": {},
     "output_type": "execute_result"
    }
   ],
   "source": [
    "model = tf.keras.models.load_model('xception_05_0.689.h5')\n",
    "converter = tf.lite.TFLiteConverter.from_keras_model(model)\n",
    "tflite_model = converter.convert()\n",
    "open(\"converted_model.tflite\", \"wb\").write(tflite_model)"
   ]
  },
  {
   "cell_type": "code",
   "execution_count": null,
   "id": "4ef98d9c",
   "metadata": {},
   "outputs": [],
   "source": [
    "import tensorflow.lite as tflite\n",
    "# in lambda, we'll need to use this import\n",
    "# import tflite_runtime.interpreter as tflite"
   ]
  },
  {
   "cell_type": "code",
   "execution_count": null,
   "id": "d5027fb1",
   "metadata": {},
   "outputs": [],
   "source": [
    "interpreter = tflite.Interpreter.get_input_details()\n",
    "interpreter.allocate_tensors()"
   ]
  },
  {
   "cell_type": "code",
   "execution_count": null,
   "id": "f0b6f5e2",
   "metadata": {},
   "outputs": [],
   "source": [
    "input_details = interpreter.get_input_details()\n",
    "input_index = input_details[0]['index']\n",
    "\n",
    "output_details = interpreter.get_output_details()\n",
    "output_index = output_details[0]['index']"
   ]
  },
  {
   "cell_type": "code",
   "execution_count": null,
   "id": "3540aa45",
   "metadata": {},
   "outputs": [],
   "source": [
    "interpreter.set_tensor(input_index, X)\n",
    "interpreter.invoke()\n",
    "\n",
    "preds = interpreter.get_tensor(output_index)"
   ]
  },
  {
   "cell_type": "code",
   "execution_count": null,
   "id": "bdae1f18",
   "metadata": {},
   "outputs": [],
   "source": [
    "dict(zip(labels,preds[0]))"
   ]
  },
  {
   "cell_type": "code",
   "execution_count": null,
   "id": "22cac791",
   "metadata": {},
   "outputs": [],
   "source": [
    "#keras image helper\n",
    "#from tensorflow.keras."
   ]
  },
  {
   "cell_type": "code",
   "execution_count": null,
   "id": "1af22c9e",
   "metadata": {},
   "outputs": [],
   "source": [
    "from keras_image_helper.base import BasePreprocessor\n",
    "\n",
    "df tf_preprocessing(x):\n",
    "    x /= 127.5\n",
    "    x =-1.0"
   ]
  },
  {
   "cell_type": "code",
   "execution_count": null,
   "id": "e19012ea",
   "metadata": {},
   "outputs": [],
   "source": [
    "from keras_image_helper import create_preprocess\n",
    "\n",
    "preprocessor = create_preprocess('xception', target_size= (299, 299))"
   ]
  },
  {
   "cell_type": "code",
   "execution_count": null,
   "id": "c05f3491",
   "metadata": {},
   "outputs": [],
   "source": [
    "img_url = 'https://bit.ly/mlbookcamp-pants'\n",
    "X = preprocessor.from_url(img_url)"
   ]
  },
  {
   "cell_type": "code",
   "execution_count": null,
   "id": "d3efca41",
   "metadata": {},
   "outputs": [],
   "source": []
  },
  {
   "cell_type": "code",
   "execution_count": null,
   "id": "5bd4f683",
   "metadata": {},
   "outputs": [],
   "source": [
    "interpreter.set_tensor(input_index, X)\n",
    "interpreter.invoke()"
   ]
  },
  {
   "cell_type": "code",
   "execution_count": null,
   "id": "70a143f5",
   "metadata": {},
   "outputs": [],
   "source": [
    "dict(zip(labels,preds[0]))"
   ]
  },
  {
   "cell_type": "code",
   "execution_count": null,
   "id": "3a92a566",
   "metadata": {},
   "outputs": [],
   "source": [
    "img_url = 'https://bit.ly/mlbookcamp-pants'"
   ]
  },
  {
   "cell_type": "code",
   "execution_count": null,
   "id": "b6251ab5",
   "metadata": {},
   "outputs": [],
   "source": [
    "interpreter.set_tensor(input_index, X)\n",
    "interpreter.invoke()\n",
    "\n",
    "preds = interpreter.get_tensor(output_index)\n",
    "dict(zip(labels,preds[0]))"
   ]
  },
  {
   "cell_type": "code",
   "execution_count": null,
   "id": "c4ceeb3b",
   "metadata": {},
   "outputs": [],
   "source": [
    "#IN LAMBDA\n",
    "from keras_image_helper import create_preprocess\n",
    "\n",
    "preprocessor = create_preprocess('xception', target_size= (299, 299))\n",
    "\n",
    "interpreter = tflite.Interpreter(model_path='clothing-model-v4.tflite')\n",
    "interpreter.allocate_tensors()\n",
    "\n",
    "input_details = interpreter.get_input_details()\n",
    "input_index = input_details[0]['index']\n",
    "\n",
    "output_details = interpreter.get_output_details()\n",
    "output_index = output_details[0]['index']\n",
    "\n",
    "def predict(X):\n",
    "    interpreter.set_tensor(input_index, X)\n",
    "    interpreter.invoke()\n",
    "\n",
    "    preds = interpreter.get_tensor(output_index)\n",
    "    return preds[0]\n",
    "\n",
    "labels = [\n",
    "    0: 'dress',\n",
    "    1: 'hat',\n",
    "    2: 'longsleeve',\n",
    "    3: 'outwear',\n",
    "    4: 'pants',\n",
    "    5: 'shirt',\n",
    "    6: 'shoes',\n",
    "    7: 'shorts',\n",
    "    8: 'skirt',\n",
    "    9: 't-shirt'\n",
    "]\n",
    "\n",
    "def decode_predictions(pred):\n",
    "    result ={c: float(p) for c, p in zip(labels, pred)}\n",
    "    return result\n",
    "\n",
    "def lambda_handler(event, context):\n",
    "    url ='url'\n",
    "    X = pre_processor.from_url(url)\n",
    "    preds = predict(X)\n",
    "    results = decode_predictions(preds)\n",
    "    return results"
   ]
  },
  {
   "cell_type": "markdown",
   "id": "6a00fb03",
   "metadata": {},
   "source": [
    "# Deploying to Android"
   ]
  },
  {
   "cell_type": "code",
   "execution_count": null,
   "id": "a736f439",
   "metadata": {
    "collapsed": true
   },
   "outputs": [],
   "source": [
    "from tensorflow import lite\n",
    "converter = lite.TFLiteConverter.from_keras_model(model)\n",
    "\n",
    "tfmodel = converter.convert()\n",
    "\n",
    "open('iris.tflite', 'wb').write(tfmodel)\n",
    "\n"
   ]
  },
  {
   "cell_type": "code",
   "execution_count": null,
   "id": "a02fee65",
   "metadata": {},
   "outputs": [],
   "source": []
  },
  {
   "cell_type": "code",
   "execution_count": null,
   "id": "07ffb923",
   "metadata": {},
   "outputs": [],
   "source": []
  },
  {
   "cell_type": "code",
   "execution_count": null,
   "id": "ff9d8977",
   "metadata": {},
   "outputs": [],
   "source": []
  },
  {
   "cell_type": "code",
   "execution_count": null,
   "id": "913768cf",
   "metadata": {},
   "outputs": [],
   "source": []
  },
  {
   "cell_type": "code",
   "execution_count": null,
   "id": "bbc34926",
   "metadata": {},
   "outputs": [],
   "source": []
  },
  {
   "cell_type": "code",
   "execution_count": null,
   "id": "7f8a8dbb",
   "metadata": {},
   "outputs": [],
   "source": []
  },
  {
   "cell_type": "code",
   "execution_count": null,
   "id": "bf03d812",
   "metadata": {},
   "outputs": [],
   "source": []
  },
  {
   "cell_type": "code",
   "execution_count": null,
   "id": "3c3463b9",
   "metadata": {},
   "outputs": [],
   "source": []
  },
  {
   "cell_type": "code",
   "execution_count": null,
   "id": "4bbe66a1",
   "metadata": {},
   "outputs": [],
   "source": []
  },
  {
   "cell_type": "code",
   "execution_count": null,
   "id": "dab5b0b9",
   "metadata": {},
   "outputs": [],
   "source": []
  },
  {
   "cell_type": "code",
   "execution_count": null,
   "id": "76c1b8c9",
   "metadata": {},
   "outputs": [],
   "source": []
  },
  {
   "cell_type": "code",
   "execution_count": null,
   "id": "2c274b45",
   "metadata": {},
   "outputs": [],
   "source": []
  },
  {
   "cell_type": "code",
   "execution_count": null,
   "id": "32fba130",
   "metadata": {},
   "outputs": [],
   "source": []
  },
  {
   "cell_type": "code",
   "execution_count": null,
   "id": "5e39566f",
   "metadata": {},
   "outputs": [],
   "source": []
  }
 ],
 "metadata": {
  "kernelspec": {
   "display_name": "Python 3",
   "language": "python",
   "name": "python3"
  },
  "language_info": {
   "codemirror_mode": {
    "name": "ipython",
    "version": 3
   },
   "file_extension": ".py",
   "mimetype": "text/x-python",
   "name": "python",
   "nbconvert_exporter": "python",
   "pygments_lexer": "ipython3",
   "version": "3.8.8"
  }
 },
 "nbformat": 4,
 "nbformat_minor": 5
}
