{
  "nbformat": 4,
  "nbformat_minor": 0,
  "metadata": {
    "colab": {
      "name": "Deep Learning Computer Vision.ipynb",
      "provenance": []
    },
    "kernelspec": {
      "name": "python3",
      "display_name": "Python 3"
    },
    "language_info": {
      "name": "python"
    }
  },
  "cells": [
    {
      "cell_type": "code",
      "execution_count": null,
      "metadata": {
        "id": "83dTV0-UKnGO"
      },
      "outputs": [],
      "source": [
        "import tensorflow as tf\n",
        "from tensorflow.keras import datasets, layers, models\n",
        "import matplotlib.pyplot as plt"
      ]
    },
    {
      "cell_type": "markdown",
      "source": [
        "An image consists of an image height, image width and color channels (RGB)."
      ],
      "metadata": {
        "id": "UgE62qbhLEvm"
      }
    },
    {
      "cell_type": "markdown",
      "source": [
        "A convolutional neural network learns local patterns such that even if an image is inverted, it will recognize it unlike the Dense Neural Network that recognizes global patterns. The presence of filters is what makes it possible for Convolutional Neural Network to recognize local patterns. Each convolution layer searches for different kinds of filters. \n",
        "The filters work via element-wise multiplication between the image sample and the pattern we are looking for.\n",
        "Padding helps recognize patterns at the edges that the filters would normally miss.\n",
        "Stride is based on how the filters moves over the image.\n",
        "Pooling: Extracts the presence of a feature in a local area."
      ],
      "metadata": {
        "id": "G_76jbOOLaye"
      }
    },
    {
      "cell_type": "code",
      "source": [
        "(train_images, train_labels), (test_images, test_labels) = datasets.cifar10.load_data()\n",
        "\n",
        "train_images, test_images = train_images/255., test_images/255.\n",
        "\n",
        "class_names = ['airplane', 'automobile', 'bird', 'cat', 'deer', 'dog', 'frog', 'horse', 'ship', 'truck']"
      ],
      "metadata": {
        "id": "SqXT7984LZXg",
        "colab": {
          "base_uri": "https://localhost:8080/"
        },
        "outputId": "dd2d3ada-ff6c-47a4-f9fa-9fd42e65c344"
      },
      "execution_count": null,
      "outputs": [
        {
          "output_type": "stream",
          "name": "stdout",
          "text": [
            "Downloading data from https://www.cs.toronto.edu/~kriz/cifar-10-python.tar.gz\n",
            "170500096/170498071 [==============================] - 3s 0us/step\n",
            "170508288/170498071 [==============================] - 3s 0us/step\n"
          ]
        }
      ]
    },
    {
      "cell_type": "code",
      "source": [
        "IMG_INDEX = 10\n",
        "plt.imshow(train_images[IMG_INDEX], cmap = plt.cm.binary)\n",
        "plt.xlabel(class_names[train_labels[IMG_INDEX][0]])\n",
        "plt.show()"
      ],
      "metadata": {
        "id": "sHj3nP5KLX9P",
        "colab": {
          "base_uri": "https://localhost:8080/",
          "height": 280
        },
        "outputId": "de19a4fe-354e-4d10-80b3-a8fce6c0d72e"
      },
      "execution_count": null,
      "outputs": [
        {
          "output_type": "display_data",
          "data": {
            "text/plain": [
              "<Figure size 432x288 with 1 Axes>"
            ],
            "image/png": "[encoded data removed]"
          },
          "metadata": {
            "needs_background": "light"
          }
        }
      ]
    },
    {
      "cell_type": "markdown",
      "source": [
        "CNN Architecture"
      ],
      "metadata": {
        "id": "UZ3UIvqBwb7a"
      }
    },
    {
      "cell_type": "code",
      "source": [
        "model = models.Sequential()\n",
        "model.add(layers.Conv2D(32, (3, 3), activation='relu', input_shape=(32, 32, 3)))\n",
        "model.add(layers.MaxPool2D(2, 2))\n",
        "model.add(layers.Conv2D(64, (3, 3)))\n",
        "model.add(layers.MaxPool2D((2, 2)))\n",
        "model.add(layers.Conv2D(64, (3, 3), activation= 'relu'))"
      ],
      "metadata": {
        "id": "dImot9J0v5_T"
      },
      "execution_count": null,
      "outputs": []
    },
    {
      "cell_type": "code",
      "source": [
        "# Let's add Dense layers\n",
        "model.add(layers.Flatten())\n",
        "model.add(layers.Dense(64, activation= 'relu'))\n",
        "model.add(layers.Dense(10))"
      ],
      "metadata": {
        "id": "nrccW_ikwWIm"
      },
      "execution_count": null,
      "outputs": []
    },
    {
      "cell_type": "code",
      "source": [
        "model.summary()"
      ],
      "metadata": {
        "colab": {
          "base_uri": "https://localhost:8080/"
        },
        "id": "uwecQK_swWAQ",
        "outputId": "47c3d10e-1408-41c9-eb6c-8c9e65a7aeb3"
      },
      "execution_count": null,
      "outputs": [
        {
          "output_type": "stream",
          "name": "stdout",
          "text": [
            "Model: \"sequential\"\n",
            "_________________________________________________________________\n",
            " Layer (type)                Output Shape              Param #   \n",
            "=================================================================\n",
            " conv2d (Conv2D)             (None, 30, 30, 32)        896       \n",
            "                                                                 \n",
            " max_pooling2d (MaxPooling2D  (None, 15, 15, 32)       0         \n",
            " )                                                               \n",
            "                                                                 \n",
            " conv2d_1 (Conv2D)           (None, 13, 13, 64)        18496     \n",
            "                                                                 \n",
            " max_pooling2d_1 (MaxPooling  (None, 6, 6, 64)         0         \n",
            " 2D)                                                             \n",
            "                                                                 \n",
            " conv2d_2 (Conv2D)           (None, 4, 4, 64)          36928     \n",
            "                                                                 \n",
            " flatten (Flatten)           (None, 1024)              0         \n",
            "                                                                 \n",
            " dense (Dense)               (None, 64)                65600     \n",
            "                                                                 \n",
            " dense_1 (Dense)             (None, 10)                650       \n",
            "                                                                 \n",
            "=================================================================\n",
            "Total params: 122,570\n",
            "Trainable params: 122,570\n",
            "Non-trainable params: 0\n",
            "_________________________________________________________________\n"
          ]
        }
      ]
    },
    {
      "cell_type": "markdown",
      "source": [
        "Training the Model"
      ],
      "metadata": {
        "id": "QkFpL04r-hbP"
      }
    },
    {
      "cell_type": "code",
      "source": [
        "model.compile(optimizer= 'adam',\n",
        "              loss= tf.keras.losses.SparseCategoricalCrossentropy(from_logits=True),\n",
        "              metrics= ['accuracy'])"
      ],
      "metadata": {
        "id": "AnO3D5Y5wV1h"
      },
      "execution_count": null,
      "outputs": []
    },
    {
      "cell_type": "code",
      "source": [
        "history = model.fit(train_images, train_labels, validation_data=(test_images, test_labels), epochs=10, batch_size=32)"
      ],
      "metadata": {
        "colab": {
          "base_uri": "https://localhost:8080/"
        },
        "id": "ww2sgkSb-fvb",
        "outputId": "bca269b2-1db6-4544-a77a-ec38d0f64942"
      },
      "execution_count": null,
      "outputs": [
        {
          "output_type": "stream",
          "name": "stdout",
          "text": [
            "Epoch 1/10\n",
            "1563/1563 [==============================] - 80s 51ms/step - loss: 0.4305 - accuracy: 0.8468 - val_loss: 0.9849 - val_accuracy: 0.7065\n",
            "Epoch 2/10\n",
            "1563/1563 [==============================] - 73s 47ms/step - loss: 0.3903 - accuracy: 0.8609 - val_loss: 1.0944 - val_accuracy: 0.6972\n",
            "Epoch 3/10\n",
            "1563/1563 [==============================] - 73s 46ms/step - loss: 0.3579 - accuracy: 0.8716 - val_loss: 1.1459 - val_accuracy: 0.7011\n",
            "Epoch 4/10\n",
            "1563/1563 [==============================] - 73s 47ms/step - loss: 0.3218 - accuracy: 0.8852 - val_loss: 1.2253 - val_accuracy: 0.6966\n",
            "Epoch 5/10\n",
            "1563/1563 [==============================] - 74s 47ms/step - loss: 0.2977 - accuracy: 0.8930 - val_loss: 1.2957 - val_accuracy: 0.6904\n",
            "Epoch 6/10\n",
            "1563/1563 [==============================] - 74s 48ms/step - loss: 0.2776 - accuracy: 0.8996 - val_loss: 1.3432 - val_accuracy: 0.6954\n",
            "Epoch 7/10\n",
            "1563/1563 [==============================] - 73s 47ms/step - loss: 0.2602 - accuracy: 0.9064 - val_loss: 1.4313 - val_accuracy: 0.6942\n",
            "Epoch 8/10\n",
            "1563/1563 [==============================] - 74s 47ms/step - loss: 0.2332 - accuracy: 0.9166 - val_loss: 1.5135 - val_accuracy: 0.6961\n",
            "Epoch 9/10\n",
            "1563/1563 [==============================] - 73s 47ms/step - loss: 0.2272 - accuracy: 0.9181 - val_loss: 1.5502 - val_accuracy: 0.6857\n",
            "Epoch 10/10\n",
            "1563/1563 [==============================] - 73s 47ms/step - loss: 0.2086 - accuracy: 0.9242 - val_loss: 1.7022 - val_accuracy: 0.6874\n"
          ]
        }
      ]
    },
    {
      "cell_type": "code",
      "source": [
        "plt.plot(history.history())"
      ],
      "metadata": {
        "colab": {
          "base_uri": "https://localhost:8080/",
          "height": 172
        },
        "id": "x6lvbtlK-fsZ",
        "outputId": "1d8f6807-6d04-4b6c-a9e5-ed0052c13b2d"
      },
      "execution_count": null,
      "outputs": [
        {
          "output_type": "error",
          "ename": "TypeError",
          "evalue": "ignored",
          "traceback": [
            "\u001b[0;31m---------------------------------------------------------------------------\u001b[0m",
            "\u001b[0;31mTypeError\u001b[0m                                 Traceback (most recent call last)",
            "\u001b[0;32m<ipython-input-10-de4df3924304>\u001b[0m in \u001b[0;36m<module>\u001b[0;34m()\u001b[0m\n\u001b[0;32m----> 1\u001b[0;31m \u001b[0mplt\u001b[0m\u001b[0;34m.\u001b[0m\u001b[0mplot\u001b[0m\u001b[0;34m(\u001b[0m\u001b[0mhistory\u001b[0m\u001b[0;34m.\u001b[0m\u001b[0mhistory\u001b[0m\u001b[0;34m(\u001b[0m\u001b[0;34m)\u001b[0m\u001b[0;34m)\u001b[0m\u001b[0;34m\u001b[0m\u001b[0;34m\u001b[0m\u001b[0m\n\u001b[0m",
            "\u001b[0;31mTypeError\u001b[0m: 'dict' object is not callable"
          ]
        }
      ]
    },
    {
      "cell_type": "code",
      "source": [
        "test_loss, test_acc = model.evaluate(test_images, test_labels)\n",
        "print(test_acc)"
      ],
      "metadata": {
        "colab": {
          "base_uri": "https://localhost:8080/"
        },
        "id": "StiDJQWe-for",
        "outputId": "45c46f63-5639-4b98-c5f2-7e0e2ddf0535"
      },
      "execution_count": null,
      "outputs": [
        {
          "output_type": "stream",
          "name": "stdout",
          "text": [
            "313/313 [==============================] - 4s 14ms/step - loss: 1.7022 - accuracy: 0.6874\n",
            "0.6873999834060669\n"
          ]
        }
      ]
    },
    {
      "cell_type": "code",
      "source": [
        ""
      ],
      "metadata": {
        "id": "mANu6f6_E2H7"
      },
      "execution_count": null,
      "outputs": []
    },
    {
      "cell_type": "code",
      "source": [
        ""
      ],
      "metadata": {
        "id": "CotJV0QCE2EY"
      },
      "execution_count": null,
      "outputs": []
    }
  ]
}